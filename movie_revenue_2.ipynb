{
  "nbformat": 4,
  "nbformat_minor": 0,
  "metadata": {
    "colab": {
      "name": "movie_revenue_2.ipynb",
      "provenance": [],
      "authorship_tag": "ABX9TyNNGsZXwzshjsVz2rVzTo0j",
      "include_colab_link": true
    },
    "kernelspec": {
      "name": "python3",
      "display_name": "Python 3"
    },
    "language_info": {
      "name": "python"
    }
  },
  "cells": [
    {
      "cell_type": "markdown",
      "metadata": {
        "id": "view-in-github",
        "colab_type": "text"
      },
      "source": [
        "<a href=\"https://colab.research.google.com/github/tanweer-mahdi/Multivariate-Time-Series-TMDB-5000/blob/main/movie_revenue_2.ipynb\" target=\"_parent\"><img src=\"https://colab.research.google.com/assets/colab-badge.svg\" alt=\"Open In Colab\"/></a>"
      ]
    },
    {
      "cell_type": "code",
      "metadata": {
        "colab": {
          "base_uri": "https://localhost:8080/"
        },
        "id": "WOvNInj66eE3",
        "outputId": "80114b89-97eb-4dc1-ad9e-aee5f000a15a"
      },
      "source": [
        "import pandas as pd\n",
        "import numpy as np\n",
        "import json \n",
        "import seaborn as sns\n",
        "!pip3 install catboost\n",
        "import catboost \n",
        "import sklearn\n",
        "from collections import Counter\n",
        "import matplotlib.pyplot as plt"
      ],
      "execution_count": null,
      "outputs": [
        {
          "output_type": "stream",
          "text": [
            "Collecting catboost\n",
            "\u001b[?25l  Downloading https://files.pythonhosted.org/packages/5a/41/24e14322b9986cf72a8763e0a0a69cc256cf963cf9502c8f0044a62c1ae8/catboost-0.26-cp37-none-manylinux1_x86_64.whl (69.2MB)\n",
            "\u001b[K     |████████████████████████████████| 69.2MB 56kB/s \n",
            "\u001b[?25hRequirement already satisfied: pandas>=0.24.0 in /usr/local/lib/python3.7/dist-packages (from catboost) (1.1.5)\n",
            "Requirement already satisfied: numpy>=1.16.0 in /usr/local/lib/python3.7/dist-packages (from catboost) (1.19.5)\n",
            "Requirement already satisfied: matplotlib in /usr/local/lib/python3.7/dist-packages (from catboost) (3.2.2)\n",
            "Requirement already satisfied: graphviz in /usr/local/lib/python3.7/dist-packages (from catboost) (0.10.1)\n",
            "Requirement already satisfied: scipy in /usr/local/lib/python3.7/dist-packages (from catboost) (1.4.1)\n",
            "Requirement already satisfied: six in /usr/local/lib/python3.7/dist-packages (from catboost) (1.15.0)\n",
            "Requirement already satisfied: plotly in /usr/local/lib/python3.7/dist-packages (from catboost) (4.4.1)\n",
            "Requirement already satisfied: pytz>=2017.2 in /usr/local/lib/python3.7/dist-packages (from pandas>=0.24.0->catboost) (2018.9)\n",
            "Requirement already satisfied: python-dateutil>=2.7.3 in /usr/local/lib/python3.7/dist-packages (from pandas>=0.24.0->catboost) (2.8.1)\n",
            "Requirement already satisfied: cycler>=0.10 in /usr/local/lib/python3.7/dist-packages (from matplotlib->catboost) (0.10.0)\n",
            "Requirement already satisfied: kiwisolver>=1.0.1 in /usr/local/lib/python3.7/dist-packages (from matplotlib->catboost) (1.3.1)\n",
            "Requirement already satisfied: pyparsing!=2.0.4,!=2.1.2,!=2.1.6,>=2.0.1 in /usr/local/lib/python3.7/dist-packages (from matplotlib->catboost) (2.4.7)\n",
            "Requirement already satisfied: retrying>=1.3.3 in /usr/local/lib/python3.7/dist-packages (from plotly->catboost) (1.3.3)\n",
            "Installing collected packages: catboost\n",
            "Successfully installed catboost-0.26\n"
          ],
          "name": "stdout"
        }
      ]
    },
    {
      "cell_type": "code",
      "metadata": {
        "id": "RjEKj9xJ7BWn"
      },
      "source": [
        "df = pd.read_csv(\"tmdb_5000_movies.csv\")"
      ],
      "execution_count": null,
      "outputs": []
    },
    {
      "cell_type": "code",
      "metadata": {
        "colab": {
          "base_uri": "https://localhost:8080/"
        },
        "id": "XkVecRo27mWL",
        "outputId": "712143e9-a7cd-4881-d090-1b3fc3c348e1"
      },
      "source": [
        "df.columns"
      ],
      "execution_count": null,
      "outputs": [
        {
          "output_type": "execute_result",
          "data": {
            "text/plain": [
              "Index(['budget', 'genres', 'homepage', 'id', 'keywords', 'original_language',\n",
              "       'original_title', 'overview', 'popularity', 'production_companies',\n",
              "       'production_countries', 'release_date', 'revenue', 'runtime',\n",
              "       'spoken_languages', 'status', 'tagline', 'title', 'vote_average',\n",
              "       'vote_count'],\n",
              "      dtype='object')"
            ]
          },
          "metadata": {
            "tags": []
          },
          "execution_count": 4
        }
      ]
    },
    {
      "cell_type": "code",
      "metadata": {
        "id": "GjrlUJOE7nuI"
      },
      "source": [
        "# removing data which are available after the release of the movie"
      ],
      "execution_count": null,
      "outputs": []
    },
    {
      "cell_type": "code",
      "metadata": {
        "id": "TrF9clPq7vRF"
      },
      "source": [
        "df.drop([\"id\", \"popularity\", \"vote_average\", \"vote_count\"], inplace=True, axis = 1)"
      ],
      "execution_count": null,
      "outputs": []
    },
    {
      "cell_type": "code",
      "metadata": {
        "colab": {
          "base_uri": "https://localhost:8080/"
        },
        "id": "_ZBVt2u58AOp",
        "outputId": "c0ba4549-a4bd-4393-a526-92c419a87fbb"
      },
      "source": [
        "df.columns"
      ],
      "execution_count": null,
      "outputs": [
        {
          "output_type": "execute_result",
          "data": {
            "text/plain": [
              "Index(['budget', 'genres', 'homepage', 'keywords', 'original_language',\n",
              "       'original_title', 'overview', 'production_companies',\n",
              "       'production_countries', 'release_date', 'revenue', 'runtime',\n",
              "       'spoken_languages', 'status', 'tagline', 'title'],\n",
              "      dtype='object')"
            ]
          },
          "metadata": {
            "tags": []
          },
          "execution_count": 7
        }
      ]
    },
    {
      "cell_type": "code",
      "metadata": {
        "id": "zked1j238cxH"
      },
      "source": [
        "ef = pd.read_csv(\"tmdb_5000_credits.csv\")"
      ],
      "execution_count": null,
      "outputs": []
    },
    {
      "cell_type": "code",
      "metadata": {
        "colab": {
          "base_uri": "https://localhost:8080/"
        },
        "id": "z-1pyTBd8izg",
        "outputId": "a7d9931c-1379-411b-ff47-b5b62a4fedd4"
      },
      "source": [
        "ef.columns"
      ],
      "execution_count": null,
      "outputs": [
        {
          "output_type": "execute_result",
          "data": {
            "text/plain": [
              "Index(['movie_id', 'title', 'cast', 'crew'], dtype='object')"
            ]
          },
          "metadata": {
            "tags": []
          },
          "execution_count": 9
        }
      ]
    },
    {
      "cell_type": "code",
      "metadata": {
        "colab": {
          "base_uri": "https://localhost:8080/"
        },
        "id": "bi0MqseO8j1p",
        "outputId": "1d113d58-6694-468c-8ef4-6ac033eb541f"
      },
      "source": [
        "df.shape"
      ],
      "execution_count": null,
      "outputs": [
        {
          "output_type": "execute_result",
          "data": {
            "text/plain": [
              "(4803, 16)"
            ]
          },
          "metadata": {
            "tags": []
          },
          "execution_count": 10
        }
      ]
    },
    {
      "cell_type": "code",
      "metadata": {
        "colab": {
          "base_uri": "https://localhost:8080/"
        },
        "id": "x6zYKP8R8qu-",
        "outputId": "b297d797-a39f-401c-a770-9c331c8a5072"
      },
      "source": [
        "ef.shape"
      ],
      "execution_count": null,
      "outputs": [
        {
          "output_type": "execute_result",
          "data": {
            "text/plain": [
              "(4803, 4)"
            ]
          },
          "metadata": {
            "tags": []
          },
          "execution_count": 11
        }
      ]
    },
    {
      "cell_type": "code",
      "metadata": {
        "id": "M7FtzZ2c8rjx"
      },
      "source": [
        "ef.drop([\"movie_id\", \"title\"], inplace= True, axis = 1)"
      ],
      "execution_count": null,
      "outputs": []
    },
    {
      "cell_type": "code",
      "metadata": {
        "id": "JjSXmZK183Cq"
      },
      "source": [
        "dataset = pd.concat([df,ef], axis = 1)"
      ],
      "execution_count": null,
      "outputs": []
    },
    {
      "cell_type": "code",
      "metadata": {
        "colab": {
          "base_uri": "https://localhost:8080/"
        },
        "id": "4ziBT3Sp87PX",
        "outputId": "10249384-9120-461a-df87-be5281d3651b"
      },
      "source": [
        "dataset.shape"
      ],
      "execution_count": null,
      "outputs": [
        {
          "output_type": "execute_result",
          "data": {
            "text/plain": [
              "(4803, 18)"
            ]
          },
          "metadata": {
            "tags": []
          },
          "execution_count": 14
        }
      ]
    },
    {
      "cell_type": "code",
      "metadata": {
        "id": "u2pfAg958_7c"
      },
      "source": [
        "# exploring the dataset"
      ],
      "execution_count": null,
      "outputs": []
    },
    {
      "cell_type": "code",
      "metadata": {
        "colab": {
          "base_uri": "https://localhost:8080/",
          "height": 297
        },
        "id": "blACKZLI9CxZ",
        "outputId": "a223c1b0-8720-46f7-820a-5949c6cbecde"
      },
      "source": [
        "dataset.describe()"
      ],
      "execution_count": null,
      "outputs": [
        {
          "output_type": "execute_result",
          "data": {
            "text/html": [
              "<div>\n",
              "<style scoped>\n",
              "    .dataframe tbody tr th:only-of-type {\n",
              "        vertical-align: middle;\n",
              "    }\n",
              "\n",
              "    .dataframe tbody tr th {\n",
              "        vertical-align: top;\n",
              "    }\n",
              "\n",
              "    .dataframe thead th {\n",
              "        text-align: right;\n",
              "    }\n",
              "</style>\n",
              "<table border=\"1\" class=\"dataframe\">\n",
              "  <thead>\n",
              "    <tr style=\"text-align: right;\">\n",
              "      <th></th>\n",
              "      <th>budget</th>\n",
              "      <th>revenue</th>\n",
              "      <th>runtime</th>\n",
              "    </tr>\n",
              "  </thead>\n",
              "  <tbody>\n",
              "    <tr>\n",
              "      <th>count</th>\n",
              "      <td>4.803000e+03</td>\n",
              "      <td>4.803000e+03</td>\n",
              "      <td>4801.000000</td>\n",
              "    </tr>\n",
              "    <tr>\n",
              "      <th>mean</th>\n",
              "      <td>2.904504e+07</td>\n",
              "      <td>8.226064e+07</td>\n",
              "      <td>106.875859</td>\n",
              "    </tr>\n",
              "    <tr>\n",
              "      <th>std</th>\n",
              "      <td>4.072239e+07</td>\n",
              "      <td>1.628571e+08</td>\n",
              "      <td>22.611935</td>\n",
              "    </tr>\n",
              "    <tr>\n",
              "      <th>min</th>\n",
              "      <td>0.000000e+00</td>\n",
              "      <td>0.000000e+00</td>\n",
              "      <td>0.000000</td>\n",
              "    </tr>\n",
              "    <tr>\n",
              "      <th>25%</th>\n",
              "      <td>7.900000e+05</td>\n",
              "      <td>0.000000e+00</td>\n",
              "      <td>94.000000</td>\n",
              "    </tr>\n",
              "    <tr>\n",
              "      <th>50%</th>\n",
              "      <td>1.500000e+07</td>\n",
              "      <td>1.917000e+07</td>\n",
              "      <td>103.000000</td>\n",
              "    </tr>\n",
              "    <tr>\n",
              "      <th>75%</th>\n",
              "      <td>4.000000e+07</td>\n",
              "      <td>9.291719e+07</td>\n",
              "      <td>118.000000</td>\n",
              "    </tr>\n",
              "    <tr>\n",
              "      <th>max</th>\n",
              "      <td>3.800000e+08</td>\n",
              "      <td>2.787965e+09</td>\n",
              "      <td>338.000000</td>\n",
              "    </tr>\n",
              "  </tbody>\n",
              "</table>\n",
              "</div>"
            ],
            "text/plain": [
              "             budget       revenue      runtime\n",
              "count  4.803000e+03  4.803000e+03  4801.000000\n",
              "mean   2.904504e+07  8.226064e+07   106.875859\n",
              "std    4.072239e+07  1.628571e+08    22.611935\n",
              "min    0.000000e+00  0.000000e+00     0.000000\n",
              "25%    7.900000e+05  0.000000e+00    94.000000\n",
              "50%    1.500000e+07  1.917000e+07   103.000000\n",
              "75%    4.000000e+07  9.291719e+07   118.000000\n",
              "max    3.800000e+08  2.787965e+09   338.000000"
            ]
          },
          "metadata": {
            "tags": []
          },
          "execution_count": 16
        }
      ]
    },
    {
      "cell_type": "code",
      "metadata": {
        "id": "luK597p69D7y"
      },
      "source": [
        "# getting rid of zero revenues"
      ],
      "execution_count": null,
      "outputs": []
    },
    {
      "cell_type": "code",
      "metadata": {
        "colab": {
          "base_uri": "https://localhost:8080/",
          "height": 276
        },
        "id": "029urGlg9OeO",
        "outputId": "ccd9b4ca-7876-4903-84e9-fe948706ed41"
      },
      "source": [
        "dataset[\"revenue\"].plot.line()\n",
        "plt.show()"
      ],
      "execution_count": null,
      "outputs": [
        {
          "output_type": "display_data",
          "data": {
            "image/png": "[encoded data removed]",
            "text/plain": [
              "<Figure size 432x288 with 1 Axes>"
            ]
          },
          "metadata": {
            "tags": [],
            "needs_background": "light"
          }
        }
      ]
    },
    {
      "cell_type": "code",
      "metadata": {
        "id": "UD7ujhHn9jkQ"
      },
      "source": [
        "# lots of movie has incorrect revenue data"
      ],
      "execution_count": null,
      "outputs": []
    },
    {
      "cell_type": "code",
      "metadata": {
        "id": "YPFo_U1U95Mv"
      },
      "source": [
        "num_movies = []\n",
        "for i in range(0,10000,100):\n",
        "  num_movies.append(np.sum(dataset[\"revenue\"] <= i))"
      ],
      "execution_count": null,
      "outputs": []
    },
    {
      "cell_type": "code",
      "metadata": {
        "colab": {
          "base_uri": "https://localhost:8080/",
          "height": 267
        },
        "id": "MLSefH81-KyW",
        "outputId": "65e81c9e-8475-49ed-970d-e54130472c92"
      },
      "source": [
        "sns.lineplot(x=[i for i in range(0,10000,100)], y = num_movies)\n",
        "plt.show()"
      ],
      "execution_count": null,
      "outputs": [
        {
          "output_type": "display_data",
          "data": {
            "image/png": "[encoded data removed]",
            "text/plain": [
              "<Figure size 432x288 with 1 Axes>"
            ]
          },
          "metadata": {
            "tags": [],
            "needs_background": "light"
          }
        }
      ]
    },
    {
      "cell_type": "code",
      "metadata": {
        "id": "0P14RDf5-LwM"
      },
      "source": [
        "rdataset = dataset.loc[dataset[\"revenue\"] >= 4000]"
      ],
      "execution_count": null,
      "outputs": []
    },
    {
      "cell_type": "code",
      "metadata": {
        "colab": {
          "base_uri": "https://localhost:8080/",
          "height": 297
        },
        "id": "P8PIAu3--a3t",
        "outputId": "93152b87-9c4d-44d4-dbd4-c93ad68dfdad"
      },
      "source": [
        "rdataset.describe()"
      ],
      "execution_count": null,
      "outputs": [
        {
          "output_type": "execute_result",
          "data": {
            "text/html": [
              "<div>\n",
              "<style scoped>\n",
              "    .dataframe tbody tr th:only-of-type {\n",
              "        vertical-align: middle;\n",
              "    }\n",
              "\n",
              "    .dataframe tbody tr th {\n",
              "        vertical-align: top;\n",
              "    }\n",
              "\n",
              "    .dataframe thead th {\n",
              "        text-align: right;\n",
              "    }\n",
              "</style>\n",
              "<table border=\"1\" class=\"dataframe\">\n",
              "  <thead>\n",
              "    <tr style=\"text-align: right;\">\n",
              "      <th></th>\n",
              "      <th>budget</th>\n",
              "      <th>revenue</th>\n",
              "      <th>runtime</th>\n",
              "    </tr>\n",
              "  </thead>\n",
              "  <tbody>\n",
              "    <tr>\n",
              "      <th>count</th>\n",
              "      <td>3.352000e+03</td>\n",
              "      <td>3.352000e+03</td>\n",
              "      <td>3352.000000</td>\n",
              "    </tr>\n",
              "    <tr>\n",
              "      <th>mean</th>\n",
              "      <td>3.914353e+07</td>\n",
              "      <td>1.178693e+08</td>\n",
              "      <td>110.430191</td>\n",
              "    </tr>\n",
              "    <tr>\n",
              "      <th>std</th>\n",
              "      <td>4.425331e+07</td>\n",
              "      <td>1.838705e+08</td>\n",
              "      <td>21.086708</td>\n",
              "    </tr>\n",
              "    <tr>\n",
              "      <th>min</th>\n",
              "      <td>0.000000e+00</td>\n",
              "      <td>6.399000e+03</td>\n",
              "      <td>0.000000</td>\n",
              "    </tr>\n",
              "    <tr>\n",
              "      <th>25%</th>\n",
              "      <td>9.000000e+06</td>\n",
              "      <td>1.591894e+07</td>\n",
              "      <td>96.000000</td>\n",
              "    </tr>\n",
              "    <tr>\n",
              "      <th>50%</th>\n",
              "      <td>2.500000e+07</td>\n",
              "      <td>5.230340e+07</td>\n",
              "      <td>107.000000</td>\n",
              "    </tr>\n",
              "    <tr>\n",
              "      <th>75%</th>\n",
              "      <td>5.300000e+07</td>\n",
              "      <td>1.407987e+08</td>\n",
              "      <td>121.000000</td>\n",
              "    </tr>\n",
              "    <tr>\n",
              "      <th>max</th>\n",
              "      <td>3.800000e+08</td>\n",
              "      <td>2.787965e+09</td>\n",
              "      <td>338.000000</td>\n",
              "    </tr>\n",
              "  </tbody>\n",
              "</table>\n",
              "</div>"
            ],
            "text/plain": [
              "             budget       revenue      runtime\n",
              "count  3.352000e+03  3.352000e+03  3352.000000\n",
              "mean   3.914353e+07  1.178693e+08   110.430191\n",
              "std    4.425331e+07  1.838705e+08    21.086708\n",
              "min    0.000000e+00  6.399000e+03     0.000000\n",
              "25%    9.000000e+06  1.591894e+07    96.000000\n",
              "50%    2.500000e+07  5.230340e+07   107.000000\n",
              "75%    5.300000e+07  1.407987e+08   121.000000\n",
              "max    3.800000e+08  2.787965e+09   338.000000"
            ]
          },
          "metadata": {
            "tags": []
          },
          "execution_count": 25
        }
      ]
    },
    {
      "cell_type": "code",
      "metadata": {
        "colab": {
          "base_uri": "https://localhost:8080/",
          "height": 279
        },
        "id": "8_LQWkQq-iz7",
        "outputId": "fefc01c2-5534-4428-beb0-a724bb8ba52b"
      },
      "source": [
        "sns.histplot(rdataset[\"revenue\"], kde = True)\n",
        "plt.show()"
      ],
      "execution_count": null,
      "outputs": [
        {
          "output_type": "display_data",
          "data": {
            "image/png": "[encoded data removed]",
            "text/plain": [
              "<Figure size 432x288 with 1 Axes>"
            ]
          },
          "metadata": {
            "tags": [],
            "needs_background": "light"
          }
        }
      ]
    },
    {
      "cell_type": "code",
      "metadata": {
        "id": "ZZ3H2bY-_f8n"
      },
      "source": [
        "# heavily skewed data. what about a log-transformation?"
      ],
      "execution_count": null,
      "outputs": []
    },
    {
      "cell_type": "code",
      "metadata": {
        "colab": {
          "base_uri": "https://localhost:8080/",
          "height": 279
        },
        "id": "WNc97wsB_zZ6",
        "outputId": "ca86faf9-4af8-4b73-c0aa-316e2cf3d7f6"
      },
      "source": [
        "sns.histplot(np.log(rdataset[\"revenue\"]), kde=True)\n",
        "plt.show()"
      ],
      "execution_count": null,
      "outputs": [
        {
          "output_type": "display_data",
          "data": {
            "image/png": "[encoded data removed]",
            "text/plain": [
              "<Figure size 432x288 with 1 Axes>"
            ]
          },
          "metadata": {
            "tags": [],
            "needs_background": "light"
          }
        }
      ]
    },
    {
      "cell_type": "code",
      "metadata": {
        "id": "RwMTqWsb_9OI"
      },
      "source": [
        "# quite nice transformation! Worth experimenting with!"
      ],
      "execution_count": null,
      "outputs": []
    },
    {
      "cell_type": "code",
      "metadata": {
        "id": "80NA9OWeAECF"
      },
      "source": [
        ""
      ],
      "execution_count": null,
      "outputs": []
    },
    {
      "cell_type": "code",
      "metadata": {
        "colab": {
          "base_uri": "https://localhost:8080/",
          "height": 297
        },
        "id": "tBW-T9udAHxR",
        "outputId": "9d00d44b-24d3-44b7-f40c-cf5d63ed133d"
      },
      "source": [
        "rdataset.describe()"
      ],
      "execution_count": null,
      "outputs": [
        {
          "output_type": "execute_result",
          "data": {
            "text/html": [
              "<div>\n",
              "<style scoped>\n",
              "    .dataframe tbody tr th:only-of-type {\n",
              "        vertical-align: middle;\n",
              "    }\n",
              "\n",
              "    .dataframe tbody tr th {\n",
              "        vertical-align: top;\n",
              "    }\n",
              "\n",
              "    .dataframe thead th {\n",
              "        text-align: right;\n",
              "    }\n",
              "</style>\n",
              "<table border=\"1\" class=\"dataframe\">\n",
              "  <thead>\n",
              "    <tr style=\"text-align: right;\">\n",
              "      <th></th>\n",
              "      <th>budget</th>\n",
              "      <th>revenue</th>\n",
              "      <th>runtime</th>\n",
              "    </tr>\n",
              "  </thead>\n",
              "  <tbody>\n",
              "    <tr>\n",
              "      <th>count</th>\n",
              "      <td>3.352000e+03</td>\n",
              "      <td>3.352000e+03</td>\n",
              "      <td>3352.000000</td>\n",
              "    </tr>\n",
              "    <tr>\n",
              "      <th>mean</th>\n",
              "      <td>3.914353e+07</td>\n",
              "      <td>1.178693e+08</td>\n",
              "      <td>110.430191</td>\n",
              "    </tr>\n",
              "    <tr>\n",
              "      <th>std</th>\n",
              "      <td>4.425331e+07</td>\n",
              "      <td>1.838705e+08</td>\n",
              "      <td>21.086708</td>\n",
              "    </tr>\n",
              "    <tr>\n",
              "      <th>min</th>\n",
              "      <td>0.000000e+00</td>\n",
              "      <td>6.399000e+03</td>\n",
              "      <td>0.000000</td>\n",
              "    </tr>\n",
              "    <tr>\n",
              "      <th>25%</th>\n",
              "      <td>9.000000e+06</td>\n",
              "      <td>1.591894e+07</td>\n",
              "      <td>96.000000</td>\n",
              "    </tr>\n",
              "    <tr>\n",
              "      <th>50%</th>\n",
              "      <td>2.500000e+07</td>\n",
              "      <td>5.230340e+07</td>\n",
              "      <td>107.000000</td>\n",
              "    </tr>\n",
              "    <tr>\n",
              "      <th>75%</th>\n",
              "      <td>5.300000e+07</td>\n",
              "      <td>1.407987e+08</td>\n",
              "      <td>121.000000</td>\n",
              "    </tr>\n",
              "    <tr>\n",
              "      <th>max</th>\n",
              "      <td>3.800000e+08</td>\n",
              "      <td>2.787965e+09</td>\n",
              "      <td>338.000000</td>\n",
              "    </tr>\n",
              "  </tbody>\n",
              "</table>\n",
              "</div>"
            ],
            "text/plain": [
              "             budget       revenue      runtime\n",
              "count  3.352000e+03  3.352000e+03  3352.000000\n",
              "mean   3.914353e+07  1.178693e+08   110.430191\n",
              "std    4.425331e+07  1.838705e+08    21.086708\n",
              "min    0.000000e+00  6.399000e+03     0.000000\n",
              "25%    9.000000e+06  1.591894e+07    96.000000\n",
              "50%    2.500000e+07  5.230340e+07   107.000000\n",
              "75%    5.300000e+07  1.407987e+08   121.000000\n",
              "max    3.800000e+08  2.787965e+09   338.000000"
            ]
          },
          "metadata": {
            "tags": []
          },
          "execution_count": 30
        }
      ]
    },
    {
      "cell_type": "code",
      "metadata": {
        "colab": {
          "base_uri": "https://localhost:8080/",
          "height": 266
        },
        "id": "XQUHDKlsAaPb",
        "outputId": "ec394efb-efaa-4651-ca0e-dc933d20848b"
      },
      "source": [
        "rdataset[[\"runtime\"]].plot.line()\n",
        "plt.show()"
      ],
      "execution_count": null,
      "outputs": [
        {
          "output_type": "display_data",
          "data": {
            "image/png": "[encoded data removed]",
            "text/plain": [
              "<Figure size 432x288 with 1 Axes>"
            ]
          },
          "metadata": {
            "tags": [],
            "needs_background": "light"
          }
        }
      ]
    },
    {
      "cell_type": "code",
      "metadata": {
        "id": "qGKhyFjXAfzU"
      },
      "source": [
        "rdataset = rdataset.loc[rdataset[\"runtime\"] != 0]"
      ],
      "execution_count": null,
      "outputs": []
    },
    {
      "cell_type": "code",
      "metadata": {
        "colab": {
          "base_uri": "https://localhost:8080/",
          "height": 297
        },
        "id": "jDWGLFdAA-Cr",
        "outputId": "3735a8b6-e890-475f-8b21-9bb25cb6cf19"
      },
      "source": [
        "rdataset.describe()"
      ],
      "execution_count": null,
      "outputs": [
        {
          "output_type": "execute_result",
          "data": {
            "text/html": [
              "<div>\n",
              "<style scoped>\n",
              "    .dataframe tbody tr th:only-of-type {\n",
              "        vertical-align: middle;\n",
              "    }\n",
              "\n",
              "    .dataframe tbody tr th {\n",
              "        vertical-align: top;\n",
              "    }\n",
              "\n",
              "    .dataframe thead th {\n",
              "        text-align: right;\n",
              "    }\n",
              "</style>\n",
              "<table border=\"1\" class=\"dataframe\">\n",
              "  <thead>\n",
              "    <tr style=\"text-align: right;\">\n",
              "      <th></th>\n",
              "      <th>budget</th>\n",
              "      <th>revenue</th>\n",
              "      <th>runtime</th>\n",
              "    </tr>\n",
              "  </thead>\n",
              "  <tbody>\n",
              "    <tr>\n",
              "      <th>count</th>\n",
              "      <td>3.351000e+03</td>\n",
              "      <td>3.351000e+03</td>\n",
              "      <td>3351.000000</td>\n",
              "    </tr>\n",
              "    <tr>\n",
              "      <th>mean</th>\n",
              "      <td>3.915521e+07</td>\n",
              "      <td>1.179037e+08</td>\n",
              "      <td>110.463145</td>\n",
              "    </tr>\n",
              "    <tr>\n",
              "      <th>std</th>\n",
              "      <td>4.425475e+07</td>\n",
              "      <td>1.838872e+08</td>\n",
              "      <td>21.003349</td>\n",
              "    </tr>\n",
              "    <tr>\n",
              "      <th>min</th>\n",
              "      <td>0.000000e+00</td>\n",
              "      <td>6.399000e+03</td>\n",
              "      <td>41.000000</td>\n",
              "    </tr>\n",
              "    <tr>\n",
              "      <th>25%</th>\n",
              "      <td>9.000000e+06</td>\n",
              "      <td>1.596534e+07</td>\n",
              "      <td>96.000000</td>\n",
              "    </tr>\n",
              "    <tr>\n",
              "      <th>50%</th>\n",
              "      <td>2.500000e+07</td>\n",
              "      <td>5.230400e+07</td>\n",
              "      <td>107.000000</td>\n",
              "    </tr>\n",
              "    <tr>\n",
              "      <th>75%</th>\n",
              "      <td>5.300000e+07</td>\n",
              "      <td>1.408017e+08</td>\n",
              "      <td>121.000000</td>\n",
              "    </tr>\n",
              "    <tr>\n",
              "      <th>max</th>\n",
              "      <td>3.800000e+08</td>\n",
              "      <td>2.787965e+09</td>\n",
              "      <td>338.000000</td>\n",
              "    </tr>\n",
              "  </tbody>\n",
              "</table>\n",
              "</div>"
            ],
            "text/plain": [
              "             budget       revenue      runtime\n",
              "count  3.351000e+03  3.351000e+03  3351.000000\n",
              "mean   3.915521e+07  1.179037e+08   110.463145\n",
              "std    4.425475e+07  1.838872e+08    21.003349\n",
              "min    0.000000e+00  6.399000e+03    41.000000\n",
              "25%    9.000000e+06  1.596534e+07    96.000000\n",
              "50%    2.500000e+07  5.230400e+07   107.000000\n",
              "75%    5.300000e+07  1.408017e+08   121.000000\n",
              "max    3.800000e+08  2.787965e+09   338.000000"
            ]
          },
          "metadata": {
            "tags": []
          },
          "execution_count": 34
        }
      ]
    },
    {
      "cell_type": "code",
      "metadata": {
        "id": "EytC7fIqBXL1"
      },
      "source": [
        "# budget depends on the production year. This missing value needs to be replaced carefully"
      ],
      "execution_count": null,
      "outputs": []
    },
    {
      "cell_type": "code",
      "metadata": {
        "id": "aQ8FbhfRBec5"
      },
      "source": [
        "rdataset[\"release_year\"] = pd.DatetimeIndex(rdataset[\"release_date\"]).year"
      ],
      "execution_count": null,
      "outputs": []
    },
    {
      "cell_type": "code",
      "metadata": {
        "colab": {
          "base_uri": "https://localhost:8080/"
        },
        "id": "hrgK8U0eBn4x",
        "outputId": "74a6f3f2-6404-4969-b30a-f1397ab45e13"
      },
      "source": [
        "rdataset.columns"
      ],
      "execution_count": null,
      "outputs": [
        {
          "output_type": "execute_result",
          "data": {
            "text/plain": [
              "Index(['budget', 'genres', 'homepage', 'keywords', 'original_language',\n",
              "       'original_title', 'overview', 'production_companies',\n",
              "       'production_countries', 'release_date', 'revenue', 'runtime',\n",
              "       'spoken_languages', 'status', 'tagline', 'title', 'cast', 'crew',\n",
              "       'release_year'],\n",
              "      dtype='object')"
            ]
          },
          "metadata": {
            "tags": []
          },
          "execution_count": 37
        }
      ]
    },
    {
      "cell_type": "code",
      "metadata": {
        "colab": {
          "base_uri": "https://localhost:8080/",
          "height": 419
        },
        "id": "0ktEFl4fB_Tn",
        "outputId": "9955a42e-a1e5-425f-9eb3-1a1aad0d9b31"
      },
      "source": [
        "rdataset[[\"release_year\",\"release_date\"]]"
      ],
      "execution_count": null,
      "outputs": [
        {
          "output_type": "execute_result",
          "data": {
            "text/html": [
              "<div>\n",
              "<style scoped>\n",
              "    .dataframe tbody tr th:only-of-type {\n",
              "        vertical-align: middle;\n",
              "    }\n",
              "\n",
              "    .dataframe tbody tr th {\n",
              "        vertical-align: top;\n",
              "    }\n",
              "\n",
              "    .dataframe thead th {\n",
              "        text-align: right;\n",
              "    }\n",
              "</style>\n",
              "<table border=\"1\" class=\"dataframe\">\n",
              "  <thead>\n",
              "    <tr style=\"text-align: right;\">\n",
              "      <th></th>\n",
              "      <th>release_year</th>\n",
              "      <th>release_date</th>\n",
              "    </tr>\n",
              "  </thead>\n",
              "  <tbody>\n",
              "    <tr>\n",
              "      <th>0</th>\n",
              "      <td>2009</td>\n",
              "      <td>2009-12-10</td>\n",
              "    </tr>\n",
              "    <tr>\n",
              "      <th>1</th>\n",
              "      <td>2007</td>\n",
              "      <td>2007-05-19</td>\n",
              "    </tr>\n",
              "    <tr>\n",
              "      <th>2</th>\n",
              "      <td>2015</td>\n",
              "      <td>2015-10-26</td>\n",
              "    </tr>\n",
              "    <tr>\n",
              "      <th>3</th>\n",
              "      <td>2012</td>\n",
              "      <td>2012-07-16</td>\n",
              "    </tr>\n",
              "    <tr>\n",
              "      <th>4</th>\n",
              "      <td>2012</td>\n",
              "      <td>2012-03-07</td>\n",
              "    </tr>\n",
              "    <tr>\n",
              "      <th>...</th>\n",
              "      <td>...</td>\n",
              "      <td>...</td>\n",
              "    </tr>\n",
              "    <tr>\n",
              "      <th>4775</th>\n",
              "      <td>2002</td>\n",
              "      <td>2002-09-20</td>\n",
              "    </tr>\n",
              "    <tr>\n",
              "      <th>4788</th>\n",
              "      <td>1972</td>\n",
              "      <td>1972-03-12</td>\n",
              "    </tr>\n",
              "    <tr>\n",
              "      <th>4792</th>\n",
              "      <td>1997</td>\n",
              "      <td>1997-11-06</td>\n",
              "    </tr>\n",
              "    <tr>\n",
              "      <th>4796</th>\n",
              "      <td>2004</td>\n",
              "      <td>2004-10-08</td>\n",
              "    </tr>\n",
              "    <tr>\n",
              "      <th>4798</th>\n",
              "      <td>1992</td>\n",
              "      <td>1992-09-04</td>\n",
              "    </tr>\n",
              "  </tbody>\n",
              "</table>\n",
              "<p>3351 rows × 2 columns</p>\n",
              "</div>"
            ],
            "text/plain": [
              "      release_year release_date\n",
              "0             2009   2009-12-10\n",
              "1             2007   2007-05-19\n",
              "2             2015   2015-10-26\n",
              "3             2012   2012-07-16\n",
              "4             2012   2012-03-07\n",
              "...            ...          ...\n",
              "4775          2002   2002-09-20\n",
              "4788          1972   1972-03-12\n",
              "4792          1997   1997-11-06\n",
              "4796          2004   2004-10-08\n",
              "4798          1992   1992-09-04\n",
              "\n",
              "[3351 rows x 2 columns]"
            ]
          },
          "metadata": {
            "tags": []
          },
          "execution_count": 38
        }
      ]
    },
    {
      "cell_type": "code",
      "metadata": {
        "colab": {
          "base_uri": "https://localhost:8080/",
          "height": 296
        },
        "id": "KZt8evIbCFoQ",
        "outputId": "d2280166-edb5-44c7-9d20-7fde75db7294"
      },
      "source": [
        "%matplotlib inline\n",
        "sns.lineplot(x=rdataset[\"release_year\"], y=rdataset[\"budget\"], data=rdataset, estimator='mean').set_title(\"Average budget across the year\")\n",
        "plt.show()"
      ],
      "execution_count": null,
      "outputs": [
        {
          "output_type": "display_data",
          "data": {
            "image/png": "[encoded data removed]",
            "text/plain": [
              "<Figure size 432x288 with 1 Axes>"
            ]
          },
          "metadata": {
            "tags": [],
            "needs_background": "light"
          }
        }
      ]
    },
    {
      "cell_type": "code",
      "metadata": {
        "id": "N1-uVKpKCSWl"
      },
      "source": [
        "# not a steady line but there exists a strong outlier in the budget"
      ],
      "execution_count": null,
      "outputs": []
    },
    {
      "cell_type": "code",
      "metadata": {
        "id": "RDIu-6N9Cbc6"
      },
      "source": [
        "# calculating mean budget every year "
      ],
      "execution_count": null,
      "outputs": []
    },
    {
      "cell_type": "code",
      "metadata": {
        "colab": {
          "base_uri": "https://localhost:8080/"
        },
        "id": "Vzff_m3xsq4q",
        "outputId": "e564b5bb-36e7-442e-d616-20c88b4f4778"
      },
      "source": [
        "rdataset.columns"
      ],
      "execution_count": null,
      "outputs": [
        {
          "output_type": "execute_result",
          "data": {
            "text/plain": [
              "Index(['budget', 'genres', 'homepage', 'keywords', 'original_language',\n",
              "       'original_title', 'overview', 'production_companies',\n",
              "       'production_countries', 'release_date', 'revenue', 'runtime',\n",
              "       'spoken_languages', 'status', 'tagline', 'title', 'cast', 'crew',\n",
              "       'release_year'],\n",
              "      dtype='object')"
            ]
          },
          "metadata": {
            "tags": []
          },
          "execution_count": 42
        }
      ]
    },
    {
      "cell_type": "code",
      "metadata": {
        "colab": {
          "base_uri": "https://localhost:8080/",
          "height": 419
        },
        "id": "59mPosNUthIl",
        "outputId": "49d50f18-b71f-42c8-f683-ec47d4c9b3aa"
      },
      "source": [
        "rdataset[[\"original_title\",\"title\"]]"
      ],
      "execution_count": null,
      "outputs": [
        {
          "output_type": "execute_result",
          "data": {
            "text/html": [
              "<div>\n",
              "<style scoped>\n",
              "    .dataframe tbody tr th:only-of-type {\n",
              "        vertical-align: middle;\n",
              "    }\n",
              "\n",
              "    .dataframe tbody tr th {\n",
              "        vertical-align: top;\n",
              "    }\n",
              "\n",
              "    .dataframe thead th {\n",
              "        text-align: right;\n",
              "    }\n",
              "</style>\n",
              "<table border=\"1\" class=\"dataframe\">\n",
              "  <thead>\n",
              "    <tr style=\"text-align: right;\">\n",
              "      <th></th>\n",
              "      <th>original_title</th>\n",
              "      <th>title</th>\n",
              "    </tr>\n",
              "  </thead>\n",
              "  <tbody>\n",
              "    <tr>\n",
              "      <th>0</th>\n",
              "      <td>Avatar</td>\n",
              "      <td>Avatar</td>\n",
              "    </tr>\n",
              "    <tr>\n",
              "      <th>1</th>\n",
              "      <td>Pirates of the Caribbean: At World's End</td>\n",
              "      <td>Pirates of the Caribbean: At World's End</td>\n",
              "    </tr>\n",
              "    <tr>\n",
              "      <th>2</th>\n",
              "      <td>Spectre</td>\n",
              "      <td>Spectre</td>\n",
              "    </tr>\n",
              "    <tr>\n",
              "      <th>3</th>\n",
              "      <td>The Dark Knight Rises</td>\n",
              "      <td>The Dark Knight Rises</td>\n",
              "    </tr>\n",
              "    <tr>\n",
              "      <th>4</th>\n",
              "      <td>John Carter</td>\n",
              "      <td>John Carter</td>\n",
              "    </tr>\n",
              "    <tr>\n",
              "      <th>...</th>\n",
              "      <td>...</td>\n",
              "      <td>...</td>\n",
              "    </tr>\n",
              "    <tr>\n",
              "      <th>4775</th>\n",
              "      <td>Funny Ha Ha</td>\n",
              "      <td>Funny Ha Ha</td>\n",
              "    </tr>\n",
              "    <tr>\n",
              "      <th>4788</th>\n",
              "      <td>Pink Flamingos</td>\n",
              "      <td>Pink Flamingos</td>\n",
              "    </tr>\n",
              "    <tr>\n",
              "      <th>4792</th>\n",
              "      <td>キュア</td>\n",
              "      <td>Cure</td>\n",
              "    </tr>\n",
              "    <tr>\n",
              "      <th>4796</th>\n",
              "      <td>Primer</td>\n",
              "      <td>Primer</td>\n",
              "    </tr>\n",
              "    <tr>\n",
              "      <th>4798</th>\n",
              "      <td>El Mariachi</td>\n",
              "      <td>El Mariachi</td>\n",
              "    </tr>\n",
              "  </tbody>\n",
              "</table>\n",
              "<p>3351 rows × 2 columns</p>\n",
              "</div>"
            ],
            "text/plain": [
              "                                original_title                                     title\n",
              "0                                       Avatar                                    Avatar\n",
              "1     Pirates of the Caribbean: At World's End  Pirates of the Caribbean: At World's End\n",
              "2                                      Spectre                                   Spectre\n",
              "3                        The Dark Knight Rises                     The Dark Knight Rises\n",
              "4                                  John Carter                               John Carter\n",
              "...                                        ...                                       ...\n",
              "4775                               Funny Ha Ha                               Funny Ha Ha\n",
              "4788                            Pink Flamingos                            Pink Flamingos\n",
              "4792                                       キュア                                      Cure\n",
              "4796                                    Primer                                    Primer\n",
              "4798                               El Mariachi                               El Mariachi\n",
              "\n",
              "[3351 rows x 2 columns]"
            ]
          },
          "metadata": {
            "tags": []
          },
          "execution_count": 43
        }
      ]
    },
    {
      "cell_type": "code",
      "metadata": {
        "colab": {
          "base_uri": "https://localhost:8080/",
          "height": 576
        },
        "id": "EyVqmA93tn7k",
        "outputId": "30c6592b-321f-4ab2-db16-32f476a35216"
      },
      "source": [
        "rdataset.loc[rdataset[\"release_year\"]<1940, [\"budget\", \"original_title\"]]"
      ],
      "execution_count": null,
      "outputs": [
        {
          "output_type": "execute_result",
          "data": {
            "text/html": [
              "<div>\n",
              "<style scoped>\n",
              "    .dataframe tbody tr th:only-of-type {\n",
              "        vertical-align: middle;\n",
              "    }\n",
              "\n",
              "    .dataframe tbody tr th {\n",
              "        vertical-align: top;\n",
              "    }\n",
              "\n",
              "    .dataframe thead th {\n",
              "        text-align: right;\n",
              "    }\n",
              "</style>\n",
              "<table border=\"1\" class=\"dataframe\">\n",
              "  <thead>\n",
              "    <tr style=\"text-align: right;\">\n",
              "      <th></th>\n",
              "      <th>budget</th>\n",
              "      <th>original_title</th>\n",
              "    </tr>\n",
              "  </thead>\n",
              "  <tbody>\n",
              "    <tr>\n",
              "      <th>2638</th>\n",
              "      <td>92620000</td>\n",
              "      <td>Metropolis</td>\n",
              "    </tr>\n",
              "    <tr>\n",
              "      <th>3804</th>\n",
              "      <td>3950000</td>\n",
              "      <td>Hell's Angels</td>\n",
              "    </tr>\n",
              "    <tr>\n",
              "      <th>3813</th>\n",
              "      <td>4000000</td>\n",
              "      <td>Gone with the Wind</td>\n",
              "    </tr>\n",
              "    <tr>\n",
              "      <th>3986</th>\n",
              "      <td>2777000</td>\n",
              "      <td>The Wizard of Oz</td>\n",
              "    </tr>\n",
              "    <tr>\n",
              "      <th>4094</th>\n",
              "      <td>2000000</td>\n",
              "      <td>Alexander's Ragtime Band</td>\n",
              "    </tr>\n",
              "    <tr>\n",
              "      <th>4200</th>\n",
              "      <td>1644736</td>\n",
              "      <td>You Can't Take It With You</td>\n",
              "    </tr>\n",
              "    <tr>\n",
              "      <th>4216</th>\n",
              "      <td>1500000</td>\n",
              "      <td>Mr. Smith Goes to Washington</td>\n",
              "    </tr>\n",
              "    <tr>\n",
              "      <th>4238</th>\n",
              "      <td>1</td>\n",
              "      <td>Modern Times</td>\n",
              "    </tr>\n",
              "    <tr>\n",
              "      <th>4259</th>\n",
              "      <td>1488423</td>\n",
              "      <td>Snow White and the Seven Dwarfs</td>\n",
              "    </tr>\n",
              "    <tr>\n",
              "      <th>4312</th>\n",
              "      <td>1200000</td>\n",
              "      <td>The Charge of the Light Brigade</td>\n",
              "    </tr>\n",
              "    <tr>\n",
              "      <th>4495</th>\n",
              "      <td>609000</td>\n",
              "      <td>Top Hat</td>\n",
              "    </tr>\n",
              "    <tr>\n",
              "      <th>4570</th>\n",
              "      <td>439000</td>\n",
              "      <td>42nd Street</td>\n",
              "    </tr>\n",
              "    <tr>\n",
              "      <th>4592</th>\n",
              "      <td>385907</td>\n",
              "      <td>Intolerance</td>\n",
              "    </tr>\n",
              "    <tr>\n",
              "      <th>4594</th>\n",
              "      <td>379000</td>\n",
              "      <td>The Broadway Melody</td>\n",
              "    </tr>\n",
              "    <tr>\n",
              "      <th>4604</th>\n",
              "      <td>325000</td>\n",
              "      <td>It Happened One Night</td>\n",
              "    </tr>\n",
              "    <tr>\n",
              "      <th>4661</th>\n",
              "      <td>245000</td>\n",
              "      <td>The Big Parade</td>\n",
              "    </tr>\n",
              "    <tr>\n",
              "      <th>4673</th>\n",
              "      <td>200000</td>\n",
              "      <td>She Done Him Wrong</td>\n",
              "    </tr>\n",
              "  </tbody>\n",
              "</table>\n",
              "</div>"
            ],
            "text/plain": [
              "        budget                   original_title\n",
              "2638  92620000                       Metropolis\n",
              "3804   3950000                    Hell's Angels\n",
              "3813   4000000               Gone with the Wind\n",
              "3986   2777000                 The Wizard of Oz\n",
              "4094   2000000         Alexander's Ragtime Band\n",
              "4200   1644736       You Can't Take It With You\n",
              "4216   1500000     Mr. Smith Goes to Washington\n",
              "4238         1                     Modern Times\n",
              "4259   1488423  Snow White and the Seven Dwarfs\n",
              "4312   1200000  The Charge of the Light Brigade\n",
              "4495    609000                          Top Hat\n",
              "4570    439000                      42nd Street\n",
              "4592    385907                      Intolerance\n",
              "4594    379000              The Broadway Melody\n",
              "4604    325000            It Happened One Night\n",
              "4661    245000                   The Big Parade\n",
              "4673    200000               She Done Him Wrong"
            ]
          },
          "metadata": {
            "tags": []
          },
          "execution_count": 48
        }
      ]
    },
    {
      "cell_type": "code",
      "metadata": {
        "colab": {
          "base_uri": "https://localhost:8080/",
          "height": 297
        },
        "id": "KTPR_L_Ku8AZ",
        "outputId": "298ed337-1be9-4d24-efb9-b3761c92e2f0"
      },
      "source": [
        "rdataset.describe()"
      ],
      "execution_count": null,
      "outputs": [
        {
          "output_type": "execute_result",
          "data": {
            "text/html": [
              "<div>\n",
              "<style scoped>\n",
              "    .dataframe tbody tr th:only-of-type {\n",
              "        vertical-align: middle;\n",
              "    }\n",
              "\n",
              "    .dataframe tbody tr th {\n",
              "        vertical-align: top;\n",
              "    }\n",
              "\n",
              "    .dataframe thead th {\n",
              "        text-align: right;\n",
              "    }\n",
              "</style>\n",
              "<table border=\"1\" class=\"dataframe\">\n",
              "  <thead>\n",
              "    <tr style=\"text-align: right;\">\n",
              "      <th></th>\n",
              "      <th>budget</th>\n",
              "      <th>revenue</th>\n",
              "      <th>runtime</th>\n",
              "      <th>release_year</th>\n",
              "    </tr>\n",
              "  </thead>\n",
              "  <tbody>\n",
              "    <tr>\n",
              "      <th>count</th>\n",
              "      <td>3.351000e+03</td>\n",
              "      <td>3.351000e+03</td>\n",
              "      <td>3351.000000</td>\n",
              "      <td>3351.000000</td>\n",
              "    </tr>\n",
              "    <tr>\n",
              "      <th>mean</th>\n",
              "      <td>3.915521e+07</td>\n",
              "      <td>1.179037e+08</td>\n",
              "      <td>110.463145</td>\n",
              "      <td>2001.865712</td>\n",
              "    </tr>\n",
              "    <tr>\n",
              "      <th>std</th>\n",
              "      <td>4.425475e+07</td>\n",
              "      <td>1.838872e+08</td>\n",
              "      <td>21.003349</td>\n",
              "      <td>13.095739</td>\n",
              "    </tr>\n",
              "    <tr>\n",
              "      <th>min</th>\n",
              "      <td>0.000000e+00</td>\n",
              "      <td>6.399000e+03</td>\n",
              "      <td>41.000000</td>\n",
              "      <td>1916.000000</td>\n",
              "    </tr>\n",
              "    <tr>\n",
              "      <th>25%</th>\n",
              "      <td>9.000000e+06</td>\n",
              "      <td>1.596534e+07</td>\n",
              "      <td>96.000000</td>\n",
              "      <td>1998.000000</td>\n",
              "    </tr>\n",
              "    <tr>\n",
              "      <th>50%</th>\n",
              "      <td>2.500000e+07</td>\n",
              "      <td>5.230400e+07</td>\n",
              "      <td>107.000000</td>\n",
              "      <td>2005.000000</td>\n",
              "    </tr>\n",
              "    <tr>\n",
              "      <th>75%</th>\n",
              "      <td>5.300000e+07</td>\n",
              "      <td>1.408017e+08</td>\n",
              "      <td>121.000000</td>\n",
              "      <td>2010.000000</td>\n",
              "    </tr>\n",
              "    <tr>\n",
              "      <th>max</th>\n",
              "      <td>3.800000e+08</td>\n",
              "      <td>2.787965e+09</td>\n",
              "      <td>338.000000</td>\n",
              "      <td>2016.000000</td>\n",
              "    </tr>\n",
              "  </tbody>\n",
              "</table>\n",
              "</div>"
            ],
            "text/plain": [
              "             budget       revenue      runtime  release_year\n",
              "count  3.351000e+03  3.351000e+03  3351.000000   3351.000000\n",
              "mean   3.915521e+07  1.179037e+08   110.463145   2001.865712\n",
              "std    4.425475e+07  1.838872e+08    21.003349     13.095739\n",
              "min    0.000000e+00  6.399000e+03    41.000000   1916.000000\n",
              "25%    9.000000e+06  1.596534e+07    96.000000   1998.000000\n",
              "50%    2.500000e+07  5.230400e+07   107.000000   2005.000000\n",
              "75%    5.300000e+07  1.408017e+08   121.000000   2010.000000\n",
              "max    3.800000e+08  2.787965e+09   338.000000   2016.000000"
            ]
          },
          "metadata": {
            "tags": []
          },
          "execution_count": 49
        }
      ]
    },
    {
      "cell_type": "code",
      "metadata": {
        "id": "oF7utduPwN68"
      },
      "source": [
        "# calculating average budget per year"
      ],
      "execution_count": null,
      "outputs": []
    },
    {
      "cell_type": "code",
      "metadata": {
        "id": "98_VkhWqwcUS"
      },
      "source": [
        "mean_budget = rdataset.groupby(\"release_year\")[\"budget\"].mean()"
      ],
      "execution_count": null,
      "outputs": []
    },
    {
      "cell_type": "code",
      "metadata": {
        "id": "0nvrfGyPwx4y"
      },
      "source": [
        "rdataset[\"budget\"] = rdataset[\"budget\"].replace(0,np.NaN)"
      ],
      "execution_count": null,
      "outputs": []
    },
    {
      "cell_type": "code",
      "metadata": {
        "id": "ttqF1yqpwzMG"
      },
      "source": [
        "rdataset[\"budget\"] = rdataset[\"budget\"].replace(1,np.NaN)"
      ],
      "execution_count": null,
      "outputs": []
    },
    {
      "cell_type": "code",
      "metadata": {
        "id": "8t48kydC2dni"
      },
      "source": [
        "mean_budget = rdataset.groupby(\"release_year\")[\"budget\"].mean()"
      ],
      "execution_count": null,
      "outputs": []
    },
    {
      "cell_type": "code",
      "metadata": {
        "id": "83M2HQ5e2hHm"
      },
      "source": [
        "year_budget = {}\n",
        "for i in mean_budget.index:\n",
        "  year_budget[i] = mean_budget[i]"
      ],
      "execution_count": null,
      "outputs": []
    },
    {
      "cell_type": "code",
      "metadata": {
        "colab": {
          "base_uri": "https://localhost:8080/"
        },
        "id": "8DH-8eLL2sbt",
        "outputId": "c4a2584c-1cec-4c70-8b8c-f38d1eca03e3"
      },
      "source": [
        "year_budget"
      ],
      "execution_count": null,
      "outputs": [
        {
          "output_type": "execute_result",
          "data": {
            "text/plain": [
              "{1916: 385907.0,\n",
              " 1925: 245000.0,\n",
              " 1927: 92620000.0,\n",
              " 1929: 379000.0,\n",
              " 1930: 3950000.0,\n",
              " 1933: 319500.0,\n",
              " 1934: 325000.0,\n",
              " 1935: 609000.0,\n",
              " 1936: 1200000.0,\n",
              " 1937: 1488423.0,\n",
              " 1938: 1822368.0,\n",
              " 1939: 2759000.0,\n",
              " 1940: 2042000.0,\n",
              " 1941: 1250000.0,\n",
              " 1942: 868000.0,\n",
              " 1944: 2494000.0,\n",
              " 1945: 1636666.6666666667,\n",
              " 1946: 3760000.0,\n",
              " 1947: 2000000.0,\n",
              " 1948: 3350000.0,\n",
              " 1949: 1300000.0,\n",
              " 1950: 3768785.0,\n",
              " 1951: 4116666.6666666665,\n",
              " 1952: 2423600.0,\n",
              " 1953: 1802500.0,\n",
              " 1954: 3227500.0,\n",
              " 1955: 1200000.0,\n",
              " 1956: 3166666.6666666665,\n",
              " 1957: 1675000.0,\n",
              " 1958: 3000000.0,\n",
              " 1959: 3794616.0,\n",
              " 1960: 2268982.6666666665,\n",
              " 1961: 3580000.0,\n",
              " 1962: 5525000.0,\n",
              " 1963: 8712625.0,\n",
              " 1964: 6607500.0,\n",
              " 1965: 9700000.0,\n",
              " 1966: 2900000.0,\n",
              " 1967: 5166666.666666667,\n",
              " 1968: 4668777.777777778,\n",
              " 1969: 6805510.875,\n",
              " 1970: 11210216.222222222,\n",
              " 1971: 4018750.0,\n",
              " 1972: 2642400.0,\n",
              " 1973: 3957309.222222222,\n",
              " 1974: 4514166.666666667,\n",
              " 1975: 4450000.0,\n",
              " 1976: 7842857.142857143,\n",
              " 1977: 11628181.818181818,\n",
              " 1978: 16000000.0,\n",
              " 1979: 18077272.727272727,\n",
              " 1980: 17000000.0,\n",
              " 1981: 13170833.333333334,\n",
              " 1982: 14452941.176470589,\n",
              " 1983: 19189000.0,\n",
              " 1984: 15102083.333333334,\n",
              " 1985: 13935027.52631579,\n",
              " 1986: 15316666.666666666,\n",
              " 1987: 17042857.14285714,\n",
              " 1988: 13475000.0,\n",
              " 1989: 21872173.913043477,\n",
              " 1990: 31739130.43478261,\n",
              " 1991: 30386363.636363637,\n",
              " 1992: 27689834.740740743,\n",
              " 1993: 22982857.14285714,\n",
              " 1994: 31151878.048780486,\n",
              " 1995: 36059821.428571425,\n",
              " 1996: 37907688.296875,\n",
              " 1997: 45946275.69736842,\n",
              " 1998: 40990114.94252873,\n",
              " 1999: 40835823.538461536,\n",
              " 2000: 44600943.39622641,\n",
              " 2001: 43258399.97520661,\n",
              " 2002: 41404963.04580153,\n",
              " 2003: 46658991.73831776,\n",
              " 2004: 44681094.44444445,\n",
              " 2005: 42758982.67832168,\n",
              " 2006: 39673189.36809816,\n",
              " 2007: 45393770.241935484,\n",
              " 2008: 47151028.26896552,\n",
              " 2009: 46616195.058823526,\n",
              " 2010: 45854137.87654321,\n",
              " 2011: 44955034.35119048,\n",
              " 2012: 51891037.62043796,\n",
              " 2013: 52678074.76821192,\n",
              " 2014: 51981481.481481485,\n",
              " 2015: 53270000.025,\n",
              " 2016: 63797083.333333336}"
            ]
          },
          "metadata": {
            "tags": []
          },
          "execution_count": 68
        }
      ]
    },
    {
      "cell_type": "code",
      "metadata": {
        "id": "1lWn2MTU3JiW"
      },
      "source": [
        "temp = rdataset.copy()"
      ],
      "execution_count": null,
      "outputs": []
    },
    {
      "cell_type": "code",
      "metadata": {
        "colab": {
          "base_uri": "https://localhost:8080/"
        },
        "id": "-dHrYT_E3wJT",
        "outputId": "c1bd168a-61be-4f62-fbda-69c2872fedd1"
      },
      "source": [
        "z = np.NaN\n",
        "print(np.isnan(z))"
      ],
      "execution_count": null,
      "outputs": [
        {
          "output_type": "stream",
          "text": [
            "True\n"
          ],
          "name": "stdout"
        }
      ]
    },
    {
      "cell_type": "code",
      "metadata": {
        "colab": {
          "base_uri": "https://localhost:8080/"
        },
        "id": "Plh1nuXi4DFd",
        "outputId": "19285b3b-1cb8-4371-b5b0-173b8107f502"
      },
      "source": [
        "rdataset[\"budget\"]"
      ],
      "execution_count": null,
      "outputs": [
        {
          "output_type": "execute_result",
          "data": {
            "text/plain": [
              "0       237000000.0\n",
              "1       300000000.0\n",
              "2       245000000.0\n",
              "3       250000000.0\n",
              "4       260000000.0\n",
              "           ...     \n",
              "4775            NaN\n",
              "4788        12000.0\n",
              "4792        20000.0\n",
              "4796         7000.0\n",
              "4798       220000.0\n",
              "Name: budget, Length: 3351, dtype: float64"
            ]
          },
          "metadata": {
            "tags": []
          },
          "execution_count": 74
        }
      ]
    },
    {
      "cell_type": "code",
      "metadata": {
        "id": "4tGyylBg4I-5"
      },
      "source": [
        "def replacemean(x,y):\n",
        "  if np.isnan(x):\n",
        "    return year_budget[y]\n",
        "  else:\n",
        "    return x"
      ],
      "execution_count": null,
      "outputs": []
    },
    {
      "cell_type": "code",
      "metadata": {
        "id": "GmS6jjNm9Ii4"
      },
      "source": [
        "rdataset[\"nbudget\"] = rdataset.apply(lambda x: replacemean(x.budget, x.release_year), axis=1)"
      ],
      "execution_count": null,
      "outputs": []
    },
    {
      "cell_type": "code",
      "metadata": {
        "colab": {
          "base_uri": "https://localhost:8080/"
        },
        "id": "tEafaIq89W-y",
        "outputId": "bef0d9c7-f9e0-4ad5-cd0f-36145ad69a9e"
      },
      "source": [
        "rdataset[\"nbudget\"]"
      ],
      "execution_count": null,
      "outputs": [
        {
          "output_type": "execute_result",
          "data": {
            "text/plain": [
              "0       2.370000e+08\n",
              "1       3.000000e+08\n",
              "2       2.450000e+08\n",
              "3       2.500000e+08\n",
              "4       2.600000e+08\n",
              "            ...     \n",
              "4775    4.140496e+07\n",
              "4788    1.200000e+04\n",
              "4792    2.000000e+04\n",
              "4796    7.000000e+03\n",
              "4798    2.200000e+05\n",
              "Name: nbudget, Length: 3351, dtype: float64"
            ]
          },
          "metadata": {
            "tags": []
          },
          "execution_count": 78
        }
      ]
    },
    {
      "cell_type": "code",
      "metadata": {
        "colab": {
          "base_uri": "https://localhost:8080/",
          "height": 419
        },
        "id": "v-UucDfj9ags",
        "outputId": "d48160b8-c5f5-487f-fd9a-7799d1df0c3b"
      },
      "source": [
        "rdataset[[\"budget\",\"release_year\",\"nbudget\"]]"
      ],
      "execution_count": null,
      "outputs": [
        {
          "output_type": "execute_result",
          "data": {
            "text/html": [
              "<div>\n",
              "<style scoped>\n",
              "    .dataframe tbody tr th:only-of-type {\n",
              "        vertical-align: middle;\n",
              "    }\n",
              "\n",
              "    .dataframe tbody tr th {\n",
              "        vertical-align: top;\n",
              "    }\n",
              "\n",
              "    .dataframe thead th {\n",
              "        text-align: right;\n",
              "    }\n",
              "</style>\n",
              "<table border=\"1\" class=\"dataframe\">\n",
              "  <thead>\n",
              "    <tr style=\"text-align: right;\">\n",
              "      <th></th>\n",
              "      <th>budget</th>\n",
              "      <th>release_year</th>\n",
              "      <th>nbudget</th>\n",
              "    </tr>\n",
              "  </thead>\n",
              "  <tbody>\n",
              "    <tr>\n",
              "      <th>0</th>\n",
              "      <td>237000000.0</td>\n",
              "      <td>2009</td>\n",
              "      <td>2.370000e+08</td>\n",
              "    </tr>\n",
              "    <tr>\n",
              "      <th>1</th>\n",
              "      <td>300000000.0</td>\n",
              "      <td>2007</td>\n",
              "      <td>3.000000e+08</td>\n",
              "    </tr>\n",
              "    <tr>\n",
              "      <th>2</th>\n",
              "      <td>245000000.0</td>\n",
              "      <td>2015</td>\n",
              "      <td>2.450000e+08</td>\n",
              "    </tr>\n",
              "    <tr>\n",
              "      <th>3</th>\n",
              "      <td>250000000.0</td>\n",
              "      <td>2012</td>\n",
              "      <td>2.500000e+08</td>\n",
              "    </tr>\n",
              "    <tr>\n",
              "      <th>4</th>\n",
              "      <td>260000000.0</td>\n",
              "      <td>2012</td>\n",
              "      <td>2.600000e+08</td>\n",
              "    </tr>\n",
              "    <tr>\n",
              "      <th>...</th>\n",
              "      <td>...</td>\n",
              "      <td>...</td>\n",
              "      <td>...</td>\n",
              "    </tr>\n",
              "    <tr>\n",
              "      <th>4775</th>\n",
              "      <td>NaN</td>\n",
              "      <td>2002</td>\n",
              "      <td>4.140496e+07</td>\n",
              "    </tr>\n",
              "    <tr>\n",
              "      <th>4788</th>\n",
              "      <td>12000.0</td>\n",
              "      <td>1972</td>\n",
              "      <td>1.200000e+04</td>\n",
              "    </tr>\n",
              "    <tr>\n",
              "      <th>4792</th>\n",
              "      <td>20000.0</td>\n",
              "      <td>1997</td>\n",
              "      <td>2.000000e+04</td>\n",
              "    </tr>\n",
              "    <tr>\n",
              "      <th>4796</th>\n",
              "      <td>7000.0</td>\n",
              "      <td>2004</td>\n",
              "      <td>7.000000e+03</td>\n",
              "    </tr>\n",
              "    <tr>\n",
              "      <th>4798</th>\n",
              "      <td>220000.0</td>\n",
              "      <td>1992</td>\n",
              "      <td>2.200000e+05</td>\n",
              "    </tr>\n",
              "  </tbody>\n",
              "</table>\n",
              "<p>3351 rows × 3 columns</p>\n",
              "</div>"
            ],
            "text/plain": [
              "           budget  release_year       nbudget\n",
              "0     237000000.0          2009  2.370000e+08\n",
              "1     300000000.0          2007  3.000000e+08\n",
              "2     245000000.0          2015  2.450000e+08\n",
              "3     250000000.0          2012  2.500000e+08\n",
              "4     260000000.0          2012  2.600000e+08\n",
              "...           ...           ...           ...\n",
              "4775          NaN          2002  4.140496e+07\n",
              "4788      12000.0          1972  1.200000e+04\n",
              "4792      20000.0          1997  2.000000e+04\n",
              "4796       7000.0          2004  7.000000e+03\n",
              "4798     220000.0          1992  2.200000e+05\n",
              "\n",
              "[3351 rows x 3 columns]"
            ]
          },
          "metadata": {
            "tags": []
          },
          "execution_count": 83
        }
      ]
    },
    {
      "cell_type": "code",
      "metadata": {
        "colab": {
          "base_uri": "https://localhost:8080/"
        },
        "id": "_9YkLRWD9mN8",
        "outputId": "603b265e-23d2-4579-afb8-e9c8849fb7ce"
      },
      "source": [
        "year_budget[2002]"
      ],
      "execution_count": null,
      "outputs": [
        {
          "output_type": "execute_result",
          "data": {
            "text/plain": [
              "41404963.04580153"
            ]
          },
          "metadata": {
            "tags": []
          },
          "execution_count": 84
        }
      ]
    },
    {
      "cell_type": "code",
      "metadata": {
        "colab": {
          "base_uri": "https://localhost:8080/",
          "height": 297
        },
        "id": "wzAA2aME-AlM",
        "outputId": "e46e84b7-4bde-406b-a5b3-467ad9744151"
      },
      "source": [
        "rdataset.describe()"
      ],
      "execution_count": null,
      "outputs": [
        {
          "output_type": "execute_result",
          "data": {
            "text/html": [
              "<div>\n",
              "<style scoped>\n",
              "    .dataframe tbody tr th:only-of-type {\n",
              "        vertical-align: middle;\n",
              "    }\n",
              "\n",
              "    .dataframe tbody tr th {\n",
              "        vertical-align: top;\n",
              "    }\n",
              "\n",
              "    .dataframe thead th {\n",
              "        text-align: right;\n",
              "    }\n",
              "</style>\n",
              "<table border=\"1\" class=\"dataframe\">\n",
              "  <thead>\n",
              "    <tr style=\"text-align: right;\">\n",
              "      <th></th>\n",
              "      <th>budget</th>\n",
              "      <th>revenue</th>\n",
              "      <th>runtime</th>\n",
              "      <th>release_year</th>\n",
              "      <th>nbudget</th>\n",
              "    </tr>\n",
              "  </thead>\n",
              "  <tbody>\n",
              "    <tr>\n",
              "      <th>count</th>\n",
              "      <td>3.212000e+03</td>\n",
              "      <td>3.351000e+03</td>\n",
              "      <td>3351.000000</td>\n",
              "      <td>3351.000000</td>\n",
              "      <td>3.351000e+03</td>\n",
              "    </tr>\n",
              "    <tr>\n",
              "      <th>mean</th>\n",
              "      <td>4.084966e+07</td>\n",
              "      <td>1.179037e+08</td>\n",
              "      <td>110.463145</td>\n",
              "      <td>2001.865712</td>\n",
              "      <td>4.097032e+07</td>\n",
              "    </tr>\n",
              "    <tr>\n",
              "      <th>std</th>\n",
              "      <td>4.442999e+07</td>\n",
              "      <td>1.838872e+08</td>\n",
              "      <td>21.003349</td>\n",
              "      <td>13.095739</td>\n",
              "      <td>4.354859e+07</td>\n",
              "    </tr>\n",
              "    <tr>\n",
              "      <th>min</th>\n",
              "      <td>1.000000e+01</td>\n",
              "      <td>6.399000e+03</td>\n",
              "      <td>41.000000</td>\n",
              "      <td>1916.000000</td>\n",
              "      <td>1.000000e+01</td>\n",
              "    </tr>\n",
              "    <tr>\n",
              "      <th>25%</th>\n",
              "      <td>1.100000e+07</td>\n",
              "      <td>1.596534e+07</td>\n",
              "      <td>96.000000</td>\n",
              "      <td>1998.000000</td>\n",
              "      <td>1.175000e+07</td>\n",
              "    </tr>\n",
              "    <tr>\n",
              "      <th>50%</th>\n",
              "      <td>2.500000e+07</td>\n",
              "      <td>5.230400e+07</td>\n",
              "      <td>107.000000</td>\n",
              "      <td>2005.000000</td>\n",
              "      <td>2.800000e+07</td>\n",
              "    </tr>\n",
              "    <tr>\n",
              "      <th>75%</th>\n",
              "      <td>5.500000e+07</td>\n",
              "      <td>1.408017e+08</td>\n",
              "      <td>121.000000</td>\n",
              "      <td>2010.000000</td>\n",
              "      <td>5.327000e+07</td>\n",
              "    </tr>\n",
              "    <tr>\n",
              "      <th>max</th>\n",
              "      <td>3.800000e+08</td>\n",
              "      <td>2.787965e+09</td>\n",
              "      <td>338.000000</td>\n",
              "      <td>2016.000000</td>\n",
              "      <td>3.800000e+08</td>\n",
              "    </tr>\n",
              "  </tbody>\n",
              "</table>\n",
              "</div>"
            ],
            "text/plain": [
              "             budget       revenue      runtime  release_year       nbudget\n",
              "count  3.212000e+03  3.351000e+03  3351.000000   3351.000000  3.351000e+03\n",
              "mean   4.084966e+07  1.179037e+08   110.463145   2001.865712  4.097032e+07\n",
              "std    4.442999e+07  1.838872e+08    21.003349     13.095739  4.354859e+07\n",
              "min    1.000000e+01  6.399000e+03    41.000000   1916.000000  1.000000e+01\n",
              "25%    1.100000e+07  1.596534e+07    96.000000   1998.000000  1.175000e+07\n",
              "50%    2.500000e+07  5.230400e+07   107.000000   2005.000000  2.800000e+07\n",
              "75%    5.500000e+07  1.408017e+08   121.000000   2010.000000  5.327000e+07\n",
              "max    3.800000e+08  2.787965e+09   338.000000   2016.000000  3.800000e+08"
            ]
          },
          "metadata": {
            "tags": []
          },
          "execution_count": 85
        }
      ]
    },
    {
      "cell_type": "code",
      "metadata": {
        "colab": {
          "base_uri": "https://localhost:8080/"
        },
        "id": "7HwqnRpV-GBa",
        "outputId": "f1b67fa2-454c-4c03-b65d-7fddbb559c50"
      },
      "source": [
        "rdataset.columns"
      ],
      "execution_count": null,
      "outputs": [
        {
          "output_type": "execute_result",
          "data": {
            "text/plain": [
              "Index(['budget', 'genres', 'homepage', 'keywords', 'original_language',\n",
              "       'original_title', 'overview', 'production_companies',\n",
              "       'production_countries', 'release_date', 'revenue', 'runtime',\n",
              "       'spoken_languages', 'status', 'tagline', 'title', 'cast', 'crew',\n",
              "       'release_year', 'nbudget'],\n",
              "      dtype='object')"
            ]
          },
          "metadata": {
            "tags": []
          },
          "execution_count": 87
        }
      ]
    },
    {
      "cell_type": "code",
      "metadata": {
        "id": "Ed7JplrP-Pbq"
      },
      "source": [
        "genres = []\n",
        "for i in rdataset[\"genres\"]:\n",
        "  temp = json.loads(i)\n",
        "  for j in temp:\n",
        "    if j[\"name\"] not in genres:\n",
        "      genres.append(j[\"name\"])"
      ],
      "execution_count": null,
      "outputs": []
    },
    {
      "cell_type": "code",
      "metadata": {
        "colab": {
          "base_uri": "https://localhost:8080/"
        },
        "id": "kV2ucwXg-rxh",
        "outputId": "3b64440a-9a66-4d8f-dab6-38cfde76c926"
      },
      "source": [
        "genres"
      ],
      "execution_count": null,
      "outputs": [
        {
          "output_type": "execute_result",
          "data": {
            "text/plain": [
              "['Action',\n",
              " 'Adventure',\n",
              " 'Fantasy',\n",
              " 'Science Fiction',\n",
              " 'Crime',\n",
              " 'Drama',\n",
              " 'Thriller',\n",
              " 'Animation',\n",
              " 'Family',\n",
              " 'Western',\n",
              " 'Comedy',\n",
              " 'Romance',\n",
              " 'Horror',\n",
              " 'Mystery',\n",
              " 'History',\n",
              " 'War',\n",
              " 'Music',\n",
              " 'Documentary',\n",
              " 'Foreign']"
            ]
          },
          "metadata": {
            "tags": []
          },
          "execution_count": 89
        }
      ]
    },
    {
      "cell_type": "code",
      "metadata": {
        "id": "JMpcQQcc-smv"
      },
      "source": [
        "for i in genres:\n",
        "  rdataset[i] = rdataset[\"genres\"].apply(lambda x: 1 if i in x else 0)"
      ],
      "execution_count": null,
      "outputs": []
    },
    {
      "cell_type": "code",
      "metadata": {
        "colab": {
          "base_uri": "https://localhost:8080/",
          "height": 1000
        },
        "id": "B_RksctQ_K7o",
        "outputId": "bdbddddd-3ad9-4a85-d0d1-3da9e7c5ac75"
      },
      "source": [
        "rdataset"
      ],
      "execution_count": null,
      "outputs": [
        {
          "output_type": "execute_result",
          "data": {
            "text/html": [
              "<div>\n",
              "<style scoped>\n",
              "    .dataframe tbody tr th:only-of-type {\n",
              "        vertical-align: middle;\n",
              "    }\n",
              "\n",
              "    .dataframe tbody tr th {\n",
              "        vertical-align: top;\n",
              "    }\n",
              "\n",
              "    .dataframe thead th {\n",
              "        text-align: right;\n",
              "    }\n",
              "</style>\n",
              "<table border=\"1\" class=\"dataframe\">\n",
              "  <thead>\n",
              "    <tr style=\"text-align: right;\">\n",
              "      <th></th>\n",
              "      <th>budget</th>\n",
              "      <th>genres</th>\n",
              "      <th>homepage</th>\n",
              "      <th>keywords</th>\n",
              "      <th>original_language</th>\n",
              "      <th>original_title</th>\n",
              "      <th>overview</th>\n",
              "      <th>production_companies</th>\n",
              "      <th>production_countries</th>\n",
              "      <th>release_date</th>\n",
              "      <th>revenue</th>\n",
              "      <th>runtime</th>\n",
              "      <th>spoken_languages</th>\n",
              "      <th>status</th>\n",
              "      <th>tagline</th>\n",
              "      <th>title</th>\n",
              "      <th>cast</th>\n",
              "      <th>crew</th>\n",
              "      <th>release_year</th>\n",
              "      <th>nbudget</th>\n",
              "      <th>Action</th>\n",
              "      <th>Adventure</th>\n",
              "      <th>Fantasy</th>\n",
              "      <th>Science Fiction</th>\n",
              "      <th>Crime</th>\n",
              "      <th>Drama</th>\n",
              "      <th>Thriller</th>\n",
              "      <th>Animation</th>\n",
              "      <th>Family</th>\n",
              "      <th>Western</th>\n",
              "      <th>Comedy</th>\n",
              "      <th>Romance</th>\n",
              "      <th>Horror</th>\n",
              "      <th>Mystery</th>\n",
              "      <th>History</th>\n",
              "      <th>War</th>\n",
              "      <th>Music</th>\n",
              "      <th>Documentary</th>\n",
              "      <th>Foreign</th>\n",
              "    </tr>\n",
              "  </thead>\n",
              "  <tbody>\n",
              "    <tr>\n",
              "      <th>0</th>\n",
              "      <td>237000000.0</td>\n",
              "      <td>[{\"id\": 28, \"name\": \"Action\"}, {\"id\": 12, \"nam...</td>\n",
              "      <td>http://www.avatarmovie.com/</td>\n",
              "      <td>[{\"id\": 1463, \"name\": \"culture clash\"}, {\"id\":...</td>\n",
              "      <td>en</td>\n",
              "      <td>Avatar</td>\n",
              "      <td>In the 22nd century, a paraplegic Marine is di...</td>\n",
              "      <td>[{\"name\": \"Ingenious Film Partners\", \"id\": 289...</td>\n",
              "      <td>[{\"iso_3166_1\": \"US\", \"name\": \"United States o...</td>\n",
              "      <td>2009-12-10</td>\n",
              "      <td>2787965087</td>\n",
              "      <td>162.0</td>\n",
              "      <td>[{\"iso_639_1\": \"en\", \"name\": \"English\"}, {\"iso...</td>\n",
              "      <td>Released</td>\n",
              "      <td>Enter the World of Pandora.</td>\n",
              "      <td>Avatar</td>\n",
              "      <td>[{\"cast_id\": 242, \"character\": \"Jake Sully\", \"...</td>\n",
              "      <td>[{\"credit_id\": \"52fe48009251416c750aca23\", \"de...</td>\n",
              "      <td>2009</td>\n",
              "      <td>2.370000e+08</td>\n",
              "      <td>1</td>\n",
              "      <td>1</td>\n",
              "      <td>1</td>\n",
              "      <td>1</td>\n",
              "      <td>0</td>\n",
              "      <td>0</td>\n",
              "      <td>0</td>\n",
              "      <td>0</td>\n",
              "      <td>0</td>\n",
              "      <td>0</td>\n",
              "      <td>0</td>\n",
              "      <td>0</td>\n",
              "      <td>0</td>\n",
              "      <td>0</td>\n",
              "      <td>0</td>\n",
              "      <td>0</td>\n",
              "      <td>0</td>\n",
              "      <td>0</td>\n",
              "      <td>0</td>\n",
              "    </tr>\n",
              "    <tr>\n",
              "      <th>1</th>\n",
              "      <td>300000000.0</td>\n",
              "      <td>[{\"id\": 12, \"name\": \"Adventure\"}, {\"id\": 14, \"...</td>\n",
              "      <td>http://disney.go.com/disneypictures/pirates/</td>\n",
              "      <td>[{\"id\": 270, \"name\": \"ocean\"}, {\"id\": 726, \"na...</td>\n",
              "      <td>en</td>\n",
              "      <td>Pirates of the Caribbean: At World's End</td>\n",
              "      <td>Captain Barbossa, long believed to be dead, ha...</td>\n",
              "      <td>[{\"name\": \"Walt Disney Pictures\", \"id\": 2}, {\"...</td>\n",
              "      <td>[{\"iso_3166_1\": \"US\", \"name\": \"United States o...</td>\n",
              "      <td>2007-05-19</td>\n",
              "      <td>961000000</td>\n",
              "      <td>169.0</td>\n",
              "      <td>[{\"iso_639_1\": \"en\", \"name\": \"English\"}]</td>\n",
              "      <td>Released</td>\n",
              "      <td>At the end of the world, the adventure begins.</td>\n",
              "      <td>Pirates of the Caribbean: At World's End</td>\n",
              "      <td>[{\"cast_id\": 4, \"character\": \"Captain Jack Spa...</td>\n",
              "      <td>[{\"credit_id\": \"52fe4232c3a36847f800b579\", \"de...</td>\n",
              "      <td>2007</td>\n",
              "      <td>3.000000e+08</td>\n",
              "      <td>1</td>\n",
              "      <td>1</td>\n",
              "      <td>1</td>\n",
              "      <td>0</td>\n",
              "      <td>0</td>\n",
              "      <td>0</td>\n",
              "      <td>0</td>\n",
              "      <td>0</td>\n",
              "      <td>0</td>\n",
              "      <td>0</td>\n",
              "      <td>0</td>\n",
              "      <td>0</td>\n",
              "      <td>0</td>\n",
              "      <td>0</td>\n",
              "      <td>0</td>\n",
              "      <td>0</td>\n",
              "      <td>0</td>\n",
              "      <td>0</td>\n",
              "      <td>0</td>\n",
              "    </tr>\n",
              "    <tr>\n",
              "      <th>2</th>\n",
              "      <td>245000000.0</td>\n",
              "      <td>[{\"id\": 28, \"name\": \"Action\"}, {\"id\": 12, \"nam...</td>\n",
              "      <td>http://www.sonypictures.com/movies/spectre/</td>\n",
              "      <td>[{\"id\": 470, \"name\": \"spy\"}, {\"id\": 818, \"name...</td>\n",
              "      <td>en</td>\n",
              "      <td>Spectre</td>\n",
              "      <td>A cryptic message from Bond’s past sends him o...</td>\n",
              "      <td>[{\"name\": \"Columbia Pictures\", \"id\": 5}, {\"nam...</td>\n",
              "      <td>[{\"iso_3166_1\": \"GB\", \"name\": \"United Kingdom\"...</td>\n",
              "      <td>2015-10-26</td>\n",
              "      <td>880674609</td>\n",
              "      <td>148.0</td>\n",
              "      <td>[{\"iso_639_1\": \"fr\", \"name\": \"Fran\\u00e7ais\"},...</td>\n",
              "      <td>Released</td>\n",
              "      <td>A Plan No One Escapes</td>\n",
              "      <td>Spectre</td>\n",
              "      <td>[{\"cast_id\": 1, \"character\": \"James Bond\", \"cr...</td>\n",
              "      <td>[{\"credit_id\": \"54805967c3a36829b5002c41\", \"de...</td>\n",
              "      <td>2015</td>\n",
              "      <td>2.450000e+08</td>\n",
              "      <td>1</td>\n",
              "      <td>1</td>\n",
              "      <td>0</td>\n",
              "      <td>0</td>\n",
              "      <td>1</td>\n",
              "      <td>0</td>\n",
              "      <td>0</td>\n",
              "      <td>0</td>\n",
              "      <td>0</td>\n",
              "      <td>0</td>\n",
              "      <td>0</td>\n",
              "      <td>0</td>\n",
              "      <td>0</td>\n",
              "      <td>0</td>\n",
              "      <td>0</td>\n",
              "      <td>0</td>\n",
              "      <td>0</td>\n",
              "      <td>0</td>\n",
              "      <td>0</td>\n",
              "    </tr>\n",
              "    <tr>\n",
              "      <th>3</th>\n",
              "      <td>250000000.0</td>\n",
              "      <td>[{\"id\": 28, \"name\": \"Action\"}, {\"id\": 80, \"nam...</td>\n",
              "      <td>http://www.thedarkknightrises.com/</td>\n",
              "      <td>[{\"id\": 849, \"name\": \"dc comics\"}, {\"id\": 853,...</td>\n",
              "      <td>en</td>\n",
              "      <td>The Dark Knight Rises</td>\n",
              "      <td>Following the death of District Attorney Harve...</td>\n",
              "      <td>[{\"name\": \"Legendary Pictures\", \"id\": 923}, {\"...</td>\n",
              "      <td>[{\"iso_3166_1\": \"US\", \"name\": \"United States o...</td>\n",
              "      <td>2012-07-16</td>\n",
              "      <td>1084939099</td>\n",
              "      <td>165.0</td>\n",
              "      <td>[{\"iso_639_1\": \"en\", \"name\": \"English\"}]</td>\n",
              "      <td>Released</td>\n",
              "      <td>The Legend Ends</td>\n",
              "      <td>The Dark Knight Rises</td>\n",
              "      <td>[{\"cast_id\": 2, \"character\": \"Bruce Wayne / Ba...</td>\n",
              "      <td>[{\"credit_id\": \"52fe4781c3a36847f81398c3\", \"de...</td>\n",
              "      <td>2012</td>\n",
              "      <td>2.500000e+08</td>\n",
              "      <td>1</td>\n",
              "      <td>0</td>\n",
              "      <td>0</td>\n",
              "      <td>0</td>\n",
              "      <td>1</td>\n",
              "      <td>1</td>\n",
              "      <td>1</td>\n",
              "      <td>0</td>\n",
              "      <td>0</td>\n",
              "      <td>0</td>\n",
              "      <td>0</td>\n",
              "      <td>0</td>\n",
              "      <td>0</td>\n",
              "      <td>0</td>\n",
              "      <td>0</td>\n",
              "      <td>0</td>\n",
              "      <td>0</td>\n",
              "      <td>0</td>\n",
              "      <td>0</td>\n",
              "    </tr>\n",
              "    <tr>\n",
              "      <th>4</th>\n",
              "      <td>260000000.0</td>\n",
              "      <td>[{\"id\": 28, \"name\": \"Action\"}, {\"id\": 12, \"nam...</td>\n",
              "      <td>http://movies.disney.com/john-carter</td>\n",
              "      <td>[{\"id\": 818, \"name\": \"based on novel\"}, {\"id\":...</td>\n",
              "      <td>en</td>\n",
              "      <td>John Carter</td>\n",
              "      <td>John Carter is a war-weary, former military ca...</td>\n",
              "      <td>[{\"name\": \"Walt Disney Pictures\", \"id\": 2}]</td>\n",
              "      <td>[{\"iso_3166_1\": \"US\", \"name\": \"United States o...</td>\n",
              "      <td>2012-03-07</td>\n",
              "      <td>284139100</td>\n",
              "      <td>132.0</td>\n",
              "      <td>[{\"iso_639_1\": \"en\", \"name\": \"English\"}]</td>\n",
              "      <td>Released</td>\n",
              "      <td>Lost in our world, found in another.</td>\n",
              "      <td>John Carter</td>\n",
              "      <td>[{\"cast_id\": 5, \"character\": \"John Carter\", \"c...</td>\n",
              "      <td>[{\"credit_id\": \"52fe479ac3a36847f813eaa3\", \"de...</td>\n",
              "      <td>2012</td>\n",
              "      <td>2.600000e+08</td>\n",
              "      <td>1</td>\n",
              "      <td>1</td>\n",
              "      <td>0</td>\n",
              "      <td>1</td>\n",
              "      <td>0</td>\n",
              "      <td>0</td>\n",
              "      <td>0</td>\n",
              "      <td>0</td>\n",
              "      <td>0</td>\n",
              "      <td>0</td>\n",
              "      <td>0</td>\n",
              "      <td>0</td>\n",
              "      <td>0</td>\n",
              "      <td>0</td>\n",
              "      <td>0</td>\n",
              "      <td>0</td>\n",
              "      <td>0</td>\n",
              "      <td>0</td>\n",
              "      <td>0</td>\n",
              "    </tr>\n",
              "    <tr>\n",
              "      <th>...</th>\n",
              "      <td>...</td>\n",
              "      <td>...</td>\n",
              "      <td>...</td>\n",
              "      <td>...</td>\n",
              "      <td>...</td>\n",
              "      <td>...</td>\n",
              "      <td>...</td>\n",
              "      <td>...</td>\n",
              "      <td>...</td>\n",
              "      <td>...</td>\n",
              "      <td>...</td>\n",
              "      <td>...</td>\n",
              "      <td>...</td>\n",
              "      <td>...</td>\n",
              "      <td>...</td>\n",
              "      <td>...</td>\n",
              "      <td>...</td>\n",
              "      <td>...</td>\n",
              "      <td>...</td>\n",
              "      <td>...</td>\n",
              "      <td>...</td>\n",
              "      <td>...</td>\n",
              "      <td>...</td>\n",
              "      <td>...</td>\n",
              "      <td>...</td>\n",
              "      <td>...</td>\n",
              "      <td>...</td>\n",
              "      <td>...</td>\n",
              "      <td>...</td>\n",
              "      <td>...</td>\n",
              "      <td>...</td>\n",
              "      <td>...</td>\n",
              "      <td>...</td>\n",
              "      <td>...</td>\n",
              "      <td>...</td>\n",
              "      <td>...</td>\n",
              "      <td>...</td>\n",
              "      <td>...</td>\n",
              "      <td>...</td>\n",
              "    </tr>\n",
              "    <tr>\n",
              "      <th>4775</th>\n",
              "      <td>NaN</td>\n",
              "      <td>[{\"id\": 18, \"name\": \"Drama\"}, {\"id\": 35, \"name...</td>\n",
              "      <td>NaN</td>\n",
              "      <td>[{\"id\": 171993, \"name\": \"mumblecore\"}]</td>\n",
              "      <td>en</td>\n",
              "      <td>Funny Ha Ha</td>\n",
              "      <td>Unsure of what to do next, 23-year-old Marnie ...</td>\n",
              "      <td>[]</td>\n",
              "      <td>[{\"iso_3166_1\": \"US\", \"name\": \"United States o...</td>\n",
              "      <td>2002-09-20</td>\n",
              "      <td>76901</td>\n",
              "      <td>85.0</td>\n",
              "      <td>[{\"iso_639_1\": \"en\", \"name\": \"English\"}]</td>\n",
              "      <td>Released</td>\n",
              "      <td>NaN</td>\n",
              "      <td>Funny Ha Ha</td>\n",
              "      <td>[{\"cast_id\": 1, \"character\": \"Marnie\", \"credit...</td>\n",
              "      <td>[{\"credit_id\": \"52fe45309251416c9102a535\", \"de...</td>\n",
              "      <td>2002</td>\n",
              "      <td>4.140496e+07</td>\n",
              "      <td>0</td>\n",
              "      <td>0</td>\n",
              "      <td>0</td>\n",
              "      <td>0</td>\n",
              "      <td>0</td>\n",
              "      <td>1</td>\n",
              "      <td>0</td>\n",
              "      <td>0</td>\n",
              "      <td>0</td>\n",
              "      <td>0</td>\n",
              "      <td>1</td>\n",
              "      <td>0</td>\n",
              "      <td>0</td>\n",
              "      <td>0</td>\n",
              "      <td>0</td>\n",
              "      <td>0</td>\n",
              "      <td>0</td>\n",
              "      <td>0</td>\n",
              "      <td>0</td>\n",
              "    </tr>\n",
              "    <tr>\n",
              "      <th>4788</th>\n",
              "      <td>12000.0</td>\n",
              "      <td>[{\"id\": 27, \"name\": \"Horror\"}, {\"id\": 35, \"nam...</td>\n",
              "      <td>NaN</td>\n",
              "      <td>[{\"id\": 237, \"name\": \"gay\"}, {\"id\": 900, \"name...</td>\n",
              "      <td>en</td>\n",
              "      <td>Pink Flamingos</td>\n",
              "      <td>Notorious Baltimore criminal and underground f...</td>\n",
              "      <td>[{\"name\": \"Dreamland Productions\", \"id\": 407}]</td>\n",
              "      <td>[{\"iso_3166_1\": \"US\", \"name\": \"United States o...</td>\n",
              "      <td>1972-03-12</td>\n",
              "      <td>6000000</td>\n",
              "      <td>93.0</td>\n",
              "      <td>[{\"iso_639_1\": \"en\", \"name\": \"English\"}]</td>\n",
              "      <td>Released</td>\n",
              "      <td>An exercise in poor taste.</td>\n",
              "      <td>Pink Flamingos</td>\n",
              "      <td>[{\"cast_id\": 8, \"character\": \"Divine / Babs Jo...</td>\n",
              "      <td>[{\"credit_id\": \"52fe426bc3a36847f801d203\", \"de...</td>\n",
              "      <td>1972</td>\n",
              "      <td>1.200000e+04</td>\n",
              "      <td>0</td>\n",
              "      <td>0</td>\n",
              "      <td>0</td>\n",
              "      <td>0</td>\n",
              "      <td>1</td>\n",
              "      <td>0</td>\n",
              "      <td>0</td>\n",
              "      <td>0</td>\n",
              "      <td>0</td>\n",
              "      <td>0</td>\n",
              "      <td>1</td>\n",
              "      <td>0</td>\n",
              "      <td>1</td>\n",
              "      <td>0</td>\n",
              "      <td>0</td>\n",
              "      <td>0</td>\n",
              "      <td>0</td>\n",
              "      <td>0</td>\n",
              "      <td>0</td>\n",
              "    </tr>\n",
              "    <tr>\n",
              "      <th>4792</th>\n",
              "      <td>20000.0</td>\n",
              "      <td>[{\"id\": 80, \"name\": \"Crime\"}, {\"id\": 27, \"name...</td>\n",
              "      <td>NaN</td>\n",
              "      <td>[{\"id\": 233, \"name\": \"japan\"}, {\"id\": 549, \"na...</td>\n",
              "      <td>ja</td>\n",
              "      <td>キュア</td>\n",
              "      <td>A wave of gruesome murders is sweeping Tokyo. ...</td>\n",
              "      <td>[{\"name\": \"Daiei Studios\", \"id\": 881}]</td>\n",
              "      <td>[{\"iso_3166_1\": \"JP\", \"name\": \"Japan\"}]</td>\n",
              "      <td>1997-11-06</td>\n",
              "      <td>99000</td>\n",
              "      <td>111.0</td>\n",
              "      <td>[{\"iso_639_1\": \"ja\", \"name\": \"\\u65e5\\u672c\\u8a...</td>\n",
              "      <td>Released</td>\n",
              "      <td>Madness. Terror. Murder.</td>\n",
              "      <td>Cure</td>\n",
              "      <td>[{\"cast_id\": 3, \"character\": \"Kenichi Takabe\",...</td>\n",
              "      <td>[{\"credit_id\": \"52fe45cc9251416c9103eb7b\", \"de...</td>\n",
              "      <td>1997</td>\n",
              "      <td>2.000000e+04</td>\n",
              "      <td>0</td>\n",
              "      <td>0</td>\n",
              "      <td>0</td>\n",
              "      <td>0</td>\n",
              "      <td>1</td>\n",
              "      <td>0</td>\n",
              "      <td>1</td>\n",
              "      <td>0</td>\n",
              "      <td>0</td>\n",
              "      <td>0</td>\n",
              "      <td>0</td>\n",
              "      <td>0</td>\n",
              "      <td>1</td>\n",
              "      <td>1</td>\n",
              "      <td>0</td>\n",
              "      <td>0</td>\n",
              "      <td>0</td>\n",
              "      <td>0</td>\n",
              "      <td>0</td>\n",
              "    </tr>\n",
              "    <tr>\n",
              "      <th>4796</th>\n",
              "      <td>7000.0</td>\n",
              "      <td>[{\"id\": 878, \"name\": \"Science Fiction\"}, {\"id\"...</td>\n",
              "      <td>http://www.primermovie.com</td>\n",
              "      <td>[{\"id\": 1448, \"name\": \"distrust\"}, {\"id\": 2101...</td>\n",
              "      <td>en</td>\n",
              "      <td>Primer</td>\n",
              "      <td>Friends/fledgling entrepreneurs invent a devic...</td>\n",
              "      <td>[{\"name\": \"Thinkfilm\", \"id\": 446}]</td>\n",
              "      <td>[{\"iso_3166_1\": \"US\", \"name\": \"United States o...</td>\n",
              "      <td>2004-10-08</td>\n",
              "      <td>424760</td>\n",
              "      <td>77.0</td>\n",
              "      <td>[{\"iso_639_1\": \"en\", \"name\": \"English\"}]</td>\n",
              "      <td>Released</td>\n",
              "      <td>What happens if it actually works?</td>\n",
              "      <td>Primer</td>\n",
              "      <td>[{\"cast_id\": 1, \"character\": \"Aaron\", \"credit_...</td>\n",
              "      <td>[{\"credit_id\": \"52fe45e79251416c75066791\", \"de...</td>\n",
              "      <td>2004</td>\n",
              "      <td>7.000000e+03</td>\n",
              "      <td>0</td>\n",
              "      <td>0</td>\n",
              "      <td>0</td>\n",
              "      <td>1</td>\n",
              "      <td>0</td>\n",
              "      <td>1</td>\n",
              "      <td>1</td>\n",
              "      <td>0</td>\n",
              "      <td>0</td>\n",
              "      <td>0</td>\n",
              "      <td>0</td>\n",
              "      <td>0</td>\n",
              "      <td>0</td>\n",
              "      <td>0</td>\n",
              "      <td>0</td>\n",
              "      <td>0</td>\n",
              "      <td>0</td>\n",
              "      <td>0</td>\n",
              "      <td>0</td>\n",
              "    </tr>\n",
              "    <tr>\n",
              "      <th>4798</th>\n",
              "      <td>220000.0</td>\n",
              "      <td>[{\"id\": 28, \"name\": \"Action\"}, {\"id\": 80, \"nam...</td>\n",
              "      <td>NaN</td>\n",
              "      <td>[{\"id\": 5616, \"name\": \"united states\\u2013mexi...</td>\n",
              "      <td>es</td>\n",
              "      <td>El Mariachi</td>\n",
              "      <td>El Mariachi just wants to play his guitar and ...</td>\n",
              "      <td>[{\"name\": \"Columbia Pictures\", \"id\": 5}]</td>\n",
              "      <td>[{\"iso_3166_1\": \"MX\", \"name\": \"Mexico\"}, {\"iso...</td>\n",
              "      <td>1992-09-04</td>\n",
              "      <td>2040920</td>\n",
              "      <td>81.0</td>\n",
              "      <td>[{\"iso_639_1\": \"es\", \"name\": \"Espa\\u00f1ol\"}]</td>\n",
              "      <td>Released</td>\n",
              "      <td>He didn't come looking for trouble, but troubl...</td>\n",
              "      <td>El Mariachi</td>\n",
              "      <td>[{\"cast_id\": 1, \"character\": \"El Mariachi\", \"c...</td>\n",
              "      <td>[{\"credit_id\": \"52fe44eec3a36847f80b280b\", \"de...</td>\n",
              "      <td>1992</td>\n",
              "      <td>2.200000e+05</td>\n",
              "      <td>1</td>\n",
              "      <td>0</td>\n",
              "      <td>0</td>\n",
              "      <td>0</td>\n",
              "      <td>1</td>\n",
              "      <td>0</td>\n",
              "      <td>1</td>\n",
              "      <td>0</td>\n",
              "      <td>0</td>\n",
              "      <td>0</td>\n",
              "      <td>0</td>\n",
              "      <td>0</td>\n",
              "      <td>0</td>\n",
              "      <td>0</td>\n",
              "      <td>0</td>\n",
              "      <td>0</td>\n",
              "      <td>0</td>\n",
              "      <td>0</td>\n",
              "      <td>0</td>\n",
              "    </tr>\n",
              "  </tbody>\n",
              "</table>\n",
              "<p>3351 rows × 39 columns</p>\n",
              "</div>"
            ],
            "text/plain": [
              "           budget  ... Foreign\n",
              "0     237000000.0  ...       0\n",
              "1     300000000.0  ...       0\n",
              "2     245000000.0  ...       0\n",
              "3     250000000.0  ...       0\n",
              "4     260000000.0  ...       0\n",
              "...           ...  ...     ...\n",
              "4775          NaN  ...       0\n",
              "4788      12000.0  ...       0\n",
              "4792      20000.0  ...       0\n",
              "4796       7000.0  ...       0\n",
              "4798     220000.0  ...       0\n",
              "\n",
              "[3351 rows x 39 columns]"
            ]
          },
          "metadata": {
            "tags": []
          },
          "execution_count": 91
        }
      ]
    },
    {
      "cell_type": "code",
      "metadata": {
        "id": "YRmn-Wzi_NfL"
      },
      "source": [
        "def num_genre(x):\n",
        "  num = 0\n",
        "  for i in genres:\n",
        "    if i in x: num += 1\n",
        "  return num"
      ],
      "execution_count": null,
      "outputs": []
    },
    {
      "cell_type": "code",
      "metadata": {
        "id": "zTDGgsqp_vxk"
      },
      "source": [
        "rdataset[\"num_genres\"] = rdataset[\"genres\"].apply(num_genre)"
      ],
      "execution_count": null,
      "outputs": []
    },
    {
      "cell_type": "code",
      "metadata": {
        "colab": {
          "base_uri": "https://localhost:8080/",
          "height": 457
        },
        "id": "ai2wWjbM_6Am",
        "outputId": "39d3fb4b-fd56-4a62-8bc1-aff3d9dba216"
      },
      "source": [
        "rdataset.head(3)"
      ],
      "execution_count": null,
      "outputs": [
        {
          "output_type": "execute_result",
          "data": {
            "text/html": [
              "<div>\n",
              "<style scoped>\n",
              "    .dataframe tbody tr th:only-of-type {\n",
              "        vertical-align: middle;\n",
              "    }\n",
              "\n",
              "    .dataframe tbody tr th {\n",
              "        vertical-align: top;\n",
              "    }\n",
              "\n",
              "    .dataframe thead th {\n",
              "        text-align: right;\n",
              "    }\n",
              "</style>\n",
              "<table border=\"1\" class=\"dataframe\">\n",
              "  <thead>\n",
              "    <tr style=\"text-align: right;\">\n",
              "      <th></th>\n",
              "      <th>budget</th>\n",
              "      <th>genres</th>\n",
              "      <th>homepage</th>\n",
              "      <th>keywords</th>\n",
              "      <th>original_language</th>\n",
              "      <th>original_title</th>\n",
              "      <th>overview</th>\n",
              "      <th>production_companies</th>\n",
              "      <th>production_countries</th>\n",
              "      <th>release_date</th>\n",
              "      <th>revenue</th>\n",
              "      <th>runtime</th>\n",
              "      <th>spoken_languages</th>\n",
              "      <th>status</th>\n",
              "      <th>tagline</th>\n",
              "      <th>title</th>\n",
              "      <th>cast</th>\n",
              "      <th>crew</th>\n",
              "      <th>release_year</th>\n",
              "      <th>nbudget</th>\n",
              "      <th>Action</th>\n",
              "      <th>Adventure</th>\n",
              "      <th>Fantasy</th>\n",
              "      <th>Science Fiction</th>\n",
              "      <th>Crime</th>\n",
              "      <th>Drama</th>\n",
              "      <th>Thriller</th>\n",
              "      <th>Animation</th>\n",
              "      <th>Family</th>\n",
              "      <th>Western</th>\n",
              "      <th>Comedy</th>\n",
              "      <th>Romance</th>\n",
              "      <th>Horror</th>\n",
              "      <th>Mystery</th>\n",
              "      <th>History</th>\n",
              "      <th>War</th>\n",
              "      <th>Music</th>\n",
              "      <th>Documentary</th>\n",
              "      <th>Foreign</th>\n",
              "      <th>num_genres</th>\n",
              "    </tr>\n",
              "  </thead>\n",
              "  <tbody>\n",
              "    <tr>\n",
              "      <th>0</th>\n",
              "      <td>237000000.0</td>\n",
              "      <td>[{\"id\": 28, \"name\": \"Action\"}, {\"id\": 12, \"nam...</td>\n",
              "      <td>http://www.avatarmovie.com/</td>\n",
              "      <td>[{\"id\": 1463, \"name\": \"culture clash\"}, {\"id\":...</td>\n",
              "      <td>en</td>\n",
              "      <td>Avatar</td>\n",
              "      <td>In the 22nd century, a paraplegic Marine is di...</td>\n",
              "      <td>[{\"name\": \"Ingenious Film Partners\", \"id\": 289...</td>\n",
              "      <td>[{\"iso_3166_1\": \"US\", \"name\": \"United States o...</td>\n",
              "      <td>2009-12-10</td>\n",
              "      <td>2787965087</td>\n",
              "      <td>162.0</td>\n",
              "      <td>[{\"iso_639_1\": \"en\", \"name\": \"English\"}, {\"iso...</td>\n",
              "      <td>Released</td>\n",
              "      <td>Enter the World of Pandora.</td>\n",
              "      <td>Avatar</td>\n",
              "      <td>[{\"cast_id\": 242, \"character\": \"Jake Sully\", \"...</td>\n",
              "      <td>[{\"credit_id\": \"52fe48009251416c750aca23\", \"de...</td>\n",
              "      <td>2009</td>\n",
              "      <td>237000000.0</td>\n",
              "      <td>1</td>\n",
              "      <td>1</td>\n",
              "      <td>1</td>\n",
              "      <td>1</td>\n",
              "      <td>0</td>\n",
              "      <td>0</td>\n",
              "      <td>0</td>\n",
              "      <td>0</td>\n",
              "      <td>0</td>\n",
              "      <td>0</td>\n",
              "      <td>0</td>\n",
              "      <td>0</td>\n",
              "      <td>0</td>\n",
              "      <td>0</td>\n",
              "      <td>0</td>\n",
              "      <td>0</td>\n",
              "      <td>0</td>\n",
              "      <td>0</td>\n",
              "      <td>0</td>\n",
              "      <td>4</td>\n",
              "    </tr>\n",
              "    <tr>\n",
              "      <th>1</th>\n",
              "      <td>300000000.0</td>\n",
              "      <td>[{\"id\": 12, \"name\": \"Adventure\"}, {\"id\": 14, \"...</td>\n",
              "      <td>http://disney.go.com/disneypictures/pirates/</td>\n",
              "      <td>[{\"id\": 270, \"name\": \"ocean\"}, {\"id\": 726, \"na...</td>\n",
              "      <td>en</td>\n",
              "      <td>Pirates of the Caribbean: At World's End</td>\n",
              "      <td>Captain Barbossa, long believed to be dead, ha...</td>\n",
              "      <td>[{\"name\": \"Walt Disney Pictures\", \"id\": 2}, {\"...</td>\n",
              "      <td>[{\"iso_3166_1\": \"US\", \"name\": \"United States o...</td>\n",
              "      <td>2007-05-19</td>\n",
              "      <td>961000000</td>\n",
              "      <td>169.0</td>\n",
              "      <td>[{\"iso_639_1\": \"en\", \"name\": \"English\"}]</td>\n",
              "      <td>Released</td>\n",
              "      <td>At the end of the world, the adventure begins.</td>\n",
              "      <td>Pirates of the Caribbean: At World's End</td>\n",
              "      <td>[{\"cast_id\": 4, \"character\": \"Captain Jack Spa...</td>\n",
              "      <td>[{\"credit_id\": \"52fe4232c3a36847f800b579\", \"de...</td>\n",
              "      <td>2007</td>\n",
              "      <td>300000000.0</td>\n",
              "      <td>1</td>\n",
              "      <td>1</td>\n",
              "      <td>1</td>\n",
              "      <td>0</td>\n",
              "      <td>0</td>\n",
              "      <td>0</td>\n",
              "      <td>0</td>\n",
              "      <td>0</td>\n",
              "      <td>0</td>\n",
              "      <td>0</td>\n",
              "      <td>0</td>\n",
              "      <td>0</td>\n",
              "      <td>0</td>\n",
              "      <td>0</td>\n",
              "      <td>0</td>\n",
              "      <td>0</td>\n",
              "      <td>0</td>\n",
              "      <td>0</td>\n",
              "      <td>0</td>\n",
              "      <td>3</td>\n",
              "    </tr>\n",
              "    <tr>\n",
              "      <th>2</th>\n",
              "      <td>245000000.0</td>\n",
              "      <td>[{\"id\": 28, \"name\": \"Action\"}, {\"id\": 12, \"nam...</td>\n",
              "      <td>http://www.sonypictures.com/movies/spectre/</td>\n",
              "      <td>[{\"id\": 470, \"name\": \"spy\"}, {\"id\": 818, \"name...</td>\n",
              "      <td>en</td>\n",
              "      <td>Spectre</td>\n",
              "      <td>A cryptic message from Bond’s past sends him o...</td>\n",
              "      <td>[{\"name\": \"Columbia Pictures\", \"id\": 5}, {\"nam...</td>\n",
              "      <td>[{\"iso_3166_1\": \"GB\", \"name\": \"United Kingdom\"...</td>\n",
              "      <td>2015-10-26</td>\n",
              "      <td>880674609</td>\n",
              "      <td>148.0</td>\n",
              "      <td>[{\"iso_639_1\": \"fr\", \"name\": \"Fran\\u00e7ais\"},...</td>\n",
              "      <td>Released</td>\n",
              "      <td>A Plan No One Escapes</td>\n",
              "      <td>Spectre</td>\n",
              "      <td>[{\"cast_id\": 1, \"character\": \"James Bond\", \"cr...</td>\n",
              "      <td>[{\"credit_id\": \"54805967c3a36829b5002c41\", \"de...</td>\n",
              "      <td>2015</td>\n",
              "      <td>245000000.0</td>\n",
              "      <td>1</td>\n",
              "      <td>1</td>\n",
              "      <td>0</td>\n",
              "      <td>0</td>\n",
              "      <td>1</td>\n",
              "      <td>0</td>\n",
              "      <td>0</td>\n",
              "      <td>0</td>\n",
              "      <td>0</td>\n",
              "      <td>0</td>\n",
              "      <td>0</td>\n",
              "      <td>0</td>\n",
              "      <td>0</td>\n",
              "      <td>0</td>\n",
              "      <td>0</td>\n",
              "      <td>0</td>\n",
              "      <td>0</td>\n",
              "      <td>0</td>\n",
              "      <td>0</td>\n",
              "      <td>3</td>\n",
              "    </tr>\n",
              "  </tbody>\n",
              "</table>\n",
              "</div>"
            ],
            "text/plain": [
              "        budget  ... num_genres\n",
              "0  237000000.0  ...          4\n",
              "1  300000000.0  ...          3\n",
              "2  245000000.0  ...          3\n",
              "\n",
              "[3 rows x 40 columns]"
            ]
          },
          "metadata": {
            "tags": []
          },
          "execution_count": 102
        }
      ]
    },
    {
      "cell_type": "code",
      "metadata": {
        "colab": {
          "base_uri": "https://localhost:8080/",
          "height": 290
        },
        "id": "vr3VIiED_-eU",
        "outputId": "ecc50974-db09-46af-d597-f9a4c4635edc"
      },
      "source": [
        "# let me check if it is an useful feature\n",
        "sns.lineplot(x=\"num_genres\", y=\"revenue\", data = rdataset)\n",
        "plt.show()"
      ],
      "execution_count": null,
      "outputs": [
        {
          "output_type": "display_data",
          "data": {
            "image/png": "[encoded data removed]",
            "text/plain": [
              "<Figure size 432x288 with 1 Axes>"
            ]
          },
          "metadata": {
            "tags": [],
            "needs_background": "light"
          }
        }
      ]
    },
    {
      "cell_type": "code",
      "metadata": {
        "id": "6Gt8_hUNApxz"
      },
      "source": [
        "# finding the release months and see if it matters"
      ],
      "execution_count": null,
      "outputs": []
    },
    {
      "cell_type": "code",
      "metadata": {
        "id": "qck7TvQvA33o"
      },
      "source": [
        "rdataset[\"release_month\"] = pd.DatetimeIndex(rdataset[\"release_date\"]).month"
      ],
      "execution_count": null,
      "outputs": []
    },
    {
      "cell_type": "code",
      "metadata": {
        "id": "USQsDgWbBEJH"
      },
      "source": [
        "rdataset[\"release_day\"] = pd.DatetimeIndex(rdataset[\"release_date\"]).weekday"
      ],
      "execution_count": null,
      "outputs": []
    },
    {
      "cell_type": "code",
      "metadata": {
        "colab": {
          "base_uri": "https://localhost:8080/",
          "height": 384
        },
        "id": "PHv4auRABNK9",
        "outputId": "dd986a04-f0e4-461a-f5f5-7b608770ab29"
      },
      "source": [
        "sns.catplot(x=\"release_month\", y = \"revenue\", data = rdataset)\n",
        "plt.show()"
      ],
      "execution_count": null,
      "outputs": [
        {
          "output_type": "display_data",
          "data": {
            "image/png": "[encoded data removed]",
            "text/plain": [
              "<Figure size 360x360 with 1 Axes>"
            ]
          },
          "metadata": {
            "tags": [],
            "needs_background": "light"
          }
        }
      ]
    },
    {
      "cell_type": "code",
      "metadata": {
        "id": "7d05W8kUBZcc"
      },
      "source": [
        "rdataset[\"has_homepage\"] = 1"
      ],
      "execution_count": null,
      "outputs": []
    },
    {
      "cell_type": "code",
      "metadata": {
        "id": "daxRjhZuBzWA"
      },
      "source": [
        "rdataset.loc[rdataset[\"homepage\"].isnull(),\"has_homepage\"] = 0"
      ],
      "execution_count": null,
      "outputs": []
    },
    {
      "cell_type": "code",
      "metadata": {
        "colab": {
          "base_uri": "https://localhost:8080/",
          "height": 384
        },
        "id": "HphFrd8qB9FM",
        "outputId": "a19afec3-909b-4d42-9650-2e9b78a1b03f"
      },
      "source": [
        "sns.catplot(x=\"has_homepage\", y=\"revenue\", data=rdataset)\n",
        "plt.show()"
      ],
      "execution_count": null,
      "outputs": [
        {
          "output_type": "display_data",
          "data": {
            "image/png": "[encoded data removed]",
            "text/plain": [
              "<Figure size 360x360 with 1 Axes>"
            ]
          },
          "metadata": {
            "tags": [],
            "needs_background": "light"
          }
        }
      ]
    },
    {
      "cell_type": "code",
      "metadata": {
        "colab": {
          "base_uri": "https://localhost:8080/"
        },
        "id": "Zy-oJeeRCJVR",
        "outputId": "d96de1d6-067c-4e9d-a7c1-d71b36ad9669"
      },
      "source": [
        "rdataset[\"original_language\"]"
      ],
      "execution_count": null,
      "outputs": [
        {
          "output_type": "execute_result",
          "data": {
            "text/plain": [
              "0       en\n",
              "1       en\n",
              "2       en\n",
              "3       en\n",
              "4       en\n",
              "        ..\n",
              "4775    en\n",
              "4788    en\n",
              "4792    ja\n",
              "4796    en\n",
              "4798    es\n",
              "Name: original_language, Length: 3351, dtype: object"
            ]
          },
          "metadata": {
            "tags": []
          },
          "execution_count": 119
        }
      ]
    },
    {
      "cell_type": "code",
      "metadata": {
        "colab": {
          "base_uri": "https://localhost:8080/"
        },
        "id": "0scVl3TTCsuX",
        "outputId": "6311f85c-503e-4d4d-9ac7-cda71982f6c3"
      },
      "source": [
        "rdataset.columns"
      ],
      "execution_count": null,
      "outputs": [
        {
          "output_type": "execute_result",
          "data": {
            "text/plain": [
              "Index(['budget', 'keywords', 'original_language', 'original_title', 'overview',\n",
              "       'production_companies', 'production_countries', 'revenue', 'runtime',\n",
              "       'spoken_languages', 'status', 'tagline', 'title', 'cast', 'crew',\n",
              "       'release_year', 'nbudget', 'Action', 'Adventure', 'Fantasy',\n",
              "       'Science Fiction', 'Crime', 'Drama', 'Thriller', 'Animation', 'Family',\n",
              "       'Western', 'Comedy', 'Romance', 'Horror', 'Mystery', 'History', 'War',\n",
              "       'Music', 'Documentary', 'Foreign', 'num_genres', 'release_month',\n",
              "       'release_day', 'has_homepage'],\n",
              "      dtype='object')"
            ]
          },
          "metadata": {
            "tags": []
          },
          "execution_count": 123
        }
      ]
    },
    {
      "cell_type": "code",
      "metadata": {
        "id": "-cImy9ICCyE4"
      },
      "source": [
        "rdataset.drop([\"genres\", \"release_date\", \"homepage\"], axis=1, inplace=True)"
      ],
      "execution_count": null,
      "outputs": []
    },
    {
      "cell_type": "code",
      "metadata": {
        "id": "4tPhhrWIC_kA"
      },
      "source": [
        "rdataset.drop(\"keywords\", inplace=True, axis=1)"
      ],
      "execution_count": null,
      "outputs": []
    },
    {
      "cell_type": "code",
      "metadata": {
        "id": "4S7676DWDH83"
      },
      "source": [
        "rdataset.drop(\"tagline\", inplace=True, axis=1)"
      ],
      "execution_count": null,
      "outputs": []
    },
    {
      "cell_type": "code",
      "metadata": {
        "id": "VbKiazO7Dqjs"
      },
      "source": [
        "rdataset.drop(\"original_title\", inplace=True, axis=1)"
      ],
      "execution_count": null,
      "outputs": []
    },
    {
      "cell_type": "code",
      "metadata": {
        "id": "VxCFX3DsD8ru"
      },
      "source": [
        "countries = []\n",
        "for i in rdataset[\"production_countries\"]:\n",
        "  temp = json.loads(i)\n",
        "  for j in temp:\n",
        "    countries.append(j[\"name\"])\n",
        "    "
      ],
      "execution_count": null,
      "outputs": []
    },
    {
      "cell_type": "code",
      "metadata": {
        "id": "7PCIvfeYEFOx"
      },
      "source": [
        "top_10 = Counter(countries).most_common(10)"
      ],
      "execution_count": null,
      "outputs": []
    },
    {
      "cell_type": "code",
      "metadata": {
        "id": "8Dlk83o3EhU2"
      },
      "source": [
        "# I am not sure that I will be able to come up with good prediction using countries"
      ],
      "execution_count": null,
      "outputs": []
    },
    {
      "cell_type": "code",
      "metadata": {
        "colab": {
          "base_uri": "https://localhost:8080/"
        },
        "id": "XC63mg8_GWr4",
        "outputId": "0ba1c611-b8f0-4ced-ffe2-28e47efd6600"
      },
      "source": [
        "top_10"
      ],
      "execution_count": null,
      "outputs": [
        {
          "output_type": "execute_result",
          "data": {
            "text/plain": [
              "[('United States of America', 2998),\n",
              " ('United Kingdom', 453),\n",
              " ('Germany', 238),\n",
              " ('France', 206),\n",
              " ('Canada', 168),\n",
              " ('Australia', 81),\n",
              " ('Spain', 49),\n",
              " ('Italy', 48),\n",
              " ('Japan', 41),\n",
              " ('China', 39)]"
            ]
          },
          "metadata": {
            "tags": []
          },
          "execution_count": 139
        }
      ]
    },
    {
      "cell_type": "code",
      "metadata": {
        "id": "hZgu0eiHFWVN"
      },
      "source": [
        "for i in top_10:\n",
        "  country, _ = i\n",
        "  rdataset[country] = rdataset[\"production_countries\"].apply(lambda x: 1 if country in x else 0)"
      ],
      "execution_count": null,
      "outputs": []
    },
    {
      "cell_type": "code",
      "metadata": {
        "id": "TrTnH6PtHUVe"
      },
      "source": [
        "def num_countries(x):\n",
        "  temp = json.loads(x)\n",
        "  return len(temp)"
      ],
      "execution_count": null,
      "outputs": []
    },
    {
      "cell_type": "code",
      "metadata": {
        "id": "sU--S_iYHhYH"
      },
      "source": [
        "rdataset[\"number_countries\"] = rdataset[\"production_countries\"].apply(num_countries)"
      ],
      "execution_count": null,
      "outputs": []
    },
    {
      "cell_type": "code",
      "metadata": {
        "colab": {
          "base_uri": "https://localhost:8080/",
          "height": 361
        },
        "id": "9UlyRm-1H3Wl",
        "outputId": "3a902635-9459-4829-a93b-c1460cdf1081"
      },
      "source": [
        "rdataset.head(2)"
      ],
      "execution_count": null,
      "outputs": [
        {
          "output_type": "execute_result",
          "data": {
            "text/html": [
              "<div>\n",
              "<style scoped>\n",
              "    .dataframe tbody tr th:only-of-type {\n",
              "        vertical-align: middle;\n",
              "    }\n",
              "\n",
              "    .dataframe tbody tr th {\n",
              "        vertical-align: top;\n",
              "    }\n",
              "\n",
              "    .dataframe thead th {\n",
              "        text-align: right;\n",
              "    }\n",
              "</style>\n",
              "<table border=\"1\" class=\"dataframe\">\n",
              "  <thead>\n",
              "    <tr style=\"text-align: right;\">\n",
              "      <th></th>\n",
              "      <th>budget</th>\n",
              "      <th>original_language</th>\n",
              "      <th>overview</th>\n",
              "      <th>production_companies</th>\n",
              "      <th>production_countries</th>\n",
              "      <th>revenue</th>\n",
              "      <th>runtime</th>\n",
              "      <th>spoken_languages</th>\n",
              "      <th>status</th>\n",
              "      <th>title</th>\n",
              "      <th>cast</th>\n",
              "      <th>crew</th>\n",
              "      <th>release_year</th>\n",
              "      <th>nbudget</th>\n",
              "      <th>Action</th>\n",
              "      <th>Adventure</th>\n",
              "      <th>Fantasy</th>\n",
              "      <th>Science Fiction</th>\n",
              "      <th>Crime</th>\n",
              "      <th>Drama</th>\n",
              "      <th>Thriller</th>\n",
              "      <th>Animation</th>\n",
              "      <th>Family</th>\n",
              "      <th>Western</th>\n",
              "      <th>Comedy</th>\n",
              "      <th>Romance</th>\n",
              "      <th>Horror</th>\n",
              "      <th>Mystery</th>\n",
              "      <th>History</th>\n",
              "      <th>War</th>\n",
              "      <th>Music</th>\n",
              "      <th>Documentary</th>\n",
              "      <th>Foreign</th>\n",
              "      <th>num_genres</th>\n",
              "      <th>release_month</th>\n",
              "      <th>release_day</th>\n",
              "      <th>has_homepage</th>\n",
              "      <th>United States of America</th>\n",
              "      <th>United Kingdom</th>\n",
              "      <th>Germany</th>\n",
              "      <th>France</th>\n",
              "      <th>Canada</th>\n",
              "      <th>Australia</th>\n",
              "      <th>Spain</th>\n",
              "      <th>Italy</th>\n",
              "      <th>Japan</th>\n",
              "      <th>China</th>\n",
              "      <th>number_countries</th>\n",
              "    </tr>\n",
              "  </thead>\n",
              "  <tbody>\n",
              "    <tr>\n",
              "      <th>0</th>\n",
              "      <td>237000000.0</td>\n",
              "      <td>en</td>\n",
              "      <td>In the 22nd century, a paraplegic Marine is di...</td>\n",
              "      <td>[{\"name\": \"Ingenious Film Partners\", \"id\": 289...</td>\n",
              "      <td>[{\"iso_3166_1\": \"US\", \"name\": \"United States o...</td>\n",
              "      <td>2787965087</td>\n",
              "      <td>162.0</td>\n",
              "      <td>[{\"iso_639_1\": \"en\", \"name\": \"English\"}, {\"iso...</td>\n",
              "      <td>Released</td>\n",
              "      <td>Avatar</td>\n",
              "      <td>[{\"cast_id\": 242, \"character\": \"Jake Sully\", \"...</td>\n",
              "      <td>[{\"credit_id\": \"52fe48009251416c750aca23\", \"de...</td>\n",
              "      <td>2009</td>\n",
              "      <td>237000000.0</td>\n",
              "      <td>1</td>\n",
              "      <td>1</td>\n",
              "      <td>1</td>\n",
              "      <td>1</td>\n",
              "      <td>0</td>\n",
              "      <td>0</td>\n",
              "      <td>0</td>\n",
              "      <td>0</td>\n",
              "      <td>0</td>\n",
              "      <td>0</td>\n",
              "      <td>0</td>\n",
              "      <td>0</td>\n",
              "      <td>0</td>\n",
              "      <td>0</td>\n",
              "      <td>0</td>\n",
              "      <td>0</td>\n",
              "      <td>0</td>\n",
              "      <td>0</td>\n",
              "      <td>0</td>\n",
              "      <td>4</td>\n",
              "      <td>12</td>\n",
              "      <td>3</td>\n",
              "      <td>1</td>\n",
              "      <td>1</td>\n",
              "      <td>1</td>\n",
              "      <td>0</td>\n",
              "      <td>0</td>\n",
              "      <td>0</td>\n",
              "      <td>0</td>\n",
              "      <td>0</td>\n",
              "      <td>0</td>\n",
              "      <td>0</td>\n",
              "      <td>0</td>\n",
              "      <td>2</td>\n",
              "    </tr>\n",
              "    <tr>\n",
              "      <th>1</th>\n",
              "      <td>300000000.0</td>\n",
              "      <td>en</td>\n",
              "      <td>Captain Barbossa, long believed to be dead, ha...</td>\n",
              "      <td>[{\"name\": \"Walt Disney Pictures\", \"id\": 2}, {\"...</td>\n",
              "      <td>[{\"iso_3166_1\": \"US\", \"name\": \"United States o...</td>\n",
              "      <td>961000000</td>\n",
              "      <td>169.0</td>\n",
              "      <td>[{\"iso_639_1\": \"en\", \"name\": \"English\"}]</td>\n",
              "      <td>Released</td>\n",
              "      <td>Pirates of the Caribbean: At World's End</td>\n",
              "      <td>[{\"cast_id\": 4, \"character\": \"Captain Jack Spa...</td>\n",
              "      <td>[{\"credit_id\": \"52fe4232c3a36847f800b579\", \"de...</td>\n",
              "      <td>2007</td>\n",
              "      <td>300000000.0</td>\n",
              "      <td>1</td>\n",
              "      <td>1</td>\n",
              "      <td>1</td>\n",
              "      <td>0</td>\n",
              "      <td>0</td>\n",
              "      <td>0</td>\n",
              "      <td>0</td>\n",
              "      <td>0</td>\n",
              "      <td>0</td>\n",
              "      <td>0</td>\n",
              "      <td>0</td>\n",
              "      <td>0</td>\n",
              "      <td>0</td>\n",
              "      <td>0</td>\n",
              "      <td>0</td>\n",
              "      <td>0</td>\n",
              "      <td>0</td>\n",
              "      <td>0</td>\n",
              "      <td>0</td>\n",
              "      <td>3</td>\n",
              "      <td>5</td>\n",
              "      <td>5</td>\n",
              "      <td>1</td>\n",
              "      <td>1</td>\n",
              "      <td>0</td>\n",
              "      <td>0</td>\n",
              "      <td>0</td>\n",
              "      <td>0</td>\n",
              "      <td>0</td>\n",
              "      <td>0</td>\n",
              "      <td>0</td>\n",
              "      <td>0</td>\n",
              "      <td>0</td>\n",
              "      <td>1</td>\n",
              "    </tr>\n",
              "  </tbody>\n",
              "</table>\n",
              "</div>"
            ],
            "text/plain": [
              "        budget original_language  ... China number_countries\n",
              "0  237000000.0                en  ...     0                2\n",
              "1  300000000.0                en  ...     0                1\n",
              "\n",
              "[2 rows x 48 columns]"
            ]
          },
          "metadata": {
            "tags": []
          },
          "execution_count": 145
        }
      ]
    },
    {
      "cell_type": "code",
      "metadata": {
        "id": "6R9OCb3VH4-L"
      },
      "source": [
        "# is there any correlation?"
      ],
      "execution_count": null,
      "outputs": []
    },
    {
      "cell_type": "code",
      "metadata": {
        "colab": {
          "base_uri": "https://localhost:8080/",
          "height": 291
        },
        "id": "G2Rf5GHIIBGV",
        "outputId": "fe6e1dca-4781-45b0-d0da-35f3d3a677f6"
      },
      "source": [
        "sns.lineplot(x=\"number_countries\", y= \"revenue\", data = rdataset)\n",
        "plt.show()"
      ],
      "execution_count": null,
      "outputs": [
        {
          "output_type": "display_data",
          "data": {
            "image/png": "[encoded data removed]",
            "text/plain": [
              "<Figure size 432x288 with 1 Axes>"
            ]
          },
          "metadata": {
            "tags": [],
            "needs_background": "light"
          }
        }
      ]
    },
    {
      "cell_type": "code",
      "metadata": {
        "colab": {
          "base_uri": "https://localhost:8080/"
        },
        "id": "YiDWYV6zIITJ",
        "outputId": "47d5f281-78f5-464b-a87b-902f2e86dc02"
      },
      "source": [
        "# selecting features for training\n",
        "rdataset.columns"
      ],
      "execution_count": null,
      "outputs": [
        {
          "output_type": "execute_result",
          "data": {
            "text/plain": [
              "Index(['budget', 'original_language', 'overview', 'production_companies',\n",
              "       'production_countries', 'revenue', 'runtime', 'spoken_languages',\n",
              "       'status', 'title', 'cast', 'crew', 'release_year', 'nbudget', 'Action',\n",
              "       'Adventure', 'Fantasy', 'Science Fiction', 'Crime', 'Drama', 'Thriller',\n",
              "       'Animation', 'Family', 'Western', 'Comedy', 'Romance', 'Horror',\n",
              "       'Mystery', 'History', 'War', 'Music', 'Documentary', 'Foreign',\n",
              "       'num_genres', 'release_month', 'release_day', 'has_homepage',\n",
              "       'United States of America', 'United Kingdom', 'Germany', 'France',\n",
              "       'Canada', 'Australia', 'Spain', 'Italy', 'Japan', 'China',\n",
              "       'number_countries'],\n",
              "      dtype='object')"
            ]
          },
          "metadata": {
            "tags": []
          },
          "execution_count": 150
        }
      ]
    },
    {
      "cell_type": "code",
      "metadata": {
        "id": "ER1wlZATIi2Q"
      },
      "source": [
        "features = [\"original_language\", \"runtime\", \"release_year\", \"nbudget\", 'Action',\n",
        "       'Adventure', 'Fantasy', 'Science Fiction', 'Crime', 'Drama', 'Thriller',\n",
        "       'Animation', 'Family', 'Western', 'Comedy', 'Romance', 'Horror',\n",
        "       'Mystery', 'History', 'War', 'Music', 'Documentary', 'Foreign',\n",
        "       'num_genres', 'release_month', 'release_day', 'has_homepage']"
      ],
      "execution_count": null,
      "outputs": []
    },
    {
      "cell_type": "code",
      "metadata": {
        "colab": {
          "base_uri": "https://localhost:8080/"
        },
        "id": "VAfjMEU2I5TV",
        "outputId": "8e9022ab-37b3-4fa4-f84e-98f36be08864"
      },
      "source": [
        "features"
      ],
      "execution_count": null,
      "outputs": [
        {
          "output_type": "execute_result",
          "data": {
            "text/plain": [
              "['original_language',\n",
              " 'runtime',\n",
              " 'release_year',\n",
              " 'nbudget',\n",
              " 'Action',\n",
              " 'Adventure',\n",
              " 'Fantasy',\n",
              " 'Science Fiction',\n",
              " 'Crime',\n",
              " 'Drama',\n",
              " 'Thriller',\n",
              " 'Animation',\n",
              " 'Family',\n",
              " 'Western',\n",
              " 'Comedy',\n",
              " 'Romance',\n",
              " 'Horror',\n",
              " 'Mystery',\n",
              " 'History',\n",
              " 'War',\n",
              " 'Music',\n",
              " 'Documentary',\n",
              " 'Foreign',\n",
              " 'num_genres',\n",
              " 'release_month',\n",
              " 'release_day',\n",
              " 'has_homepage']"
            ]
          },
          "metadata": {
            "tags": []
          },
          "execution_count": 192
        }
      ]
    },
    {
      "cell_type": "code",
      "metadata": {
        "id": "ZxjRgxEpI7lC"
      },
      "source": [
        "from sklearn.model_selection import train_test_split\n",
        "X_training, X_test, y_training, y_test = train_test_split(rdataset[features], rdataset[\"revenue\"], test_size = 0.1, shuffle=True)"
      ],
      "execution_count": null,
      "outputs": []
    },
    {
      "cell_type": "code",
      "metadata": {
        "id": "LWriPgnBJSPZ"
      },
      "source": [
        "categorical_features = [\"original_language\", \"release_month\", \"release_day\"]"
      ],
      "execution_count": null,
      "outputs": []
    },
    {
      "cell_type": "code",
      "metadata": {
        "id": "tqkNnn8tJZrz"
      },
      "source": [
        "from catboost import Pool"
      ],
      "execution_count": null,
      "outputs": []
    },
    {
      "cell_type": "code",
      "metadata": {
        "id": "ImJZCpO2Jj55"
      },
      "source": [
        "training_pool = Pool(X_training, label= y_training, cat_features=categorical_features)"
      ],
      "execution_count": null,
      "outputs": []
    },
    {
      "cell_type": "code",
      "metadata": {
        "id": "1_yvL0fbKYBg"
      },
      "source": [
        "from catboost import CatBoostRegressor\n",
        "model = CatBoostRegressor(iterations=1000,\n",
        "                        learning_rate=0.005,\n",
        "                        depth=8,\n",
        "                        l2_leaf_reg=None,\n",
        "                        model_size_reg=None,\n",
        "                        loss_function='RMSE')"
      ],
      "execution_count": null,
      "outputs": []
    },
    {
      "cell_type": "code",
      "metadata": {
        "colab": {
          "base_uri": "https://localhost:8080/"
        },
        "id": "UZ3NyFQXKe2Z",
        "outputId": "64cb25b7-cf07-4e4e-960d-facb76ca599d"
      },
      "source": [
        "model.fit(training_pool)"
      ],
      "execution_count": null,
      "outputs": [
        {
          "output_type": "stream",
          "text": [
            "0:\tlearn: 180780907.9200538\ttotal: 12.5ms\tremaining: 12.5s\n",
            "1:\tlearn: 180371267.0823182\ttotal: 23.2ms\tremaining: 11.6s\n",
            "2:\tlearn: 179983995.6452070\ttotal: 33.7ms\tremaining: 11.2s\n",
            "3:\tlearn: 179568193.3582660\ttotal: 59.7ms\tremaining: 14.9s\n",
            "4:\tlearn: 179168141.5398239\ttotal: 84.2ms\tremaining: 16.8s\n",
            "5:\tlearn: 178736203.0603917\ttotal: 95.1ms\tremaining: 15.8s\n",
            "6:\tlearn: 178359366.0006315\ttotal: 106ms\tremaining: 15s\n",
            "7:\tlearn: 177977774.3728588\ttotal: 117ms\tremaining: 14.5s\n",
            "8:\tlearn: 177599696.0244409\ttotal: 127ms\tremaining: 14s\n",
            "9:\tlearn: 177207891.2392765\ttotal: 134ms\tremaining: 13.3s\n",
            "10:\tlearn: 176818167.0349148\ttotal: 146ms\tremaining: 13.1s\n",
            "11:\tlearn: 176443207.9052286\ttotal: 157ms\tremaining: 12.9s\n",
            "12:\tlearn: 176122202.9892279\ttotal: 160ms\tremaining: 12.1s\n",
            "13:\tlearn: 175767088.1606191\ttotal: 163ms\tremaining: 11.5s\n",
            "14:\tlearn: 175412587.9627968\ttotal: 173ms\tremaining: 11.4s\n",
            "15:\tlearn: 175099688.2919528\ttotal: 184ms\tremaining: 11.3s\n",
            "16:\tlearn: 174756947.4658265\ttotal: 195ms\tremaining: 11.3s\n",
            "17:\tlearn: 174383295.3574811\ttotal: 205ms\tremaining: 11.2s\n",
            "18:\tlearn: 174032500.7308307\ttotal: 220ms\tremaining: 11.3s\n",
            "19:\tlearn: 173666956.9780723\ttotal: 231ms\tremaining: 11.3s\n",
            "20:\tlearn: 173319620.6320087\ttotal: 241ms\tremaining: 11.2s\n",
            "21:\tlearn: 172949011.1310502\ttotal: 252ms\tremaining: 11.2s\n",
            "22:\tlearn: 172578485.0152085\ttotal: 262ms\tremaining: 11.1s\n",
            "23:\tlearn: 172228141.5200335\ttotal: 272ms\tremaining: 11.1s\n",
            "24:\tlearn: 171889637.1699004\ttotal: 285ms\tremaining: 11.1s\n",
            "25:\tlearn: 171519838.6298201\ttotal: 295ms\tremaining: 11.1s\n",
            "26:\tlearn: 171160203.5623075\ttotal: 306ms\tremaining: 11s\n",
            "27:\tlearn: 170847810.5665751\ttotal: 317ms\tremaining: 11s\n",
            "28:\tlearn: 170505954.2748958\ttotal: 327ms\tremaining: 11s\n",
            "29:\tlearn: 170149600.9944223\ttotal: 339ms\tremaining: 10.9s\n",
            "30:\tlearn: 169824847.4754684\ttotal: 349ms\tremaining: 10.9s\n",
            "31:\tlearn: 169499526.0093031\ttotal: 360ms\tremaining: 10.9s\n",
            "32:\tlearn: 169205477.8334705\ttotal: 371ms\tremaining: 10.9s\n",
            "33:\tlearn: 168886626.4323326\ttotal: 382ms\tremaining: 10.9s\n",
            "34:\tlearn: 168549769.3496214\ttotal: 393ms\tremaining: 10.8s\n",
            "35:\tlearn: 168216162.3024569\ttotal: 403ms\tremaining: 10.8s\n",
            "36:\tlearn: 167883742.0054016\ttotal: 417ms\tremaining: 10.9s\n",
            "37:\tlearn: 167571726.6701476\ttotal: 425ms\tremaining: 10.8s\n",
            "38:\tlearn: 167240485.2618668\ttotal: 436ms\tremaining: 10.7s\n",
            "39:\tlearn: 166932218.9582044\ttotal: 447ms\tremaining: 10.7s\n",
            "40:\tlearn: 166603165.0854631\ttotal: 464ms\tremaining: 10.8s\n",
            "41:\tlearn: 166263253.6874742\ttotal: 474ms\tremaining: 10.8s\n",
            "42:\tlearn: 165945435.2051561\ttotal: 485ms\tremaining: 10.8s\n",
            "43:\tlearn: 165648742.9226077\ttotal: 495ms\tremaining: 10.8s\n",
            "44:\tlearn: 165338581.2350434\ttotal: 506ms\tremaining: 10.7s\n",
            "45:\tlearn: 165043271.2492644\ttotal: 516ms\tremaining: 10.7s\n",
            "46:\tlearn: 164729115.4134867\ttotal: 527ms\tremaining: 10.7s\n",
            "47:\tlearn: 164434908.3035691\ttotal: 538ms\tremaining: 10.7s\n",
            "48:\tlearn: 164115861.4647937\ttotal: 548ms\tremaining: 10.6s\n",
            "49:\tlearn: 163789116.4293154\ttotal: 559ms\tremaining: 10.6s\n",
            "50:\tlearn: 163483667.7796858\ttotal: 570ms\tremaining: 10.6s\n",
            "51:\tlearn: 163176890.2760296\ttotal: 580ms\tremaining: 10.6s\n",
            "52:\tlearn: 162871607.9294163\ttotal: 598ms\tremaining: 10.7s\n",
            "53:\tlearn: 162583680.0633601\ttotal: 610ms\tremaining: 10.7s\n",
            "54:\tlearn: 162289237.7030241\ttotal: 621ms\tremaining: 10.7s\n",
            "55:\tlearn: 161999047.1330898\ttotal: 632ms\tremaining: 10.7s\n",
            "56:\tlearn: 161724375.3685106\ttotal: 639ms\tremaining: 10.6s\n",
            "57:\tlearn: 161437340.3699619\ttotal: 649ms\tremaining: 10.5s\n",
            "58:\tlearn: 161157655.6875015\ttotal: 653ms\tremaining: 10.4s\n",
            "59:\tlearn: 160864449.0760742\ttotal: 663ms\tremaining: 10.4s\n",
            "60:\tlearn: 160578571.9453821\ttotal: 674ms\tremaining: 10.4s\n",
            "61:\tlearn: 160336985.6208332\ttotal: 676ms\tremaining: 10.2s\n",
            "62:\tlearn: 160049411.9241340\ttotal: 687ms\tremaining: 10.2s\n",
            "63:\tlearn: 159784574.3139579\ttotal: 697ms\tremaining: 10.2s\n",
            "64:\tlearn: 159493944.6419875\ttotal: 704ms\tremaining: 10.1s\n",
            "65:\tlearn: 159239590.4733962\ttotal: 715ms\tremaining: 10.1s\n",
            "66:\tlearn: 158976077.7864347\ttotal: 725ms\tremaining: 10.1s\n",
            "67:\tlearn: 158677214.3277058\ttotal: 735ms\tremaining: 10.1s\n",
            "68:\tlearn: 158438364.6581462\ttotal: 746ms\tremaining: 10.1s\n",
            "69:\tlearn: 158150639.1263307\ttotal: 758ms\tremaining: 10.1s\n",
            "70:\tlearn: 157891875.0528989\ttotal: 768ms\tremaining: 10.1s\n",
            "71:\tlearn: 157669942.9001730\ttotal: 770ms\tremaining: 9.93s\n",
            "72:\tlearn: 157436185.6048229\ttotal: 772ms\tremaining: 9.81s\n",
            "73:\tlearn: 157171778.6801030\ttotal: 783ms\tremaining: 9.79s\n",
            "74:\tlearn: 156936029.1420003\ttotal: 793ms\tremaining: 9.79s\n",
            "75:\tlearn: 156660083.2152040\ttotal: 804ms\tremaining: 9.78s\n",
            "76:\tlearn: 156399016.4334605\ttotal: 815ms\tremaining: 9.77s\n",
            "77:\tlearn: 156147046.7810235\ttotal: 830ms\tremaining: 9.81s\n",
            "78:\tlearn: 155900197.6887960\ttotal: 839ms\tremaining: 9.79s\n",
            "79:\tlearn: 155649898.3609235\ttotal: 850ms\tremaining: 9.77s\n",
            "80:\tlearn: 155411405.8386456\ttotal: 866ms\tremaining: 9.83s\n",
            "81:\tlearn: 155154480.5721829\ttotal: 878ms\tremaining: 9.82s\n",
            "82:\tlearn: 154892011.5910965\ttotal: 885ms\tremaining: 9.78s\n",
            "83:\tlearn: 154636725.5231065\ttotal: 890ms\tremaining: 9.7s\n",
            "84:\tlearn: 154371989.3571699\ttotal: 900ms\tremaining: 9.69s\n",
            "85:\tlearn: 154118673.2472264\ttotal: 910ms\tremaining: 9.67s\n",
            "86:\tlearn: 153872518.1006590\ttotal: 921ms\tremaining: 9.66s\n",
            "87:\tlearn: 153622740.2426065\ttotal: 932ms\tremaining: 9.66s\n",
            "88:\tlearn: 153392404.3250809\ttotal: 944ms\tremaining: 9.66s\n",
            "89:\tlearn: 153141643.8045181\ttotal: 954ms\tremaining: 9.65s\n",
            "90:\tlearn: 152887478.9093984\ttotal: 965ms\tremaining: 9.64s\n",
            "91:\tlearn: 152638268.3592268\ttotal: 978ms\tremaining: 9.65s\n",
            "92:\tlearn: 152423088.4717929\ttotal: 989ms\tremaining: 9.64s\n",
            "93:\tlearn: 152187545.4221319\ttotal: 1000ms\tremaining: 9.63s\n",
            "94:\tlearn: 151931841.2082949\ttotal: 1.01s\tremaining: 9.63s\n",
            "95:\tlearn: 151699981.4639446\ttotal: 1.02s\tremaining: 9.62s\n",
            "96:\tlearn: 151449564.0304767\ttotal: 1.03s\tremaining: 9.64s\n",
            "97:\tlearn: 151221929.1222846\ttotal: 1.05s\tremaining: 9.63s\n",
            "98:\tlearn: 150976898.1829941\ttotal: 1.06s\tremaining: 9.63s\n",
            "99:\tlearn: 150763942.2874947\ttotal: 1.07s\tremaining: 9.63s\n",
            "100:\tlearn: 150540365.8939970\ttotal: 1.08s\tremaining: 9.64s\n",
            "101:\tlearn: 150338544.2676870\ttotal: 1.09s\tremaining: 9.58s\n",
            "102:\tlearn: 150123481.1598126\ttotal: 1.09s\tremaining: 9.54s\n",
            "103:\tlearn: 149920184.2315683\ttotal: 1.11s\tremaining: 9.53s\n",
            "104:\tlearn: 149693382.7568960\ttotal: 1.11s\tremaining: 9.49s\n",
            "105:\tlearn: 149450651.0090602\ttotal: 1.12s\tremaining: 9.48s\n",
            "106:\tlearn: 149238702.9248269\ttotal: 1.14s\tremaining: 9.48s\n",
            "107:\tlearn: 149019671.8047013\ttotal: 1.15s\tremaining: 9.47s\n",
            "108:\tlearn: 148810090.0259790\ttotal: 1.16s\tremaining: 9.46s\n",
            "109:\tlearn: 148572405.7018817\ttotal: 1.17s\tremaining: 9.45s\n",
            "110:\tlearn: 148342293.9848969\ttotal: 1.18s\tremaining: 9.45s\n",
            "111:\tlearn: 148142239.4036779\ttotal: 1.19s\tremaining: 9.44s\n",
            "112:\tlearn: 147933718.2585340\ttotal: 1.2s\tremaining: 9.44s\n",
            "113:\tlearn: 147721404.1409111\ttotal: 1.21s\tremaining: 9.44s\n",
            "114:\tlearn: 147508389.2612497\ttotal: 1.23s\tremaining: 9.48s\n",
            "115:\tlearn: 147314872.8642643\ttotal: 1.25s\tremaining: 9.49s\n",
            "116:\tlearn: 147084381.8826172\ttotal: 1.26s\tremaining: 9.48s\n",
            "117:\tlearn: 146906146.3074893\ttotal: 1.27s\tremaining: 9.47s\n",
            "118:\tlearn: 146699765.5830386\ttotal: 1.28s\tremaining: 9.47s\n",
            "119:\tlearn: 146490698.0585153\ttotal: 1.29s\tremaining: 9.46s\n",
            "120:\tlearn: 146278959.1200782\ttotal: 1.3s\tremaining: 9.44s\n",
            "121:\tlearn: 146094323.4601754\ttotal: 1.31s\tremaining: 9.4s\n",
            "122:\tlearn: 145898729.2314703\ttotal: 1.31s\tremaining: 9.35s\n",
            "123:\tlearn: 145755182.4612484\ttotal: 1.31s\tremaining: 9.27s\n",
            "124:\tlearn: 145569938.6058599\ttotal: 1.32s\tremaining: 9.27s\n",
            "125:\tlearn: 145383017.1027567\ttotal: 1.33s\tremaining: 9.26s\n",
            "126:\tlearn: 145184211.9370945\ttotal: 1.34s\tremaining: 9.25s\n",
            "127:\tlearn: 145015267.7848562\ttotal: 1.36s\tremaining: 9.24s\n",
            "128:\tlearn: 144846969.8232192\ttotal: 1.36s\tremaining: 9.17s\n",
            "129:\tlearn: 144653376.4997135\ttotal: 1.37s\tremaining: 9.17s\n",
            "130:\tlearn: 144445448.0633716\ttotal: 1.38s\tremaining: 9.16s\n",
            "131:\tlearn: 144309919.9752107\ttotal: 1.38s\tremaining: 9.09s\n",
            "132:\tlearn: 144111332.4412027\ttotal: 1.39s\tremaining: 9.08s\n",
            "133:\tlearn: 143916212.8019747\ttotal: 1.4s\tremaining: 9.07s\n",
            "134:\tlearn: 143717492.5094878\ttotal: 1.41s\tremaining: 9.06s\n",
            "135:\tlearn: 143568814.5472382\ttotal: 1.43s\tremaining: 9.06s\n",
            "136:\tlearn: 143404760.0663683\ttotal: 1.44s\tremaining: 9.06s\n",
            "137:\tlearn: 143223840.9310069\ttotal: 1.45s\tremaining: 9.05s\n",
            "138:\tlearn: 143025281.3504073\ttotal: 1.46s\tremaining: 9.04s\n",
            "139:\tlearn: 142815027.0073070\ttotal: 1.47s\tremaining: 9.03s\n",
            "140:\tlearn: 142653130.4023814\ttotal: 1.47s\tremaining: 8.98s\n",
            "141:\tlearn: 142458151.0656978\ttotal: 1.48s\tremaining: 8.97s\n",
            "142:\tlearn: 142280152.7695534\ttotal: 1.5s\tremaining: 8.96s\n",
            "143:\tlearn: 142120708.8664378\ttotal: 1.5s\tremaining: 8.95s\n",
            "144:\tlearn: 141944677.9564621\ttotal: 1.52s\tremaining: 8.94s\n",
            "145:\tlearn: 141773324.3802743\ttotal: 1.53s\tremaining: 8.93s\n",
            "146:\tlearn: 141591809.2961519\ttotal: 1.54s\tremaining: 8.92s\n",
            "147:\tlearn: 141433940.8160143\ttotal: 1.55s\tremaining: 8.91s\n",
            "148:\tlearn: 141283971.1420028\ttotal: 1.56s\tremaining: 8.91s\n",
            "149:\tlearn: 141166481.3185934\ttotal: 1.56s\tremaining: 8.86s\n",
            "150:\tlearn: 140970951.5527262\ttotal: 1.57s\tremaining: 8.85s\n",
            "151:\tlearn: 140820092.2252497\ttotal: 1.58s\tremaining: 8.84s\n",
            "152:\tlearn: 140645360.9536195\ttotal: 1.59s\tremaining: 8.83s\n",
            "153:\tlearn: 140481573.9927875\ttotal: 1.61s\tremaining: 8.82s\n",
            "154:\tlearn: 140318283.4135563\ttotal: 1.62s\tremaining: 8.85s\n",
            "155:\tlearn: 140138014.8492290\ttotal: 1.64s\tremaining: 8.85s\n",
            "156:\tlearn: 139972286.7666013\ttotal: 1.65s\tremaining: 8.84s\n",
            "157:\tlearn: 139804467.9153240\ttotal: 1.66s\tremaining: 8.83s\n",
            "158:\tlearn: 139657691.4385771\ttotal: 1.66s\tremaining: 8.78s\n",
            "159:\tlearn: 139477525.5390796\ttotal: 1.67s\tremaining: 8.78s\n",
            "160:\tlearn: 139336653.4364725\ttotal: 1.68s\tremaining: 8.74s\n",
            "161:\tlearn: 139177827.1253092\ttotal: 1.69s\tremaining: 8.73s\n",
            "162:\tlearn: 139028853.8452772\ttotal: 1.7s\tremaining: 8.72s\n",
            "163:\tlearn: 138844404.9250950\ttotal: 1.71s\tremaining: 8.71s\n",
            "164:\tlearn: 138712208.4454213\ttotal: 1.71s\tremaining: 8.66s\n",
            "165:\tlearn: 138553933.3501376\ttotal: 1.72s\tremaining: 8.65s\n",
            "166:\tlearn: 138396658.9187933\ttotal: 1.73s\tremaining: 8.64s\n",
            "167:\tlearn: 138266930.7194681\ttotal: 1.74s\tremaining: 8.63s\n",
            "168:\tlearn: 138094127.5404637\ttotal: 1.76s\tremaining: 8.63s\n",
            "169:\tlearn: 137940227.9394549\ttotal: 1.77s\tremaining: 8.63s\n",
            "170:\tlearn: 137782700.1222599\ttotal: 1.78s\tremaining: 8.62s\n",
            "171:\tlearn: 137638750.8972600\ttotal: 1.79s\tremaining: 8.64s\n",
            "172:\tlearn: 137469481.2112505\ttotal: 1.81s\tremaining: 8.64s\n",
            "173:\tlearn: 137330236.6176592\ttotal: 1.81s\tremaining: 8.59s\n",
            "174:\tlearn: 137175251.1056274\ttotal: 1.82s\tremaining: 8.6s\n",
            "175:\tlearn: 136998928.8907254\ttotal: 1.84s\tremaining: 8.64s\n",
            "176:\tlearn: 136850006.8194656\ttotal: 1.85s\tremaining: 8.63s\n",
            "177:\tlearn: 136715996.8418474\ttotal: 1.86s\tremaining: 8.58s\n",
            "178:\tlearn: 136556678.0288315\ttotal: 1.87s\tremaining: 8.58s\n",
            "179:\tlearn: 136388310.0162866\ttotal: 1.88s\tremaining: 8.57s\n",
            "180:\tlearn: 136246117.3240670\ttotal: 1.89s\tremaining: 8.56s\n",
            "181:\tlearn: 136093022.5823642\ttotal: 1.9s\tremaining: 8.55s\n",
            "182:\tlearn: 135946028.1745390\ttotal: 1.91s\tremaining: 8.54s\n",
            "183:\tlearn: 135808513.4912409\ttotal: 1.92s\tremaining: 8.5s\n",
            "184:\tlearn: 135659378.1054967\ttotal: 1.93s\tremaining: 8.49s\n",
            "185:\tlearn: 135521640.8632536\ttotal: 1.94s\tremaining: 8.47s\n",
            "186:\tlearn: 135429091.8336904\ttotal: 1.94s\tremaining: 8.43s\n",
            "187:\tlearn: 135284242.0443814\ttotal: 1.95s\tremaining: 8.42s\n",
            "188:\tlearn: 135151841.0761100\ttotal: 1.96s\tremaining: 8.41s\n",
            "189:\tlearn: 135000099.2167318\ttotal: 1.97s\tremaining: 8.41s\n",
            "190:\tlearn: 134854497.5984842\ttotal: 1.99s\tremaining: 8.41s\n",
            "191:\tlearn: 134710832.2358916\ttotal: 2s\tremaining: 8.4s\n",
            "192:\tlearn: 134563828.2822854\ttotal: 2.01s\tremaining: 8.4s\n",
            "193:\tlearn: 134417007.8909689\ttotal: 2.02s\tremaining: 8.39s\n",
            "194:\tlearn: 134262431.3530544\ttotal: 2.03s\tremaining: 8.39s\n",
            "195:\tlearn: 134136870.1059640\ttotal: 2.04s\tremaining: 8.38s\n",
            "196:\tlearn: 133990392.2893811\ttotal: 2.06s\tremaining: 8.38s\n",
            "197:\tlearn: 133859026.8977394\ttotal: 2.07s\tremaining: 8.38s\n",
            "198:\tlearn: 133730156.0989517\ttotal: 2.08s\tremaining: 8.38s\n",
            "199:\tlearn: 133581928.6118679\ttotal: 2.09s\tremaining: 8.37s\n",
            "200:\tlearn: 133451146.8390543\ttotal: 2.1s\tremaining: 8.37s\n",
            "201:\tlearn: 133303622.7039558\ttotal: 2.12s\tremaining: 8.36s\n",
            "202:\tlearn: 133193292.8887496\ttotal: 2.12s\tremaining: 8.32s\n",
            "203:\tlearn: 133065588.5551849\ttotal: 2.13s\tremaining: 8.31s\n",
            "204:\tlearn: 132929173.6024212\ttotal: 2.14s\tremaining: 8.31s\n",
            "205:\tlearn: 132790163.7222338\ttotal: 2.15s\tremaining: 8.3s\n",
            "206:\tlearn: 132641005.4733940\ttotal: 2.16s\tremaining: 8.29s\n",
            "207:\tlearn: 132507763.9912139\ttotal: 2.18s\tremaining: 8.29s\n",
            "208:\tlearn: 132379315.6900439\ttotal: 2.19s\tremaining: 8.28s\n",
            "209:\tlearn: 132253135.8008605\ttotal: 2.2s\tremaining: 8.27s\n",
            "210:\tlearn: 132128667.0743193\ttotal: 2.21s\tremaining: 8.26s\n",
            "211:\tlearn: 132006250.4205627\ttotal: 2.23s\tremaining: 8.27s\n",
            "212:\tlearn: 131890857.7226831\ttotal: 2.23s\tremaining: 8.26s\n",
            "213:\tlearn: 131775782.1833088\ttotal: 2.25s\tremaining: 8.25s\n",
            "214:\tlearn: 131650331.2744079\ttotal: 2.26s\tremaining: 8.26s\n",
            "215:\tlearn: 131521419.7525872\ttotal: 2.27s\tremaining: 8.25s\n",
            "216:\tlearn: 131401532.2173234\ttotal: 2.28s\tremaining: 8.24s\n",
            "217:\tlearn: 131291144.9260968\ttotal: 2.29s\tremaining: 8.23s\n",
            "218:\tlearn: 131165634.1628347\ttotal: 2.3s\tremaining: 8.21s\n",
            "219:\tlearn: 131035719.8961738\ttotal: 2.31s\tremaining: 8.21s\n",
            "220:\tlearn: 130905016.7547113\ttotal: 2.33s\tremaining: 8.2s\n",
            "221:\tlearn: 130808851.3533263\ttotal: 2.34s\tremaining: 8.2s\n",
            "222:\tlearn: 130677081.1144554\ttotal: 2.35s\tremaining: 8.19s\n",
            "223:\tlearn: 130543346.9593600\ttotal: 2.36s\tremaining: 8.18s\n",
            "224:\tlearn: 130421965.3731454\ttotal: 2.37s\tremaining: 8.17s\n",
            "225:\tlearn: 130289973.6620265\ttotal: 2.38s\tremaining: 8.16s\n",
            "226:\tlearn: 130182744.7996717\ttotal: 2.39s\tremaining: 8.15s\n",
            "227:\tlearn: 130056859.9885170\ttotal: 2.4s\tremaining: 8.15s\n",
            "228:\tlearn: 129938651.6922752\ttotal: 2.42s\tremaining: 8.14s\n",
            "229:\tlearn: 129827729.0611554\ttotal: 2.43s\tremaining: 8.14s\n",
            "230:\tlearn: 129743653.1507324\ttotal: 2.43s\tremaining: 8.1s\n",
            "231:\tlearn: 129618406.9040584\ttotal: 2.44s\tremaining: 8.09s\n",
            "232:\tlearn: 129495782.6367982\ttotal: 2.45s\tremaining: 8.08s\n",
            "233:\tlearn: 129378633.1097873\ttotal: 2.46s\tremaining: 8.07s\n",
            "234:\tlearn: 129271768.0070594\ttotal: 2.48s\tremaining: 8.06s\n",
            "235:\tlearn: 129159155.0546865\ttotal: 2.49s\tremaining: 8.05s\n",
            "236:\tlearn: 129048838.1160341\ttotal: 2.5s\tremaining: 8.04s\n",
            "237:\tlearn: 128948287.5952225\ttotal: 2.51s\tremaining: 8.03s\n",
            "238:\tlearn: 128835267.3567025\ttotal: 2.52s\tremaining: 8.03s\n",
            "239:\tlearn: 128731261.7738440\ttotal: 2.54s\tremaining: 8.03s\n",
            "240:\tlearn: 128608043.6309685\ttotal: 2.55s\tremaining: 8.04s\n",
            "241:\tlearn: 128495689.6729637\ttotal: 2.57s\tremaining: 8.04s\n",
            "242:\tlearn: 128388892.4912886\ttotal: 2.58s\tremaining: 8.03s\n",
            "243:\tlearn: 128268364.8890232\ttotal: 2.59s\tremaining: 8.02s\n",
            "244:\tlearn: 128169210.4881633\ttotal: 2.6s\tremaining: 8.01s\n",
            "245:\tlearn: 128065069.8992368\ttotal: 2.61s\tremaining: 8s\n",
            "246:\tlearn: 127939622.1982948\ttotal: 2.62s\tremaining: 7.98s\n",
            "247:\tlearn: 127827823.2107504\ttotal: 2.63s\tremaining: 7.98s\n",
            "248:\tlearn: 127726855.2352032\ttotal: 2.64s\tremaining: 7.97s\n",
            "249:\tlearn: 127613988.3759860\ttotal: 2.65s\tremaining: 7.96s\n",
            "250:\tlearn: 127503832.2041172\ttotal: 2.66s\tremaining: 7.95s\n",
            "251:\tlearn: 127397855.5793115\ttotal: 2.67s\tremaining: 7.94s\n",
            "252:\tlearn: 127293401.6597445\ttotal: 2.68s\tremaining: 7.93s\n",
            "253:\tlearn: 127201677.9213836\ttotal: 2.7s\tremaining: 7.92s\n",
            "254:\tlearn: 127102325.4215216\ttotal: 2.71s\tremaining: 7.91s\n",
            "255:\tlearn: 126985661.7325346\ttotal: 2.72s\tremaining: 7.9s\n",
            "256:\tlearn: 126870237.7672921\ttotal: 2.73s\tremaining: 7.89s\n",
            "257:\tlearn: 126802257.3995902\ttotal: 2.73s\tremaining: 7.86s\n",
            "258:\tlearn: 126687950.6410585\ttotal: 2.74s\tremaining: 7.85s\n",
            "259:\tlearn: 126568679.9302053\ttotal: 2.75s\tremaining: 7.84s\n",
            "260:\tlearn: 126450285.6025195\ttotal: 2.76s\tremaining: 7.83s\n",
            "261:\tlearn: 126343899.7617214\ttotal: 2.77s\tremaining: 7.82s\n",
            "262:\tlearn: 126240527.8992811\ttotal: 2.79s\tremaining: 7.81s\n",
            "263:\tlearn: 126129886.2241018\ttotal: 2.8s\tremaining: 7.8s\n",
            "264:\tlearn: 126029903.0623399\ttotal: 2.81s\tremaining: 7.79s\n",
            "265:\tlearn: 125935594.9775562\ttotal: 2.83s\tremaining: 7.8s\n",
            "266:\tlearn: 125843097.8912290\ttotal: 2.84s\tremaining: 7.8s\n",
            "267:\tlearn: 125748786.8113253\ttotal: 2.85s\tremaining: 7.79s\n",
            "268:\tlearn: 125639314.8859155\ttotal: 2.86s\tremaining: 7.78s\n",
            "269:\tlearn: 125545061.6278038\ttotal: 2.87s\tremaining: 7.77s\n",
            "270:\tlearn: 125449784.5755670\ttotal: 2.88s\tremaining: 7.76s\n",
            "271:\tlearn: 125350118.5989472\ttotal: 2.9s\tremaining: 7.75s\n",
            "272:\tlearn: 125264490.8557702\ttotal: 2.9s\tremaining: 7.73s\n",
            "273:\tlearn: 125181043.4362807\ttotal: 2.92s\tremaining: 7.73s\n",
            "274:\tlearn: 125094846.5926816\ttotal: 2.93s\tremaining: 7.72s\n",
            "275:\tlearn: 125008366.4245726\ttotal: 2.94s\tremaining: 7.71s\n",
            "276:\tlearn: 124912350.2235119\ttotal: 2.95s\tremaining: 7.71s\n",
            "277:\tlearn: 124810820.8670824\ttotal: 2.96s\tremaining: 7.7s\n",
            "278:\tlearn: 124706798.0162432\ttotal: 2.98s\tremaining: 7.69s\n",
            "279:\tlearn: 124609230.2603257\ttotal: 2.99s\tremaining: 7.68s\n",
            "280:\tlearn: 124515444.3079772\ttotal: 3s\tremaining: 7.67s\n",
            "281:\tlearn: 124413428.3009013\ttotal: 3.01s\tremaining: 7.66s\n",
            "282:\tlearn: 124300943.7983815\ttotal: 3.02s\tremaining: 7.65s\n",
            "283:\tlearn: 124224940.4480327\ttotal: 3.03s\tremaining: 7.64s\n",
            "284:\tlearn: 124152171.5775678\ttotal: 3.03s\tremaining: 7.61s\n",
            "285:\tlearn: 124081811.3449403\ttotal: 3.04s\tremaining: 7.58s\n",
            "286:\tlearn: 123984661.5194147\ttotal: 3.05s\tremaining: 7.58s\n",
            "287:\tlearn: 123883316.4235456\ttotal: 3.06s\tremaining: 7.57s\n",
            "288:\tlearn: 123800890.8740920\ttotal: 3.07s\tremaining: 7.54s\n",
            "289:\tlearn: 123703302.0491264\ttotal: 3.08s\tremaining: 7.54s\n",
            "290:\tlearn: 123615123.7341058\ttotal: 3.09s\tremaining: 7.53s\n",
            "291:\tlearn: 123510650.9841406\ttotal: 3.1s\tremaining: 7.51s\n",
            "292:\tlearn: 123407935.1660708\ttotal: 3.11s\tremaining: 7.5s\n",
            "293:\tlearn: 123339286.4789353\ttotal: 3.11s\tremaining: 7.47s\n",
            "294:\tlearn: 123248613.2055579\ttotal: 3.12s\tremaining: 7.47s\n",
            "295:\tlearn: 123203567.1666481\ttotal: 3.13s\tremaining: 7.43s\n",
            "296:\tlearn: 123108503.3948557\ttotal: 3.14s\tremaining: 7.42s\n",
            "297:\tlearn: 123021957.2100116\ttotal: 3.15s\tremaining: 7.42s\n",
            "298:\tlearn: 122941813.6400617\ttotal: 3.16s\tremaining: 7.41s\n",
            "299:\tlearn: 122857708.8753429\ttotal: 3.17s\tremaining: 7.4s\n",
            "300:\tlearn: 122764357.2637437\ttotal: 3.18s\tremaining: 7.39s\n",
            "301:\tlearn: 122675162.7928938\ttotal: 3.19s\tremaining: 7.38s\n",
            "302:\tlearn: 122599871.4635546\ttotal: 3.2s\tremaining: 7.37s\n",
            "303:\tlearn: 122505199.9528698\ttotal: 3.21s\tremaining: 7.36s\n",
            "304:\tlearn: 122421337.9584126\ttotal: 3.22s\tremaining: 7.35s\n",
            "305:\tlearn: 122333907.0266187\ttotal: 3.23s\tremaining: 7.34s\n",
            "306:\tlearn: 122256890.3638317\ttotal: 3.25s\tremaining: 7.33s\n",
            "307:\tlearn: 122164554.8842809\ttotal: 3.26s\tremaining: 7.33s\n",
            "308:\tlearn: 122097832.7072195\ttotal: 3.27s\tremaining: 7.31s\n",
            "309:\tlearn: 122022032.4168480\ttotal: 3.28s\tremaining: 7.3s\n",
            "310:\tlearn: 121932938.4644291\ttotal: 3.29s\tremaining: 7.28s\n",
            "311:\tlearn: 121843122.9773338\ttotal: 3.3s\tremaining: 7.28s\n",
            "312:\tlearn: 121753893.1632237\ttotal: 3.31s\tremaining: 7.27s\n",
            "313:\tlearn: 121675126.2388114\ttotal: 3.32s\tremaining: 7.25s\n",
            "314:\tlearn: 121598038.1602362\ttotal: 3.33s\tremaining: 7.25s\n",
            "315:\tlearn: 121521818.7907391\ttotal: 3.35s\tremaining: 7.24s\n",
            "316:\tlearn: 121441326.0772105\ttotal: 3.36s\tremaining: 7.23s\n",
            "317:\tlearn: 121345834.7160986\ttotal: 3.37s\tremaining: 7.22s\n",
            "318:\tlearn: 121246313.0593628\ttotal: 3.38s\tremaining: 7.21s\n",
            "319:\tlearn: 121179496.9577568\ttotal: 3.39s\tremaining: 7.21s\n",
            "320:\tlearn: 121105647.2846057\ttotal: 3.4s\tremaining: 7.2s\n",
            "321:\tlearn: 121012300.9837869\ttotal: 3.41s\tremaining: 7.18s\n",
            "322:\tlearn: 120935513.1314235\ttotal: 3.42s\tremaining: 7.18s\n",
            "323:\tlearn: 120857876.0865925\ttotal: 3.44s\tremaining: 7.17s\n",
            "324:\tlearn: 120776583.6586766\ttotal: 3.45s\tremaining: 7.16s\n",
            "325:\tlearn: 120699666.6970885\ttotal: 3.46s\tremaining: 7.15s\n",
            "326:\tlearn: 120623420.0244197\ttotal: 3.47s\tremaining: 7.15s\n",
            "327:\tlearn: 120550328.5933879\ttotal: 3.48s\tremaining: 7.14s\n",
            "328:\tlearn: 120463953.1371397\ttotal: 3.5s\tremaining: 7.13s\n",
            "329:\tlearn: 120383004.6263223\ttotal: 3.51s\tremaining: 7.13s\n",
            "330:\tlearn: 120313906.4734175\ttotal: 3.52s\tremaining: 7.12s\n",
            "331:\tlearn: 120233756.9833201\ttotal: 3.53s\tremaining: 7.1s\n",
            "332:\tlearn: 120197520.3297188\ttotal: 3.53s\tremaining: 7.08s\n",
            "333:\tlearn: 120127021.4103397\ttotal: 3.54s\tremaining: 7.06s\n",
            "334:\tlearn: 120056456.7737668\ttotal: 3.55s\tremaining: 7.05s\n",
            "335:\tlearn: 120008832.6399140\ttotal: 3.56s\tremaining: 7.03s\n",
            "336:\tlearn: 119944133.8960068\ttotal: 3.57s\tremaining: 7.01s\n",
            "337:\tlearn: 119869266.5783724\ttotal: 3.58s\tremaining: 7s\n",
            "338:\tlearn: 119781793.6907623\ttotal: 3.59s\tremaining: 7s\n",
            "339:\tlearn: 119706066.9931936\ttotal: 3.6s\tremaining: 6.99s\n",
            "340:\tlearn: 119628526.8767581\ttotal: 3.61s\tremaining: 6.97s\n",
            "341:\tlearn: 119540780.6620277\ttotal: 3.62s\tremaining: 6.96s\n",
            "342:\tlearn: 119466235.2379193\ttotal: 3.63s\tremaining: 6.95s\n",
            "343:\tlearn: 119397427.6763209\ttotal: 3.64s\tremaining: 6.95s\n",
            "344:\tlearn: 119349093.0883478\ttotal: 3.66s\tremaining: 6.94s\n",
            "345:\tlearn: 119278455.3107083\ttotal: 3.66s\tremaining: 6.92s\n",
            "346:\tlearn: 119206525.8027164\ttotal: 3.68s\tremaining: 6.92s\n",
            "347:\tlearn: 119115764.7315069\ttotal: 3.69s\tremaining: 6.92s\n",
            "348:\tlearn: 119040787.7480493\ttotal: 3.7s\tremaining: 6.91s\n",
            "349:\tlearn: 118987614.6247500\ttotal: 3.71s\tremaining: 6.88s\n",
            "350:\tlearn: 118951552.4668604\ttotal: 3.71s\tremaining: 6.86s\n",
            "351:\tlearn: 118881717.4651444\ttotal: 3.72s\tremaining: 6.84s\n",
            "352:\tlearn: 118843111.2864245\ttotal: 3.72s\tremaining: 6.82s\n",
            "353:\tlearn: 118793073.4256379\ttotal: 3.73s\tremaining: 6.81s\n",
            "354:\tlearn: 118724093.9943867\ttotal: 3.74s\tremaining: 6.8s\n",
            "355:\tlearn: 118663050.5574242\ttotal: 3.75s\tremaining: 6.78s\n",
            "356:\tlearn: 118580466.9048467\ttotal: 3.76s\tremaining: 6.77s\n",
            "357:\tlearn: 118506895.4619669\ttotal: 3.77s\tremaining: 6.76s\n",
            "358:\tlearn: 118468131.0104359\ttotal: 3.77s\tremaining: 6.73s\n",
            "359:\tlearn: 118405517.8666512\ttotal: 3.78s\tremaining: 6.72s\n",
            "360:\tlearn: 118333626.2741549\ttotal: 3.79s\tremaining: 6.71s\n",
            "361:\tlearn: 118278320.0185498\ttotal: 3.81s\tremaining: 6.71s\n",
            "362:\tlearn: 118206650.7898789\ttotal: 3.82s\tremaining: 6.7s\n",
            "363:\tlearn: 118136450.6322799\ttotal: 3.83s\tremaining: 6.69s\n",
            "364:\tlearn: 118054404.1540848\ttotal: 3.84s\tremaining: 6.68s\n",
            "365:\tlearn: 117980943.8230450\ttotal: 3.85s\tremaining: 6.67s\n",
            "366:\tlearn: 117909643.4643266\ttotal: 3.86s\tremaining: 6.66s\n",
            "367:\tlearn: 117827401.1691850\ttotal: 3.87s\tremaining: 6.65s\n",
            "368:\tlearn: 117753471.3635232\ttotal: 3.89s\tremaining: 6.65s\n",
            "369:\tlearn: 117686895.5451552\ttotal: 3.9s\tremaining: 6.64s\n",
            "370:\tlearn: 117616671.3426111\ttotal: 3.91s\tremaining: 6.63s\n",
            "371:\tlearn: 117553631.6636989\ttotal: 3.92s\tremaining: 6.62s\n",
            "372:\tlearn: 117490865.7041513\ttotal: 3.93s\tremaining: 6.61s\n",
            "373:\tlearn: 117441555.3327765\ttotal: 3.94s\tremaining: 6.6s\n",
            "374:\tlearn: 117379574.5884562\ttotal: 3.96s\tremaining: 6.59s\n",
            "375:\tlearn: 117353521.5410585\ttotal: 3.96s\tremaining: 6.57s\n",
            "376:\tlearn: 117274543.2634107\ttotal: 3.97s\tremaining: 6.56s\n",
            "377:\tlearn: 117187175.8895000\ttotal: 3.98s\tremaining: 6.55s\n",
            "378:\tlearn: 117124170.5375773\ttotal: 3.99s\tremaining: 6.54s\n",
            "379:\tlearn: 117060747.7588010\ttotal: 4s\tremaining: 6.53s\n",
            "380:\tlearn: 116996288.1835401\ttotal: 4.01s\tremaining: 6.52s\n",
            "381:\tlearn: 116935492.6880581\ttotal: 4.02s\tremaining: 6.51s\n",
            "382:\tlearn: 116908200.2910085\ttotal: 4.02s\tremaining: 6.48s\n",
            "383:\tlearn: 116848046.3540386\ttotal: 4.04s\tremaining: 6.47s\n",
            "384:\tlearn: 116784597.1855216\ttotal: 4.05s\tremaining: 6.47s\n",
            "385:\tlearn: 116739079.9015030\ttotal: 4.05s\tremaining: 6.45s\n",
            "386:\tlearn: 116661290.0920756\ttotal: 4.06s\tremaining: 6.44s\n",
            "387:\tlearn: 116605814.4131384\ttotal: 4.08s\tremaining: 6.43s\n",
            "388:\tlearn: 116541818.7335253\ttotal: 4.09s\tremaining: 6.42s\n",
            "389:\tlearn: 116475580.5987978\ttotal: 4.1s\tremaining: 6.42s\n",
            "390:\tlearn: 116418753.6453028\ttotal: 4.11s\tremaining: 6.41s\n",
            "391:\tlearn: 116359027.1720560\ttotal: 4.12s\tremaining: 6.39s\n",
            "392:\tlearn: 116295929.0183115\ttotal: 4.13s\tremaining: 6.38s\n",
            "393:\tlearn: 116225288.2782827\ttotal: 4.14s\tremaining: 6.37s\n",
            "394:\tlearn: 116171685.6750762\ttotal: 4.15s\tremaining: 6.36s\n",
            "395:\tlearn: 116098201.8467835\ttotal: 4.17s\tremaining: 6.35s\n",
            "396:\tlearn: 116070271.4993870\ttotal: 4.17s\tremaining: 6.33s\n",
            "397:\tlearn: 116008546.1024774\ttotal: 4.18s\tremaining: 6.32s\n",
            "398:\tlearn: 115948008.1999431\ttotal: 4.19s\tremaining: 6.31s\n",
            "399:\tlearn: 115891865.1864640\ttotal: 4.2s\tremaining: 6.3s\n",
            "400:\tlearn: 115837823.4332350\ttotal: 4.21s\tremaining: 6.29s\n",
            "401:\tlearn: 115779951.0028739\ttotal: 4.22s\tremaining: 6.28s\n",
            "402:\tlearn: 115705703.4049707\ttotal: 4.23s\tremaining: 6.27s\n",
            "403:\tlearn: 115657075.6673476\ttotal: 4.24s\tremaining: 6.26s\n",
            "404:\tlearn: 115601787.5635809\ttotal: 4.25s\tremaining: 6.25s\n",
            "405:\tlearn: 115540737.0216295\ttotal: 4.26s\tremaining: 6.24s\n",
            "406:\tlearn: 115478238.5157843\ttotal: 4.27s\tremaining: 6.23s\n",
            "407:\tlearn: 115410638.4595730\ttotal: 4.29s\tremaining: 6.23s\n",
            "408:\tlearn: 115350856.1347457\ttotal: 4.3s\tremaining: 6.22s\n",
            "409:\tlearn: 115290900.0856282\ttotal: 4.31s\tremaining: 6.21s\n",
            "410:\tlearn: 115246602.2092692\ttotal: 4.32s\tremaining: 6.2s\n",
            "411:\tlearn: 115204141.3130740\ttotal: 4.33s\tremaining: 6.19s\n",
            "412:\tlearn: 115147665.4059899\ttotal: 4.35s\tremaining: 6.18s\n",
            "413:\tlearn: 115088443.6692799\ttotal: 4.36s\tremaining: 6.17s\n",
            "414:\tlearn: 115038807.5943525\ttotal: 4.37s\tremaining: 6.16s\n",
            "415:\tlearn: 115018342.4504036\ttotal: 4.37s\tremaining: 6.13s\n",
            "416:\tlearn: 114954808.0791597\ttotal: 4.38s\tremaining: 6.13s\n",
            "417:\tlearn: 114888006.7126914\ttotal: 4.39s\tremaining: 6.12s\n",
            "418:\tlearn: 114842177.8697320\ttotal: 4.4s\tremaining: 6.11s\n",
            "419:\tlearn: 114791484.0793997\ttotal: 4.42s\tremaining: 6.1s\n",
            "420:\tlearn: 114723832.0545018\ttotal: 4.43s\tremaining: 6.09s\n",
            "421:\tlearn: 114670006.7749165\ttotal: 4.44s\tremaining: 6.08s\n",
            "422:\tlearn: 114598573.5603944\ttotal: 4.45s\tremaining: 6.07s\n",
            "423:\tlearn: 114543377.1873281\ttotal: 4.46s\tremaining: 6.06s\n",
            "424:\tlearn: 114483993.0090999\ttotal: 4.47s\tremaining: 6.05s\n",
            "425:\tlearn: 114415404.6792512\ttotal: 4.48s\tremaining: 6.04s\n",
            "426:\tlearn: 114351415.7907248\ttotal: 4.5s\tremaining: 6.03s\n",
            "427:\tlearn: 114293573.3902046\ttotal: 4.51s\tremaining: 6.02s\n",
            "428:\tlearn: 114232668.1299939\ttotal: 4.52s\tremaining: 6.01s\n",
            "429:\tlearn: 114182041.2721803\ttotal: 4.53s\tremaining: 6.01s\n",
            "430:\tlearn: 114133882.8015482\ttotal: 4.54s\tremaining: 6s\n",
            "431:\tlearn: 114084441.7131021\ttotal: 4.55s\tremaining: 5.99s\n",
            "432:\tlearn: 114023488.5564679\ttotal: 4.57s\tremaining: 5.98s\n",
            "433:\tlearn: 113960941.4187476\ttotal: 4.58s\tremaining: 5.97s\n",
            "434:\tlearn: 113911896.2592336\ttotal: 4.58s\tremaining: 5.95s\n",
            "435:\tlearn: 113859745.3211334\ttotal: 4.59s\tremaining: 5.94s\n",
            "436:\tlearn: 113812836.3581178\ttotal: 4.61s\tremaining: 5.93s\n",
            "437:\tlearn: 113757514.2033036\ttotal: 4.62s\tremaining: 5.92s\n",
            "438:\tlearn: 113701018.1412741\ttotal: 4.63s\tremaining: 5.91s\n",
            "439:\tlearn: 113640156.4506316\ttotal: 4.64s\tremaining: 5.9s\n",
            "440:\tlearn: 113586957.2549399\ttotal: 4.65s\tremaining: 5.89s\n",
            "441:\tlearn: 113536233.6509581\ttotal: 4.66s\tremaining: 5.88s\n",
            "442:\tlearn: 113476251.3564720\ttotal: 4.67s\tremaining: 5.87s\n",
            "443:\tlearn: 113424061.6150179\ttotal: 4.68s\tremaining: 5.86s\n",
            "444:\tlearn: 113359328.9828005\ttotal: 4.7s\tremaining: 5.86s\n",
            "445:\tlearn: 113300507.1127211\ttotal: 4.71s\tremaining: 5.85s\n",
            "446:\tlearn: 113252123.0117008\ttotal: 4.72s\tremaining: 5.84s\n",
            "447:\tlearn: 113188550.5118594\ttotal: 4.73s\tremaining: 5.83s\n",
            "448:\tlearn: 113150252.2512938\ttotal: 4.74s\tremaining: 5.82s\n",
            "449:\tlearn: 113109019.7003819\ttotal: 4.75s\tremaining: 5.81s\n",
            "450:\tlearn: 113064983.7765305\ttotal: 4.76s\tremaining: 5.79s\n",
            "451:\tlearn: 113000264.4490470\ttotal: 4.77s\tremaining: 5.78s\n",
            "452:\tlearn: 112950626.8279316\ttotal: 4.79s\tremaining: 5.79s\n",
            "453:\tlearn: 112910573.2779225\ttotal: 4.8s\tremaining: 5.78s\n",
            "454:\tlearn: 112877749.8189642\ttotal: 4.81s\tremaining: 5.77s\n",
            "455:\tlearn: 112832541.4830347\ttotal: 4.83s\tremaining: 5.76s\n",
            "456:\tlearn: 112781347.0527200\ttotal: 4.84s\tremaining: 5.75s\n",
            "457:\tlearn: 112728527.3183828\ttotal: 4.85s\tremaining: 5.74s\n",
            "458:\tlearn: 112684570.9392696\ttotal: 4.86s\tremaining: 5.73s\n",
            "459:\tlearn: 112641869.7504899\ttotal: 4.87s\tremaining: 5.71s\n",
            "460:\tlearn: 112587719.6370596\ttotal: 4.88s\tremaining: 5.71s\n",
            "461:\tlearn: 112540773.2291418\ttotal: 4.89s\tremaining: 5.7s\n",
            "462:\tlearn: 112484817.8950397\ttotal: 4.91s\tremaining: 5.69s\n",
            "463:\tlearn: 112431183.0704956\ttotal: 4.92s\tremaining: 5.68s\n",
            "464:\tlearn: 112381242.5361409\ttotal: 4.93s\tremaining: 5.67s\n",
            "465:\tlearn: 112332092.6574785\ttotal: 4.94s\tremaining: 5.66s\n",
            "466:\tlearn: 112280223.4320739\ttotal: 4.95s\tremaining: 5.65s\n",
            "467:\tlearn: 112244435.5065170\ttotal: 4.96s\tremaining: 5.64s\n",
            "468:\tlearn: 112188656.9168263\ttotal: 4.97s\tremaining: 5.63s\n",
            "469:\tlearn: 112167473.0703186\ttotal: 4.97s\tremaining: 5.61s\n",
            "470:\tlearn: 112118452.5729907\ttotal: 4.99s\tremaining: 5.6s\n",
            "471:\tlearn: 112076595.5916591\ttotal: 5s\tremaining: 5.59s\n",
            "472:\tlearn: 112035942.0278520\ttotal: 5s\tremaining: 5.58s\n",
            "473:\tlearn: 111991528.0409734\ttotal: 5.02s\tremaining: 5.57s\n",
            "474:\tlearn: 111949875.9620677\ttotal: 5.03s\tremaining: 5.56s\n",
            "475:\tlearn: 111901436.3451835\ttotal: 5.04s\tremaining: 5.55s\n",
            "476:\tlearn: 111853395.6319001\ttotal: 5.05s\tremaining: 5.54s\n",
            "477:\tlearn: 111815726.7948705\ttotal: 5.07s\tremaining: 5.53s\n",
            "478:\tlearn: 111764243.8877902\ttotal: 5.08s\tremaining: 5.52s\n",
            "479:\tlearn: 111719959.7967261\ttotal: 5.09s\tremaining: 5.51s\n",
            "480:\tlearn: 111697566.5281742\ttotal: 5.09s\tremaining: 5.5s\n",
            "481:\tlearn: 111635479.2214994\ttotal: 5.11s\tremaining: 5.49s\n",
            "482:\tlearn: 111609282.1329698\ttotal: 5.11s\tremaining: 5.47s\n",
            "483:\tlearn: 111559160.7520383\ttotal: 5.12s\tremaining: 5.46s\n",
            "484:\tlearn: 111508635.0391040\ttotal: 5.13s\tremaining: 5.45s\n",
            "485:\tlearn: 111461994.2728059\ttotal: 5.14s\tremaining: 5.44s\n",
            "486:\tlearn: 111419030.8800326\ttotal: 5.16s\tremaining: 5.43s\n",
            "487:\tlearn: 111382058.5984910\ttotal: 5.17s\tremaining: 5.42s\n",
            "488:\tlearn: 111340106.4443646\ttotal: 5.18s\tremaining: 5.41s\n",
            "489:\tlearn: 111298035.8146271\ttotal: 5.19s\tremaining: 5.4s\n",
            "490:\tlearn: 111251524.0077398\ttotal: 5.2s\tremaining: 5.39s\n",
            "491:\tlearn: 111200936.4879022\ttotal: 5.21s\tremaining: 5.38s\n",
            "492:\tlearn: 111142370.7208872\ttotal: 5.22s\tremaining: 5.37s\n",
            "493:\tlearn: 111085238.0191216\ttotal: 5.23s\tremaining: 5.36s\n",
            "494:\tlearn: 111055346.2834771\ttotal: 5.24s\tremaining: 5.35s\n",
            "495:\tlearn: 111010650.6629538\ttotal: 5.25s\tremaining: 5.34s\n",
            "496:\tlearn: 110969062.0301371\ttotal: 5.26s\tremaining: 5.33s\n",
            "497:\tlearn: 110924546.5007546\ttotal: 5.28s\tremaining: 5.32s\n",
            "498:\tlearn: 110904118.1767310\ttotal: 5.28s\tremaining: 5.3s\n",
            "499:\tlearn: 110847450.3418719\ttotal: 5.29s\tremaining: 5.29s\n",
            "500:\tlearn: 110803390.4580888\ttotal: 5.31s\tremaining: 5.29s\n",
            "501:\tlearn: 110760274.8857137\ttotal: 5.32s\tremaining: 5.28s\n",
            "502:\tlearn: 110710351.7696342\ttotal: 5.33s\tremaining: 5.27s\n",
            "503:\tlearn: 110669439.2480777\ttotal: 5.34s\tremaining: 5.26s\n",
            "504:\tlearn: 110623035.0668528\ttotal: 5.35s\tremaining: 5.25s\n",
            "505:\tlearn: 110578407.0698565\ttotal: 5.37s\tremaining: 5.24s\n",
            "506:\tlearn: 110551805.7447069\ttotal: 5.37s\tremaining: 5.22s\n",
            "507:\tlearn: 110491857.7077563\ttotal: 5.38s\tremaining: 5.21s\n",
            "508:\tlearn: 110475508.5455600\ttotal: 5.38s\tremaining: 5.19s\n",
            "509:\tlearn: 110437760.9066303\ttotal: 5.39s\tremaining: 5.18s\n",
            "510:\tlearn: 110380401.5959704\ttotal: 5.4s\tremaining: 5.17s\n",
            "511:\tlearn: 110341236.6410470\ttotal: 5.41s\tremaining: 5.16s\n",
            "512:\tlearn: 110289525.2369160\ttotal: 5.42s\tremaining: 5.15s\n",
            "513:\tlearn: 110249534.6974493\ttotal: 5.43s\tremaining: 5.14s\n",
            "514:\tlearn: 110193570.1831599\ttotal: 5.45s\tremaining: 5.13s\n",
            "515:\tlearn: 110143644.4531845\ttotal: 5.46s\tremaining: 5.12s\n",
            "516:\tlearn: 110100288.2388796\ttotal: 5.47s\tremaining: 5.11s\n",
            "517:\tlearn: 110052376.1827533\ttotal: 5.48s\tremaining: 5.1s\n",
            "518:\tlearn: 110001207.6096381\ttotal: 5.49s\tremaining: 5.09s\n",
            "519:\tlearn: 109957290.3934059\ttotal: 5.5s\tremaining: 5.08s\n",
            "520:\tlearn: 109920487.4698962\ttotal: 5.51s\tremaining: 5.07s\n",
            "521:\tlearn: 109874177.2444931\ttotal: 5.53s\tremaining: 5.06s\n",
            "522:\tlearn: 109821647.3239808\ttotal: 5.54s\tremaining: 5.05s\n",
            "523:\tlearn: 109778998.2226631\ttotal: 5.55s\tremaining: 5.04s\n",
            "524:\tlearn: 109734636.1652810\ttotal: 5.56s\tremaining: 5.03s\n",
            "525:\tlearn: 109713989.4465869\ttotal: 5.56s\tremaining: 5.01s\n",
            "526:\tlearn: 109669766.2902676\ttotal: 5.57s\tremaining: 5s\n",
            "527:\tlearn: 109627471.0296086\ttotal: 5.58s\tremaining: 4.99s\n",
            "528:\tlearn: 109591948.7624936\ttotal: 5.59s\tremaining: 4.98s\n",
            "529:\tlearn: 109548035.9835447\ttotal: 5.6s\tremaining: 4.97s\n",
            "530:\tlearn: 109504335.5369932\ttotal: 5.61s\tremaining: 4.96s\n",
            "531:\tlearn: 109460744.3204246\ttotal: 5.62s\tremaining: 4.95s\n",
            "532:\tlearn: 109405517.8743550\ttotal: 5.64s\tremaining: 4.94s\n",
            "533:\tlearn: 109368549.8435665\ttotal: 5.65s\tremaining: 4.93s\n",
            "534:\tlearn: 109330363.0826605\ttotal: 5.66s\tremaining: 4.92s\n",
            "535:\tlearn: 109288702.4857133\ttotal: 5.67s\tremaining: 4.91s\n",
            "536:\tlearn: 109251678.2562359\ttotal: 5.68s\tremaining: 4.9s\n",
            "537:\tlearn: 109208544.0573609\ttotal: 5.69s\tremaining: 4.89s\n",
            "538:\tlearn: 109191163.4797007\ttotal: 5.69s\tremaining: 4.87s\n",
            "539:\tlearn: 109181164.2679114\ttotal: 5.7s\tremaining: 4.85s\n",
            "540:\tlearn: 109133904.2215303\ttotal: 5.71s\tremaining: 4.84s\n",
            "541:\tlearn: 109084345.2016708\ttotal: 5.72s\tremaining: 4.84s\n",
            "542:\tlearn: 109039511.4985447\ttotal: 5.74s\tremaining: 4.83s\n",
            "543:\tlearn: 108975928.0347623\ttotal: 5.75s\tremaining: 4.82s\n",
            "544:\tlearn: 108953819.9476396\ttotal: 5.75s\tremaining: 4.8s\n",
            "545:\tlearn: 108919767.4238621\ttotal: 5.76s\tremaining: 4.79s\n",
            "546:\tlearn: 108881297.6651172\ttotal: 5.78s\tremaining: 4.79s\n",
            "547:\tlearn: 108860611.6801979\ttotal: 5.79s\tremaining: 4.78s\n",
            "548:\tlearn: 108816242.0682373\ttotal: 5.8s\tremaining: 4.77s\n",
            "549:\tlearn: 108760442.5435622\ttotal: 5.81s\tremaining: 4.76s\n",
            "550:\tlearn: 108724220.7309337\ttotal: 5.82s\tremaining: 4.74s\n",
            "551:\tlearn: 108685554.7371823\ttotal: 5.83s\tremaining: 4.73s\n",
            "552:\tlearn: 108648362.0138722\ttotal: 5.84s\tremaining: 4.72s\n",
            "553:\tlearn: 108596068.7758462\ttotal: 5.85s\tremaining: 4.71s\n",
            "554:\tlearn: 108556828.1715416\ttotal: 5.86s\tremaining: 4.7s\n",
            "555:\tlearn: 108510103.8455347\ttotal: 5.87s\tremaining: 4.69s\n",
            "556:\tlearn: 108475555.0312267\ttotal: 5.89s\tremaining: 4.68s\n",
            "557:\tlearn: 108447228.9701337\ttotal: 5.9s\tremaining: 4.67s\n",
            "558:\tlearn: 108388050.7100820\ttotal: 5.91s\tremaining: 4.66s\n",
            "559:\tlearn: 108338885.2893260\ttotal: 5.92s\tremaining: 4.65s\n",
            "560:\tlearn: 108297629.6040642\ttotal: 5.94s\tremaining: 4.64s\n",
            "561:\tlearn: 108259951.9663962\ttotal: 5.95s\tremaining: 4.63s\n",
            "562:\tlearn: 108225830.6111280\ttotal: 5.96s\tremaining: 4.63s\n",
            "563:\tlearn: 108204905.2025715\ttotal: 5.97s\tremaining: 4.61s\n",
            "564:\tlearn: 108167963.5341722\ttotal: 5.98s\tremaining: 4.6s\n",
            "565:\tlearn: 108131758.0994084\ttotal: 5.99s\tremaining: 4.59s\n",
            "566:\tlearn: 108083197.4510651\ttotal: 6s\tremaining: 4.58s\n",
            "567:\tlearn: 108047221.7900506\ttotal: 6.01s\tremaining: 4.57s\n",
            "568:\tlearn: 107992521.9735640\ttotal: 6.02s\tremaining: 4.56s\n",
            "569:\tlearn: 107961052.6036934\ttotal: 6.03s\tremaining: 4.55s\n",
            "570:\tlearn: 107918347.2583322\ttotal: 6.04s\tremaining: 4.54s\n",
            "571:\tlearn: 107887532.8580789\ttotal: 6.05s\tremaining: 4.53s\n",
            "572:\tlearn: 107863071.3138518\ttotal: 6.06s\tremaining: 4.52s\n",
            "573:\tlearn: 107837032.7082395\ttotal: 6.07s\tremaining: 4.51s\n",
            "574:\tlearn: 107792714.9938579\ttotal: 6.08s\tremaining: 4.5s\n",
            "575:\tlearn: 107747070.0148721\ttotal: 6.09s\tremaining: 4.49s\n",
            "576:\tlearn: 107712453.2616434\ttotal: 6.11s\tremaining: 4.48s\n",
            "577:\tlearn: 107679824.0327862\ttotal: 6.12s\tremaining: 4.47s\n",
            "578:\tlearn: 107638144.6840951\ttotal: 6.13s\tremaining: 4.46s\n",
            "579:\tlearn: 107588574.6877005\ttotal: 6.14s\tremaining: 4.45s\n",
            "580:\tlearn: 107557497.9381381\ttotal: 6.16s\tremaining: 4.44s\n",
            "581:\tlearn: 107524334.4459819\ttotal: 6.17s\tremaining: 4.43s\n",
            "582:\tlearn: 107495630.0398085\ttotal: 6.17s\tremaining: 4.42s\n",
            "583:\tlearn: 107455683.9468424\ttotal: 6.19s\tremaining: 4.41s\n",
            "584:\tlearn: 107413499.3328422\ttotal: 6.2s\tremaining: 4.4s\n",
            "585:\tlearn: 107383533.2505790\ttotal: 6.21s\tremaining: 4.39s\n",
            "586:\tlearn: 107353350.9297058\ttotal: 6.22s\tremaining: 4.38s\n",
            "587:\tlearn: 107321992.9042546\ttotal: 6.23s\tremaining: 4.37s\n",
            "588:\tlearn: 107291503.5170871\ttotal: 6.24s\tremaining: 4.36s\n",
            "589:\tlearn: 107245651.5095851\ttotal: 6.25s\tremaining: 4.35s\n",
            "590:\tlearn: 107205778.2181706\ttotal: 6.26s\tremaining: 4.33s\n",
            "591:\tlearn: 107166299.5210104\ttotal: 6.28s\tremaining: 4.33s\n",
            "592:\tlearn: 107138917.6788735\ttotal: 6.28s\tremaining: 4.31s\n",
            "593:\tlearn: 107115702.1127269\ttotal: 6.29s\tremaining: 4.3s\n",
            "594:\tlearn: 107083152.5244308\ttotal: 6.3s\tremaining: 4.29s\n",
            "595:\tlearn: 107054289.8977783\ttotal: 6.32s\tremaining: 4.28s\n",
            "596:\tlearn: 107016772.7153448\ttotal: 6.33s\tremaining: 4.27s\n",
            "597:\tlearn: 106984128.6522467\ttotal: 6.34s\tremaining: 4.26s\n",
            "598:\tlearn: 106933425.4093658\ttotal: 6.35s\tremaining: 4.25s\n",
            "599:\tlearn: 106896142.3610398\ttotal: 6.36s\tremaining: 4.24s\n",
            "600:\tlearn: 106861230.9774103\ttotal: 6.37s\tremaining: 4.23s\n",
            "601:\tlearn: 106818837.1438237\ttotal: 6.38s\tremaining: 4.22s\n",
            "602:\tlearn: 106791815.9962070\ttotal: 6.4s\tremaining: 4.21s\n",
            "603:\tlearn: 106750862.1741052\ttotal: 6.41s\tremaining: 4.2s\n",
            "604:\tlearn: 106720973.5767177\ttotal: 6.42s\tremaining: 4.19s\n",
            "605:\tlearn: 106697044.1546893\ttotal: 6.43s\tremaining: 4.18s\n",
            "606:\tlearn: 106654780.9395172\ttotal: 6.44s\tremaining: 4.17s\n",
            "607:\tlearn: 106617273.0757867\ttotal: 6.45s\tremaining: 4.16s\n",
            "608:\tlearn: 106587743.9018440\ttotal: 6.46s\tremaining: 4.15s\n",
            "609:\tlearn: 106571571.2304472\ttotal: 6.47s\tremaining: 4.14s\n",
            "610:\tlearn: 106554977.1960939\ttotal: 6.48s\tremaining: 4.13s\n",
            "611:\tlearn: 106527890.0938957\ttotal: 6.49s\tremaining: 4.11s\n",
            "612:\tlearn: 106501908.5943816\ttotal: 6.5s\tremaining: 4.1s\n",
            "613:\tlearn: 106476812.9065946\ttotal: 6.5s\tremaining: 4.09s\n",
            "614:\tlearn: 106432470.5878148\ttotal: 6.52s\tremaining: 4.08s\n",
            "615:\tlearn: 106410934.5493107\ttotal: 6.54s\tremaining: 4.07s\n",
            "616:\tlearn: 106392435.9090422\ttotal: 6.55s\tremaining: 4.06s\n",
            "617:\tlearn: 106378158.5087627\ttotal: 6.55s\tremaining: 4.05s\n",
            "618:\tlearn: 106331977.6037608\ttotal: 6.56s\tremaining: 4.04s\n",
            "619:\tlearn: 106306091.0598808\ttotal: 6.57s\tremaining: 4.03s\n",
            "620:\tlearn: 106277946.0420678\ttotal: 6.58s\tremaining: 4.02s\n",
            "621:\tlearn: 106245125.3293612\ttotal: 6.59s\tremaining: 4s\n",
            "622:\tlearn: 106211432.9254024\ttotal: 6.6s\tremaining: 4s\n",
            "623:\tlearn: 106171273.1721221\ttotal: 6.61s\tremaining: 3.98s\n",
            "624:\tlearn: 106124347.5878626\ttotal: 6.62s\tremaining: 3.97s\n",
            "625:\tlearn: 106092804.8799824\ttotal: 6.63s\tremaining: 3.96s\n",
            "626:\tlearn: 106058503.7244575\ttotal: 6.64s\tremaining: 3.95s\n",
            "627:\tlearn: 106011945.4008210\ttotal: 6.66s\tremaining: 3.94s\n",
            "628:\tlearn: 105988007.9606539\ttotal: 6.67s\tremaining: 3.93s\n",
            "629:\tlearn: 105939462.0156197\ttotal: 6.68s\tremaining: 3.92s\n",
            "630:\tlearn: 105912527.2620425\ttotal: 6.69s\tremaining: 3.91s\n",
            "631:\tlearn: 105886851.3231698\ttotal: 6.7s\tremaining: 3.9s\n",
            "632:\tlearn: 105852470.7180642\ttotal: 6.71s\tremaining: 3.89s\n",
            "633:\tlearn: 105831765.3958084\ttotal: 6.73s\tremaining: 3.88s\n",
            "634:\tlearn: 105804903.3956018\ttotal: 6.74s\tremaining: 3.87s\n",
            "635:\tlearn: 105786601.1025467\ttotal: 6.75s\tremaining: 3.87s\n",
            "636:\tlearn: 105758328.8052783\ttotal: 6.77s\tremaining: 3.86s\n",
            "637:\tlearn: 105736374.9782586\ttotal: 6.78s\tremaining: 3.85s\n",
            "638:\tlearn: 105709947.6021286\ttotal: 6.79s\tremaining: 3.84s\n",
            "639:\tlearn: 105677887.5135266\ttotal: 6.8s\tremaining: 3.83s\n",
            "640:\tlearn: 105649306.3592501\ttotal: 6.81s\tremaining: 3.82s\n",
            "641:\tlearn: 105609616.5239039\ttotal: 6.83s\tremaining: 3.81s\n",
            "642:\tlearn: 105572096.3420693\ttotal: 6.84s\tremaining: 3.8s\n",
            "643:\tlearn: 105540520.8699749\ttotal: 6.86s\tremaining: 3.79s\n",
            "644:\tlearn: 105509310.1292251\ttotal: 6.87s\tremaining: 3.78s\n",
            "645:\tlearn: 105500393.5601504\ttotal: 6.87s\tremaining: 3.76s\n",
            "646:\tlearn: 105457603.1369302\ttotal: 6.88s\tremaining: 3.75s\n",
            "647:\tlearn: 105417607.3751183\ttotal: 6.89s\tremaining: 3.74s\n",
            "648:\tlearn: 105385570.9230702\ttotal: 6.9s\tremaining: 3.73s\n",
            "649:\tlearn: 105377991.5711418\ttotal: 6.9s\tremaining: 3.72s\n",
            "650:\tlearn: 105369488.1624684\ttotal: 6.92s\tremaining: 3.71s\n",
            "651:\tlearn: 105332214.8520796\ttotal: 6.93s\tremaining: 3.7s\n",
            "652:\tlearn: 105305000.7435014\ttotal: 6.94s\tremaining: 3.69s\n",
            "653:\tlearn: 105272705.2838016\ttotal: 6.95s\tremaining: 3.68s\n",
            "654:\tlearn: 105242326.2426843\ttotal: 6.96s\tremaining: 3.67s\n",
            "655:\tlearn: 105204149.5620914\ttotal: 6.97s\tremaining: 3.66s\n",
            "656:\tlearn: 105177769.1911182\ttotal: 6.99s\tremaining: 3.65s\n",
            "657:\tlearn: 105153384.0501878\ttotal: 7s\tremaining: 3.64s\n",
            "658:\tlearn: 105130627.0942124\ttotal: 7.01s\tremaining: 3.63s\n",
            "659:\tlearn: 105102286.6594709\ttotal: 7.02s\tremaining: 3.62s\n",
            "660:\tlearn: 105063579.8212625\ttotal: 7.03s\tremaining: 3.6s\n",
            "661:\tlearn: 105057499.4310052\ttotal: 7.03s\tremaining: 3.59s\n",
            "662:\tlearn: 105040995.2021926\ttotal: 7.03s\tremaining: 3.58s\n",
            "663:\tlearn: 105012786.7564175\ttotal: 7.04s\tremaining: 3.56s\n",
            "664:\tlearn: 104987020.3381148\ttotal: 7.05s\tremaining: 3.55s\n",
            "665:\tlearn: 104952825.3721297\ttotal: 7.07s\tremaining: 3.54s\n",
            "666:\tlearn: 104915691.6473434\ttotal: 7.08s\tremaining: 3.53s\n",
            "667:\tlearn: 104895183.4014268\ttotal: 7.08s\tremaining: 3.52s\n",
            "668:\tlearn: 104846188.8152592\ttotal: 7.09s\tremaining: 3.51s\n",
            "669:\tlearn: 104801612.4041868\ttotal: 7.1s\tremaining: 3.5s\n",
            "670:\tlearn: 104772391.7309131\ttotal: 7.11s\tremaining: 3.49s\n",
            "671:\tlearn: 104744212.3345278\ttotal: 7.13s\tremaining: 3.48s\n",
            "672:\tlearn: 104718203.1516118\ttotal: 7.14s\tremaining: 3.47s\n",
            "673:\tlearn: 104681641.2769235\ttotal: 7.15s\tremaining: 3.46s\n",
            "674:\tlearn: 104668060.5761657\ttotal: 7.17s\tremaining: 3.45s\n",
            "675:\tlearn: 104646451.7306860\ttotal: 7.17s\tremaining: 3.44s\n",
            "676:\tlearn: 104619307.3991019\ttotal: 7.19s\tremaining: 3.43s\n",
            "677:\tlearn: 104605210.7411795\ttotal: 7.2s\tremaining: 3.42s\n",
            "678:\tlearn: 104561393.8723565\ttotal: 7.21s\tremaining: 3.41s\n",
            "679:\tlearn: 104531548.1161864\ttotal: 7.22s\tremaining: 3.4s\n",
            "680:\tlearn: 104497834.1831037\ttotal: 7.23s\tremaining: 3.39s\n",
            "681:\tlearn: 104469460.9530003\ttotal: 7.24s\tremaining: 3.38s\n",
            "682:\tlearn: 104428428.5767260\ttotal: 7.25s\tremaining: 3.37s\n",
            "683:\tlearn: 104401053.7366016\ttotal: 7.26s\tremaining: 3.35s\n",
            "684:\tlearn: 104384435.1945377\ttotal: 7.27s\tremaining: 3.35s\n",
            "685:\tlearn: 104366071.1050470\ttotal: 7.29s\tremaining: 3.33s\n",
            "686:\tlearn: 104345388.8792913\ttotal: 7.3s\tremaining: 3.33s\n",
            "687:\tlearn: 104321753.5243306\ttotal: 7.31s\tremaining: 3.31s\n",
            "688:\tlearn: 104298802.6276108\ttotal: 7.32s\tremaining: 3.3s\n",
            "689:\tlearn: 104267807.9953821\ttotal: 7.33s\tremaining: 3.29s\n",
            "690:\tlearn: 104232560.9605682\ttotal: 7.35s\tremaining: 3.29s\n",
            "691:\tlearn: 104198666.4552680\ttotal: 7.36s\tremaining: 3.27s\n",
            "692:\tlearn: 104165314.0589720\ttotal: 7.37s\tremaining: 3.26s\n",
            "693:\tlearn: 104136532.1248639\ttotal: 7.38s\tremaining: 3.25s\n",
            "694:\tlearn: 104119643.5288551\ttotal: 7.39s\tremaining: 3.24s\n",
            "695:\tlearn: 104087176.6271791\ttotal: 7.4s\tremaining: 3.23s\n",
            "696:\tlearn: 104052472.7691430\ttotal: 7.41s\tremaining: 3.22s\n",
            "697:\tlearn: 104027271.2671452\ttotal: 7.42s\tremaining: 3.21s\n",
            "698:\tlearn: 104007150.0499746\ttotal: 7.43s\tremaining: 3.2s\n",
            "699:\tlearn: 103965927.1170713\ttotal: 7.45s\tremaining: 3.19s\n",
            "700:\tlearn: 103939249.5838656\ttotal: 7.46s\tremaining: 3.18s\n",
            "701:\tlearn: 103921607.2976142\ttotal: 7.46s\tremaining: 3.17s\n",
            "702:\tlearn: 103891792.6411884\ttotal: 7.47s\tremaining: 3.16s\n",
            "703:\tlearn: 103867101.0263865\ttotal: 7.48s\tremaining: 3.15s\n",
            "704:\tlearn: 103840278.8583982\ttotal: 7.49s\tremaining: 3.13s\n",
            "705:\tlearn: 103811350.9038126\ttotal: 7.5s\tremaining: 3.12s\n",
            "706:\tlearn: 103778370.3139547\ttotal: 7.51s\tremaining: 3.11s\n",
            "707:\tlearn: 103732403.6524306\ttotal: 7.52s\tremaining: 3.1s\n",
            "708:\tlearn: 103705243.7460375\ttotal: 7.54s\tremaining: 3.09s\n",
            "709:\tlearn: 103675522.9668996\ttotal: 7.55s\tremaining: 3.08s\n",
            "710:\tlearn: 103646405.7873563\ttotal: 7.56s\tremaining: 3.07s\n",
            "711:\tlearn: 103614759.8245376\ttotal: 7.57s\tremaining: 3.06s\n",
            "712:\tlearn: 103591628.9408892\ttotal: 7.58s\tremaining: 3.05s\n",
            "713:\tlearn: 103582235.2547676\ttotal: 7.59s\tremaining: 3.04s\n",
            "714:\tlearn: 103555171.8780783\ttotal: 7.6s\tremaining: 3.03s\n",
            "715:\tlearn: 103545387.2041260\ttotal: 7.6s\tremaining: 3.02s\n",
            "716:\tlearn: 103503237.4855406\ttotal: 7.61s\tremaining: 3s\n",
            "717:\tlearn: 103473819.5430752\ttotal: 7.62s\tremaining: 2.99s\n",
            "718:\tlearn: 103454417.8534646\ttotal: 7.63s\tremaining: 2.98s\n",
            "719:\tlearn: 103433462.4258551\ttotal: 7.65s\tremaining: 2.97s\n",
            "720:\tlearn: 103404903.2388437\ttotal: 7.66s\tremaining: 2.96s\n",
            "721:\tlearn: 103380839.8054423\ttotal: 7.67s\tremaining: 2.95s\n",
            "722:\tlearn: 103337718.2907224\ttotal: 7.68s\tremaining: 2.94s\n",
            "723:\tlearn: 103301626.1353257\ttotal: 7.69s\tremaining: 2.93s\n",
            "724:\tlearn: 103282793.7284517\ttotal: 7.7s\tremaining: 2.92s\n",
            "725:\tlearn: 103264738.1296735\ttotal: 7.71s\tremaining: 2.91s\n",
            "726:\tlearn: 103233585.1089302\ttotal: 7.72s\tremaining: 2.9s\n",
            "727:\tlearn: 103205554.1173456\ttotal: 7.74s\tremaining: 2.89s\n",
            "728:\tlearn: 103175517.5190749\ttotal: 7.76s\tremaining: 2.88s\n",
            "729:\tlearn: 103132654.5080364\ttotal: 7.77s\tremaining: 2.87s\n",
            "730:\tlearn: 103107624.9221161\ttotal: 7.78s\tremaining: 2.86s\n",
            "731:\tlearn: 103063954.1508654\ttotal: 7.79s\tremaining: 2.85s\n",
            "732:\tlearn: 103034905.5104247\ttotal: 7.8s\tremaining: 2.84s\n",
            "733:\tlearn: 103000504.2519630\ttotal: 7.81s\tremaining: 2.83s\n",
            "734:\tlearn: 102965513.6434309\ttotal: 7.82s\tremaining: 2.82s\n",
            "735:\tlearn: 102941620.9037261\ttotal: 7.83s\tremaining: 2.81s\n",
            "736:\tlearn: 102919295.2767314\ttotal: 7.84s\tremaining: 2.8s\n",
            "737:\tlearn: 102891207.4039584\ttotal: 7.86s\tremaining: 2.79s\n",
            "738:\tlearn: 102871755.0690380\ttotal: 7.87s\tremaining: 2.78s\n",
            "739:\tlearn: 102838270.1823889\ttotal: 7.88s\tremaining: 2.77s\n",
            "740:\tlearn: 102819033.3962051\ttotal: 7.89s\tremaining: 2.76s\n",
            "741:\tlearn: 102783673.3660641\ttotal: 7.9s\tremaining: 2.75s\n",
            "742:\tlearn: 102756380.6503100\ttotal: 7.91s\tremaining: 2.73s\n",
            "743:\tlearn: 102735958.8266507\ttotal: 7.92s\tremaining: 2.72s\n",
            "744:\tlearn: 102716293.8340438\ttotal: 7.93s\tremaining: 2.71s\n",
            "745:\tlearn: 102698725.5893236\ttotal: 7.94s\tremaining: 2.7s\n",
            "746:\tlearn: 102663585.4939245\ttotal: 7.95s\tremaining: 2.69s\n",
            "747:\tlearn: 102618051.8177733\ttotal: 7.96s\tremaining: 2.68s\n",
            "748:\tlearn: 102587826.5904178\ttotal: 7.98s\tremaining: 2.67s\n",
            "749:\tlearn: 102565576.9119099\ttotal: 7.99s\tremaining: 2.66s\n",
            "750:\tlearn: 102528846.4155150\ttotal: 8s\tremaining: 2.65s\n",
            "751:\tlearn: 102502753.3198361\ttotal: 8.01s\tremaining: 2.64s\n",
            "752:\tlearn: 102484889.6540616\ttotal: 8.02s\tremaining: 2.63s\n",
            "753:\tlearn: 102455676.5856438\ttotal: 8.03s\tremaining: 2.62s\n",
            "754:\tlearn: 102418798.9437761\ttotal: 8.04s\tremaining: 2.61s\n",
            "755:\tlearn: 102405146.3751283\ttotal: 8.05s\tremaining: 2.6s\n",
            "756:\tlearn: 102386115.8947473\ttotal: 8.07s\tremaining: 2.59s\n",
            "757:\tlearn: 102370959.5995094\ttotal: 8.08s\tremaining: 2.58s\n",
            "758:\tlearn: 102335084.4232644\ttotal: 8.09s\tremaining: 2.57s\n",
            "759:\tlearn: 102303308.4401465\ttotal: 8.1s\tremaining: 2.56s\n",
            "760:\tlearn: 102287237.6913491\ttotal: 8.11s\tremaining: 2.55s\n",
            "761:\tlearn: 102259888.8280315\ttotal: 8.12s\tremaining: 2.54s\n",
            "762:\tlearn: 102241188.9827874\ttotal: 8.13s\tremaining: 2.52s\n",
            "763:\tlearn: 102208034.6853826\ttotal: 8.14s\tremaining: 2.52s\n",
            "764:\tlearn: 102168162.0042007\ttotal: 8.15s\tremaining: 2.5s\n",
            "765:\tlearn: 102154468.7195933\ttotal: 8.16s\tremaining: 2.49s\n",
            "766:\tlearn: 102125957.2325197\ttotal: 8.18s\tremaining: 2.48s\n",
            "767:\tlearn: 102097333.7161974\ttotal: 8.19s\tremaining: 2.47s\n",
            "768:\tlearn: 102068690.9088828\ttotal: 8.2s\tremaining: 2.46s\n",
            "769:\tlearn: 102051730.3070649\ttotal: 8.21s\tremaining: 2.45s\n",
            "770:\tlearn: 102027102.8096174\ttotal: 8.22s\tremaining: 2.44s\n",
            "771:\tlearn: 102010411.9948766\ttotal: 8.23s\tremaining: 2.43s\n",
            "772:\tlearn: 101993160.1833291\ttotal: 8.24s\tremaining: 2.42s\n",
            "773:\tlearn: 101965781.7973724\ttotal: 8.26s\tremaining: 2.41s\n",
            "774:\tlearn: 101933357.3114066\ttotal: 8.27s\tremaining: 2.4s\n",
            "775:\tlearn: 101915955.0312521\ttotal: 8.28s\tremaining: 2.39s\n",
            "776:\tlearn: 101884104.5237944\ttotal: 8.29s\tremaining: 2.38s\n",
            "777:\tlearn: 101876397.2426757\ttotal: 8.29s\tremaining: 2.37s\n",
            "778:\tlearn: 101867695.7722525\ttotal: 8.3s\tremaining: 2.35s\n",
            "779:\tlearn: 101843801.1851002\ttotal: 8.31s\tremaining: 2.34s\n",
            "780:\tlearn: 101822204.4343256\ttotal: 8.32s\tremaining: 2.33s\n",
            "781:\tlearn: 101790467.5622714\ttotal: 8.34s\tremaining: 2.32s\n",
            "782:\tlearn: 101746466.6580804\ttotal: 8.35s\tremaining: 2.31s\n",
            "783:\tlearn: 101721918.5334881\ttotal: 8.36s\tremaining: 2.3s\n",
            "784:\tlearn: 101695612.7932486\ttotal: 8.37s\tremaining: 2.29s\n",
            "785:\tlearn: 101662684.8496360\ttotal: 8.38s\tremaining: 2.28s\n",
            "786:\tlearn: 101640550.6286755\ttotal: 8.39s\tremaining: 2.27s\n",
            "787:\tlearn: 101633537.0586537\ttotal: 8.4s\tremaining: 2.26s\n",
            "788:\tlearn: 101603495.3546767\ttotal: 8.41s\tremaining: 2.25s\n",
            "789:\tlearn: 101569980.5427309\ttotal: 8.42s\tremaining: 2.24s\n",
            "790:\tlearn: 101545900.3337769\ttotal: 8.43s\tremaining: 2.23s\n",
            "791:\tlearn: 101513513.6241537\ttotal: 8.44s\tremaining: 2.22s\n",
            "792:\tlearn: 101482588.1916183\ttotal: 8.45s\tremaining: 2.21s\n",
            "793:\tlearn: 101443413.5623464\ttotal: 8.46s\tremaining: 2.19s\n",
            "794:\tlearn: 101410568.1225922\ttotal: 8.47s\tremaining: 2.18s\n",
            "795:\tlearn: 101401817.9828241\ttotal: 8.47s\tremaining: 2.17s\n",
            "796:\tlearn: 101381044.0158315\ttotal: 8.48s\tremaining: 2.16s\n",
            "797:\tlearn: 101354110.9168266\ttotal: 8.49s\tremaining: 2.15s\n",
            "798:\tlearn: 101327930.7255905\ttotal: 8.51s\tremaining: 2.14s\n",
            "799:\tlearn: 101294292.2951256\ttotal: 8.52s\tremaining: 2.13s\n",
            "800:\tlearn: 101274915.6595910\ttotal: 8.53s\tremaining: 2.12s\n",
            "801:\tlearn: 101256107.5204455\ttotal: 8.54s\tremaining: 2.11s\n",
            "802:\tlearn: 101234449.4334975\ttotal: 8.55s\tremaining: 2.1s\n",
            "803:\tlearn: 101211371.3005188\ttotal: 8.56s\tremaining: 2.09s\n",
            "804:\tlearn: 101179605.8580934\ttotal: 8.57s\tremaining: 2.08s\n",
            "805:\tlearn: 101163823.7061459\ttotal: 8.59s\tremaining: 2.07s\n",
            "806:\tlearn: 101142293.6958895\ttotal: 8.6s\tremaining: 2.06s\n",
            "807:\tlearn: 101119537.3775422\ttotal: 8.61s\tremaining: 2.05s\n",
            "808:\tlearn: 101100877.6597649\ttotal: 8.63s\tremaining: 2.04s\n",
            "809:\tlearn: 101073169.8301730\ttotal: 8.64s\tremaining: 2.03s\n",
            "810:\tlearn: 101054946.2454669\ttotal: 8.65s\tremaining: 2.02s\n",
            "811:\tlearn: 101039856.0563544\ttotal: 8.66s\tremaining: 2s\n",
            "812:\tlearn: 101016294.5497069\ttotal: 8.67s\tremaining: 1.99s\n",
            "813:\tlearn: 100984342.5590985\ttotal: 8.68s\tremaining: 1.98s\n",
            "814:\tlearn: 100946547.3049635\ttotal: 8.69s\tremaining: 1.97s\n",
            "815:\tlearn: 100924490.0159564\ttotal: 8.71s\tremaining: 1.96s\n",
            "816:\tlearn: 100906285.4519726\ttotal: 8.72s\tremaining: 1.95s\n",
            "817:\tlearn: 100893132.9860500\ttotal: 8.73s\tremaining: 1.94s\n",
            "818:\tlearn: 100866737.0451741\ttotal: 8.74s\tremaining: 1.93s\n",
            "819:\tlearn: 100831296.2515042\ttotal: 8.75s\tremaining: 1.92s\n",
            "820:\tlearn: 100795610.0296200\ttotal: 8.77s\tremaining: 1.91s\n",
            "821:\tlearn: 100778908.9363476\ttotal: 8.78s\tremaining: 1.9s\n",
            "822:\tlearn: 100754207.7637566\ttotal: 8.79s\tremaining: 1.89s\n",
            "823:\tlearn: 100730209.2882411\ttotal: 8.8s\tremaining: 1.88s\n",
            "824:\tlearn: 100710746.7395684\ttotal: 8.81s\tremaining: 1.87s\n",
            "825:\tlearn: 100700517.2854566\ttotal: 8.81s\tremaining: 1.86s\n",
            "826:\tlearn: 100657001.0858908\ttotal: 8.83s\tremaining: 1.85s\n",
            "827:\tlearn: 100638768.3824649\ttotal: 8.84s\tremaining: 1.83s\n",
            "828:\tlearn: 100627951.8727572\ttotal: 8.85s\tremaining: 1.82s\n",
            "829:\tlearn: 100586637.4302176\ttotal: 8.86s\tremaining: 1.81s\n",
            "830:\tlearn: 100557072.4781176\ttotal: 8.87s\tremaining: 1.8s\n",
            "831:\tlearn: 100530465.3395302\ttotal: 8.88s\tremaining: 1.79s\n",
            "832:\tlearn: 100516323.6855751\ttotal: 8.89s\tremaining: 1.78s\n",
            "833:\tlearn: 100486467.6645731\ttotal: 8.9s\tremaining: 1.77s\n",
            "834:\tlearn: 100474352.3199155\ttotal: 8.92s\tremaining: 1.76s\n",
            "835:\tlearn: 100448372.4648345\ttotal: 8.93s\tremaining: 1.75s\n",
            "836:\tlearn: 100419207.8904941\ttotal: 8.94s\tremaining: 1.74s\n",
            "837:\tlearn: 100406879.3093080\ttotal: 8.95s\tremaining: 1.73s\n",
            "838:\tlearn: 100380019.1700825\ttotal: 8.96s\tremaining: 1.72s\n",
            "839:\tlearn: 100358024.6582738\ttotal: 8.97s\tremaining: 1.71s\n",
            "840:\tlearn: 100333886.2751184\ttotal: 8.98s\tremaining: 1.7s\n",
            "841:\tlearn: 100318873.4949094\ttotal: 8.99s\tremaining: 1.69s\n",
            "842:\tlearn: 100303530.5079251\ttotal: 9.01s\tremaining: 1.68s\n",
            "843:\tlearn: 100279867.5480161\ttotal: 9.02s\tremaining: 1.67s\n",
            "844:\tlearn: 100250563.9641083\ttotal: 9.03s\tremaining: 1.66s\n",
            "845:\tlearn: 100211707.7465092\ttotal: 9.04s\tremaining: 1.65s\n",
            "846:\tlearn: 100207542.0538532\ttotal: 9.04s\tremaining: 1.63s\n",
            "847:\tlearn: 100194697.0984767\ttotal: 9.05s\tremaining: 1.62s\n",
            "848:\tlearn: 100154493.4546175\ttotal: 9.06s\tremaining: 1.61s\n",
            "849:\tlearn: 100132138.4225730\ttotal: 9.07s\tremaining: 1.6s\n",
            "850:\tlearn: 100124044.8042037\ttotal: 9.08s\tremaining: 1.59s\n",
            "851:\tlearn: 100098211.0327580\ttotal: 9.09s\tremaining: 1.58s\n",
            "852:\tlearn: 100081297.5950698\ttotal: 9.1s\tremaining: 1.57s\n",
            "853:\tlearn: 100057245.8595671\ttotal: 9.12s\tremaining: 1.56s\n",
            "854:\tlearn: 100037836.3792481\ttotal: 9.13s\tremaining: 1.55s\n",
            "855:\tlearn: 100008933.3718838\ttotal: 9.14s\tremaining: 1.54s\n",
            "856:\tlearn: 99963957.7263850\ttotal: 9.15s\tremaining: 1.53s\n",
            "857:\tlearn: 99935493.5775598\ttotal: 9.16s\tremaining: 1.51s\n",
            "858:\tlearn: 99923076.4125316\ttotal: 9.17s\tremaining: 1.5s\n",
            "859:\tlearn: 99890820.8995873\ttotal: 9.18s\tremaining: 1.49s\n",
            "860:\tlearn: 99870830.4292142\ttotal: 9.2s\tremaining: 1.48s\n",
            "861:\tlearn: 99847554.9645123\ttotal: 9.21s\tremaining: 1.47s\n",
            "862:\tlearn: 99835603.4607234\ttotal: 9.22s\tremaining: 1.46s\n",
            "863:\tlearn: 99821194.5707630\ttotal: 9.23s\tremaining: 1.45s\n",
            "864:\tlearn: 99805441.8100329\ttotal: 9.24s\tremaining: 1.44s\n",
            "865:\tlearn: 99780036.3246192\ttotal: 9.25s\tremaining: 1.43s\n",
            "866:\tlearn: 99758460.9632579\ttotal: 9.26s\tremaining: 1.42s\n",
            "867:\tlearn: 99732504.5386854\ttotal: 9.27s\tremaining: 1.41s\n",
            "868:\tlearn: 99712316.3340322\ttotal: 9.28s\tremaining: 1.4s\n",
            "869:\tlearn: 99696465.9251925\ttotal: 9.29s\tremaining: 1.39s\n",
            "870:\tlearn: 99672420.3404782\ttotal: 9.3s\tremaining: 1.38s\n",
            "871:\tlearn: 99643815.5665347\ttotal: 9.31s\tremaining: 1.37s\n",
            "872:\tlearn: 99634770.4417330\ttotal: 9.32s\tremaining: 1.35s\n",
            "873:\tlearn: 99612399.5831746\ttotal: 9.33s\tremaining: 1.34s\n",
            "874:\tlearn: 99609128.5069455\ttotal: 9.33s\tremaining: 1.33s\n",
            "875:\tlearn: 99595295.5289441\ttotal: 9.34s\tremaining: 1.32s\n",
            "876:\tlearn: 99575961.9955228\ttotal: 9.35s\tremaining: 1.31s\n",
            "877:\tlearn: 99548148.6707620\ttotal: 9.36s\tremaining: 1.3s\n",
            "878:\tlearn: 99537899.4032369\ttotal: 9.37s\tremaining: 1.29s\n",
            "879:\tlearn: 99524546.6008279\ttotal: 9.39s\tremaining: 1.28s\n",
            "880:\tlearn: 99492931.5939136\ttotal: 9.4s\tremaining: 1.27s\n",
            "881:\tlearn: 99458419.9288700\ttotal: 9.41s\tremaining: 1.26s\n",
            "882:\tlearn: 99435193.6385641\ttotal: 9.43s\tremaining: 1.25s\n",
            "883:\tlearn: 99416650.9169704\ttotal: 9.44s\tremaining: 1.24s\n",
            "884:\tlearn: 99395814.5362739\ttotal: 9.45s\tremaining: 1.23s\n",
            "885:\tlearn: 99377886.3780727\ttotal: 9.46s\tremaining: 1.22s\n",
            "886:\tlearn: 99353044.6136479\ttotal: 9.47s\tremaining: 1.21s\n",
            "887:\tlearn: 99337338.9858059\ttotal: 9.48s\tremaining: 1.2s\n",
            "888:\tlearn: 99319203.2323006\ttotal: 9.49s\tremaining: 1.18s\n",
            "889:\tlearn: 99299070.3269838\ttotal: 9.5s\tremaining: 1.17s\n",
            "890:\tlearn: 99291276.4243453\ttotal: 9.5s\tremaining: 1.16s\n",
            "891:\tlearn: 99274799.7529131\ttotal: 9.51s\tremaining: 1.15s\n",
            "892:\tlearn: 99265144.9359034\ttotal: 9.52s\tremaining: 1.14s\n",
            "893:\tlearn: 99251556.2186012\ttotal: 9.54s\tremaining: 1.13s\n",
            "894:\tlearn: 99215114.7659824\ttotal: 9.55s\tremaining: 1.12s\n",
            "895:\tlearn: 99196343.4880756\ttotal: 9.56s\tremaining: 1.11s\n",
            "896:\tlearn: 99164831.9267823\ttotal: 9.57s\tremaining: 1.1s\n",
            "897:\tlearn: 99148737.0339883\ttotal: 9.58s\tremaining: 1.09s\n",
            "898:\tlearn: 99129798.0862193\ttotal: 9.59s\tremaining: 1.08s\n",
            "899:\tlearn: 99115656.9117697\ttotal: 9.61s\tremaining: 1.07s\n",
            "900:\tlearn: 99088440.3825402\ttotal: 9.62s\tremaining: 1.06s\n",
            "901:\tlearn: 99061564.1879120\ttotal: 9.63s\tremaining: 1.05s\n",
            "902:\tlearn: 99044137.6037972\ttotal: 9.64s\tremaining: 1.03s\n",
            "903:\tlearn: 99030319.0170594\ttotal: 9.65s\tremaining: 1.02s\n",
            "904:\tlearn: 99024293.0436917\ttotal: 9.66s\tremaining: 1.01s\n",
            "905:\tlearn: 99008203.3409339\ttotal: 9.67s\tremaining: 1s\n",
            "906:\tlearn: 98989185.4428695\ttotal: 9.68s\tremaining: 993ms\n",
            "907:\tlearn: 98962570.1651880\ttotal: 9.7s\tremaining: 982ms\n",
            "908:\tlearn: 98946967.5769215\ttotal: 9.71s\tremaining: 972ms\n",
            "909:\tlearn: 98918400.6139908\ttotal: 9.72s\tremaining: 961ms\n",
            "910:\tlearn: 98896753.0794506\ttotal: 9.73s\tremaining: 951ms\n",
            "911:\tlearn: 98894132.8318424\ttotal: 9.74s\tremaining: 940ms\n",
            "912:\tlearn: 98878393.5724728\ttotal: 9.75s\tremaining: 929ms\n",
            "913:\tlearn: 98856860.9586909\ttotal: 9.76s\tremaining: 918ms\n",
            "914:\tlearn: 98833665.2384859\ttotal: 9.77s\tremaining: 908ms\n",
            "915:\tlearn: 98807624.1441087\ttotal: 9.78s\tremaining: 897ms\n",
            "916:\tlearn: 98791479.1007973\ttotal: 9.79s\tremaining: 886ms\n",
            "917:\tlearn: 98771571.1393644\ttotal: 9.8s\tremaining: 876ms\n",
            "918:\tlearn: 98761616.9388607\ttotal: 9.81s\tremaining: 865ms\n",
            "919:\tlearn: 98749533.5038713\ttotal: 9.82s\tremaining: 854ms\n",
            "920:\tlearn: 98730258.2322241\ttotal: 9.83s\tremaining: 844ms\n",
            "921:\tlearn: 98707507.7077217\ttotal: 9.85s\tremaining: 833ms\n",
            "922:\tlearn: 98682489.0334709\ttotal: 9.86s\tremaining: 822ms\n",
            "923:\tlearn: 98669634.8760101\ttotal: 9.87s\tremaining: 811ms\n",
            "924:\tlearn: 98646545.3641178\ttotal: 9.88s\tremaining: 801ms\n",
            "925:\tlearn: 98623363.6112593\ttotal: 9.89s\tremaining: 790ms\n",
            "926:\tlearn: 98603223.0117653\ttotal: 9.9s\tremaining: 780ms\n",
            "927:\tlearn: 98578583.5632696\ttotal: 9.91s\tremaining: 769ms\n",
            "928:\tlearn: 98566016.8195386\ttotal: 9.92s\tremaining: 758ms\n",
            "929:\tlearn: 98535714.9958111\ttotal: 9.93s\tremaining: 748ms\n",
            "930:\tlearn: 98516304.6139183\ttotal: 9.94s\tremaining: 737ms\n",
            "931:\tlearn: 98499598.1361031\ttotal: 9.96s\tremaining: 726ms\n",
            "932:\tlearn: 98479778.2162475\ttotal: 9.97s\tremaining: 716ms\n",
            "933:\tlearn: 98465129.0769170\ttotal: 9.98s\tremaining: 705ms\n",
            "934:\tlearn: 98452224.5423112\ttotal: 9.99s\tremaining: 695ms\n",
            "935:\tlearn: 98441080.0123641\ttotal: 10s\tremaining: 684ms\n",
            "936:\tlearn: 98427831.3863868\ttotal: 10s\tremaining: 673ms\n",
            "937:\tlearn: 98414083.8265793\ttotal: 10s\tremaining: 663ms\n",
            "938:\tlearn: 98406151.1602233\ttotal: 10s\tremaining: 651ms\n",
            "939:\tlearn: 98381669.5781087\ttotal: 10s\tremaining: 641ms\n",
            "940:\tlearn: 98353345.5733144\ttotal: 10s\tremaining: 630ms\n",
            "941:\tlearn: 98330495.8768657\ttotal: 10.1s\tremaining: 619ms\n",
            "942:\tlearn: 98313059.9190315\ttotal: 10.1s\tremaining: 609ms\n",
            "943:\tlearn: 98298076.7718837\ttotal: 10.1s\tremaining: 598ms\n",
            "944:\tlearn: 98281119.4066594\ttotal: 10.1s\tremaining: 587ms\n",
            "945:\tlearn: 98269593.8748253\ttotal: 10.1s\tremaining: 577ms\n",
            "946:\tlearn: 98254436.9694523\ttotal: 10.1s\tremaining: 566ms\n",
            "947:\tlearn: 98228933.2827584\ttotal: 10.1s\tremaining: 555ms\n",
            "948:\tlearn: 98214885.6133773\ttotal: 10.1s\tremaining: 545ms\n",
            "949:\tlearn: 98195181.7134771\ttotal: 10.1s\tremaining: 534ms\n",
            "950:\tlearn: 98166251.8479392\ttotal: 10.2s\tremaining: 523ms\n",
            "951:\tlearn: 98140496.3307916\ttotal: 10.2s\tremaining: 513ms\n",
            "952:\tlearn: 98117731.8596594\ttotal: 10.2s\tremaining: 502ms\n",
            "953:\tlearn: 98095770.2365174\ttotal: 10.2s\tremaining: 492ms\n",
            "954:\tlearn: 98078490.4032416\ttotal: 10.2s\tremaining: 481ms\n",
            "955:\tlearn: 98074585.6533013\ttotal: 10.2s\tremaining: 470ms\n",
            "956:\tlearn: 98050231.2704309\ttotal: 10.2s\tremaining: 459ms\n",
            "957:\tlearn: 98039247.9332259\ttotal: 10.2s\tremaining: 449ms\n",
            "958:\tlearn: 98021118.2531487\ttotal: 10.2s\tremaining: 438ms\n",
            "959:\tlearn: 97999381.5344118\ttotal: 10.3s\tremaining: 427ms\n",
            "960:\tlearn: 97979488.0726739\ttotal: 10.3s\tremaining: 417ms\n",
            "961:\tlearn: 97942697.5957425\ttotal: 10.3s\tremaining: 406ms\n",
            "962:\tlearn: 97924084.0402325\ttotal: 10.3s\tremaining: 395ms\n",
            "963:\tlearn: 97907506.9779499\ttotal: 10.3s\tremaining: 385ms\n",
            "964:\tlearn: 97892864.7813570\ttotal: 10.3s\tremaining: 374ms\n",
            "965:\tlearn: 97879622.0883197\ttotal: 10.3s\tremaining: 363ms\n",
            "966:\tlearn: 97856477.9402405\ttotal: 10.3s\tremaining: 353ms\n",
            "967:\tlearn: 97833539.9396582\ttotal: 10.3s\tremaining: 342ms\n",
            "968:\tlearn: 97799435.6831777\ttotal: 10.3s\tremaining: 331ms\n",
            "969:\tlearn: 97782499.0998275\ttotal: 10.4s\tremaining: 320ms\n",
            "970:\tlearn: 97750007.7010867\ttotal: 10.4s\tremaining: 310ms\n",
            "971:\tlearn: 97736917.6513942\ttotal: 10.4s\tremaining: 299ms\n",
            "972:\tlearn: 97736058.9690609\ttotal: 10.4s\tremaining: 288ms\n",
            "973:\tlearn: 97724979.9302902\ttotal: 10.4s\tremaining: 277ms\n",
            "974:\tlearn: 97710345.5674886\ttotal: 10.4s\tremaining: 267ms\n",
            "975:\tlearn: 97689838.6896588\ttotal: 10.4s\tremaining: 256ms\n",
            "976:\tlearn: 97669974.7215523\ttotal: 10.4s\tremaining: 246ms\n",
            "977:\tlearn: 97647541.5833378\ttotal: 10.4s\tremaining: 235ms\n",
            "978:\tlearn: 97630868.9443889\ttotal: 10.5s\tremaining: 224ms\n",
            "979:\tlearn: 97617658.5057382\ttotal: 10.5s\tremaining: 214ms\n",
            "980:\tlearn: 97600998.3359679\ttotal: 10.5s\tremaining: 203ms\n",
            "981:\tlearn: 97587562.7460672\ttotal: 10.5s\tremaining: 192ms\n",
            "982:\tlearn: 97570011.7726949\ttotal: 10.5s\tremaining: 182ms\n",
            "983:\tlearn: 97554728.0470320\ttotal: 10.5s\tremaining: 171ms\n",
            "984:\tlearn: 97553530.2417028\ttotal: 10.5s\tremaining: 160ms\n",
            "985:\tlearn: 97540042.0793419\ttotal: 10.5s\tremaining: 149ms\n",
            "986:\tlearn: 97537470.7811362\ttotal: 10.5s\tremaining: 139ms\n",
            "987:\tlearn: 97521826.6973365\ttotal: 10.5s\tremaining: 128ms\n",
            "988:\tlearn: 97501237.7310622\ttotal: 10.6s\tremaining: 117ms\n",
            "989:\tlearn: 97491092.8617566\ttotal: 10.6s\tremaining: 107ms\n",
            "990:\tlearn: 97481056.3591191\ttotal: 10.6s\tremaining: 96.1ms\n",
            "991:\tlearn: 97447041.3089431\ttotal: 10.6s\tremaining: 85.4ms\n",
            "992:\tlearn: 97435863.9403101\ttotal: 10.6s\tremaining: 74.8ms\n",
            "993:\tlearn: 97424342.6023330\ttotal: 10.6s\tremaining: 64.1ms\n",
            "994:\tlearn: 97404581.9512835\ttotal: 10.6s\tremaining: 53.4ms\n",
            "995:\tlearn: 97384592.8927774\ttotal: 10.6s\tremaining: 42.7ms\n",
            "996:\tlearn: 97373152.8756022\ttotal: 10.7s\tremaining: 32ms\n",
            "997:\tlearn: 97353656.9164560\ttotal: 10.7s\tremaining: 21.4ms\n",
            "998:\tlearn: 97335604.6672187\ttotal: 10.7s\tremaining: 10.7ms\n",
            "999:\tlearn: 97306413.3300176\ttotal: 10.7s\tremaining: 0us\n"
          ],
          "name": "stdout"
        },
        {
          "output_type": "execute_result",
          "data": {
            "text/plain": [
              "<catboost.core.CatBoostRegressor at 0x7f4c23efc1d0>"
            ]
          },
          "metadata": {
            "tags": []
          },
          "execution_count": 210
        }
      ]
    },
    {
      "cell_type": "code",
      "metadata": {
        "id": "a3q-LRmaKthv"
      },
      "source": [
        "ypred = model.predict(X_test)"
      ],
      "execution_count": null,
      "outputs": []
    },
    {
      "cell_type": "code",
      "metadata": {
        "id": "CZvWRgTGK8bc"
      },
      "source": [
        "from sklearn.metrics import r2_score"
      ],
      "execution_count": null,
      "outputs": []
    },
    {
      "cell_type": "code",
      "metadata": {
        "colab": {
          "base_uri": "https://localhost:8080/"
        },
        "id": "igBqWr7OK_7D",
        "outputId": "a7612ebb-de87-4467-badb-bba5d396ef9f"
      },
      "source": [
        "r2_score(y_test, ypred)"
      ],
      "execution_count": null,
      "outputs": [
        {
          "output_type": "execute_result",
          "data": {
            "text/plain": [
              "0.6813414159782727"
            ]
          },
          "metadata": {
            "tags": []
          },
          "execution_count": 213
        }
      ]
    },
    {
      "cell_type": "code",
      "metadata": {
        "colab": {
          "base_uri": "https://localhost:8080/",
          "height": 264
        },
        "id": "z1mWTm-NLGg_",
        "outputId": "a3ed343d-a59b-4394-f27f-252a01f51de7"
      },
      "source": [
        "sns.barplot(y=X_training.columns, x = model.get_feature_importance(), orient='h')\n",
        "plt.show()"
      ],
      "execution_count": null,
      "outputs": [
        {
          "output_type": "display_data",
          "data": {
            "image/png": "[encoded data removed]",
            "text/plain": [
              "<Figure size 432x288 with 1 Axes>"
            ]
          },
          "metadata": {
            "tags": [],
            "needs_background": "light"
          }
        }
      ]
    },
    {
      "cell_type": "code",
      "metadata": {
        "colab": {
          "base_uri": "https://localhost:8080/",
          "height": 160
        },
        "id": "DvKOQikbNsqM",
        "outputId": "b7780c80-2162-4796-b256-6d02ca07109e"
      },
      "source": [
        "rdataset[\"cast\"][0]"
      ],
      "execution_count": null,
      "outputs": [
        {
          "output_type": "execute_result",
          "data": {
            "application/vnd.google.colaboratory.intrinsic+json": {
              "type": "string"
            },
            "text/plain": [
              "'[{\"cast_id\": 242, \"character\": \"Jake Sully\", \"credit_id\": \"5602a8a7c3a3685532001c9a\", \"gender\": 2, \"id\": 65731, \"name\": \"Sam Worthington\", \"order\": 0}, {\"cast_id\": 3, \"character\": \"Neytiri\", \"credit_id\": \"52fe48009251416c750ac9cb\", \"gender\": 1, \"id\": 8691, \"name\": \"Zoe Saldana\", \"order\": 1}, {\"cast_id\": 25, \"character\": \"Dr. Grace Augustine\", \"credit_id\": \"52fe48009251416c750aca39\", \"gender\": 1, \"id\": 10205, \"name\": \"Sigourney Weaver\", \"order\": 2}, {\"cast_id\": 4, \"character\": \"Col. Quaritch\", \"credit_id\": \"52fe48009251416c750ac9cf\", \"gender\": 2, \"id\": 32747, \"name\": \"Stephen Lang\", \"order\": 3}, {\"cast_id\": 5, \"character\": \"Trudy Chacon\", \"credit_id\": \"52fe48009251416c750ac9d3\", \"gender\": 1, \"id\": 17647, \"name\": \"Michelle Rodriguez\", \"order\": 4}, {\"cast_id\": 8, \"character\": \"Selfridge\", \"credit_id\": \"52fe48009251416c750ac9e1\", \"gender\": 2, \"id\": 1771, \"name\": \"Giovanni Ribisi\", \"order\": 5}, {\"cast_id\": 7, \"character\": \"Norm Spellman\", \"credit_id\": \"52fe48009251416c750ac9dd\", \"gender\": 2, \"id\": 59231, \"name\": \"Joel David Moore\", \"order\": 6}, {\"cast_id\": 9, \"character\": \"Moat\", \"credit_id\": \"52fe48009251416c750ac9e5\", \"gender\": 1, \"id\": 30485, \"name\": \"CCH Pounder\", \"order\": 7}, {\"cast_id\": 11, \"character\": \"Eytukan\", \"credit_id\": \"52fe48009251416c750ac9ed\", \"gender\": 2, \"id\": 15853, \"name\": \"Wes Studi\", \"order\": 8}, {\"cast_id\": 10, \"character\": \"Tsu\\'Tey\", \"credit_id\": \"52fe48009251416c750ac9e9\", \"gender\": 2, \"id\": 10964, \"name\": \"Laz Alonso\", \"order\": 9}, {\"cast_id\": 12, \"character\": \"Dr. Max Patel\", \"credit_id\": \"52fe48009251416c750ac9f1\", \"gender\": 2, \"id\": 95697, \"name\": \"Dileep Rao\", \"order\": 10}, {\"cast_id\": 13, \"character\": \"Lyle Wainfleet\", \"credit_id\": \"52fe48009251416c750ac9f5\", \"gender\": 2, \"id\": 98215, \"name\": \"Matt Gerald\", \"order\": 11}, {\"cast_id\": 32, \"character\": \"Private Fike\", \"credit_id\": \"52fe48009251416c750aca5b\", \"gender\": 2, \"id\": 154153, \"name\": \"Sean Anthony Moran\", \"order\": 12}, {\"cast_id\": 33, \"character\": \"Cryo Vault Med Tech\", \"credit_id\": \"52fe48009251416c750aca5f\", \"gender\": 2, \"id\": 397312, \"name\": \"Jason Whyte\", \"order\": 13}, {\"cast_id\": 34, \"character\": \"Venture Star Crew Chief\", \"credit_id\": \"52fe48009251416c750aca63\", \"gender\": 2, \"id\": 42317, \"name\": \"Scott Lawrence\", \"order\": 14}, {\"cast_id\": 35, \"character\": \"Lock Up Trooper\", \"credit_id\": \"52fe48009251416c750aca67\", \"gender\": 2, \"id\": 986734, \"name\": \"Kelly Kilgour\", \"order\": 15}, {\"cast_id\": 36, \"character\": \"Shuttle Pilot\", \"credit_id\": \"52fe48009251416c750aca6b\", \"gender\": 0, \"id\": 1207227, \"name\": \"James Patrick Pitt\", \"order\": 16}, {\"cast_id\": 37, \"character\": \"Shuttle Co-Pilot\", \"credit_id\": \"52fe48009251416c750aca6f\", \"gender\": 0, \"id\": 1180936, \"name\": \"Sean Patrick Murphy\", \"order\": 17}, {\"cast_id\": 38, \"character\": \"Shuttle Crew Chief\", \"credit_id\": \"52fe48009251416c750aca73\", \"gender\": 2, \"id\": 1019578, \"name\": \"Peter Dillon\", \"order\": 18}, {\"cast_id\": 39, \"character\": \"Tractor Operator / Troupe\", \"credit_id\": \"52fe48009251416c750aca77\", \"gender\": 0, \"id\": 91443, \"name\": \"Kevin Dorman\", \"order\": 19}, {\"cast_id\": 40, \"character\": \"Dragon Gunship Pilot\", \"credit_id\": \"52fe48009251416c750aca7b\", \"gender\": 2, \"id\": 173391, \"name\": \"Kelson Henderson\", \"order\": 20}, {\"cast_id\": 41, \"character\": \"Dragon Gunship Gunner\", \"credit_id\": \"52fe48009251416c750aca7f\", \"gender\": 0, \"id\": 1207236, \"name\": \"David Van Horn\", \"order\": 21}, {\"cast_id\": 42, \"character\": \"Dragon Gunship Navigator\", \"credit_id\": \"52fe48009251416c750aca83\", \"gender\": 0, \"id\": 215913, \"name\": \"Jacob Tomuri\", \"order\": 22}, {\"cast_id\": 43, \"character\": \"Suit #1\", \"credit_id\": \"52fe48009251416c750aca87\", \"gender\": 0, \"id\": 143206, \"name\": \"Michael Blain-Rozgay\", \"order\": 23}, {\"cast_id\": 44, \"character\": \"Suit #2\", \"credit_id\": \"52fe48009251416c750aca8b\", \"gender\": 2, \"id\": 169676, \"name\": \"Jon Curry\", \"order\": 24}, {\"cast_id\": 46, \"character\": \"Ambient Room Tech\", \"credit_id\": \"52fe48009251416c750aca8f\", \"gender\": 0, \"id\": 1048610, \"name\": \"Luke Hawker\", \"order\": 25}, {\"cast_id\": 47, \"character\": \"Ambient Room Tech / Troupe\", \"credit_id\": \"52fe48009251416c750aca93\", \"gender\": 0, \"id\": 42288, \"name\": \"Woody Schultz\", \"order\": 26}, {\"cast_id\": 48, \"character\": \"Horse Clan Leader\", \"credit_id\": \"52fe48009251416c750aca97\", \"gender\": 2, \"id\": 68278, \"name\": \"Peter Mensah\", \"order\": 27}, {\"cast_id\": 49, \"character\": \"Link Room Tech\", \"credit_id\": \"52fe48009251416c750aca9b\", \"gender\": 0, \"id\": 1207247, \"name\": \"Sonia Yee\", \"order\": 28}, {\"cast_id\": 50, \"character\": \"Basketball Avatar / Troupe\", \"credit_id\": \"52fe48009251416c750aca9f\", \"gender\": 1, \"id\": 1207248, \"name\": \"Jahnel Curfman\", \"order\": 29}, {\"cast_id\": 51, \"character\": \"Basketball Avatar\", \"credit_id\": \"52fe48009251416c750acaa3\", \"gender\": 0, \"id\": 89714, \"name\": \"Ilram Choi\", \"order\": 30}, {\"cast_id\": 52, \"character\": \"Na\\'vi Child\", \"credit_id\": \"52fe48009251416c750acaa7\", \"gender\": 0, \"id\": 1207249, \"name\": \"Kyla Warren\", \"order\": 31}, {\"cast_id\": 53, \"character\": \"Troupe\", \"credit_id\": \"52fe48009251416c750acaab\", \"gender\": 0, \"id\": 1207250, \"name\": \"Lisa Roumain\", \"order\": 32}, {\"cast_id\": 54, \"character\": \"Troupe\", \"credit_id\": \"52fe48009251416c750acaaf\", \"gender\": 1, \"id\": 83105, \"name\": \"Debra Wilson\", \"order\": 33}, {\"cast_id\": 57, \"character\": \"Troupe\", \"credit_id\": \"52fe48009251416c750acabb\", \"gender\": 0, \"id\": 1207253, \"name\": \"Chris Mala\", \"order\": 34}, {\"cast_id\": 55, \"character\": \"Troupe\", \"credit_id\": \"52fe48009251416c750acab3\", \"gender\": 0, \"id\": 1207251, \"name\": \"Taylor Kibby\", \"order\": 35}, {\"cast_id\": 56, \"character\": \"Troupe\", \"credit_id\": \"52fe48009251416c750acab7\", \"gender\": 0, \"id\": 1207252, \"name\": \"Jodie Landau\", \"order\": 36}, {\"cast_id\": 58, \"character\": \"Troupe\", \"credit_id\": \"52fe48009251416c750acabf\", \"gender\": 0, \"id\": 1207254, \"name\": \"Julie Lamm\", \"order\": 37}, {\"cast_id\": 59, \"character\": \"Troupe\", \"credit_id\": \"52fe48009251416c750acac3\", \"gender\": 0, \"id\": 1207257, \"name\": \"Cullen B. Madden\", \"order\": 38}, {\"cast_id\": 60, \"character\": \"Troupe\", \"credit_id\": \"52fe48009251416c750acac7\", \"gender\": 0, \"id\": 1207259, \"name\": \"Joseph Brady Madden\", \"order\": 39}, {\"cast_id\": 61, \"character\": \"Troupe\", \"credit_id\": \"52fe48009251416c750acacb\", \"gender\": 0, \"id\": 1207262, \"name\": \"Frankie Torres\", \"order\": 40}, {\"cast_id\": 62, \"character\": \"Troupe\", \"credit_id\": \"52fe48009251416c750acacf\", \"gender\": 1, \"id\": 1158600, \"name\": \"Austin Wilson\", \"order\": 41}, {\"cast_id\": 63, \"character\": \"Troupe\", \"credit_id\": \"52fe48019251416c750acad3\", \"gender\": 1, \"id\": 983705, \"name\": \"Sara Wilson\", \"order\": 42}, {\"cast_id\": 64, \"character\": \"Troupe\", \"credit_id\": \"52fe48019251416c750acad7\", \"gender\": 0, \"id\": 1207263, \"name\": \"Tamica Washington-Miller\", \"order\": 43}, {\"cast_id\": 65, \"character\": \"Op Center Staff\", \"credit_id\": \"52fe48019251416c750acadb\", \"gender\": 1, \"id\": 1145098, \"name\": \"Lucy Briant\", \"order\": 44}, {\"cast_id\": 66, \"character\": \"Op Center Staff\", \"credit_id\": \"52fe48019251416c750acadf\", \"gender\": 2, \"id\": 33305, \"name\": \"Nathan Meister\", \"order\": 45}, {\"cast_id\": 67, \"character\": \"Op Center Staff\", \"credit_id\": \"52fe48019251416c750acae3\", \"gender\": 0, \"id\": 1207264, \"name\": \"Gerry Blair\", \"order\": 46}, {\"cast_id\": 68, \"character\": \"Op Center Staff\", \"credit_id\": \"52fe48019251416c750acae7\", \"gender\": 2, \"id\": 33311, \"name\": \"Matthew Chamberlain\", \"order\": 47}, {\"cast_id\": 69, \"character\": \"Op Center Staff\", \"credit_id\": \"52fe48019251416c750acaeb\", \"gender\": 0, \"id\": 1207265, \"name\": \"Paul Yates\", \"order\": 48}, {\"cast_id\": 70, \"character\": \"Op Center Duty Officer\", \"credit_id\": \"52fe48019251416c750acaef\", \"gender\": 0, \"id\": 1207266, \"name\": \"Wray Wilson\", \"order\": 49}, {\"cast_id\": 71, \"character\": \"Op Center Staff\", \"credit_id\": \"52fe48019251416c750acaf3\", \"gender\": 2, \"id\": 54492, \"name\": \"James Gaylyn\", \"order\": 50}, {\"cast_id\": 72, \"character\": \"Dancer\", \"credit_id\": \"52fe48019251416c750acaf7\", \"gender\": 0, \"id\": 1207267, \"name\": \"Melvin Leno Clark III\", \"order\": 51}, {\"cast_id\": 73, \"character\": \"Dancer\", \"credit_id\": \"52fe48019251416c750acafb\", \"gender\": 0, \"id\": 1207268, \"name\": \"Carvon Futrell\", \"order\": 52}, {\"cast_id\": 74, \"character\": \"Dancer\", \"credit_id\": \"52fe48019251416c750acaff\", \"gender\": 0, \"id\": 1207269, \"name\": \"Brandon Jelkes\", \"order\": 53}, {\"cast_id\": 75, \"character\": \"Dancer\", \"credit_id\": \"52fe48019251416c750acb03\", \"gender\": 0, \"id\": 1207270, \"name\": \"Micah Moch\", \"order\": 54}, {\"cast_id\": 76, \"character\": \"Dancer\", \"credit_id\": \"52fe48019251416c750acb07\", \"gender\": 0, \"id\": 1207271, \"name\": \"Hanniyah Muhammad\", \"order\": 55}, {\"cast_id\": 77, \"character\": \"Dancer\", \"credit_id\": \"52fe48019251416c750acb0b\", \"gender\": 0, \"id\": 1207272, \"name\": \"Christopher Nolen\", \"order\": 56}, {\"cast_id\": 78, \"character\": \"Dancer\", \"credit_id\": \"52fe48019251416c750acb0f\", \"gender\": 0, \"id\": 1207273, \"name\": \"Christa Oliver\", \"order\": 57}, {\"cast_id\": 79, \"character\": \"Dancer\", \"credit_id\": \"52fe48019251416c750acb13\", \"gender\": 0, \"id\": 1207274, \"name\": \"April Marie Thomas\", \"order\": 58}, {\"cast_id\": 80, \"character\": \"Dancer\", \"credit_id\": \"52fe48019251416c750acb17\", \"gender\": 0, \"id\": 1207275, \"name\": \"Bravita A. Threatt\", \"order\": 59}, {\"cast_id\": 81, \"character\": \"Mining Chief (uncredited)\", \"credit_id\": \"52fe48019251416c750acb1b\", \"gender\": 0, \"id\": 1207276, \"name\": \"Colin Bleasdale\", \"order\": 60}, {\"cast_id\": 82, \"character\": \"Veteran Miner (uncredited)\", \"credit_id\": \"52fe48019251416c750acb1f\", \"gender\": 0, \"id\": 107969, \"name\": \"Mike Bodnar\", \"order\": 61}, {\"cast_id\": 83, \"character\": \"Richard (uncredited)\", \"credit_id\": \"52fe48019251416c750acb23\", \"gender\": 0, \"id\": 1207278, \"name\": \"Matt Clayton\", \"order\": 62}, {\"cast_id\": 84, \"character\": \"Nav\\'i (uncredited)\", \"credit_id\": \"52fe48019251416c750acb27\", \"gender\": 1, \"id\": 147898, \"name\": \"Nicole Dionne\", \"order\": 63}, {\"cast_id\": 85, \"character\": \"Trooper (uncredited)\", \"credit_id\": \"52fe48019251416c750acb2b\", \"gender\": 0, \"id\": 1207280, \"name\": \"Jamie Harrison\", \"order\": 64}, {\"cast_id\": 86, \"character\": \"Trooper (uncredited)\", \"credit_id\": \"52fe48019251416c750acb2f\", \"gender\": 0, \"id\": 1207281, \"name\": \"Allan Henry\", \"order\": 65}, {\"cast_id\": 87, \"character\": \"Ground Technician (uncredited)\", \"credit_id\": \"52fe48019251416c750acb33\", \"gender\": 2, \"id\": 1207282, \"name\": \"Anthony Ingruber\", \"order\": 66}, {\"cast_id\": 88, \"character\": \"Flight Crew Mechanic (uncredited)\", \"credit_id\": \"52fe48019251416c750acb37\", \"gender\": 0, \"id\": 1207283, \"name\": \"Ashley Jeffery\", \"order\": 67}, {\"cast_id\": 14, \"character\": \"Samson Pilot\", \"credit_id\": \"52fe48009251416c750ac9f9\", \"gender\": 0, \"id\": 98216, \"name\": \"Dean Knowsley\", \"order\": 68}, {\"cast_id\": 89, \"character\": \"Trooper (uncredited)\", \"credit_id\": \"52fe48019251416c750acb3b\", \"gender\": 0, \"id\": 1201399, \"name\": \"Joseph Mika-Hunt\", \"order\": 69}, {\"cast_id\": 90, \"character\": \"Banshee (uncredited)\", \"credit_id\": \"52fe48019251416c750acb3f\", \"gender\": 0, \"id\": 236696, \"name\": \"Terry Notary\", \"order\": 70}, {\"cast_id\": 91, \"character\": \"Soldier (uncredited)\", \"credit_id\": \"52fe48019251416c750acb43\", \"gender\": 0, \"id\": 1207287, \"name\": \"Kai Pantano\", \"order\": 71}, {\"cast_id\": 92, \"character\": \"Blast Technician (uncredited)\", \"credit_id\": \"52fe48019251416c750acb47\", \"gender\": 0, \"id\": 1207288, \"name\": \"Logan Pithyou\", \"order\": 72}, {\"cast_id\": 93, \"character\": \"Vindum Raah (uncredited)\", \"credit_id\": \"52fe48019251416c750acb4b\", \"gender\": 0, \"id\": 1207289, \"name\": \"Stuart Pollock\", \"order\": 73}, {\"cast_id\": 94, \"character\": \"Hero (uncredited)\", \"credit_id\": \"52fe48019251416c750acb4f\", \"gender\": 0, \"id\": 584868, \"name\": \"Raja\", \"order\": 74}, {\"cast_id\": 95, \"character\": \"Ops Centreworker (uncredited)\", \"credit_id\": \"52fe48019251416c750acb53\", \"gender\": 0, \"id\": 1207290, \"name\": \"Gareth Ruck\", \"order\": 75}, {\"cast_id\": 96, \"character\": \"Engineer (uncredited)\", \"credit_id\": \"52fe48019251416c750acb57\", \"gender\": 0, \"id\": 1062463, \"name\": \"Rhian Sheehan\", \"order\": 76}, {\"cast_id\": 97, \"character\": \"Col. Quaritch\\'s Mech Suit (uncredited)\", \"credit_id\": \"52fe48019251416c750acb5b\", \"gender\": 0, \"id\": 60656, \"name\": \"T. J. Storm\", \"order\": 77}, {\"cast_id\": 98, \"character\": \"Female Marine (uncredited)\", \"credit_id\": \"52fe48019251416c750acb5f\", \"gender\": 0, \"id\": 1207291, \"name\": \"Jodie Taylor\", \"order\": 78}, {\"cast_id\": 99, \"character\": \"Ikran Clan Leader (uncredited)\", \"credit_id\": \"52fe48019251416c750acb63\", \"gender\": 1, \"id\": 1186027, \"name\": \"Alicia Vela-Bailey\", \"order\": 79}, {\"cast_id\": 100, \"character\": \"Geologist (uncredited)\", \"credit_id\": \"52fe48019251416c750acb67\", \"gender\": 0, \"id\": 1207292, \"name\": \"Richard Whiteside\", \"order\": 80}, {\"cast_id\": 101, \"character\": \"Na\\'vi (uncredited)\", \"credit_id\": \"52fe48019251416c750acb6b\", \"gender\": 0, \"id\": 103259, \"name\": \"Nikie Zambo\", \"order\": 81}, {\"cast_id\": 102, \"character\": \"Ambient Room Tech / Troupe\", \"credit_id\": \"52fe48019251416c750acb6f\", \"gender\": 1, \"id\": 42286, \"name\": \"Julene Renee\", \"order\": 82}]'"
            ]
          },
          "metadata": {
            "tags": []
          },
          "execution_count": 222
        }
      ]
    },
    {
      "cell_type": "code",
      "metadata": {
        "id": "QyMsIvkEQrov"
      },
      "source": [
        "all_cast = []\n",
        "for i in rdataset[\"cast\"]:\n",
        "  temp = json.loads(i)\n",
        "  for j in temp:\n",
        "    all_cast.append(j[\"name\"])"
      ],
      "execution_count": null,
      "outputs": []
    },
    {
      "cell_type": "code",
      "metadata": {
        "colab": {
          "base_uri": "https://localhost:8080/"
        },
        "id": "bl_elEaGRMko",
        "outputId": "fe281383-cbcd-49ce-f693-99478f2dd91c"
      },
      "source": [
        "len(all_cast)"
      ],
      "execution_count": null,
      "outputs": [
        {
          "output_type": "execute_result",
          "data": {
            "text/plain": [
              "86320"
            ]
          },
          "metadata": {
            "tags": []
          },
          "execution_count": 224
        }
      ]
    },
    {
      "cell_type": "code",
      "metadata": {
        "colab": {
          "base_uri": "https://localhost:8080/"
        },
        "id": "C9RefyawROGi",
        "outputId": "212fc914-2694-4428-e2c3-9b87d8afe9a7"
      },
      "source": [
        "all_cast[:3]"
      ],
      "execution_count": null,
      "outputs": [
        {
          "output_type": "execute_result",
          "data": {
            "text/plain": [
              "['Sam Worthington', 'Zoe Saldana', 'Sigourney Weaver']"
            ]
          },
          "metadata": {
            "tags": []
          },
          "execution_count": 225
        }
      ]
    },
    {
      "cell_type": "code",
      "metadata": {
        "id": "Z-MnLC3TRRgY"
      },
      "source": [
        "top_50 = Counter(all_cast).most_common(100)"
      ],
      "execution_count": null,
      "outputs": []
    },
    {
      "cell_type": "code",
      "metadata": {
        "colab": {
          "base_uri": "https://localhost:8080/"
        },
        "id": "Om8glvlLRddR",
        "outputId": "69beecfa-bb9a-427a-e586-c889f15db085"
      },
      "source": [
        "top_50"
      ],
      "execution_count": null,
      "outputs": [
        {
          "output_type": "execute_result",
          "data": {
            "text/plain": [
              "[('Samuel L. Jackson', 53),\n",
              " ('Robert De Niro', 49),\n",
              " ('Morgan Freeman', 45),\n",
              " ('Matt Damon', 45),\n",
              " ('Bruce Willis', 44),\n",
              " ('Johnny Depp', 38),\n",
              " ('Liam Neeson', 37),\n",
              " ('Owen Wilson', 37),\n",
              " ('Brad Pitt', 37),\n",
              " ('Willem Dafoe', 35),\n",
              " ('Nicolas Cage', 35),\n",
              " ('Steve Buscemi', 34),\n",
              " ('Stanley Tucci', 34),\n",
              " ('Tom Cruise', 33),\n",
              " ('Bill Murray', 33),\n",
              " ('Alec Baldwin', 32),\n",
              " ('Ben Stiller', 32),\n",
              " ('J.K. Simmons', 31),\n",
              " ('John Goodman', 31),\n",
              " ('Frank Welker', 31),\n",
              " ('Tom Hanks', 31),\n",
              " ('Arnold Schwarzenegger', 31),\n",
              " ('Harrison Ford', 31),\n",
              " ('Cameron Diaz', 31),\n",
              " ('George Clooney', 31),\n",
              " ('Will Ferrell', 31),\n",
              " ('Justin Long', 31),\n",
              " ('Bill Hader', 30),\n",
              " ('Jack Black', 30),\n",
              " ('Paul Giamatti', 30),\n",
              " ('Sylvester Stallone', 30),\n",
              " ('Ben Affleck', 29),\n",
              " ('Ben Kingsley', 29),\n",
              " ('Mark Wahlberg', 29),\n",
              " ('Woody Harrelson', 29),\n",
              " ('Seth Rogen', 29),\n",
              " ('Antonio Banderas', 29),\n",
              " ('Denzel Washington', 29),\n",
              " ('Laurence Fishburne', 28),\n",
              " ('Cate Blanchett', 28),\n",
              " ('Paul Rudd', 28),\n",
              " ('Christopher Walken', 28),\n",
              " ('Robin Williams', 28),\n",
              " ('Richard Jenkins', 28),\n",
              " ('Keith David', 28),\n",
              " ('Julia Roberts', 28),\n",
              " ('Anthony Mackie', 27),\n",
              " ('Jonah Hill', 27),\n",
              " ('Brendan Gleeson', 27),\n",
              " ('Matthew McConaughey', 27),\n",
              " ('Philip Seymour Hoffman', 27),\n",
              " ('Dustin Hoffman', 27),\n",
              " ('Brian Cox', 27),\n",
              " ('John Leguizamo', 27),\n",
              " ('Sigourney Weaver', 26),\n",
              " ('Bill Nighy', 26),\n",
              " ('Gary Oldman', 26),\n",
              " ('James Franco', 26),\n",
              " ('Stan Lee', 26),\n",
              " ('Michael Shannon', 26),\n",
              " ('Ewan McGregor', 26),\n",
              " ('Steve Zahn', 26),\n",
              " ('Jim Carrey', 26),\n",
              " ('Channing Tatum', 26),\n",
              " ('Jude Law', 26),\n",
              " ('Julianne Moore', 26),\n",
              " ('Jason Bateman', 26),\n",
              " ('John Travolta', 26),\n",
              " ('Luis Guzmán', 26),\n",
              " ('Robert Duvall', 26),\n",
              " ('Christian Bale', 25),\n",
              " ('Elizabeth Banks', 25),\n",
              " ('Mark Ruffalo', 25),\n",
              " ('James Marsden', 25),\n",
              " ('Tom Wilkinson', 25),\n",
              " ('Will Smith', 25),\n",
              " ('Nicole Kidman', 25),\n",
              " ('Hugh Jackman', 25),\n",
              " ('Dwayne Johnson', 25),\n",
              " ('Christopher Plummer', 25),\n",
              " ('Viola Davis', 25),\n",
              " ('John C. Reilly', 25),\n",
              " ('Kristen Wiig', 25),\n",
              " ('Anthony Hopkins', 25),\n",
              " ('Octavia Spencer', 25),\n",
              " ('Susan Sarandon', 25),\n",
              " ('Forest Whitaker', 25),\n",
              " ('Adam Sandler', 25),\n",
              " ('Meryl Streep', 25),\n",
              " ('Michael Caine', 24),\n",
              " ('Jim Broadbent', 24),\n",
              " ('Kevin Costner', 24),\n",
              " ('Stephen Root', 24),\n",
              " ('John Turturro', 24),\n",
              " ('Jason Statham', 24),\n",
              " ('John Hurt', 24),\n",
              " ('Danny Glover', 24),\n",
              " ('Terrence Howard', 24),\n",
              " ('Eddie Murphy', 24),\n",
              " ('Donald Sutherland', 24)]"
            ]
          },
          "metadata": {
            "tags": []
          },
          "execution_count": 258
        }
      ]
    },
    {
      "cell_type": "code",
      "metadata": {
        "id": "85nliZbnReKS"
      },
      "source": [
        "for i in top_50:\n",
        "  cast, _ = i\n",
        "  rdataset[cast] = rdataset[\"cast\"].apply(lambda x: 1 if cast in x else 0)"
      ],
      "execution_count": null,
      "outputs": []
    },
    {
      "cell_type": "code",
      "metadata": {
        "colab": {
          "base_uri": "https://localhost:8080/",
          "height": 260
        },
        "id": "PxrlDuJxR4NG",
        "outputId": "6c0b24f1-6d53-41f0-aef7-905cc2e4a73d"
      },
      "source": [
        "rdataset.head(1)"
      ],
      "execution_count": null,
      "outputs": [
        {
          "output_type": "execute_result",
          "data": {
            "text/html": [
              "<div>\n",
              "<style scoped>\n",
              "    .dataframe tbody tr th:only-of-type {\n",
              "        vertical-align: middle;\n",
              "    }\n",
              "\n",
              "    .dataframe tbody tr th {\n",
              "        vertical-align: top;\n",
              "    }\n",
              "\n",
              "    .dataframe thead th {\n",
              "        text-align: right;\n",
              "    }\n",
              "</style>\n",
              "<table border=\"1\" class=\"dataframe\">\n",
              "  <thead>\n",
              "    <tr style=\"text-align: right;\">\n",
              "      <th></th>\n",
              "      <th>budget</th>\n",
              "      <th>original_language</th>\n",
              "      <th>overview</th>\n",
              "      <th>production_companies</th>\n",
              "      <th>production_countries</th>\n",
              "      <th>revenue</th>\n",
              "      <th>runtime</th>\n",
              "      <th>spoken_languages</th>\n",
              "      <th>status</th>\n",
              "      <th>title</th>\n",
              "      <th>cast</th>\n",
              "      <th>crew</th>\n",
              "      <th>release_year</th>\n",
              "      <th>nbudget</th>\n",
              "      <th>Action</th>\n",
              "      <th>Adventure</th>\n",
              "      <th>Fantasy</th>\n",
              "      <th>Science Fiction</th>\n",
              "      <th>Crime</th>\n",
              "      <th>Drama</th>\n",
              "      <th>Thriller</th>\n",
              "      <th>Animation</th>\n",
              "      <th>Family</th>\n",
              "      <th>Western</th>\n",
              "      <th>Comedy</th>\n",
              "      <th>Romance</th>\n",
              "      <th>Horror</th>\n",
              "      <th>Mystery</th>\n",
              "      <th>History</th>\n",
              "      <th>War</th>\n",
              "      <th>Music</th>\n",
              "      <th>Documentary</th>\n",
              "      <th>Foreign</th>\n",
              "      <th>num_genres</th>\n",
              "      <th>release_month</th>\n",
              "      <th>release_day</th>\n",
              "      <th>has_homepage</th>\n",
              "      <th>United States of America</th>\n",
              "      <th>United Kingdom</th>\n",
              "      <th>Germany</th>\n",
              "      <th>...</th>\n",
              "      <th>Ewan McGregor</th>\n",
              "      <th>Steve Zahn</th>\n",
              "      <th>Jim Carrey</th>\n",
              "      <th>Channing Tatum</th>\n",
              "      <th>Jude Law</th>\n",
              "      <th>Julianne Moore</th>\n",
              "      <th>Jason Bateman</th>\n",
              "      <th>John Travolta</th>\n",
              "      <th>Luis Guzmán</th>\n",
              "      <th>Robert Duvall</th>\n",
              "      <th>Christian Bale</th>\n",
              "      <th>Elizabeth Banks</th>\n",
              "      <th>Mark Ruffalo</th>\n",
              "      <th>James Marsden</th>\n",
              "      <th>Tom Wilkinson</th>\n",
              "      <th>Will Smith</th>\n",
              "      <th>Nicole Kidman</th>\n",
              "      <th>Hugh Jackman</th>\n",
              "      <th>Dwayne Johnson</th>\n",
              "      <th>Christopher Plummer</th>\n",
              "      <th>Viola Davis</th>\n",
              "      <th>John C. Reilly</th>\n",
              "      <th>Kristen Wiig</th>\n",
              "      <th>Anthony Hopkins</th>\n",
              "      <th>Octavia Spencer</th>\n",
              "      <th>Susan Sarandon</th>\n",
              "      <th>Forest Whitaker</th>\n",
              "      <th>Adam Sandler</th>\n",
              "      <th>Meryl Streep</th>\n",
              "      <th>Michael Caine</th>\n",
              "      <th>Jim Broadbent</th>\n",
              "      <th>Kevin Costner</th>\n",
              "      <th>Stephen Root</th>\n",
              "      <th>John Turturro</th>\n",
              "      <th>Jason Statham</th>\n",
              "      <th>John Hurt</th>\n",
              "      <th>Danny Glover</th>\n",
              "      <th>Terrence Howard</th>\n",
              "      <th>Eddie Murphy</th>\n",
              "      <th>Donald Sutherland</th>\n",
              "    </tr>\n",
              "  </thead>\n",
              "  <tbody>\n",
              "    <tr>\n",
              "      <th>0</th>\n",
              "      <td>237000000.0</td>\n",
              "      <td>en</td>\n",
              "      <td>In the 22nd century, a paraplegic Marine is di...</td>\n",
              "      <td>[{\"name\": \"Ingenious Film Partners\", \"id\": 289...</td>\n",
              "      <td>[{\"iso_3166_1\": \"US\", \"name\": \"United States o...</td>\n",
              "      <td>2787965087</td>\n",
              "      <td>162.0</td>\n",
              "      <td>[{\"iso_639_1\": \"en\", \"name\": \"English\"}, {\"iso...</td>\n",
              "      <td>Released</td>\n",
              "      <td>Avatar</td>\n",
              "      <td>[{\"cast_id\": 242, \"character\": \"Jake Sully\", \"...</td>\n",
              "      <td>[{\"credit_id\": \"52fe48009251416c750aca23\", \"de...</td>\n",
              "      <td>2009</td>\n",
              "      <td>237000000.0</td>\n",
              "      <td>1</td>\n",
              "      <td>1</td>\n",
              "      <td>1</td>\n",
              "      <td>1</td>\n",
              "      <td>0</td>\n",
              "      <td>0</td>\n",
              "      <td>0</td>\n",
              "      <td>0</td>\n",
              "      <td>0</td>\n",
              "      <td>0</td>\n",
              "      <td>0</td>\n",
              "      <td>0</td>\n",
              "      <td>0</td>\n",
              "      <td>0</td>\n",
              "      <td>0</td>\n",
              "      <td>0</td>\n",
              "      <td>0</td>\n",
              "      <td>0</td>\n",
              "      <td>0</td>\n",
              "      <td>4</td>\n",
              "      <td>12</td>\n",
              "      <td>3</td>\n",
              "      <td>1</td>\n",
              "      <td>1</td>\n",
              "      <td>1</td>\n",
              "      <td>0</td>\n",
              "      <td>...</td>\n",
              "      <td>0</td>\n",
              "      <td>0</td>\n",
              "      <td>0</td>\n",
              "      <td>0</td>\n",
              "      <td>0</td>\n",
              "      <td>0</td>\n",
              "      <td>0</td>\n",
              "      <td>0</td>\n",
              "      <td>0</td>\n",
              "      <td>0</td>\n",
              "      <td>0</td>\n",
              "      <td>0</td>\n",
              "      <td>0</td>\n",
              "      <td>0</td>\n",
              "      <td>0</td>\n",
              "      <td>0</td>\n",
              "      <td>0</td>\n",
              "      <td>0</td>\n",
              "      <td>0</td>\n",
              "      <td>0</td>\n",
              "      <td>0</td>\n",
              "      <td>0</td>\n",
              "      <td>0</td>\n",
              "      <td>0</td>\n",
              "      <td>0</td>\n",
              "      <td>0</td>\n",
              "      <td>0</td>\n",
              "      <td>0</td>\n",
              "      <td>0</td>\n",
              "      <td>0</td>\n",
              "      <td>0</td>\n",
              "      <td>0</td>\n",
              "      <td>0</td>\n",
              "      <td>0</td>\n",
              "      <td>0</td>\n",
              "      <td>0</td>\n",
              "      <td>0</td>\n",
              "      <td>0</td>\n",
              "      <td>0</td>\n",
              "      <td>0</td>\n",
              "    </tr>\n",
              "  </tbody>\n",
              "</table>\n",
              "<p>1 rows × 148 columns</p>\n",
              "</div>"
            ],
            "text/plain": [
              "        budget original_language  ... Eddie Murphy Donald Sutherland\n",
              "0  237000000.0                en  ...            0                 0\n",
              "\n",
              "[1 rows x 148 columns]"
            ]
          },
          "metadata": {
            "tags": []
          },
          "execution_count": 260
        }
      ]
    },
    {
      "cell_type": "code",
      "metadata": {
        "id": "272uHAYWSCTZ"
      },
      "source": [
        "bs_features = features.copy()"
      ],
      "execution_count": null,
      "outputs": []
    },
    {
      "cell_type": "code",
      "metadata": {
        "id": "gpOSx0LmSS5B"
      },
      "source": [
        "for i in top_50:\n",
        "  cast, _ = i\n",
        "  if cast not in features:\n",
        "    features.append(cast)"
      ],
      "execution_count": null,
      "outputs": []
    },
    {
      "cell_type": "code",
      "metadata": {
        "colab": {
          "base_uri": "https://localhost:8080/"
        },
        "id": "_mQcJfURSa2h",
        "outputId": "d2b4d8c5-9a93-43e6-b189-932de68548b9"
      },
      "source": [
        "features"
      ],
      "execution_count": null,
      "outputs": [
        {
          "output_type": "execute_result",
          "data": {
            "text/plain": [
              "['original_language',\n",
              " 'runtime',\n",
              " 'release_year',\n",
              " 'nbudget',\n",
              " 'Action',\n",
              " 'Adventure',\n",
              " 'Fantasy',\n",
              " 'Science Fiction',\n",
              " 'Crime',\n",
              " 'Drama',\n",
              " 'Thriller',\n",
              " 'Animation',\n",
              " 'Family',\n",
              " 'Western',\n",
              " 'Comedy',\n",
              " 'Romance',\n",
              " 'Horror',\n",
              " 'Mystery',\n",
              " 'History',\n",
              " 'War',\n",
              " 'Music',\n",
              " 'Documentary',\n",
              " 'Foreign',\n",
              " 'num_genres',\n",
              " 'release_month',\n",
              " 'release_day',\n",
              " 'has_homepage',\n",
              " 'Samuel L. Jackson',\n",
              " 'Robert De Niro',\n",
              " 'Morgan Freeman',\n",
              " 'Matt Damon',\n",
              " 'Bruce Willis',\n",
              " 'Johnny Depp',\n",
              " 'Liam Neeson',\n",
              " 'Owen Wilson',\n",
              " 'Brad Pitt',\n",
              " 'Willem Dafoe',\n",
              " 'Nicolas Cage',\n",
              " 'Steve Buscemi',\n",
              " 'Stanley Tucci',\n",
              " 'Tom Cruise',\n",
              " 'Bill Murray',\n",
              " 'Alec Baldwin',\n",
              " 'Ben Stiller',\n",
              " 'J.K. Simmons',\n",
              " 'John Goodman',\n",
              " 'Frank Welker',\n",
              " 'Tom Hanks',\n",
              " 'Arnold Schwarzenegger',\n",
              " 'Harrison Ford',\n",
              " 'Cameron Diaz',\n",
              " 'George Clooney',\n",
              " 'Will Ferrell',\n",
              " 'Justin Long',\n",
              " 'Bill Hader',\n",
              " 'Jack Black',\n",
              " 'Paul Giamatti',\n",
              " 'Sylvester Stallone',\n",
              " 'Ben Affleck',\n",
              " 'Ben Kingsley',\n",
              " 'Mark Wahlberg',\n",
              " 'Woody Harrelson',\n",
              " 'Seth Rogen',\n",
              " 'Antonio Banderas',\n",
              " 'Denzel Washington',\n",
              " 'Laurence Fishburne',\n",
              " 'Cate Blanchett',\n",
              " 'Paul Rudd',\n",
              " 'Christopher Walken',\n",
              " 'Robin Williams',\n",
              " 'Richard Jenkins',\n",
              " 'Keith David',\n",
              " 'Julia Roberts',\n",
              " 'Anthony Mackie',\n",
              " 'Jonah Hill',\n",
              " 'Brendan Gleeson',\n",
              " 'Matthew McConaughey',\n",
              " 'Samuel L. Jackson',\n",
              " 'Robert De Niro',\n",
              " 'Morgan Freeman',\n",
              " 'Matt Damon',\n",
              " 'Bruce Willis',\n",
              " 'Johnny Depp',\n",
              " 'Liam Neeson',\n",
              " 'Owen Wilson',\n",
              " 'Brad Pitt',\n",
              " 'Willem Dafoe',\n",
              " 'Nicolas Cage',\n",
              " 'Steve Buscemi',\n",
              " 'Stanley Tucci',\n",
              " 'Tom Cruise',\n",
              " 'Bill Murray',\n",
              " 'Alec Baldwin',\n",
              " 'Ben Stiller',\n",
              " 'J.K. Simmons',\n",
              " 'John Goodman',\n",
              " 'Frank Welker',\n",
              " 'Tom Hanks',\n",
              " 'Arnold Schwarzenegger',\n",
              " 'Harrison Ford',\n",
              " 'Cameron Diaz',\n",
              " 'George Clooney',\n",
              " 'Will Ferrell',\n",
              " 'Justin Long',\n",
              " 'Bill Hader',\n",
              " 'Jack Black',\n",
              " 'Paul Giamatti',\n",
              " 'Sylvester Stallone',\n",
              " 'Ben Affleck',\n",
              " 'Ben Kingsley',\n",
              " 'Mark Wahlberg',\n",
              " 'Woody Harrelson',\n",
              " 'Seth Rogen',\n",
              " 'Antonio Banderas',\n",
              " 'Denzel Washington',\n",
              " 'Laurence Fishburne',\n",
              " 'Cate Blanchett',\n",
              " 'Paul Rudd',\n",
              " 'Christopher Walken',\n",
              " 'Robin Williams',\n",
              " 'Richard Jenkins',\n",
              " 'Keith David',\n",
              " 'Julia Roberts',\n",
              " 'Anthony Mackie',\n",
              " 'Jonah Hill',\n",
              " 'Brendan Gleeson',\n",
              " 'Matthew McConaughey',\n",
              " 'Philip Seymour Hoffman',\n",
              " 'Dustin Hoffman',\n",
              " 'Brian Cox',\n",
              " 'John Leguizamo',\n",
              " 'Sigourney Weaver',\n",
              " 'Bill Nighy',\n",
              " 'Gary Oldman',\n",
              " 'James Franco',\n",
              " 'Stan Lee',\n",
              " 'Michael Shannon',\n",
              " 'Ewan McGregor',\n",
              " 'Steve Zahn',\n",
              " 'Jim Carrey',\n",
              " 'Channing Tatum',\n",
              " 'Jude Law',\n",
              " 'Julianne Moore',\n",
              " 'Jason Bateman',\n",
              " 'John Travolta',\n",
              " 'Luis Guzmán',\n",
              " 'Robert Duvall',\n",
              " 'Christian Bale',\n",
              " 'Elizabeth Banks',\n",
              " 'Mark Ruffalo',\n",
              " 'James Marsden',\n",
              " 'Tom Wilkinson',\n",
              " 'Will Smith',\n",
              " 'Nicole Kidman',\n",
              " 'Hugh Jackman',\n",
              " 'Dwayne Johnson',\n",
              " 'Christopher Plummer',\n",
              " 'Viola Davis',\n",
              " 'John C. Reilly',\n",
              " 'Kristen Wiig',\n",
              " 'Anthony Hopkins',\n",
              " 'Octavia Spencer',\n",
              " 'Susan Sarandon',\n",
              " 'Forest Whitaker',\n",
              " 'Adam Sandler',\n",
              " 'Meryl Streep',\n",
              " 'Michael Caine',\n",
              " 'Jim Broadbent',\n",
              " 'Kevin Costner',\n",
              " 'Stephen Root',\n",
              " 'John Turturro',\n",
              " 'Jason Statham',\n",
              " 'John Hurt',\n",
              " 'Danny Glover',\n",
              " 'Terrence Howard',\n",
              " 'Eddie Murphy',\n",
              " 'Donald Sutherland']"
            ]
          },
          "metadata": {
            "tags": []
          },
          "execution_count": 263
        }
      ]
    },
    {
      "cell_type": "code",
      "metadata": {
        "colab": {
          "base_uri": "https://localhost:8080/"
        },
        "id": "liB0ASN5Svku",
        "outputId": "8b169911-0455-4769-a34d-f714daf5dcbd"
      },
      "source": [
        "bs_features"
      ],
      "execution_count": null,
      "outputs": [
        {
          "output_type": "execute_result",
          "data": {
            "text/plain": [
              "['original_language',\n",
              " 'runtime',\n",
              " 'release_year',\n",
              " 'nbudget',\n",
              " 'Action',\n",
              " 'Adventure',\n",
              " 'Fantasy',\n",
              " 'Science Fiction',\n",
              " 'Crime',\n",
              " 'Drama',\n",
              " 'Thriller',\n",
              " 'Animation',\n",
              " 'Family',\n",
              " 'Western',\n",
              " 'Comedy',\n",
              " 'Romance',\n",
              " 'Horror',\n",
              " 'Mystery',\n",
              " 'History',\n",
              " 'War',\n",
              " 'Music',\n",
              " 'Documentary',\n",
              " 'Foreign',\n",
              " 'num_genres',\n",
              " 'release_month',\n",
              " 'release_day',\n",
              " 'has_homepage',\n",
              " 'Samuel L. Jackson',\n",
              " 'Robert De Niro',\n",
              " 'Morgan Freeman',\n",
              " 'Matt Damon',\n",
              " 'Bruce Willis',\n",
              " 'Johnny Depp',\n",
              " 'Liam Neeson',\n",
              " 'Owen Wilson',\n",
              " 'Brad Pitt',\n",
              " 'Willem Dafoe',\n",
              " 'Nicolas Cage',\n",
              " 'Steve Buscemi',\n",
              " 'Stanley Tucci',\n",
              " 'Tom Cruise',\n",
              " 'Bill Murray',\n",
              " 'Alec Baldwin',\n",
              " 'Ben Stiller',\n",
              " 'J.K. Simmons',\n",
              " 'John Goodman',\n",
              " 'Frank Welker',\n",
              " 'Tom Hanks',\n",
              " 'Arnold Schwarzenegger',\n",
              " 'Harrison Ford',\n",
              " 'Cameron Diaz',\n",
              " 'George Clooney',\n",
              " 'Will Ferrell',\n",
              " 'Justin Long',\n",
              " 'Bill Hader',\n",
              " 'Jack Black',\n",
              " 'Paul Giamatti',\n",
              " 'Sylvester Stallone',\n",
              " 'Ben Affleck',\n",
              " 'Ben Kingsley',\n",
              " 'Mark Wahlberg',\n",
              " 'Woody Harrelson',\n",
              " 'Seth Rogen',\n",
              " 'Antonio Banderas',\n",
              " 'Denzel Washington',\n",
              " 'Laurence Fishburne',\n",
              " 'Cate Blanchett',\n",
              " 'Paul Rudd',\n",
              " 'Christopher Walken',\n",
              " 'Robin Williams',\n",
              " 'Richard Jenkins',\n",
              " 'Keith David',\n",
              " 'Julia Roberts',\n",
              " 'Anthony Mackie',\n",
              " 'Jonah Hill',\n",
              " 'Brendan Gleeson',\n",
              " 'Matthew McConaughey',\n",
              " 'Samuel L. Jackson',\n",
              " 'Robert De Niro',\n",
              " 'Morgan Freeman',\n",
              " 'Matt Damon',\n",
              " 'Bruce Willis',\n",
              " 'Johnny Depp',\n",
              " 'Liam Neeson',\n",
              " 'Owen Wilson',\n",
              " 'Brad Pitt',\n",
              " 'Willem Dafoe',\n",
              " 'Nicolas Cage',\n",
              " 'Steve Buscemi',\n",
              " 'Stanley Tucci',\n",
              " 'Tom Cruise',\n",
              " 'Bill Murray',\n",
              " 'Alec Baldwin',\n",
              " 'Ben Stiller',\n",
              " 'J.K. Simmons',\n",
              " 'John Goodman',\n",
              " 'Frank Welker',\n",
              " 'Tom Hanks',\n",
              " 'Arnold Schwarzenegger',\n",
              " 'Harrison Ford',\n",
              " 'Cameron Diaz',\n",
              " 'George Clooney',\n",
              " 'Will Ferrell',\n",
              " 'Justin Long',\n",
              " 'Bill Hader',\n",
              " 'Jack Black',\n",
              " 'Paul Giamatti',\n",
              " 'Sylvester Stallone',\n",
              " 'Ben Affleck',\n",
              " 'Ben Kingsley',\n",
              " 'Mark Wahlberg',\n",
              " 'Woody Harrelson',\n",
              " 'Seth Rogen',\n",
              " 'Antonio Banderas',\n",
              " 'Denzel Washington',\n",
              " 'Laurence Fishburne',\n",
              " 'Cate Blanchett',\n",
              " 'Paul Rudd',\n",
              " 'Christopher Walken',\n",
              " 'Robin Williams',\n",
              " 'Richard Jenkins',\n",
              " 'Keith David',\n",
              " 'Julia Roberts',\n",
              " 'Anthony Mackie',\n",
              " 'Jonah Hill',\n",
              " 'Brendan Gleeson',\n",
              " 'Matthew McConaughey',\n",
              " 'Philip Seymour Hoffman',\n",
              " 'Dustin Hoffman',\n",
              " 'Brian Cox',\n",
              " 'John Leguizamo',\n",
              " 'Sigourney Weaver',\n",
              " 'Bill Nighy',\n",
              " 'Gary Oldman',\n",
              " 'James Franco',\n",
              " 'Stan Lee',\n",
              " 'Michael Shannon',\n",
              " 'Ewan McGregor',\n",
              " 'Steve Zahn',\n",
              " 'Jim Carrey',\n",
              " 'Channing Tatum',\n",
              " 'Jude Law',\n",
              " 'Julianne Moore',\n",
              " 'Jason Bateman',\n",
              " 'John Travolta',\n",
              " 'Luis Guzmán',\n",
              " 'Robert Duvall',\n",
              " 'Christian Bale',\n",
              " 'Elizabeth Banks',\n",
              " 'Mark Ruffalo',\n",
              " 'James Marsden',\n",
              " 'Tom Wilkinson',\n",
              " 'Will Smith',\n",
              " 'Nicole Kidman',\n",
              " 'Hugh Jackman',\n",
              " 'Dwayne Johnson',\n",
              " 'Christopher Plummer',\n",
              " 'Viola Davis',\n",
              " 'John C. Reilly',\n",
              " 'Kristen Wiig',\n",
              " 'Anthony Hopkins',\n",
              " 'Octavia Spencer',\n",
              " 'Susan Sarandon',\n",
              " 'Forest Whitaker',\n",
              " 'Adam Sandler',\n",
              " 'Meryl Streep',\n",
              " 'Michael Caine',\n",
              " 'Jim Broadbent',\n",
              " 'Kevin Costner',\n",
              " 'Stephen Root',\n",
              " 'John Turturro',\n",
              " 'Jason Statham',\n",
              " 'John Hurt',\n",
              " 'Danny Glover',\n",
              " 'Terrence Howard',\n",
              " 'Eddie Murphy',\n",
              " 'Donald Sutherland']"
            ]
          },
          "metadata": {
            "tags": []
          },
          "execution_count": 264
        }
      ]
    },
    {
      "cell_type": "code",
      "metadata": {
        "id": "IWO97Lq3SyO8"
      },
      "source": [
        "X_training, X_test, y_training, y_test = train_test_split(rdataset[features], rdataset[\"revenue\"], test_size=0.1, shuffle = True)"
      ],
      "execution_count": null,
      "outputs": []
    },
    {
      "cell_type": "code",
      "metadata": {
        "colab": {
          "base_uri": "https://localhost:8080/",
          "height": 458
        },
        "id": "gI0TDpYdTISB",
        "outputId": "8ff8aacb-b962-4747-9c4c-9109a7a3b8e0"
      },
      "source": [
        "training_pool = Pool(data= X_training, label = y_training, cat_features=categorical_features)"
      ],
      "execution_count": null,
      "outputs": [
        {
          "output_type": "error",
          "ename": "CatBoostError",
          "evalue": "ignored",
          "traceback": [
            "\u001b[0;31m---------------------------------------------------------------------------\u001b[0m",
            "\u001b[0;31mCatBoostError\u001b[0m                             Traceback (most recent call last)",
            "\u001b[0;32m<ipython-input-266-d316cb1d44f6>\u001b[0m in \u001b[0;36m<module>\u001b[0;34m()\u001b[0m\n\u001b[0;32m----> 1\u001b[0;31m \u001b[0mtraining_pool\u001b[0m \u001b[0;34m=\u001b[0m \u001b[0mPool\u001b[0m\u001b[0;34m(\u001b[0m\u001b[0mdata\u001b[0m\u001b[0;34m=\u001b[0m \u001b[0mX_training\u001b[0m\u001b[0;34m,\u001b[0m \u001b[0mlabel\u001b[0m \u001b[0;34m=\u001b[0m \u001b[0my_training\u001b[0m\u001b[0;34m,\u001b[0m \u001b[0mcat_features\u001b[0m\u001b[0;34m=\u001b[0m\u001b[0mcategorical_features\u001b[0m\u001b[0;34m)\u001b[0m\u001b[0;34m\u001b[0m\u001b[0;34m\u001b[0m\u001b[0m\n\u001b[0m",
            "\u001b[0;32m/usr/local/lib/python3.7/dist-packages/catboost/core.py\u001b[0m in \u001b[0;36m__init__\u001b[0;34m(self, data, label, cat_features, text_features, embedding_features, column_description, pairs, delimiter, has_header, ignore_csv_quoting, weight, group_id, group_weight, subgroup_id, pairs_weight, baseline, feature_names, thread_count, log_cout, log_cerr)\u001b[0m\n\u001b[1;32m    615\u001b[0m                     )\n\u001b[1;32m    616\u001b[0m \u001b[0;34m\u001b[0m\u001b[0m\n\u001b[0;32m--> 617\u001b[0;31m                 \u001b[0mself\u001b[0m\u001b[0;34m.\u001b[0m\u001b[0m_init\u001b[0m\u001b[0;34m(\u001b[0m\u001b[0mdata\u001b[0m\u001b[0;34m,\u001b[0m \u001b[0mlabel\u001b[0m\u001b[0;34m,\u001b[0m \u001b[0mcat_features\u001b[0m\u001b[0;34m,\u001b[0m \u001b[0mtext_features\u001b[0m\u001b[0;34m,\u001b[0m \u001b[0membedding_features\u001b[0m\u001b[0;34m,\u001b[0m \u001b[0mpairs\u001b[0m\u001b[0;34m,\u001b[0m \u001b[0mweight\u001b[0m\u001b[0;34m,\u001b[0m \u001b[0mgroup_id\u001b[0m\u001b[0;34m,\u001b[0m \u001b[0mgroup_weight\u001b[0m\u001b[0;34m,\u001b[0m \u001b[0msubgroup_id\u001b[0m\u001b[0;34m,\u001b[0m \u001b[0mpairs_weight\u001b[0m\u001b[0;34m,\u001b[0m \u001b[0mbaseline\u001b[0m\u001b[0;34m,\u001b[0m \u001b[0mfeature_names\u001b[0m\u001b[0;34m,\u001b[0m \u001b[0mthread_count\u001b[0m\u001b[0;34m)\u001b[0m\u001b[0;34m\u001b[0m\u001b[0;34m\u001b[0m\u001b[0m\n\u001b[0m\u001b[1;32m    618\u001b[0m         \u001b[0msuper\u001b[0m\u001b[0;34m(\u001b[0m\u001b[0mPool\u001b[0m\u001b[0;34m,\u001b[0m \u001b[0mself\u001b[0m\u001b[0;34m)\u001b[0m\u001b[0;34m.\u001b[0m\u001b[0m__init__\u001b[0m\u001b[0;34m(\u001b[0m\u001b[0;34m)\u001b[0m\u001b[0;34m\u001b[0m\u001b[0;34m\u001b[0m\u001b[0m\n\u001b[1;32m    619\u001b[0m \u001b[0;34m\u001b[0m\u001b[0m\n",
            "\u001b[0;32m/usr/local/lib/python3.7/dist-packages/catboost/core.py\u001b[0m in \u001b[0;36m_init\u001b[0;34m(self, data, label, cat_features, text_features, embedding_features, pairs, weight, group_id, group_weight, subgroup_id, pairs_weight, baseline, feature_names, thread_count)\u001b[0m\n\u001b[1;32m   1131\u001b[0m             \u001b[0mbaseline\u001b[0m \u001b[0;34m=\u001b[0m \u001b[0mnp\u001b[0m\u001b[0;34m.\u001b[0m\u001b[0mreshape\u001b[0m\u001b[0;34m(\u001b[0m\u001b[0mbaseline\u001b[0m\u001b[0;34m,\u001b[0m \u001b[0;34m(\u001b[0m\u001b[0msamples_count\u001b[0m\u001b[0;34m,\u001b[0m \u001b[0;34m-\u001b[0m\u001b[0;36m1\u001b[0m\u001b[0;34m)\u001b[0m\u001b[0;34m)\u001b[0m\u001b[0;34m\u001b[0m\u001b[0;34m\u001b[0m\u001b[0m\n\u001b[1;32m   1132\u001b[0m             \u001b[0mself\u001b[0m\u001b[0;34m.\u001b[0m\u001b[0m_check_baseline_shape\u001b[0m\u001b[0;34m(\u001b[0m\u001b[0mbaseline\u001b[0m\u001b[0;34m,\u001b[0m \u001b[0msamples_count\u001b[0m\u001b[0;34m)\u001b[0m\u001b[0;34m\u001b[0m\u001b[0;34m\u001b[0m\u001b[0m\n\u001b[0;32m-> 1133\u001b[0;31m         \u001b[0mself\u001b[0m\u001b[0;34m.\u001b[0m\u001b[0m_init_pool\u001b[0m\u001b[0;34m(\u001b[0m\u001b[0mdata\u001b[0m\u001b[0;34m,\u001b[0m \u001b[0mlabel\u001b[0m\u001b[0;34m,\u001b[0m \u001b[0mcat_features\u001b[0m\u001b[0;34m,\u001b[0m \u001b[0mtext_features\u001b[0m\u001b[0;34m,\u001b[0m \u001b[0membedding_features\u001b[0m\u001b[0;34m,\u001b[0m \u001b[0mpairs\u001b[0m\u001b[0;34m,\u001b[0m \u001b[0mweight\u001b[0m\u001b[0;34m,\u001b[0m \u001b[0mgroup_id\u001b[0m\u001b[0;34m,\u001b[0m \u001b[0mgroup_weight\u001b[0m\u001b[0;34m,\u001b[0m \u001b[0msubgroup_id\u001b[0m\u001b[0;34m,\u001b[0m \u001b[0mpairs_weight\u001b[0m\u001b[0;34m,\u001b[0m \u001b[0mbaseline\u001b[0m\u001b[0;34m,\u001b[0m \u001b[0mfeature_names\u001b[0m\u001b[0;34m,\u001b[0m \u001b[0mthread_count\u001b[0m\u001b[0;34m)\u001b[0m\u001b[0;34m\u001b[0m\u001b[0;34m\u001b[0m\u001b[0m\n\u001b[0m\u001b[1;32m   1134\u001b[0m \u001b[0;34m\u001b[0m\u001b[0m\n\u001b[1;32m   1135\u001b[0m \u001b[0;34m\u001b[0m\u001b[0m\n",
            "\u001b[0;32m_catboost.pyx\u001b[0m in \u001b[0;36m_catboost._PoolBase._init_pool\u001b[0;34m()\u001b[0m\n",
            "\u001b[0;32m_catboost.pyx\u001b[0m in \u001b[0;36m_catboost._PoolBase._init_pool\u001b[0;34m()\u001b[0m\n",
            "\u001b[0;32m_catboost.pyx\u001b[0m in \u001b[0;36m_catboost._init_features_layout\u001b[0;34m()\u001b[0m\n",
            "\u001b[0;31mCatBoostError\u001b[0m: catboost/libs/data/features_layout.cpp:109: All feature names should be different, but 'Samuel L. Jackson' used more than once."
          ]
        }
      ]
    },
    {
      "cell_type": "code",
      "metadata": {
        "id": "Yxa2DzQOTY46"
      },
      "source": [
        "model_2 =  CatBoostRegressor(iterations=1000,\n",
        "                        learning_rate=0.005,\n",
        "                        depth=8,\n",
        "                        l2_leaf_reg=None,\n",
        "                        model_size_reg=None,\n",
        "                        loss_function='RMSE')"
      ],
      "execution_count": null,
      "outputs": []
    },
    {
      "cell_type": "code",
      "metadata": {
        "colab": {
          "base_uri": "https://localhost:8080/"
        },
        "id": "6NdFJBwZTj_3",
        "outputId": "1bb429ca-135f-45e3-daf8-ca1428f9664d"
      },
      "source": [
        "model_2.fit(training_pool)"
      ],
      "execution_count": null,
      "outputs": [
        {
          "output_type": "stream",
          "text": [
            "0:\tlearn: 183093164.4512689\ttotal: 12.7ms\tremaining: 12.6s\n",
            "1:\tlearn: 182682039.8725871\ttotal: 24.8ms\tremaining: 12.4s\n",
            "2:\tlearn: 182265148.3990888\ttotal: 36.7ms\tremaining: 12.2s\n",
            "3:\tlearn: 181841714.2341246\ttotal: 48.6ms\tremaining: 12.1s\n",
            "4:\tlearn: 181430950.2981442\ttotal: 60.3ms\tremaining: 12s\n",
            "5:\tlearn: 181014226.1194547\ttotal: 71.9ms\tremaining: 11.9s\n",
            "6:\tlearn: 180590974.1879906\ttotal: 77.1ms\tremaining: 10.9s\n",
            "7:\tlearn: 180172497.5258161\ttotal: 88.9ms\tremaining: 11s\n",
            "8:\tlearn: 179777935.7097771\ttotal: 99.8ms\tremaining: 11s\n",
            "9:\tlearn: 179374459.7123055\ttotal: 111ms\tremaining: 11s\n",
            "10:\tlearn: 178965074.1537254\ttotal: 122ms\tremaining: 11s\n",
            "11:\tlearn: 178583461.8619186\ttotal: 133ms\tremaining: 11s\n",
            "12:\tlearn: 178195187.6857811\ttotal: 145ms\tremaining: 11s\n",
            "13:\tlearn: 177825017.1216618\ttotal: 156ms\tremaining: 11s\n",
            "14:\tlearn: 177498773.5222575\ttotal: 168ms\tremaining: 11s\n",
            "15:\tlearn: 177136530.1986581\ttotal: 179ms\tremaining: 11s\n",
            "16:\tlearn: 176765744.0222221\ttotal: 190ms\tremaining: 11s\n",
            "17:\tlearn: 176420618.3273805\ttotal: 203ms\tremaining: 11.1s\n",
            "18:\tlearn: 176054517.4241360\ttotal: 218ms\tremaining: 11.2s\n",
            "19:\tlearn: 175715694.5399418\ttotal: 220ms\tremaining: 10.8s\n",
            "20:\tlearn: 175336853.6497763\ttotal: 232ms\tremaining: 10.8s\n",
            "21:\tlearn: 174954085.4546901\ttotal: 246ms\tremaining: 10.9s\n",
            "22:\tlearn: 174568807.0028995\ttotal: 251ms\tremaining: 10.6s\n",
            "23:\tlearn: 174199023.8231809\ttotal: 262ms\tremaining: 10.6s\n",
            "24:\tlearn: 173843490.3296541\ttotal: 273ms\tremaining: 10.7s\n",
            "25:\tlearn: 173464504.0361743\ttotal: 281ms\tremaining: 10.5s\n",
            "26:\tlearn: 173121400.5333653\ttotal: 292ms\tremaining: 10.5s\n",
            "27:\tlearn: 172746471.7881676\ttotal: 303ms\tremaining: 10.5s\n",
            "28:\tlearn: 172391552.8491581\ttotal: 314ms\tremaining: 10.5s\n",
            "29:\tlearn: 172053086.0474814\ttotal: 319ms\tremaining: 10.3s\n",
            "30:\tlearn: 171687673.9782178\ttotal: 330ms\tremaining: 10.3s\n",
            "31:\tlearn: 171345335.3356259\ttotal: 334ms\tremaining: 10.1s\n",
            "32:\tlearn: 170990927.8621541\ttotal: 345ms\tremaining: 10.1s\n",
            "33:\tlearn: 170651518.5936818\ttotal: 359ms\tremaining: 10.2s\n",
            "34:\tlearn: 170332283.0813522\ttotal: 366ms\tremaining: 10.1s\n",
            "35:\tlearn: 170005344.4697510\ttotal: 378ms\tremaining: 10.1s\n",
            "36:\tlearn: 169664367.1035258\ttotal: 389ms\tremaining: 10.1s\n",
            "37:\tlearn: 169357702.9919625\ttotal: 400ms\tremaining: 10.1s\n",
            "38:\tlearn: 169048213.6827205\ttotal: 415ms\tremaining: 10.2s\n",
            "39:\tlearn: 168737808.0766982\ttotal: 426ms\tremaining: 10.2s\n",
            "40:\tlearn: 168380148.1420929\ttotal: 438ms\tremaining: 10.2s\n",
            "41:\tlearn: 168043218.8050821\ttotal: 449ms\tremaining: 10.2s\n",
            "42:\tlearn: 167726332.3791605\ttotal: 460ms\tremaining: 10.2s\n",
            "43:\tlearn: 167393465.2266993\ttotal: 472ms\tremaining: 10.3s\n",
            "44:\tlearn: 167064783.5943948\ttotal: 486ms\tremaining: 10.3s\n",
            "45:\tlearn: 166779019.2664436\ttotal: 498ms\tremaining: 10.3s\n",
            "46:\tlearn: 166501739.5600944\ttotal: 510ms\tremaining: 10.3s\n",
            "47:\tlearn: 166204365.4878089\ttotal: 520ms\tremaining: 10.3s\n",
            "48:\tlearn: 165909616.1058517\ttotal: 539ms\tremaining: 10.5s\n",
            "49:\tlearn: 165595403.6163619\ttotal: 550ms\tremaining: 10.4s\n",
            "50:\tlearn: 165294878.9858842\ttotal: 561ms\tremaining: 10.4s\n",
            "51:\tlearn: 165006404.6103358\ttotal: 572ms\tremaining: 10.4s\n",
            "52:\tlearn: 164699251.2914972\ttotal: 584ms\tremaining: 10.4s\n",
            "53:\tlearn: 164403721.1167159\ttotal: 595ms\tremaining: 10.4s\n",
            "54:\tlearn: 164095278.4297512\ttotal: 606ms\tremaining: 10.4s\n",
            "55:\tlearn: 163783206.1523062\ttotal: 622ms\tremaining: 10.5s\n",
            "56:\tlearn: 163499039.1446402\ttotal: 634ms\tremaining: 10.5s\n",
            "57:\tlearn: 163201356.7972779\ttotal: 645ms\tremaining: 10.5s\n",
            "58:\tlearn: 162903135.7443834\ttotal: 660ms\tremaining: 10.5s\n",
            "59:\tlearn: 162608976.5851515\ttotal: 668ms\tremaining: 10.5s\n",
            "60:\tlearn: 162311304.5263363\ttotal: 680ms\tremaining: 10.5s\n",
            "61:\tlearn: 162021480.9127637\ttotal: 692ms\tremaining: 10.5s\n",
            "62:\tlearn: 161746332.3539124\ttotal: 708ms\tremaining: 10.5s\n",
            "63:\tlearn: 161434435.8488564\ttotal: 721ms\tremaining: 10.5s\n",
            "64:\tlearn: 161146951.3325240\ttotal: 735ms\tremaining: 10.6s\n",
            "65:\tlearn: 160863871.3040510\ttotal: 747ms\tremaining: 10.6s\n",
            "66:\tlearn: 160556653.0804091\ttotal: 759ms\tremaining: 10.6s\n",
            "67:\tlearn: 160287049.0414836\ttotal: 764ms\tremaining: 10.5s\n",
            "68:\tlearn: 159991057.9185411\ttotal: 775ms\tremaining: 10.5s\n",
            "69:\tlearn: 159701005.9328964\ttotal: 786ms\tremaining: 10.4s\n",
            "70:\tlearn: 159404991.3256252\ttotal: 797ms\tremaining: 10.4s\n",
            "71:\tlearn: 159127872.0706964\ttotal: 809ms\tremaining: 10.4s\n",
            "72:\tlearn: 158855001.0759259\ttotal: 821ms\tremaining: 10.4s\n",
            "73:\tlearn: 158568897.3840642\ttotal: 835ms\tremaining: 10.5s\n",
            "74:\tlearn: 158321883.2777601\ttotal: 847ms\tremaining: 10.4s\n",
            "75:\tlearn: 158058369.1993176\ttotal: 858ms\tremaining: 10.4s\n",
            "76:\tlearn: 157775316.7792731\ttotal: 869ms\tremaining: 10.4s\n",
            "77:\tlearn: 157518207.2468427\ttotal: 872ms\tremaining: 10.3s\n",
            "78:\tlearn: 157242832.1810738\ttotal: 884ms\tremaining: 10.3s\n",
            "79:\tlearn: 156990663.2455060\ttotal: 895ms\tremaining: 10.3s\n",
            "80:\tlearn: 156720097.9005751\ttotal: 906ms\tremaining: 10.3s\n",
            "81:\tlearn: 156465960.1821742\ttotal: 917ms\tremaining: 10.3s\n",
            "82:\tlearn: 156206512.2751714\ttotal: 928ms\tremaining: 10.3s\n",
            "83:\tlearn: 155970994.8902566\ttotal: 940ms\tremaining: 10.2s\n",
            "84:\tlearn: 155726181.1346668\ttotal: 954ms\tremaining: 10.3s\n",
            "85:\tlearn: 155435620.1042258\ttotal: 966ms\tremaining: 10.3s\n",
            "86:\tlearn: 155165868.1483058\ttotal: 970ms\tremaining: 10.2s\n",
            "87:\tlearn: 154901390.6595310\ttotal: 981ms\tremaining: 10.2s\n",
            "88:\tlearn: 154634123.4605667\ttotal: 993ms\tremaining: 10.2s\n",
            "89:\tlearn: 154395408.5605303\ttotal: 996ms\tremaining: 10.1s\n",
            "90:\tlearn: 154159007.0206804\ttotal: 1.01s\tremaining: 10.1s\n",
            "91:\tlearn: 153907578.3600743\ttotal: 1.02s\tremaining: 10.1s\n",
            "92:\tlearn: 153675752.1383677\ttotal: 1.03s\tremaining: 10.1s\n",
            "93:\tlearn: 153416724.4443014\ttotal: 1.05s\tremaining: 10.1s\n",
            "94:\tlearn: 153168036.0626674\ttotal: 1.06s\tremaining: 10.1s\n",
            "95:\tlearn: 152947403.3091833\ttotal: 1.06s\tremaining: 9.98s\n",
            "96:\tlearn: 152710516.5833588\ttotal: 1.07s\tremaining: 9.97s\n",
            "97:\tlearn: 152516093.3332938\ttotal: 1.08s\tremaining: 9.97s\n",
            "98:\tlearn: 152273332.9335918\ttotal: 1.09s\tremaining: 9.96s\n",
            "99:\tlearn: 152045469.9140665\ttotal: 1.11s\tremaining: 9.95s\n",
            "100:\tlearn: 151816228.1731451\ttotal: 1.12s\tremaining: 9.99s\n",
            "101:\tlearn: 151584718.4950556\ttotal: 1.13s\tremaining: 9.98s\n",
            "102:\tlearn: 151344231.6474358\ttotal: 1.14s\tremaining: 9.97s\n",
            "103:\tlearn: 151106063.6191866\ttotal: 1.16s\tremaining: 9.96s\n",
            "104:\tlearn: 150887706.2582672\ttotal: 1.17s\tremaining: 9.95s\n",
            "105:\tlearn: 150658306.1446127\ttotal: 1.18s\tremaining: 9.95s\n",
            "106:\tlearn: 150449701.6848893\ttotal: 1.19s\tremaining: 9.94s\n",
            "107:\tlearn: 150246125.0360285\ttotal: 1.2s\tremaining: 9.93s\n",
            "108:\tlearn: 150007955.3229665\ttotal: 1.22s\tremaining: 9.93s\n",
            "109:\tlearn: 149824436.2279140\ttotal: 1.22s\tremaining: 9.85s\n",
            "110:\tlearn: 149584803.8658001\ttotal: 1.23s\tremaining: 9.84s\n",
            "111:\tlearn: 149364358.0327278\ttotal: 1.24s\tremaining: 9.87s\n",
            "112:\tlearn: 149141505.8991605\ttotal: 1.26s\tremaining: 9.9s\n",
            "113:\tlearn: 148909186.4644052\ttotal: 1.27s\tremaining: 9.89s\n",
            "114:\tlearn: 148706743.5938634\ttotal: 1.28s\tremaining: 9.88s\n",
            "115:\tlearn: 148487450.3632375\ttotal: 1.29s\tremaining: 9.87s\n",
            "116:\tlearn: 148295448.0398968\ttotal: 1.31s\tremaining: 9.86s\n",
            "117:\tlearn: 148091585.3662885\ttotal: 1.32s\tremaining: 9.86s\n",
            "118:\tlearn: 147919768.8457578\ttotal: 1.32s\tremaining: 9.78s\n",
            "119:\tlearn: 147728585.8426121\ttotal: 1.33s\tremaining: 9.77s\n",
            "120:\tlearn: 147524887.0198255\ttotal: 1.34s\tremaining: 9.77s\n",
            "121:\tlearn: 147340970.2923771\ttotal: 1.35s\tremaining: 9.76s\n",
            "122:\tlearn: 147136331.9250063\ttotal: 1.37s\tremaining: 9.75s\n",
            "123:\tlearn: 146936522.0489662\ttotal: 1.38s\tremaining: 9.74s\n",
            "124:\tlearn: 146714601.8473370\ttotal: 1.39s\tremaining: 9.74s\n",
            "125:\tlearn: 146486770.0488479\ttotal: 1.4s\tremaining: 9.73s\n",
            "126:\tlearn: 146293862.2095899\ttotal: 1.41s\tremaining: 9.72s\n",
            "127:\tlearn: 146074264.6430924\ttotal: 1.43s\tremaining: 9.71s\n",
            "128:\tlearn: 145867568.7406821\ttotal: 1.44s\tremaining: 9.7s\n",
            "129:\tlearn: 145666086.0623428\ttotal: 1.45s\tremaining: 9.69s\n",
            "130:\tlearn: 145455806.9105662\ttotal: 1.46s\tremaining: 9.67s\n",
            "131:\tlearn: 145271237.4664581\ttotal: 1.47s\tremaining: 9.66s\n",
            "132:\tlearn: 145072007.0759508\ttotal: 1.48s\tremaining: 9.65s\n",
            "133:\tlearn: 144870276.6867671\ttotal: 1.49s\tremaining: 9.64s\n",
            "134:\tlearn: 144674834.7509188\ttotal: 1.5s\tremaining: 9.63s\n",
            "135:\tlearn: 144516112.5286397\ttotal: 1.51s\tremaining: 9.59s\n",
            "136:\tlearn: 144301377.4433672\ttotal: 1.52s\tremaining: 9.6s\n",
            "137:\tlearn: 144134087.7555866\ttotal: 1.54s\tremaining: 9.62s\n",
            "138:\tlearn: 143950832.3948127\ttotal: 1.55s\tremaining: 9.62s\n",
            "139:\tlearn: 143766560.9662076\ttotal: 1.56s\tremaining: 9.61s\n",
            "140:\tlearn: 143575377.7066916\ttotal: 1.58s\tremaining: 9.6s\n",
            "141:\tlearn: 143418152.5895681\ttotal: 1.58s\tremaining: 9.54s\n",
            "142:\tlearn: 143235202.7497392\ttotal: 1.59s\tremaining: 9.53s\n",
            "143:\tlearn: 143064621.8865833\ttotal: 1.6s\tremaining: 9.52s\n",
            "144:\tlearn: 142890435.2115014\ttotal: 1.61s\tremaining: 9.52s\n",
            "145:\tlearn: 142710731.4404722\ttotal: 1.63s\tremaining: 9.51s\n",
            "146:\tlearn: 142517383.8858318\ttotal: 1.64s\tremaining: 9.52s\n",
            "147:\tlearn: 142334759.7738715\ttotal: 1.66s\tremaining: 9.55s\n",
            "148:\tlearn: 142163958.0519273\ttotal: 1.67s\tremaining: 9.54s\n",
            "149:\tlearn: 141975742.5003162\ttotal: 1.68s\tremaining: 9.53s\n",
            "150:\tlearn: 141795690.4425949\ttotal: 1.69s\tremaining: 9.52s\n",
            "151:\tlearn: 141618765.6424251\ttotal: 1.7s\tremaining: 9.49s\n",
            "152:\tlearn: 141434162.7310815\ttotal: 1.71s\tremaining: 9.47s\n",
            "153:\tlearn: 141290016.2372389\ttotal: 1.72s\tremaining: 9.46s\n",
            "154:\tlearn: 141141253.6837650\ttotal: 1.73s\tremaining: 9.45s\n",
            "155:\tlearn: 140976694.6567167\ttotal: 1.74s\tremaining: 9.44s\n",
            "156:\tlearn: 140801459.9075939\ttotal: 1.75s\tremaining: 9.43s\n",
            "157:\tlearn: 140661968.4549950\ttotal: 1.76s\tremaining: 9.37s\n",
            "158:\tlearn: 140489739.3202232\ttotal: 1.77s\tremaining: 9.35s\n",
            "159:\tlearn: 140319035.4867240\ttotal: 1.78s\tremaining: 9.34s\n",
            "160:\tlearn: 140144377.3825573\ttotal: 1.79s\tremaining: 9.33s\n",
            "161:\tlearn: 139977526.6692622\ttotal: 1.81s\tremaining: 9.34s\n",
            "162:\tlearn: 139816219.7995862\ttotal: 1.82s\tremaining: 9.35s\n",
            "163:\tlearn: 139654891.6912775\ttotal: 1.83s\tremaining: 9.34s\n",
            "164:\tlearn: 139505336.9733259\ttotal: 1.83s\tremaining: 9.29s\n",
            "165:\tlearn: 139348441.9156436\ttotal: 1.85s\tremaining: 9.28s\n",
            "166:\tlearn: 139205528.1240846\ttotal: 1.86s\tremaining: 9.29s\n",
            "167:\tlearn: 139030033.8459091\ttotal: 1.87s\tremaining: 9.28s\n",
            "168:\tlearn: 138884477.1897101\ttotal: 1.88s\tremaining: 9.23s\n",
            "169:\tlearn: 138720124.3235285\ttotal: 1.88s\tremaining: 9.2s\n",
            "170:\tlearn: 138579336.8784180\ttotal: 1.89s\tremaining: 9.19s\n",
            "171:\tlearn: 138449573.1746437\ttotal: 1.91s\tremaining: 9.17s\n",
            "172:\tlearn: 138302966.0070962\ttotal: 1.92s\tremaining: 9.16s\n",
            "173:\tlearn: 138194578.7907317\ttotal: 1.92s\tremaining: 9.11s\n",
            "174:\tlearn: 138043806.9435195\ttotal: 1.92s\tremaining: 9.06s\n",
            "175:\tlearn: 137881937.8337560\ttotal: 1.93s\tremaining: 9.05s\n",
            "176:\tlearn: 137749955.2296105\ttotal: 1.95s\tremaining: 9.04s\n",
            "177:\tlearn: 137610010.8162132\ttotal: 1.96s\tremaining: 9.03s\n",
            "178:\tlearn: 137460281.3828590\ttotal: 1.97s\tremaining: 9.02s\n",
            "179:\tlearn: 137297460.6515083\ttotal: 1.98s\tremaining: 9.01s\n",
            "180:\tlearn: 137143681.1446268\ttotal: 1.99s\tremaining: 9.02s\n",
            "181:\tlearn: 136997657.1295519\ttotal: 2s\tremaining: 9s\n",
            "182:\tlearn: 136856640.6168268\ttotal: 2.01s\tremaining: 8.99s\n",
            "183:\tlearn: 136691188.0495856\ttotal: 2.02s\tremaining: 8.98s\n",
            "184:\tlearn: 136533894.6849856\ttotal: 2.04s\tremaining: 8.97s\n",
            "185:\tlearn: 136402227.0319800\ttotal: 2.05s\tremaining: 8.96s\n",
            "186:\tlearn: 136263066.2765054\ttotal: 2.06s\tremaining: 8.97s\n",
            "187:\tlearn: 136104386.1897196\ttotal: 2.07s\tremaining: 8.96s\n",
            "188:\tlearn: 135944519.7666512\ttotal: 2.08s\tremaining: 8.95s\n",
            "189:\tlearn: 135805391.8333799\ttotal: 2.1s\tremaining: 8.94s\n",
            "190:\tlearn: 135671641.8337624\ttotal: 2.11s\tremaining: 8.93s\n",
            "191:\tlearn: 135566313.3653281\ttotal: 2.11s\tremaining: 8.88s\n",
            "192:\tlearn: 135417333.3871681\ttotal: 2.12s\tremaining: 8.88s\n",
            "193:\tlearn: 135265748.2914389\ttotal: 2.13s\tremaining: 8.87s\n",
            "194:\tlearn: 135127348.3425910\ttotal: 2.15s\tremaining: 8.86s\n",
            "195:\tlearn: 134986761.1036826\ttotal: 2.16s\tremaining: 8.86s\n",
            "196:\tlearn: 134826754.0544456\ttotal: 2.17s\tremaining: 8.86s\n",
            "197:\tlearn: 134679791.9399854\ttotal: 2.18s\tremaining: 8.85s\n",
            "198:\tlearn: 134549806.3381029\ttotal: 2.2s\tremaining: 8.84s\n",
            "199:\tlearn: 134395270.3269827\ttotal: 2.21s\tremaining: 8.83s\n",
            "200:\tlearn: 134272980.2473575\ttotal: 2.22s\tremaining: 8.82s\n",
            "201:\tlearn: 134136569.5523167\ttotal: 2.23s\tremaining: 8.81s\n",
            "202:\tlearn: 134005599.1695761\ttotal: 2.24s\tremaining: 8.8s\n",
            "203:\tlearn: 133878544.0378983\ttotal: 2.25s\tremaining: 8.78s\n",
            "204:\tlearn: 133737204.7504561\ttotal: 2.26s\tremaining: 8.77s\n",
            "205:\tlearn: 133628443.1289936\ttotal: 2.27s\tremaining: 8.77s\n",
            "206:\tlearn: 133497508.6725693\ttotal: 2.29s\tremaining: 8.76s\n",
            "207:\tlearn: 133375060.7874071\ttotal: 2.3s\tremaining: 8.75s\n",
            "208:\tlearn: 133256250.5034661\ttotal: 2.31s\tremaining: 8.74s\n",
            "209:\tlearn: 133145523.4403370\ttotal: 2.31s\tremaining: 8.7s\n",
            "210:\tlearn: 133007621.5091088\ttotal: 2.32s\tremaining: 8.69s\n",
            "211:\tlearn: 132885264.3802094\ttotal: 2.34s\tremaining: 8.69s\n",
            "212:\tlearn: 132746579.0395250\ttotal: 2.35s\tremaining: 8.69s\n",
            "213:\tlearn: 132627712.9074454\ttotal: 2.36s\tremaining: 8.68s\n",
            "214:\tlearn: 132515585.7560842\ttotal: 2.37s\tremaining: 8.64s\n",
            "215:\tlearn: 132393158.1355835\ttotal: 2.38s\tremaining: 8.63s\n",
            "216:\tlearn: 132242303.0341838\ttotal: 2.39s\tremaining: 8.62s\n",
            "217:\tlearn: 132126824.0339357\ttotal: 2.4s\tremaining: 8.61s\n",
            "218:\tlearn: 132002912.8301234\ttotal: 2.41s\tremaining: 8.6s\n",
            "219:\tlearn: 131863952.1911392\ttotal: 2.42s\tremaining: 8.6s\n",
            "220:\tlearn: 131742106.4560202\ttotal: 2.44s\tremaining: 8.58s\n",
            "221:\tlearn: 131627404.8046096\ttotal: 2.45s\tremaining: 8.57s\n",
            "222:\tlearn: 131514093.8601866\ttotal: 2.46s\tremaining: 8.56s\n",
            "223:\tlearn: 131412016.3136747\ttotal: 2.47s\tremaining: 8.57s\n",
            "224:\tlearn: 131299843.6541313\ttotal: 2.48s\tremaining: 8.56s\n",
            "225:\tlearn: 131172018.6077988\ttotal: 2.5s\tremaining: 8.56s\n",
            "226:\tlearn: 131054973.6402052\ttotal: 2.52s\tremaining: 8.57s\n",
            "227:\tlearn: 130945266.2559374\ttotal: 2.52s\tremaining: 8.54s\n",
            "228:\tlearn: 130833223.8476169\ttotal: 2.54s\tremaining: 8.53s\n",
            "229:\tlearn: 130716770.7359583\ttotal: 2.55s\tremaining: 8.53s\n",
            "230:\tlearn: 130593659.7587367\ttotal: 2.56s\tremaining: 8.52s\n",
            "231:\tlearn: 130469320.6159647\ttotal: 2.57s\tremaining: 8.5s\n",
            "232:\tlearn: 130375543.1559850\ttotal: 2.58s\tremaining: 8.5s\n",
            "233:\tlearn: 130278169.8678150\ttotal: 2.59s\tremaining: 8.48s\n",
            "234:\tlearn: 130175961.9401126\ttotal: 2.6s\tremaining: 8.47s\n",
            "235:\tlearn: 130040484.0425352\ttotal: 2.61s\tremaining: 8.46s\n",
            "236:\tlearn: 129931001.3955706\ttotal: 2.63s\tremaining: 8.46s\n",
            "237:\tlearn: 129802515.2577475\ttotal: 2.64s\tremaining: 8.45s\n",
            "238:\tlearn: 129670632.5990922\ttotal: 2.65s\tremaining: 8.44s\n",
            "239:\tlearn: 129551257.0225016\ttotal: 2.66s\tremaining: 8.43s\n",
            "240:\tlearn: 129457615.9051619\ttotal: 2.68s\tremaining: 8.43s\n",
            "241:\tlearn: 129351850.5944138\ttotal: 2.69s\tremaining: 8.42s\n",
            "242:\tlearn: 129228291.3873114\ttotal: 2.7s\tremaining: 8.41s\n",
            "243:\tlearn: 129096348.4839281\ttotal: 2.71s\tremaining: 8.4s\n",
            "244:\tlearn: 128995365.9789970\ttotal: 2.72s\tremaining: 8.39s\n",
            "245:\tlearn: 128880736.5687032\ttotal: 2.73s\tremaining: 8.38s\n",
            "246:\tlearn: 128758269.3419109\ttotal: 2.75s\tremaining: 8.37s\n",
            "247:\tlearn: 128652510.9735409\ttotal: 2.76s\tremaining: 8.36s\n",
            "248:\tlearn: 128552547.3548661\ttotal: 2.77s\tremaining: 8.35s\n",
            "249:\tlearn: 128442126.2940287\ttotal: 2.78s\tremaining: 8.34s\n",
            "250:\tlearn: 128342817.7238815\ttotal: 2.79s\tremaining: 8.33s\n",
            "251:\tlearn: 128234351.7450175\ttotal: 2.8s\tremaining: 8.32s\n",
            "252:\tlearn: 128105309.0826310\ttotal: 2.81s\tremaining: 8.31s\n",
            "253:\tlearn: 127991611.3801260\ttotal: 2.83s\tremaining: 8.31s\n",
            "254:\tlearn: 127889191.1661361\ttotal: 2.84s\tremaining: 8.3s\n",
            "255:\tlearn: 127784683.0965549\ttotal: 2.85s\tremaining: 8.29s\n",
            "256:\tlearn: 127679766.9824904\ttotal: 2.87s\tremaining: 8.29s\n",
            "257:\tlearn: 127586512.7971408\ttotal: 2.88s\tremaining: 8.29s\n",
            "258:\tlearn: 127487213.0653166\ttotal: 2.89s\tremaining: 8.28s\n",
            "259:\tlearn: 127377891.9348033\ttotal: 2.9s\tremaining: 8.27s\n",
            "260:\tlearn: 127265229.3224150\ttotal: 2.92s\tremaining: 8.26s\n",
            "261:\tlearn: 127168929.8857231\ttotal: 2.93s\tremaining: 8.25s\n",
            "262:\tlearn: 127094927.9062665\ttotal: 2.93s\tremaining: 8.21s\n",
            "263:\tlearn: 126989430.8117394\ttotal: 2.94s\tremaining: 8.2s\n",
            "264:\tlearn: 126877444.9179555\ttotal: 2.95s\tremaining: 8.19s\n",
            "265:\tlearn: 126789597.5056762\ttotal: 2.96s\tremaining: 8.18s\n",
            "266:\tlearn: 126697665.4133711\ttotal: 2.98s\tremaining: 8.17s\n",
            "267:\tlearn: 126605433.7127047\ttotal: 2.99s\tremaining: 8.16s\n",
            "268:\tlearn: 126498976.6630968\ttotal: 3s\tremaining: 8.15s\n",
            "269:\tlearn: 126416177.6107841\ttotal: 3.01s\tremaining: 8.13s\n",
            "270:\tlearn: 126323337.6443060\ttotal: 3.02s\tremaining: 8.12s\n",
            "271:\tlearn: 126226809.8205384\ttotal: 3.03s\tremaining: 8.11s\n",
            "272:\tlearn: 126150766.9203926\ttotal: 3.03s\tremaining: 8.08s\n",
            "273:\tlearn: 126042821.9556744\ttotal: 3.05s\tremaining: 8.07s\n",
            "274:\tlearn: 125962704.9994992\ttotal: 3.05s\tremaining: 8.04s\n",
            "275:\tlearn: 125868255.8951776\ttotal: 3.06s\tremaining: 8.03s\n",
            "276:\tlearn: 125775396.1619174\ttotal: 3.08s\tremaining: 8.03s\n",
            "277:\tlearn: 125679771.2226148\ttotal: 3.09s\tremaining: 8.02s\n",
            "278:\tlearn: 125603934.2404271\ttotal: 3.1s\tremaining: 8.01s\n",
            "279:\tlearn: 125501662.0736496\ttotal: 3.11s\tremaining: 8s\n",
            "280:\tlearn: 125409573.1764319\ttotal: 3.13s\tremaining: 8s\n",
            "281:\tlearn: 125306737.6160192\ttotal: 3.14s\tremaining: 7.99s\n",
            "282:\tlearn: 125228700.2729114\ttotal: 3.15s\tremaining: 7.97s\n",
            "283:\tlearn: 125139166.0131668\ttotal: 3.16s\tremaining: 7.96s\n",
            "284:\tlearn: 125031375.0473021\ttotal: 3.17s\tremaining: 7.95s\n",
            "285:\tlearn: 124944668.5656575\ttotal: 3.18s\tremaining: 7.93s\n",
            "286:\tlearn: 124871523.7117378\ttotal: 3.19s\tremaining: 7.92s\n",
            "287:\tlearn: 124787473.0110951\ttotal: 3.2s\tremaining: 7.91s\n",
            "288:\tlearn: 124687624.6309521\ttotal: 3.21s\tremaining: 7.9s\n",
            "289:\tlearn: 124593287.8664991\ttotal: 3.22s\tremaining: 7.89s\n",
            "290:\tlearn: 124535674.9192605\ttotal: 3.23s\tremaining: 7.86s\n",
            "291:\tlearn: 124444330.2535738\ttotal: 3.24s\tremaining: 7.86s\n",
            "292:\tlearn: 124347797.1177275\ttotal: 3.25s\tremaining: 7.85s\n",
            "293:\tlearn: 124278386.0501823\ttotal: 3.26s\tremaining: 7.84s\n",
            "294:\tlearn: 124200270.2735379\ttotal: 3.28s\tremaining: 7.84s\n",
            "295:\tlearn: 124104281.4363351\ttotal: 3.3s\tremaining: 7.84s\n",
            "296:\tlearn: 124020412.2257052\ttotal: 3.31s\tremaining: 7.83s\n",
            "297:\tlearn: 123944202.8584228\ttotal: 3.32s\tremaining: 7.82s\n",
            "298:\tlearn: 123846546.2980997\ttotal: 3.33s\tremaining: 7.81s\n",
            "299:\tlearn: 123753859.6546445\ttotal: 3.34s\tremaining: 7.8s\n",
            "300:\tlearn: 123659268.2458286\ttotal: 3.35s\tremaining: 7.79s\n",
            "301:\tlearn: 123580478.8597613\ttotal: 3.37s\tremaining: 7.78s\n",
            "302:\tlearn: 123488319.0266048\ttotal: 3.38s\tremaining: 7.77s\n",
            "303:\tlearn: 123398966.7447522\ttotal: 3.39s\tremaining: 7.76s\n",
            "304:\tlearn: 123305667.8720576\ttotal: 3.4s\tremaining: 7.75s\n",
            "305:\tlearn: 123224453.8318774\ttotal: 3.41s\tremaining: 7.74s\n",
            "306:\tlearn: 123148952.3228357\ttotal: 3.42s\tremaining: 7.72s\n",
            "307:\tlearn: 123047206.4949751\ttotal: 3.43s\tremaining: 7.71s\n",
            "308:\tlearn: 122948289.2487394\ttotal: 3.45s\tremaining: 7.71s\n",
            "309:\tlearn: 122865781.5832593\ttotal: 3.46s\tremaining: 7.7s\n",
            "310:\tlearn: 122789556.3759752\ttotal: 3.47s\tremaining: 7.69s\n",
            "311:\tlearn: 122704632.5772997\ttotal: 3.49s\tremaining: 7.71s\n",
            "312:\tlearn: 122632299.4245759\ttotal: 3.5s\tremaining: 7.69s\n",
            "313:\tlearn: 122569317.6854944\ttotal: 3.52s\tremaining: 7.68s\n",
            "314:\tlearn: 122481428.2623218\ttotal: 3.53s\tremaining: 7.67s\n",
            "315:\tlearn: 122391915.8741183\ttotal: 3.54s\tremaining: 7.67s\n",
            "316:\tlearn: 122317407.6756145\ttotal: 3.56s\tremaining: 7.66s\n",
            "317:\tlearn: 122255863.6322230\ttotal: 3.57s\tremaining: 7.65s\n",
            "318:\tlearn: 122169298.9753802\ttotal: 3.58s\tremaining: 7.64s\n",
            "319:\tlearn: 122097312.5908508\ttotal: 3.58s\tremaining: 7.61s\n",
            "320:\tlearn: 122022262.4043839\ttotal: 3.59s\tremaining: 7.6s\n",
            "321:\tlearn: 121945275.8452568\ttotal: 3.6s\tremaining: 7.59s\n",
            "322:\tlearn: 121870262.8694654\ttotal: 3.62s\tremaining: 7.58s\n",
            "323:\tlearn: 121781902.3639648\ttotal: 3.63s\tremaining: 7.57s\n",
            "324:\tlearn: 121712910.4080743\ttotal: 3.64s\tremaining: 7.56s\n",
            "325:\tlearn: 121633880.3064979\ttotal: 3.65s\tremaining: 7.55s\n",
            "326:\tlearn: 121567323.1086301\ttotal: 3.66s\tremaining: 7.54s\n",
            "327:\tlearn: 121511841.9985384\ttotal: 3.66s\tremaining: 7.51s\n",
            "328:\tlearn: 121437068.5895862\ttotal: 3.67s\tremaining: 7.5s\n",
            "329:\tlearn: 121379070.2310595\ttotal: 3.69s\tremaining: 7.49s\n",
            "330:\tlearn: 121303122.6195896\ttotal: 3.7s\tremaining: 7.48s\n",
            "331:\tlearn: 121206312.1638107\ttotal: 3.71s\tremaining: 7.47s\n",
            "332:\tlearn: 121113977.1563588\ttotal: 3.73s\tremaining: 7.46s\n",
            "333:\tlearn: 121030986.9608185\ttotal: 3.74s\tremaining: 7.45s\n",
            "334:\tlearn: 120965360.9221245\ttotal: 3.75s\tremaining: 7.44s\n",
            "335:\tlearn: 120900440.7463391\ttotal: 3.76s\tremaining: 7.43s\n",
            "336:\tlearn: 120818553.2695370\ttotal: 3.77s\tremaining: 7.42s\n",
            "337:\tlearn: 120755223.7718738\ttotal: 3.78s\tremaining: 7.41s\n",
            "338:\tlearn: 120681770.3422103\ttotal: 3.79s\tremaining: 7.4s\n",
            "339:\tlearn: 120602865.3021697\ttotal: 3.81s\tremaining: 7.4s\n",
            "340:\tlearn: 120516264.1886726\ttotal: 3.83s\tremaining: 7.39s\n",
            "341:\tlearn: 120439842.6973197\ttotal: 3.84s\tremaining: 7.38s\n",
            "342:\tlearn: 120376839.3906046\ttotal: 3.85s\tremaining: 7.37s\n",
            "343:\tlearn: 120302395.1609003\ttotal: 3.86s\tremaining: 7.36s\n",
            "344:\tlearn: 120236232.0284127\ttotal: 3.87s\tremaining: 7.35s\n",
            "345:\tlearn: 120169156.2337614\ttotal: 3.88s\tremaining: 7.34s\n",
            "346:\tlearn: 120108902.8313584\ttotal: 3.9s\tremaining: 7.33s\n",
            "347:\tlearn: 120032646.2374322\ttotal: 3.91s\tremaining: 7.33s\n",
            "348:\tlearn: 119961268.0123095\ttotal: 3.92s\tremaining: 7.32s\n",
            "349:\tlearn: 119901221.2738631\ttotal: 3.93s\tremaining: 7.3s\n",
            "350:\tlearn: 119821250.0667800\ttotal: 3.94s\tremaining: 7.29s\n",
            "351:\tlearn: 119767614.3316452\ttotal: 3.96s\tremaining: 7.28s\n",
            "352:\tlearn: 119706945.3240102\ttotal: 3.97s\tremaining: 7.27s\n",
            "353:\tlearn: 119632388.8763231\ttotal: 3.98s\tremaining: 7.26s\n",
            "354:\tlearn: 119568144.4448591\ttotal: 3.99s\tremaining: 7.25s\n",
            "355:\tlearn: 119499044.8397292\ttotal: 4s\tremaining: 7.24s\n",
            "356:\tlearn: 119452328.9655803\ttotal: 4.01s\tremaining: 7.23s\n",
            "357:\tlearn: 119383234.7866436\ttotal: 4.02s\tremaining: 7.22s\n",
            "358:\tlearn: 119336033.6362112\ttotal: 4.03s\tremaining: 7.19s\n",
            "359:\tlearn: 119274527.9646338\ttotal: 4.04s\tremaining: 7.19s\n",
            "360:\tlearn: 119198558.0302382\ttotal: 4.05s\tremaining: 7.18s\n",
            "361:\tlearn: 119134926.4315403\ttotal: 4.07s\tremaining: 7.17s\n",
            "362:\tlearn: 119064686.5275318\ttotal: 4.08s\tremaining: 7.16s\n",
            "363:\tlearn: 119003573.6970037\ttotal: 4.09s\tremaining: 7.15s\n",
            "364:\tlearn: 118946329.0934373\ttotal: 4.1s\tremaining: 7.14s\n",
            "365:\tlearn: 118901070.2852042\ttotal: 4.12s\tremaining: 7.14s\n",
            "366:\tlearn: 118829933.5676369\ttotal: 4.13s\tremaining: 7.13s\n",
            "367:\tlearn: 118760151.7332391\ttotal: 4.14s\tremaining: 7.12s\n",
            "368:\tlearn: 118693394.7896618\ttotal: 4.16s\tremaining: 7.11s\n",
            "369:\tlearn: 118634670.4973808\ttotal: 4.17s\tremaining: 7.1s\n",
            "370:\tlearn: 118557802.8552725\ttotal: 4.18s\tremaining: 7.08s\n",
            "371:\tlearn: 118486581.7981450\ttotal: 4.19s\tremaining: 7.08s\n",
            "372:\tlearn: 118426797.4540977\ttotal: 4.2s\tremaining: 7.06s\n",
            "373:\tlearn: 118377400.0142957\ttotal: 4.21s\tremaining: 7.05s\n",
            "374:\tlearn: 118345133.1658909\ttotal: 4.22s\tremaining: 7.03s\n",
            "375:\tlearn: 118268102.2018546\ttotal: 4.23s\tremaining: 7.01s\n",
            "376:\tlearn: 118196714.7297936\ttotal: 4.24s\tremaining: 7s\n",
            "377:\tlearn: 118127238.4464030\ttotal: 4.25s\tremaining: 7s\n",
            "378:\tlearn: 118075818.8234303\ttotal: 4.26s\tremaining: 6.99s\n",
            "379:\tlearn: 117999399.1164304\ttotal: 4.28s\tremaining: 6.98s\n",
            "380:\tlearn: 117936873.3060016\ttotal: 4.29s\tremaining: 6.97s\n",
            "381:\tlearn: 117881915.5315666\ttotal: 4.3s\tremaining: 6.96s\n",
            "382:\tlearn: 117822618.9881689\ttotal: 4.31s\tremaining: 6.95s\n",
            "383:\tlearn: 117743382.0310548\ttotal: 4.33s\tremaining: 6.94s\n",
            "384:\tlearn: 117688800.6594601\ttotal: 4.34s\tremaining: 6.93s\n",
            "385:\tlearn: 117628305.3650603\ttotal: 4.35s\tremaining: 6.92s\n",
            "386:\tlearn: 117552402.0881370\ttotal: 4.36s\tremaining: 6.91s\n",
            "387:\tlearn: 117490302.8684736\ttotal: 4.38s\tremaining: 6.9s\n",
            "388:\tlearn: 117416557.2296185\ttotal: 4.39s\tremaining: 6.89s\n",
            "389:\tlearn: 117357641.5491000\ttotal: 4.4s\tremaining: 6.88s\n",
            "390:\tlearn: 117301066.3029871\ttotal: 4.41s\tremaining: 6.87s\n",
            "391:\tlearn: 117251249.5911154\ttotal: 4.42s\tremaining: 6.86s\n",
            "392:\tlearn: 117180334.7439701\ttotal: 4.43s\tremaining: 6.85s\n",
            "393:\tlearn: 117121598.4172032\ttotal: 4.45s\tremaining: 6.84s\n",
            "394:\tlearn: 117046473.3108179\ttotal: 4.46s\tremaining: 6.84s\n",
            "395:\tlearn: 116990608.2409076\ttotal: 4.48s\tremaining: 6.84s\n",
            "396:\tlearn: 116923859.1152368\ttotal: 4.5s\tremaining: 6.83s\n",
            "397:\tlearn: 116873229.3841427\ttotal: 4.51s\tremaining: 6.82s\n",
            "398:\tlearn: 116799963.0691444\ttotal: 4.52s\tremaining: 6.82s\n",
            "399:\tlearn: 116738156.9565080\ttotal: 4.54s\tremaining: 6.81s\n",
            "400:\tlearn: 116680869.5676550\ttotal: 4.55s\tremaining: 6.8s\n",
            "401:\tlearn: 116622292.8792356\ttotal: 4.56s\tremaining: 6.79s\n",
            "402:\tlearn: 116570255.9774795\ttotal: 4.57s\tremaining: 6.77s\n",
            "403:\tlearn: 116514103.5390751\ttotal: 4.58s\tremaining: 6.76s\n",
            "404:\tlearn: 116465180.3330379\ttotal: 4.59s\tremaining: 6.75s\n",
            "405:\tlearn: 116415738.0555618\ttotal: 4.61s\tremaining: 6.74s\n",
            "406:\tlearn: 116356150.2668032\ttotal: 4.62s\tremaining: 6.73s\n",
            "407:\tlearn: 116300759.9356962\ttotal: 4.63s\tremaining: 6.71s\n",
            "408:\tlearn: 116249945.3429005\ttotal: 4.64s\tremaining: 6.71s\n",
            "409:\tlearn: 116179607.7563320\ttotal: 4.65s\tremaining: 6.69s\n",
            "410:\tlearn: 116119677.5314608\ttotal: 4.66s\tremaining: 6.68s\n",
            "411:\tlearn: 116045403.9096694\ttotal: 4.67s\tremaining: 6.67s\n",
            "412:\tlearn: 115985039.3248301\ttotal: 4.68s\tremaining: 6.66s\n",
            "413:\tlearn: 115919292.7611722\ttotal: 4.7s\tremaining: 6.65s\n",
            "414:\tlearn: 115868876.9586651\ttotal: 4.71s\tremaining: 6.63s\n",
            "415:\tlearn: 115818918.6400361\ttotal: 4.72s\tremaining: 6.62s\n",
            "416:\tlearn: 115767860.8670028\ttotal: 4.73s\tremaining: 6.61s\n",
            "417:\tlearn: 115715464.9993408\ttotal: 4.75s\tremaining: 6.61s\n",
            "418:\tlearn: 115671763.8453242\ttotal: 4.76s\tremaining: 6.59s\n",
            "419:\tlearn: 115611190.2908157\ttotal: 4.77s\tremaining: 6.58s\n",
            "420:\tlearn: 115564503.5081909\ttotal: 4.78s\tremaining: 6.57s\n",
            "421:\tlearn: 115527671.5107651\ttotal: 4.79s\tremaining: 6.56s\n",
            "422:\tlearn: 115480951.9980384\ttotal: 4.8s\tremaining: 6.55s\n",
            "423:\tlearn: 115437925.0823029\ttotal: 4.81s\tremaining: 6.54s\n",
            "424:\tlearn: 115371434.9864402\ttotal: 4.82s\tremaining: 6.53s\n",
            "425:\tlearn: 115317533.2363871\ttotal: 4.83s\tremaining: 6.51s\n",
            "426:\tlearn: 115279693.8624236\ttotal: 4.84s\tremaining: 6.5s\n",
            "427:\tlearn: 115231511.9549001\ttotal: 4.86s\tremaining: 6.49s\n",
            "428:\tlearn: 115179942.7988366\ttotal: 4.87s\tremaining: 6.48s\n",
            "429:\tlearn: 115109749.2153780\ttotal: 4.88s\tremaining: 6.47s\n",
            "430:\tlearn: 115052237.6999458\ttotal: 4.89s\tremaining: 6.46s\n",
            "431:\tlearn: 114993598.9649132\ttotal: 4.91s\tremaining: 6.45s\n",
            "432:\tlearn: 114909257.7915031\ttotal: 4.93s\tremaining: 6.45s\n",
            "433:\tlearn: 114862659.2255050\ttotal: 4.94s\tremaining: 6.44s\n",
            "434:\tlearn: 114808476.1384211\ttotal: 4.95s\tremaining: 6.43s\n",
            "435:\tlearn: 114748799.4232745\ttotal: 4.96s\tremaining: 6.42s\n",
            "436:\tlearn: 114691454.9922716\ttotal: 4.97s\tremaining: 6.41s\n",
            "437:\tlearn: 114641763.3966813\ttotal: 4.99s\tremaining: 6.4s\n",
            "438:\tlearn: 114585863.8583693\ttotal: 5s\tremaining: 6.39s\n",
            "439:\tlearn: 114530436.9976187\ttotal: 5.01s\tremaining: 6.38s\n",
            "440:\tlearn: 114487311.9194135\ttotal: 5.03s\tremaining: 6.37s\n",
            "441:\tlearn: 114433029.5397694\ttotal: 5.04s\tremaining: 6.36s\n",
            "442:\tlearn: 114382306.5194872\ttotal: 5.05s\tremaining: 6.35s\n",
            "443:\tlearn: 114322583.3898981\ttotal: 5.06s\tremaining: 6.34s\n",
            "444:\tlearn: 114269690.7565567\ttotal: 5.08s\tremaining: 6.33s\n",
            "445:\tlearn: 114221387.5040216\ttotal: 5.09s\tremaining: 6.32s\n",
            "446:\tlearn: 114152275.5068887\ttotal: 5.1s\tremaining: 6.31s\n",
            "447:\tlearn: 114103557.2236242\ttotal: 5.11s\tremaining: 6.3s\n",
            "448:\tlearn: 114050264.2887672\ttotal: 5.12s\tremaining: 6.28s\n",
            "449:\tlearn: 113979037.2211686\ttotal: 5.14s\tremaining: 6.28s\n",
            "450:\tlearn: 113956849.4265743\ttotal: 5.14s\tremaining: 6.26s\n",
            "451:\tlearn: 113899996.3017627\ttotal: 5.15s\tremaining: 6.25s\n",
            "452:\tlearn: 113846108.3339619\ttotal: 5.16s\tremaining: 6.23s\n",
            "453:\tlearn: 113795496.9077757\ttotal: 5.17s\tremaining: 6.22s\n",
            "454:\tlearn: 113749638.0133922\ttotal: 5.18s\tremaining: 6.21s\n",
            "455:\tlearn: 113703036.1037175\ttotal: 5.2s\tremaining: 6.2s\n",
            "456:\tlearn: 113681923.1409034\ttotal: 5.2s\tremaining: 6.18s\n",
            "457:\tlearn: 113643319.9469914\ttotal: 5.21s\tremaining: 6.17s\n",
            "458:\tlearn: 113591346.1895085\ttotal: 5.23s\tremaining: 6.16s\n",
            "459:\tlearn: 113557093.5532774\ttotal: 5.24s\tremaining: 6.16s\n",
            "460:\tlearn: 113514959.1188614\ttotal: 5.26s\tremaining: 6.16s\n",
            "461:\tlearn: 113483203.9421568\ttotal: 5.27s\tremaining: 6.13s\n",
            "462:\tlearn: 113425857.0302139\ttotal: 5.28s\tremaining: 6.12s\n",
            "463:\tlearn: 113386888.9827740\ttotal: 5.29s\tremaining: 6.11s\n",
            "464:\tlearn: 113337905.2170392\ttotal: 5.3s\tremaining: 6.1s\n",
            "465:\tlearn: 113273760.7569153\ttotal: 5.31s\tremaining: 6.09s\n",
            "466:\tlearn: 113245908.7745062\ttotal: 5.32s\tremaining: 6.07s\n",
            "467:\tlearn: 113193273.1279527\ttotal: 5.33s\tremaining: 6.06s\n",
            "468:\tlearn: 113146221.8268143\ttotal: 5.34s\tremaining: 6.05s\n",
            "469:\tlearn: 113092104.7822293\ttotal: 5.36s\tremaining: 6.04s\n",
            "470:\tlearn: 113061079.7325567\ttotal: 5.37s\tremaining: 6.03s\n",
            "471:\tlearn: 113005763.9692556\ttotal: 5.38s\tremaining: 6.01s\n",
            "472:\tlearn: 112974789.6945411\ttotal: 5.38s\tremaining: 5.99s\n",
            "473:\tlearn: 112939179.8971724\ttotal: 5.39s\tremaining: 5.98s\n",
            "474:\tlearn: 112894922.0037191\ttotal: 5.4s\tremaining: 5.97s\n",
            "475:\tlearn: 112847882.9281183\ttotal: 5.42s\tremaining: 5.96s\n",
            "476:\tlearn: 112818513.7858785\ttotal: 5.43s\tremaining: 5.95s\n",
            "477:\tlearn: 112781796.0895917\ttotal: 5.44s\tremaining: 5.94s\n",
            "478:\tlearn: 112735467.9129486\ttotal: 5.46s\tremaining: 5.94s\n",
            "479:\tlearn: 112697447.8676515\ttotal: 5.47s\tremaining: 5.92s\n",
            "480:\tlearn: 112640543.5580197\ttotal: 5.48s\tremaining: 5.91s\n",
            "481:\tlearn: 112598673.5985185\ttotal: 5.49s\tremaining: 5.9s\n",
            "482:\tlearn: 112554782.8695479\ttotal: 5.5s\tremaining: 5.89s\n",
            "483:\tlearn: 112515883.3973176\ttotal: 5.51s\tremaining: 5.88s\n",
            "484:\tlearn: 112486126.1786060\ttotal: 5.52s\tremaining: 5.87s\n",
            "485:\tlearn: 112442733.5613338\ttotal: 5.54s\tremaining: 5.85s\n",
            "486:\tlearn: 112403104.7993788\ttotal: 5.55s\tremaining: 5.85s\n",
            "487:\tlearn: 112348871.2135987\ttotal: 5.56s\tremaining: 5.83s\n",
            "488:\tlearn: 112294132.1855569\ttotal: 5.57s\tremaining: 5.82s\n",
            "489:\tlearn: 112246571.0474217\ttotal: 5.58s\tremaining: 5.81s\n",
            "490:\tlearn: 112207226.4020574\ttotal: 5.6s\tremaining: 5.8s\n",
            "491:\tlearn: 112160810.9643050\ttotal: 5.61s\tremaining: 5.79s\n",
            "492:\tlearn: 112115410.2961522\ttotal: 5.62s\tremaining: 5.78s\n",
            "493:\tlearn: 112086104.0934454\ttotal: 5.63s\tremaining: 5.77s\n",
            "494:\tlearn: 112032068.5248317\ttotal: 5.64s\tremaining: 5.75s\n",
            "495:\tlearn: 111988878.8718045\ttotal: 5.66s\tremaining: 5.75s\n",
            "496:\tlearn: 111937858.4273769\ttotal: 5.67s\tremaining: 5.73s\n",
            "497:\tlearn: 111886849.8418637\ttotal: 5.68s\tremaining: 5.72s\n",
            "498:\tlearn: 111849228.8771495\ttotal: 5.69s\tremaining: 5.71s\n",
            "499:\tlearn: 111813449.9071157\ttotal: 5.7s\tremaining: 5.7s\n",
            "500:\tlearn: 111766253.5111186\ttotal: 5.71s\tremaining: 5.69s\n",
            "501:\tlearn: 111707424.7592657\ttotal: 5.72s\tremaining: 5.68s\n",
            "502:\tlearn: 111657464.3892110\ttotal: 5.73s\tremaining: 5.67s\n",
            "503:\tlearn: 111611194.2088635\ttotal: 5.75s\tremaining: 5.65s\n",
            "504:\tlearn: 111556045.6164731\ttotal: 5.76s\tremaining: 5.65s\n",
            "505:\tlearn: 111502723.7678796\ttotal: 5.77s\tremaining: 5.63s\n",
            "506:\tlearn: 111451304.6653328\ttotal: 5.79s\tremaining: 5.63s\n",
            "507:\tlearn: 111423273.6561127\ttotal: 5.8s\tremaining: 5.62s\n",
            "508:\tlearn: 111378450.6990950\ttotal: 5.81s\tremaining: 5.6s\n",
            "509:\tlearn: 111310302.6242058\ttotal: 5.82s\tremaining: 5.59s\n",
            "510:\tlearn: 111268408.2932197\ttotal: 5.83s\tremaining: 5.58s\n",
            "511:\tlearn: 111222673.5371407\ttotal: 5.84s\tremaining: 5.57s\n",
            "512:\tlearn: 111181898.9204544\ttotal: 5.86s\tremaining: 5.56s\n",
            "513:\tlearn: 111138007.5731626\ttotal: 5.87s\tremaining: 5.55s\n",
            "514:\tlearn: 111097097.5917341\ttotal: 5.88s\tremaining: 5.54s\n",
            "515:\tlearn: 111056153.9243043\ttotal: 5.89s\tremaining: 5.53s\n",
            "516:\tlearn: 111025320.2534054\ttotal: 5.9s\tremaining: 5.51s\n",
            "517:\tlearn: 110982691.9459544\ttotal: 5.91s\tremaining: 5.5s\n",
            "518:\tlearn: 110938394.3596028\ttotal: 5.92s\tremaining: 5.49s\n",
            "519:\tlearn: 110896822.1092713\ttotal: 5.94s\tremaining: 5.48s\n",
            "520:\tlearn: 110857504.2472742\ttotal: 5.95s\tremaining: 5.47s\n",
            "521:\tlearn: 110805441.1579900\ttotal: 5.97s\tremaining: 5.46s\n",
            "522:\tlearn: 110754874.5838199\ttotal: 5.98s\tremaining: 5.45s\n",
            "523:\tlearn: 110718959.9980100\ttotal: 5.99s\tremaining: 5.44s\n",
            "524:\tlearn: 110676750.0127198\ttotal: 6s\tremaining: 5.43s\n",
            "525:\tlearn: 110628301.2167593\ttotal: 6.01s\tremaining: 5.42s\n",
            "526:\tlearn: 110593706.0377306\ttotal: 6.02s\tremaining: 5.41s\n",
            "527:\tlearn: 110549438.8666561\ttotal: 6.04s\tremaining: 5.39s\n",
            "528:\tlearn: 110513714.0765290\ttotal: 6.05s\tremaining: 5.38s\n",
            "529:\tlearn: 110463290.2175824\ttotal: 6.06s\tremaining: 5.37s\n",
            "530:\tlearn: 110408461.2411823\ttotal: 6.07s\tremaining: 5.36s\n",
            "531:\tlearn: 110367237.7531134\ttotal: 6.08s\tremaining: 5.35s\n",
            "532:\tlearn: 110342470.5068917\ttotal: 6.09s\tremaining: 5.34s\n",
            "533:\tlearn: 110293694.0202857\ttotal: 6.1s\tremaining: 5.33s\n",
            "534:\tlearn: 110267884.0098369\ttotal: 6.12s\tremaining: 5.32s\n",
            "535:\tlearn: 110213283.1772483\ttotal: 6.13s\tremaining: 5.3s\n",
            "536:\tlearn: 110169138.8178315\ttotal: 6.14s\tremaining: 5.29s\n",
            "537:\tlearn: 110134006.6078583\ttotal: 6.15s\tremaining: 5.28s\n",
            "538:\tlearn: 110075880.5276782\ttotal: 6.16s\tremaining: 5.27s\n",
            "539:\tlearn: 110065567.7727136\ttotal: 6.17s\tremaining: 5.26s\n",
            "540:\tlearn: 110021221.5165225\ttotal: 6.18s\tremaining: 5.25s\n",
            "541:\tlearn: 109986797.8100301\ttotal: 6.2s\tremaining: 5.24s\n",
            "542:\tlearn: 109939000.5044270\ttotal: 6.21s\tremaining: 5.22s\n",
            "543:\tlearn: 109901043.0244481\ttotal: 6.22s\tremaining: 5.21s\n",
            "544:\tlearn: 109890078.1120678\ttotal: 6.22s\tremaining: 5.19s\n",
            "545:\tlearn: 109858635.3190848\ttotal: 6.23s\tremaining: 5.18s\n",
            "546:\tlearn: 109810640.5726275\ttotal: 6.24s\tremaining: 5.17s\n",
            "547:\tlearn: 109772837.8024619\ttotal: 6.25s\tremaining: 5.16s\n",
            "548:\tlearn: 109730786.2989123\ttotal: 6.27s\tremaining: 5.15s\n",
            "549:\tlearn: 109693499.2600499\ttotal: 6.28s\tremaining: 5.14s\n",
            "550:\tlearn: 109655457.3159529\ttotal: 6.29s\tremaining: 5.13s\n",
            "551:\tlearn: 109628118.2487215\ttotal: 6.3s\tremaining: 5.11s\n",
            "552:\tlearn: 109576394.2511014\ttotal: 6.31s\tremaining: 5.1s\n",
            "553:\tlearn: 109546004.7077499\ttotal: 6.33s\tremaining: 5.09s\n",
            "554:\tlearn: 109508668.5757513\ttotal: 6.34s\tremaining: 5.08s\n",
            "555:\tlearn: 109469636.2366751\ttotal: 6.35s\tremaining: 5.07s\n",
            "556:\tlearn: 109434446.0879704\ttotal: 6.36s\tremaining: 5.06s\n",
            "557:\tlearn: 109390501.2030978\ttotal: 6.37s\tremaining: 5.05s\n",
            "558:\tlearn: 109355746.1880538\ttotal: 6.38s\tremaining: 5.04s\n",
            "559:\tlearn: 109317886.8059410\ttotal: 6.4s\tremaining: 5.03s\n",
            "560:\tlearn: 109277474.8827194\ttotal: 6.41s\tremaining: 5.01s\n",
            "561:\tlearn: 109240749.0048250\ttotal: 6.42s\tremaining: 5s\n",
            "562:\tlearn: 109191606.6505373\ttotal: 6.43s\tremaining: 4.99s\n",
            "563:\tlearn: 109155892.6153812\ttotal: 6.45s\tremaining: 4.99s\n",
            "564:\tlearn: 109123324.8189186\ttotal: 6.46s\tremaining: 4.97s\n",
            "565:\tlearn: 109088574.7134523\ttotal: 6.48s\tremaining: 4.97s\n",
            "566:\tlearn: 109048365.7160522\ttotal: 6.49s\tremaining: 4.96s\n",
            "567:\tlearn: 109008745.3166378\ttotal: 6.5s\tremaining: 4.94s\n",
            "568:\tlearn: 108978039.8473339\ttotal: 6.51s\tremaining: 4.93s\n",
            "569:\tlearn: 108930095.4235865\ttotal: 6.53s\tremaining: 4.92s\n",
            "570:\tlearn: 108887085.4758367\ttotal: 6.54s\tremaining: 4.91s\n",
            "571:\tlearn: 108845365.4213545\ttotal: 6.55s\tremaining: 4.9s\n",
            "572:\tlearn: 108808538.2144508\ttotal: 6.56s\tremaining: 4.89s\n",
            "573:\tlearn: 108769709.5795505\ttotal: 6.57s\tremaining: 4.88s\n",
            "574:\tlearn: 108744256.0292265\ttotal: 6.59s\tremaining: 4.87s\n",
            "575:\tlearn: 108702669.9943448\ttotal: 6.6s\tremaining: 4.86s\n",
            "576:\tlearn: 108654867.4029623\ttotal: 6.61s\tremaining: 4.84s\n",
            "577:\tlearn: 108617053.6969252\ttotal: 6.62s\tremaining: 4.83s\n",
            "578:\tlearn: 108584504.6144999\ttotal: 6.63s\tremaining: 4.82s\n",
            "579:\tlearn: 108566677.1993993\ttotal: 6.64s\tremaining: 4.81s\n",
            "580:\tlearn: 108510522.4434279\ttotal: 6.65s\tremaining: 4.8s\n",
            "581:\tlearn: 108473332.1960592\ttotal: 6.67s\tremaining: 4.79s\n",
            "582:\tlearn: 108440998.4122660\ttotal: 6.68s\tremaining: 4.78s\n",
            "583:\tlearn: 108399219.4574790\ttotal: 6.69s\tremaining: 4.76s\n",
            "584:\tlearn: 108361963.9747943\ttotal: 6.7s\tremaining: 4.75s\n",
            "585:\tlearn: 108322321.1690801\ttotal: 6.71s\tremaining: 4.74s\n",
            "586:\tlearn: 108296527.2162105\ttotal: 6.72s\tremaining: 4.73s\n",
            "587:\tlearn: 108262523.3095618\ttotal: 6.74s\tremaining: 4.72s\n",
            "588:\tlearn: 108234481.0804592\ttotal: 6.75s\tremaining: 4.71s\n",
            "589:\tlearn: 108195251.8944676\ttotal: 6.76s\tremaining: 4.7s\n",
            "590:\tlearn: 108164638.8471745\ttotal: 6.77s\tremaining: 4.69s\n",
            "591:\tlearn: 108130315.3234198\ttotal: 6.79s\tremaining: 4.68s\n",
            "592:\tlearn: 108100534.7617187\ttotal: 6.8s\tremaining: 4.67s\n",
            "593:\tlearn: 108063076.9669974\ttotal: 6.81s\tremaining: 4.66s\n",
            "594:\tlearn: 108032195.3557120\ttotal: 6.82s\tremaining: 4.64s\n",
            "595:\tlearn: 107992383.0140836\ttotal: 6.83s\tremaining: 4.63s\n",
            "596:\tlearn: 107956346.9925402\ttotal: 6.85s\tremaining: 4.62s\n",
            "597:\tlearn: 107929407.2653579\ttotal: 6.86s\tremaining: 4.61s\n",
            "598:\tlearn: 107892048.4195057\ttotal: 6.87s\tremaining: 4.6s\n",
            "599:\tlearn: 107848274.4888476\ttotal: 6.88s\tremaining: 4.59s\n",
            "600:\tlearn: 107817572.2800753\ttotal: 6.89s\tremaining: 4.58s\n",
            "601:\tlearn: 107774061.0093211\ttotal: 6.9s\tremaining: 4.56s\n",
            "602:\tlearn: 107734731.4603102\ttotal: 6.91s\tremaining: 4.55s\n",
            "603:\tlearn: 107698224.1055682\ttotal: 6.92s\tremaining: 4.54s\n",
            "604:\tlearn: 107655236.9775122\ttotal: 6.94s\tremaining: 4.53s\n",
            "605:\tlearn: 107627296.1507990\ttotal: 6.95s\tremaining: 4.52s\n",
            "606:\tlearn: 107588557.7935549\ttotal: 6.96s\tremaining: 4.51s\n",
            "607:\tlearn: 107561040.7872268\ttotal: 6.97s\tremaining: 4.5s\n",
            "608:\tlearn: 107519993.0485262\ttotal: 6.99s\tremaining: 4.49s\n",
            "609:\tlearn: 107477621.4454263\ttotal: 7s\tremaining: 4.48s\n",
            "610:\tlearn: 107447748.8550287\ttotal: 7.01s\tremaining: 4.47s\n",
            "611:\tlearn: 107401125.8555148\ttotal: 7.03s\tremaining: 4.45s\n",
            "612:\tlearn: 107367954.2875001\ttotal: 7.04s\tremaining: 4.44s\n",
            "613:\tlearn: 107326968.9722630\ttotal: 7.05s\tremaining: 4.43s\n",
            "614:\tlearn: 107292751.0304600\ttotal: 7.07s\tremaining: 4.42s\n",
            "615:\tlearn: 107238115.0817099\ttotal: 7.08s\tremaining: 4.41s\n",
            "616:\tlearn: 107198899.1734577\ttotal: 7.09s\tremaining: 4.4s\n",
            "617:\tlearn: 107150335.2940122\ttotal: 7.1s\tremaining: 4.39s\n",
            "618:\tlearn: 107104188.6961335\ttotal: 7.11s\tremaining: 4.38s\n",
            "619:\tlearn: 107063913.4006262\ttotal: 7.12s\tremaining: 4.37s\n",
            "620:\tlearn: 107035660.3308844\ttotal: 7.13s\tremaining: 4.35s\n",
            "621:\tlearn: 106995106.6587721\ttotal: 7.14s\tremaining: 4.34s\n",
            "622:\tlearn: 106959387.1029515\ttotal: 7.16s\tremaining: 4.33s\n",
            "623:\tlearn: 106915010.1044009\ttotal: 7.17s\tremaining: 4.32s\n",
            "624:\tlearn: 106891321.9193020\ttotal: 7.19s\tremaining: 4.31s\n",
            "625:\tlearn: 106847811.4037590\ttotal: 7.2s\tremaining: 4.3s\n",
            "626:\tlearn: 106820035.7759240\ttotal: 7.21s\tremaining: 4.29s\n",
            "627:\tlearn: 106782780.5560052\ttotal: 7.22s\tremaining: 4.28s\n",
            "628:\tlearn: 106758775.1829511\ttotal: 7.23s\tremaining: 4.27s\n",
            "629:\tlearn: 106734056.8868582\ttotal: 7.25s\tremaining: 4.25s\n",
            "630:\tlearn: 106700755.3295541\ttotal: 7.26s\tremaining: 4.24s\n",
            "631:\tlearn: 106671324.9977524\ttotal: 7.27s\tremaining: 4.23s\n",
            "632:\tlearn: 106637960.6249454\ttotal: 7.28s\tremaining: 4.22s\n",
            "633:\tlearn: 106621748.6145246\ttotal: 7.29s\tremaining: 4.21s\n",
            "634:\tlearn: 106595688.0880783\ttotal: 7.3s\tremaining: 4.2s\n",
            "635:\tlearn: 106572282.9083941\ttotal: 7.32s\tremaining: 4.19s\n",
            "636:\tlearn: 106532605.9615502\ttotal: 7.33s\tremaining: 4.18s\n",
            "637:\tlearn: 106510750.4539014\ttotal: 7.34s\tremaining: 4.16s\n",
            "638:\tlearn: 106485321.3796618\ttotal: 7.35s\tremaining: 4.15s\n",
            "639:\tlearn: 106449832.9226405\ttotal: 7.36s\tremaining: 4.14s\n",
            "640:\tlearn: 106422020.1983613\ttotal: 7.38s\tremaining: 4.13s\n",
            "641:\tlearn: 106393722.3048622\ttotal: 7.39s\tremaining: 4.12s\n",
            "642:\tlearn: 106352366.9774839\ttotal: 7.41s\tremaining: 4.11s\n",
            "643:\tlearn: 106322037.4497670\ttotal: 7.42s\tremaining: 4.1s\n",
            "644:\tlearn: 106273713.6739995\ttotal: 7.43s\tremaining: 4.09s\n",
            "645:\tlearn: 106268117.7301110\ttotal: 7.43s\tremaining: 4.07s\n",
            "646:\tlearn: 106242604.7087966\ttotal: 7.45s\tremaining: 4.06s\n",
            "647:\tlearn: 106214646.2850089\ttotal: 7.46s\tremaining: 4.05s\n",
            "648:\tlearn: 106171440.7079869\ttotal: 7.47s\tremaining: 4.04s\n",
            "649:\tlearn: 106152858.2222035\ttotal: 7.48s\tremaining: 4.03s\n",
            "650:\tlearn: 106131977.3401802\ttotal: 7.49s\tremaining: 4.01s\n",
            "651:\tlearn: 106083851.2656217\ttotal: 7.5s\tremaining: 4s\n",
            "652:\tlearn: 106053226.1192789\ttotal: 7.51s\tremaining: 3.99s\n",
            "653:\tlearn: 106025316.9985625\ttotal: 7.53s\tremaining: 3.98s\n",
            "654:\tlearn: 106003226.8886099\ttotal: 7.54s\tremaining: 3.97s\n",
            "655:\tlearn: 105972815.1847900\ttotal: 7.55s\tremaining: 3.96s\n",
            "656:\tlearn: 105952586.1742343\ttotal: 7.57s\tremaining: 3.95s\n",
            "657:\tlearn: 105924808.8260044\ttotal: 7.58s\tremaining: 3.94s\n",
            "658:\tlearn: 105898427.7132432\ttotal: 7.59s\tremaining: 3.93s\n",
            "659:\tlearn: 105866956.7967391\ttotal: 7.61s\tremaining: 3.92s\n",
            "660:\tlearn: 105842654.3905567\ttotal: 7.62s\tremaining: 3.91s\n",
            "661:\tlearn: 105807683.9602129\ttotal: 7.63s\tremaining: 3.9s\n",
            "662:\tlearn: 105784947.2337193\ttotal: 7.64s\tremaining: 3.88s\n",
            "663:\tlearn: 105752177.3871094\ttotal: 7.66s\tremaining: 3.87s\n",
            "664:\tlearn: 105713425.8998986\ttotal: 7.67s\tremaining: 3.86s\n",
            "665:\tlearn: 105680407.4323198\ttotal: 7.68s\tremaining: 3.85s\n",
            "666:\tlearn: 105662419.4393919\ttotal: 7.69s\tremaining: 3.84s\n",
            "667:\tlearn: 105636573.4253514\ttotal: 7.71s\tremaining: 3.83s\n",
            "668:\tlearn: 105610325.0408832\ttotal: 7.72s\tremaining: 3.82s\n",
            "669:\tlearn: 105571134.4629899\ttotal: 7.73s\tremaining: 3.81s\n",
            "670:\tlearn: 105546327.2237613\ttotal: 7.74s\tremaining: 3.79s\n",
            "671:\tlearn: 105517767.9423921\ttotal: 7.75s\tremaining: 3.78s\n",
            "672:\tlearn: 105494749.5031789\ttotal: 7.76s\tremaining: 3.77s\n",
            "673:\tlearn: 105471239.0269254\ttotal: 7.77s\tremaining: 3.76s\n",
            "674:\tlearn: 105445689.8058893\ttotal: 7.79s\tremaining: 3.75s\n",
            "675:\tlearn: 105409416.8589486\ttotal: 7.8s\tremaining: 3.74s\n",
            "676:\tlearn: 105368203.2403796\ttotal: 7.81s\tremaining: 3.73s\n",
            "677:\tlearn: 105343532.5848680\ttotal: 7.83s\tremaining: 3.72s\n",
            "678:\tlearn: 105309493.5864247\ttotal: 7.84s\tremaining: 3.71s\n",
            "679:\tlearn: 105272961.8738486\ttotal: 7.85s\tremaining: 3.69s\n",
            "680:\tlearn: 105243910.3273578\ttotal: 7.87s\tremaining: 3.68s\n",
            "681:\tlearn: 105225337.3877064\ttotal: 7.88s\tremaining: 3.67s\n",
            "682:\tlearn: 105194794.5217268\ttotal: 7.89s\tremaining: 3.66s\n",
            "683:\tlearn: 105159253.6304585\ttotal: 7.9s\tremaining: 3.65s\n",
            "684:\tlearn: 105123184.2909281\ttotal: 7.91s\tremaining: 3.64s\n",
            "685:\tlearn: 105100969.0462217\ttotal: 7.92s\tremaining: 3.63s\n",
            "686:\tlearn: 105078307.3266841\ttotal: 7.93s\tremaining: 3.61s\n",
            "687:\tlearn: 105052530.6987004\ttotal: 7.94s\tremaining: 3.6s\n",
            "688:\tlearn: 105020394.1607598\ttotal: 7.96s\tremaining: 3.59s\n",
            "689:\tlearn: 104985759.3272714\ttotal: 7.97s\tremaining: 3.58s\n",
            "690:\tlearn: 104968263.5300521\ttotal: 7.98s\tremaining: 3.57s\n",
            "691:\tlearn: 104937530.1328969\ttotal: 8s\tremaining: 3.56s\n",
            "692:\tlearn: 104911907.1005478\ttotal: 8.01s\tremaining: 3.55s\n",
            "693:\tlearn: 104887756.8443265\ttotal: 8.02s\tremaining: 3.54s\n",
            "694:\tlearn: 104877038.8867693\ttotal: 8.03s\tremaining: 3.52s\n",
            "695:\tlearn: 104829993.9004551\ttotal: 8.04s\tremaining: 3.51s\n",
            "696:\tlearn: 104804342.0749964\ttotal: 8.05s\tremaining: 3.5s\n",
            "697:\tlearn: 104785771.3521437\ttotal: 8.06s\tremaining: 3.49s\n",
            "698:\tlearn: 104762518.7211343\ttotal: 8.07s\tremaining: 3.48s\n",
            "699:\tlearn: 104725054.3143681\ttotal: 8.09s\tremaining: 3.46s\n",
            "700:\tlearn: 104689509.7859155\ttotal: 8.1s\tremaining: 3.45s\n",
            "701:\tlearn: 104669396.9148044\ttotal: 8.11s\tremaining: 3.44s\n",
            "702:\tlearn: 104646191.3736840\ttotal: 8.12s\tremaining: 3.43s\n",
            "703:\tlearn: 104615702.6644701\ttotal: 8.13s\tremaining: 3.42s\n",
            "704:\tlearn: 104588544.4165758\ttotal: 8.14s\tremaining: 3.41s\n",
            "705:\tlearn: 104559390.2263838\ttotal: 8.15s\tremaining: 3.4s\n",
            "706:\tlearn: 104553358.6388272\ttotal: 8.15s\tremaining: 3.38s\n",
            "707:\tlearn: 104528249.7104379\ttotal: 8.17s\tremaining: 3.37s\n",
            "708:\tlearn: 104504122.6120729\ttotal: 8.18s\tremaining: 3.36s\n",
            "709:\tlearn: 104471410.5482895\ttotal: 8.19s\tremaining: 3.35s\n",
            "710:\tlearn: 104444872.8806034\ttotal: 8.2s\tremaining: 3.33s\n",
            "711:\tlearn: 104413859.3732133\ttotal: 8.22s\tremaining: 3.32s\n",
            "712:\tlearn: 104386880.9900032\ttotal: 8.23s\tremaining: 3.31s\n",
            "713:\tlearn: 104355133.5927109\ttotal: 8.24s\tremaining: 3.3s\n",
            "714:\tlearn: 104330089.5654849\ttotal: 8.25s\tremaining: 3.29s\n",
            "715:\tlearn: 104311757.6818850\ttotal: 8.26s\tremaining: 3.27s\n",
            "716:\tlearn: 104281317.8814298\ttotal: 8.27s\tremaining: 3.26s\n",
            "717:\tlearn: 104246625.1305737\ttotal: 8.28s\tremaining: 3.25s\n",
            "718:\tlearn: 104222374.3701876\ttotal: 8.29s\tremaining: 3.24s\n",
            "719:\tlearn: 104196166.8034221\ttotal: 8.3s\tremaining: 3.23s\n",
            "720:\tlearn: 104186783.8364220\ttotal: 8.32s\tremaining: 3.22s\n",
            "721:\tlearn: 104162511.0238049\ttotal: 8.33s\tremaining: 3.21s\n",
            "722:\tlearn: 104133615.0967003\ttotal: 8.34s\tremaining: 3.19s\n",
            "723:\tlearn: 104108940.0240525\ttotal: 8.35s\tremaining: 3.18s\n",
            "724:\tlearn: 104067849.6321274\ttotal: 8.36s\tremaining: 3.17s\n",
            "725:\tlearn: 104052193.0590570\ttotal: 8.37s\tremaining: 3.16s\n",
            "726:\tlearn: 104013780.3579160\ttotal: 8.39s\tremaining: 3.15s\n",
            "727:\tlearn: 103999745.6918046\ttotal: 8.4s\tremaining: 3.14s\n",
            "728:\tlearn: 103982735.9586980\ttotal: 8.42s\tremaining: 3.13s\n",
            "729:\tlearn: 103967741.7902241\ttotal: 8.43s\tremaining: 3.12s\n",
            "730:\tlearn: 103951115.3235147\ttotal: 8.44s\tremaining: 3.1s\n",
            "731:\tlearn: 103927733.5990019\ttotal: 8.45s\tremaining: 3.09s\n",
            "732:\tlearn: 103903026.4981429\ttotal: 8.46s\tremaining: 3.08s\n",
            "733:\tlearn: 103885825.3916949\ttotal: 8.47s\tremaining: 3.07s\n",
            "734:\tlearn: 103864559.0433714\ttotal: 8.48s\tremaining: 3.06s\n",
            "735:\tlearn: 103852370.8426538\ttotal: 8.49s\tremaining: 3.04s\n",
            "736:\tlearn: 103843910.9341345\ttotal: 8.5s\tremaining: 3.03s\n",
            "737:\tlearn: 103819717.1990078\ttotal: 8.51s\tremaining: 3.02s\n",
            "738:\tlearn: 103794223.2432558\ttotal: 8.52s\tremaining: 3.01s\n",
            "739:\tlearn: 103769545.2761195\ttotal: 8.53s\tremaining: 3s\n",
            "740:\tlearn: 103753941.7833811\ttotal: 8.54s\tremaining: 2.99s\n",
            "741:\tlearn: 103738130.5121596\ttotal: 8.56s\tremaining: 2.98s\n",
            "742:\tlearn: 103720783.0870508\ttotal: 8.57s\tremaining: 2.96s\n",
            "743:\tlearn: 103693624.1017610\ttotal: 8.58s\tremaining: 2.95s\n",
            "744:\tlearn: 103673804.9080207\ttotal: 8.59s\tremaining: 2.94s\n",
            "745:\tlearn: 103641854.4019836\ttotal: 8.6s\tremaining: 2.93s\n",
            "746:\tlearn: 103623935.9013120\ttotal: 8.61s\tremaining: 2.92s\n",
            "747:\tlearn: 103604555.7918182\ttotal: 8.63s\tremaining: 2.91s\n",
            "748:\tlearn: 103571404.6176307\ttotal: 8.64s\tremaining: 2.9s\n",
            "749:\tlearn: 103543429.3727195\ttotal: 8.65s\tremaining: 2.88s\n",
            "750:\tlearn: 103521709.0878405\ttotal: 8.66s\tremaining: 2.87s\n",
            "751:\tlearn: 103494813.1702695\ttotal: 8.67s\tremaining: 2.86s\n",
            "752:\tlearn: 103472696.7948149\ttotal: 8.68s\tremaining: 2.85s\n",
            "753:\tlearn: 103440535.3007519\ttotal: 8.7s\tremaining: 2.84s\n",
            "754:\tlearn: 103421745.6710830\ttotal: 8.71s\tremaining: 2.83s\n",
            "755:\tlearn: 103397482.7087235\ttotal: 8.72s\tremaining: 2.81s\n",
            "756:\tlearn: 103370516.0605165\ttotal: 8.73s\tremaining: 2.8s\n",
            "757:\tlearn: 103338492.2091956\ttotal: 8.74s\tremaining: 2.79s\n",
            "758:\tlearn: 103309740.5803132\ttotal: 8.75s\tremaining: 2.78s\n",
            "759:\tlearn: 103288163.3137607\ttotal: 8.77s\tremaining: 2.77s\n",
            "760:\tlearn: 103270857.2608639\ttotal: 8.78s\tremaining: 2.76s\n",
            "761:\tlearn: 103247542.4296436\ttotal: 8.79s\tremaining: 2.75s\n",
            "762:\tlearn: 103207475.9546950\ttotal: 8.8s\tremaining: 2.73s\n",
            "763:\tlearn: 103176964.7013132\ttotal: 8.81s\tremaining: 2.72s\n",
            "764:\tlearn: 103142551.5986642\ttotal: 8.83s\tremaining: 2.71s\n",
            "765:\tlearn: 103116978.7386245\ttotal: 8.84s\tremaining: 2.7s\n",
            "766:\tlearn: 103096781.0880703\ttotal: 8.85s\tremaining: 2.69s\n",
            "767:\tlearn: 103071778.4534520\ttotal: 8.86s\tremaining: 2.68s\n",
            "768:\tlearn: 103035849.7384988\ttotal: 8.88s\tremaining: 2.67s\n",
            "769:\tlearn: 103005889.9492481\ttotal: 8.89s\tremaining: 2.65s\n",
            "770:\tlearn: 102967422.5980684\ttotal: 8.9s\tremaining: 2.64s\n",
            "771:\tlearn: 102937663.8269455\ttotal: 8.91s\tremaining: 2.63s\n",
            "772:\tlearn: 102918131.4976805\ttotal: 8.92s\tremaining: 2.62s\n",
            "773:\tlearn: 102896973.3319722\ttotal: 8.94s\tremaining: 2.61s\n",
            "774:\tlearn: 102869255.2452126\ttotal: 8.95s\tremaining: 2.6s\n",
            "775:\tlearn: 102855527.4514588\ttotal: 8.96s\tremaining: 2.59s\n",
            "776:\tlearn: 102833316.4112551\ttotal: 8.97s\tremaining: 2.58s\n",
            "777:\tlearn: 102803089.5222197\ttotal: 8.98s\tremaining: 2.56s\n",
            "778:\tlearn: 102778020.9802004\ttotal: 9s\tremaining: 2.55s\n",
            "779:\tlearn: 102755766.3229785\ttotal: 9.01s\tremaining: 2.54s\n",
            "780:\tlearn: 102732345.6773901\ttotal: 9.02s\tremaining: 2.53s\n",
            "781:\tlearn: 102708736.7174534\ttotal: 9.04s\tremaining: 2.52s\n",
            "782:\tlearn: 102684446.2488354\ttotal: 9.05s\tremaining: 2.51s\n",
            "783:\tlearn: 102681954.0009918\ttotal: 9.05s\tremaining: 2.49s\n",
            "784:\tlearn: 102667558.5189245\ttotal: 9.06s\tremaining: 2.48s\n",
            "785:\tlearn: 102643995.6816241\ttotal: 9.07s\tremaining: 2.47s\n",
            "786:\tlearn: 102618597.2462680\ttotal: 9.09s\tremaining: 2.46s\n",
            "787:\tlearn: 102587231.6281009\ttotal: 9.1s\tremaining: 2.45s\n",
            "788:\tlearn: 102579196.9827304\ttotal: 9.1s\tremaining: 2.43s\n",
            "789:\tlearn: 102550957.2849149\ttotal: 9.11s\tremaining: 2.42s\n",
            "790:\tlearn: 102528965.8090219\ttotal: 9.12s\tremaining: 2.41s\n",
            "791:\tlearn: 102503547.1035970\ttotal: 9.13s\tremaining: 2.4s\n",
            "792:\tlearn: 102477610.4836565\ttotal: 9.15s\tremaining: 2.39s\n",
            "793:\tlearn: 102454400.8859457\ttotal: 9.16s\tremaining: 2.38s\n",
            "794:\tlearn: 102425287.3843683\ttotal: 9.17s\tremaining: 2.36s\n",
            "795:\tlearn: 102409110.8321961\ttotal: 9.18s\tremaining: 2.35s\n",
            "796:\tlearn: 102394222.1251728\ttotal: 9.19s\tremaining: 2.34s\n",
            "797:\tlearn: 102378834.4357453\ttotal: 9.2s\tremaining: 2.33s\n",
            "798:\tlearn: 102376405.1233493\ttotal: 9.21s\tremaining: 2.31s\n",
            "799:\tlearn: 102359593.0257421\ttotal: 9.22s\tremaining: 2.3s\n",
            "800:\tlearn: 102340532.3324216\ttotal: 9.23s\tremaining: 2.29s\n",
            "801:\tlearn: 102324748.1304021\ttotal: 9.24s\tremaining: 2.28s\n",
            "802:\tlearn: 102306451.8006979\ttotal: 9.25s\tremaining: 2.27s\n",
            "803:\tlearn: 102285446.4384905\ttotal: 9.27s\tremaining: 2.26s\n",
            "804:\tlearn: 102253919.8936355\ttotal: 9.28s\tremaining: 2.25s\n",
            "805:\tlearn: 102236299.2257366\ttotal: 9.29s\tremaining: 2.23s\n",
            "806:\tlearn: 102214829.5059591\ttotal: 9.3s\tremaining: 2.22s\n",
            "807:\tlearn: 102192365.3777932\ttotal: 9.31s\tremaining: 2.21s\n",
            "808:\tlearn: 102161159.2557255\ttotal: 9.32s\tremaining: 2.2s\n",
            "809:\tlearn: 102141097.4086446\ttotal: 9.34s\tremaining: 2.19s\n",
            "810:\tlearn: 102132043.1079578\ttotal: 9.35s\tremaining: 2.18s\n",
            "811:\tlearn: 102111061.6310877\ttotal: 9.36s\tremaining: 2.17s\n",
            "812:\tlearn: 102092013.9362966\ttotal: 9.38s\tremaining: 2.16s\n",
            "813:\tlearn: 102073167.8441005\ttotal: 9.4s\tremaining: 2.15s\n",
            "814:\tlearn: 102046259.0547048\ttotal: 9.41s\tremaining: 2.13s\n",
            "815:\tlearn: 102024835.6599172\ttotal: 9.42s\tremaining: 2.12s\n",
            "816:\tlearn: 102004108.0284746\ttotal: 9.43s\tremaining: 2.11s\n",
            "817:\tlearn: 101985721.7358229\ttotal: 9.45s\tremaining: 2.1s\n",
            "818:\tlearn: 101968356.0185273\ttotal: 9.46s\tremaining: 2.09s\n",
            "819:\tlearn: 101954484.3364792\ttotal: 9.47s\tremaining: 2.08s\n",
            "820:\tlearn: 101932817.0991494\ttotal: 9.48s\tremaining: 2.07s\n",
            "821:\tlearn: 101912385.0440732\ttotal: 9.5s\tremaining: 2.06s\n",
            "822:\tlearn: 101889405.6565378\ttotal: 9.51s\tremaining: 2.04s\n",
            "823:\tlearn: 101859717.0091994\ttotal: 9.52s\tremaining: 2.03s\n",
            "824:\tlearn: 101830331.7881041\ttotal: 9.53s\tremaining: 2.02s\n",
            "825:\tlearn: 101811733.2793567\ttotal: 9.54s\tremaining: 2.01s\n",
            "826:\tlearn: 101788521.1801778\ttotal: 9.56s\tremaining: 2s\n",
            "827:\tlearn: 101762748.2451444\ttotal: 9.57s\tremaining: 1.99s\n",
            "828:\tlearn: 101741411.4479457\ttotal: 9.58s\tremaining: 1.98s\n",
            "829:\tlearn: 101708511.9331887\ttotal: 9.59s\tremaining: 1.96s\n",
            "830:\tlearn: 101692011.8479511\ttotal: 9.6s\tremaining: 1.95s\n",
            "831:\tlearn: 101673893.1714054\ttotal: 9.61s\tremaining: 1.94s\n",
            "832:\tlearn: 101652508.0725459\ttotal: 9.62s\tremaining: 1.93s\n",
            "833:\tlearn: 101629895.7507723\ttotal: 9.63s\tremaining: 1.92s\n",
            "834:\tlearn: 101603205.0116073\ttotal: 9.65s\tremaining: 1.91s\n",
            "835:\tlearn: 101564907.5396270\ttotal: 9.66s\tremaining: 1.9s\n",
            "836:\tlearn: 101553477.8012704\ttotal: 9.67s\tremaining: 1.88s\n",
            "837:\tlearn: 101529159.0364346\ttotal: 9.69s\tremaining: 1.87s\n",
            "838:\tlearn: 101520426.1319466\ttotal: 9.7s\tremaining: 1.86s\n",
            "839:\tlearn: 101492026.9669785\ttotal: 9.71s\tremaining: 1.85s\n",
            "840:\tlearn: 101476405.8411118\ttotal: 9.72s\tremaining: 1.84s\n",
            "841:\tlearn: 101455475.2407400\ttotal: 9.74s\tremaining: 1.83s\n",
            "842:\tlearn: 101435030.7411475\ttotal: 9.75s\tremaining: 1.81s\n",
            "843:\tlearn: 101425682.6556177\ttotal: 9.75s\tremaining: 1.8s\n",
            "844:\tlearn: 101400971.5132810\ttotal: 9.76s\tremaining: 1.79s\n",
            "845:\tlearn: 101382993.9441152\ttotal: 9.77s\tremaining: 1.78s\n",
            "846:\tlearn: 101364549.5289627\ttotal: 9.79s\tremaining: 1.77s\n",
            "847:\tlearn: 101344936.7109798\ttotal: 9.8s\tremaining: 1.76s\n",
            "848:\tlearn: 101326611.8752435\ttotal: 9.81s\tremaining: 1.74s\n",
            "849:\tlearn: 101306568.8862997\ttotal: 9.82s\tremaining: 1.73s\n",
            "850:\tlearn: 101281498.0622928\ttotal: 9.83s\tremaining: 1.72s\n",
            "851:\tlearn: 101268333.1377217\ttotal: 9.84s\tremaining: 1.71s\n",
            "852:\tlearn: 101241984.5736356\ttotal: 9.86s\tremaining: 1.7s\n",
            "853:\tlearn: 101226396.3111950\ttotal: 9.87s\tremaining: 1.69s\n",
            "854:\tlearn: 101197285.5752515\ttotal: 9.88s\tremaining: 1.68s\n",
            "855:\tlearn: 101181433.4435553\ttotal: 9.9s\tremaining: 1.66s\n",
            "856:\tlearn: 101155614.1517694\ttotal: 9.91s\tremaining: 1.65s\n",
            "857:\tlearn: 101144612.0149763\ttotal: 9.92s\tremaining: 1.64s\n",
            "858:\tlearn: 101130881.6702785\ttotal: 9.93s\tremaining: 1.63s\n",
            "859:\tlearn: 101110529.8774602\ttotal: 9.94s\tremaining: 1.62s\n",
            "860:\tlearn: 101086276.8004540\ttotal: 9.95s\tremaining: 1.61s\n",
            "861:\tlearn: 101069092.6082814\ttotal: 9.97s\tremaining: 1.59s\n",
            "862:\tlearn: 101050303.0969053\ttotal: 9.98s\tremaining: 1.58s\n",
            "863:\tlearn: 101035155.4759933\ttotal: 9.99s\tremaining: 1.57s\n",
            "864:\tlearn: 101023225.4662035\ttotal: 10s\tremaining: 1.56s\n",
            "865:\tlearn: 100998962.8745280\ttotal: 10s\tremaining: 1.55s\n",
            "866:\tlearn: 100979588.2552286\ttotal: 10s\tremaining: 1.54s\n",
            "867:\tlearn: 100957344.3241475\ttotal: 10s\tremaining: 1.53s\n",
            "868:\tlearn: 100924592.4706196\ttotal: 10s\tremaining: 1.51s\n",
            "869:\tlearn: 100897509.3883323\ttotal: 10.1s\tremaining: 1.5s\n",
            "870:\tlearn: 100872825.7036311\ttotal: 10.1s\tremaining: 1.49s\n",
            "871:\tlearn: 100851372.0370654\ttotal: 10.1s\tremaining: 1.48s\n",
            "872:\tlearn: 100820927.5608112\ttotal: 10.1s\tremaining: 1.47s\n",
            "873:\tlearn: 100803540.5732981\ttotal: 10.1s\tremaining: 1.46s\n",
            "874:\tlearn: 100789217.5639690\ttotal: 10.1s\tremaining: 1.45s\n",
            "875:\tlearn: 100773987.4175525\ttotal: 10.1s\tremaining: 1.44s\n",
            "876:\tlearn: 100758073.2106277\ttotal: 10.2s\tremaining: 1.42s\n",
            "877:\tlearn: 100735370.0752887\ttotal: 10.2s\tremaining: 1.41s\n",
            "878:\tlearn: 100708853.6804944\ttotal: 10.2s\tremaining: 1.4s\n",
            "879:\tlearn: 100693358.4938394\ttotal: 10.2s\tremaining: 1.39s\n",
            "880:\tlearn: 100672312.7460390\ttotal: 10.2s\tremaining: 1.38s\n",
            "881:\tlearn: 100659760.3176837\ttotal: 10.2s\tremaining: 1.36s\n",
            "882:\tlearn: 100644966.0451420\ttotal: 10.2s\tremaining: 1.35s\n",
            "883:\tlearn: 100641923.6982566\ttotal: 10.2s\tremaining: 1.34s\n",
            "884:\tlearn: 100621373.8828051\ttotal: 10.2s\tremaining: 1.33s\n",
            "885:\tlearn: 100586200.0915769\ttotal: 10.2s\tremaining: 1.32s\n",
            "886:\tlearn: 100575492.5330533\ttotal: 10.3s\tremaining: 1.31s\n",
            "887:\tlearn: 100552616.0983970\ttotal: 10.3s\tremaining: 1.29s\n",
            "888:\tlearn: 100539036.5044048\ttotal: 10.3s\tremaining: 1.28s\n",
            "889:\tlearn: 100521473.4020974\ttotal: 10.3s\tremaining: 1.27s\n",
            "890:\tlearn: 100499209.8168256\ttotal: 10.3s\tremaining: 1.26s\n",
            "891:\tlearn: 100481819.6672734\ttotal: 10.3s\tremaining: 1.25s\n",
            "892:\tlearn: 100473922.9933925\ttotal: 10.3s\tremaining: 1.24s\n",
            "893:\tlearn: 100461908.3078131\ttotal: 10.3s\tremaining: 1.23s\n",
            "894:\tlearn: 100444675.4584654\ttotal: 10.3s\tremaining: 1.21s\n",
            "895:\tlearn: 100422300.9940384\ttotal: 10.4s\tremaining: 1.2s\n",
            "896:\tlearn: 100404446.1782953\ttotal: 10.4s\tremaining: 1.19s\n",
            "897:\tlearn: 100389126.4329488\ttotal: 10.4s\tremaining: 1.18s\n",
            "898:\tlearn: 100373569.6816702\ttotal: 10.4s\tremaining: 1.17s\n",
            "899:\tlearn: 100359958.8512773\ttotal: 10.4s\tremaining: 1.16s\n",
            "900:\tlearn: 100341876.2869561\ttotal: 10.4s\tremaining: 1.15s\n",
            "901:\tlearn: 100327261.8175555\ttotal: 10.4s\tremaining: 1.13s\n",
            "902:\tlearn: 100314698.7060209\ttotal: 10.5s\tremaining: 1.12s\n",
            "903:\tlearn: 100293330.1574012\ttotal: 10.5s\tremaining: 1.11s\n",
            "904:\tlearn: 100278474.5833240\ttotal: 10.5s\tremaining: 1.1s\n",
            "905:\tlearn: 100255975.8523321\ttotal: 10.5s\tremaining: 1.09s\n",
            "906:\tlearn: 100239281.3518613\ttotal: 10.5s\tremaining: 1.08s\n",
            "907:\tlearn: 100225681.2442857\ttotal: 10.5s\tremaining: 1.06s\n",
            "908:\tlearn: 100215945.0181046\ttotal: 10.5s\tremaining: 1.05s\n",
            "909:\tlearn: 100200695.0131828\ttotal: 10.5s\tremaining: 1.04s\n",
            "910:\tlearn: 100188059.7085065\ttotal: 10.5s\tremaining: 1.03s\n",
            "911:\tlearn: 100176275.6312102\ttotal: 10.6s\tremaining: 1.02s\n",
            "912:\tlearn: 100160312.8030203\ttotal: 10.6s\tremaining: 1.01s\n",
            "913:\tlearn: 100145043.0970285\ttotal: 10.6s\tremaining: 995ms\n",
            "914:\tlearn: 100122526.3965195\ttotal: 10.6s\tremaining: 984ms\n",
            "915:\tlearn: 100112276.9478990\ttotal: 10.6s\tremaining: 972ms\n",
            "916:\tlearn: 100098301.5517803\ttotal: 10.6s\tremaining: 961ms\n",
            "917:\tlearn: 100076506.5124363\ttotal: 10.6s\tremaining: 949ms\n",
            "918:\tlearn: 100055403.7444072\ttotal: 10.6s\tremaining: 937ms\n",
            "919:\tlearn: 100043780.9265749\ttotal: 10.6s\tremaining: 926ms\n",
            "920:\tlearn: 100020383.9432015\ttotal: 10.7s\tremaining: 914ms\n",
            "921:\tlearn: 99999954.8484140\ttotal: 10.7s\tremaining: 903ms\n",
            "922:\tlearn: 99981757.4221561\ttotal: 10.7s\tremaining: 892ms\n",
            "923:\tlearn: 99963048.2494026\ttotal: 10.7s\tremaining: 880ms\n",
            "924:\tlearn: 99942315.6983346\ttotal: 10.7s\tremaining: 869ms\n",
            "925:\tlearn: 99927231.5223327\ttotal: 10.7s\tremaining: 857ms\n",
            "926:\tlearn: 99921802.8210409\ttotal: 10.7s\tremaining: 845ms\n",
            "927:\tlearn: 99908179.5338061\ttotal: 10.7s\tremaining: 834ms\n",
            "928:\tlearn: 99901056.0894498\ttotal: 10.8s\tremaining: 822ms\n",
            "929:\tlearn: 99877909.6065707\ttotal: 10.8s\tremaining: 811ms\n",
            "930:\tlearn: 99856990.2919174\ttotal: 10.8s\tremaining: 799ms\n",
            "931:\tlearn: 99840379.2792762\ttotal: 10.8s\tremaining: 787ms\n",
            "932:\tlearn: 99831056.0659753\ttotal: 10.8s\tremaining: 776ms\n",
            "933:\tlearn: 99811806.7002076\ttotal: 10.8s\tremaining: 764ms\n",
            "934:\tlearn: 99801742.0908404\ttotal: 10.8s\tremaining: 753ms\n",
            "935:\tlearn: 99794202.5110401\ttotal: 10.8s\tremaining: 741ms\n",
            "936:\tlearn: 99789409.1631609\ttotal: 10.8s\tremaining: 730ms\n",
            "937:\tlearn: 99775112.7946188\ttotal: 10.9s\tremaining: 718ms\n",
            "938:\tlearn: 99759693.0577241\ttotal: 10.9s\tremaining: 706ms\n",
            "939:\tlearn: 99744049.0466149\ttotal: 10.9s\tremaining: 696ms\n",
            "940:\tlearn: 99733201.0723947\ttotal: 10.9s\tremaining: 684ms\n",
            "941:\tlearn: 99720857.7436493\ttotal: 10.9s\tremaining: 673ms\n",
            "942:\tlearn: 99701410.6502030\ttotal: 10.9s\tremaining: 661ms\n",
            "943:\tlearn: 99689521.5374170\ttotal: 10.9s\tremaining: 649ms\n",
            "944:\tlearn: 99668415.3747460\ttotal: 11s\tremaining: 638ms\n",
            "945:\tlearn: 99662012.4190626\ttotal: 11s\tremaining: 626ms\n",
            "946:\tlearn: 99641376.4376730\ttotal: 11s\tremaining: 615ms\n",
            "947:\tlearn: 99632706.1957984\ttotal: 11s\tremaining: 603ms\n",
            "948:\tlearn: 99616286.9709634\ttotal: 11s\tremaining: 591ms\n",
            "949:\tlearn: 99596124.1759252\ttotal: 11s\tremaining: 580ms\n",
            "950:\tlearn: 99578735.6205065\ttotal: 11s\tremaining: 568ms\n",
            "951:\tlearn: 99571725.4795204\ttotal: 11s\tremaining: 556ms\n",
            "952:\tlearn: 99553773.1037227\ttotal: 11s\tremaining: 545ms\n",
            "953:\tlearn: 99533950.8437212\ttotal: 11.1s\tremaining: 533ms\n",
            "954:\tlearn: 99528039.9071971\ttotal: 11.1s\tremaining: 521ms\n",
            "955:\tlearn: 99508428.6133424\ttotal: 11.1s\tremaining: 510ms\n",
            "956:\tlearn: 99491105.6379527\ttotal: 11.1s\tremaining: 498ms\n",
            "957:\tlearn: 99489301.7142472\ttotal: 11.1s\tremaining: 486ms\n",
            "958:\tlearn: 99469909.3386186\ttotal: 11.1s\tremaining: 475ms\n",
            "959:\tlearn: 99449083.1562920\ttotal: 11.1s\tremaining: 463ms\n",
            "960:\tlearn: 99438557.9347277\ttotal: 11.1s\tremaining: 451ms\n",
            "961:\tlearn: 99423523.0240964\ttotal: 11.1s\tremaining: 440ms\n",
            "962:\tlearn: 99420393.0448484\ttotal: 11.1s\tremaining: 428ms\n",
            "963:\tlearn: 99406699.7149355\ttotal: 11.2s\tremaining: 416ms\n",
            "964:\tlearn: 99392776.2156171\ttotal: 11.2s\tremaining: 405ms\n",
            "965:\tlearn: 99361356.1769440\ttotal: 11.2s\tremaining: 393ms\n",
            "966:\tlearn: 99345539.4063522\ttotal: 11.2s\tremaining: 382ms\n",
            "967:\tlearn: 99335486.7098684\ttotal: 11.2s\tremaining: 370ms\n",
            "968:\tlearn: 99317289.9710143\ttotal: 11.2s\tremaining: 359ms\n",
            "969:\tlearn: 99293121.7826825\ttotal: 11.2s\tremaining: 347ms\n",
            "970:\tlearn: 99276503.9920466\ttotal: 11.2s\tremaining: 335ms\n",
            "971:\tlearn: 99257072.4651585\ttotal: 11.2s\tremaining: 324ms\n",
            "972:\tlearn: 99238570.8216803\ttotal: 11.3s\tremaining: 312ms\n",
            "973:\tlearn: 99224722.8692229\ttotal: 11.3s\tremaining: 301ms\n",
            "974:\tlearn: 99209402.2070889\ttotal: 11.3s\tremaining: 289ms\n",
            "975:\tlearn: 99191610.5497735\ttotal: 11.3s\tremaining: 278ms\n",
            "976:\tlearn: 99175305.6215225\ttotal: 11.3s\tremaining: 266ms\n",
            "977:\tlearn: 99167823.5811453\ttotal: 11.3s\tremaining: 255ms\n",
            "978:\tlearn: 99158385.7052613\ttotal: 11.3s\tremaining: 243ms\n",
            "979:\tlearn: 99141387.0537051\ttotal: 11.3s\tremaining: 231ms\n",
            "980:\tlearn: 99133262.5442913\ttotal: 11.4s\tremaining: 220ms\n",
            "981:\tlearn: 99118824.1565743\ttotal: 11.4s\tremaining: 208ms\n",
            "982:\tlearn: 99108312.6210654\ttotal: 11.4s\tremaining: 197ms\n",
            "983:\tlearn: 99106979.3539269\ttotal: 11.4s\tremaining: 185ms\n",
            "984:\tlearn: 99086841.3740550\ttotal: 11.4s\tremaining: 174ms\n",
            "985:\tlearn: 99058280.3772449\ttotal: 11.4s\tremaining: 162ms\n",
            "986:\tlearn: 99046386.9596510\ttotal: 11.4s\tremaining: 150ms\n",
            "987:\tlearn: 99030019.8953370\ttotal: 11.4s\tremaining: 139ms\n",
            "988:\tlearn: 99013237.9830320\ttotal: 11.4s\tremaining: 127ms\n",
            "989:\tlearn: 99002941.7445496\ttotal: 11.5s\tremaining: 116ms\n",
            "990:\tlearn: 98983695.0638729\ttotal: 11.5s\tremaining: 104ms\n",
            "991:\tlearn: 98973770.4729401\ttotal: 11.5s\tremaining: 92.6ms\n",
            "992:\tlearn: 98960320.0309099\ttotal: 11.5s\tremaining: 81ms\n",
            "993:\tlearn: 98948107.2653191\ttotal: 11.5s\tremaining: 69.4ms\n",
            "994:\tlearn: 98925964.0465637\ttotal: 11.5s\tremaining: 57.9ms\n",
            "995:\tlearn: 98912033.6111586\ttotal: 11.5s\tremaining: 46.3ms\n",
            "996:\tlearn: 98892197.5639107\ttotal: 11.5s\tremaining: 34.7ms\n",
            "997:\tlearn: 98865862.5217025\ttotal: 11.6s\tremaining: 23.2ms\n",
            "998:\tlearn: 98853131.9136977\ttotal: 11.6s\tremaining: 11.6ms\n",
            "999:\tlearn: 98825388.3227273\ttotal: 11.6s\tremaining: 0us\n"
          ],
          "name": "stdout"
        },
        {
          "output_type": "execute_result",
          "data": {
            "text/plain": [
              "<catboost.core.CatBoostRegressor at 0x7f4c22ebed50>"
            ]
          },
          "metadata": {
            "tags": []
          },
          "execution_count": 244
        }
      ]
    },
    {
      "cell_type": "code",
      "metadata": {
        "id": "Yp8aHR3vToaz"
      },
      "source": [
        "ypred = model_2.predict(X_test)"
      ],
      "execution_count": null,
      "outputs": []
    },
    {
      "cell_type": "code",
      "metadata": {
        "colab": {
          "base_uri": "https://localhost:8080/"
        },
        "id": "3oHDPBy-T4ZZ",
        "outputId": "e4a80fff-1d5a-4b45-d2fd-b9de77d84eb3"
      },
      "source": [
        "r2_score(y_test, ypred)"
      ],
      "execution_count": null,
      "outputs": [
        {
          "output_type": "execute_result",
          "data": {
            "text/plain": [
              "0.574100240081393"
            ]
          },
          "metadata": {
            "tags": []
          },
          "execution_count": 246
        }
      ]
    },
    {
      "cell_type": "code",
      "metadata": {
        "colab": {
          "base_uri": "https://localhost:8080/"
        },
        "id": "TLQqopdqT8Wl",
        "outputId": "d1ba8a74-c560-4356-85a4-389ebfef10e0"
      },
      "source": [
        "rdataset.columns"
      ],
      "execution_count": null,
      "outputs": [
        {
          "output_type": "execute_result",
          "data": {
            "text/plain": [
              "Index(['budget', 'original_language', 'overview', 'production_companies',\n",
              "       'production_countries', 'revenue', 'runtime', 'spoken_languages',\n",
              "       'status', 'title',\n",
              "       ...\n",
              "       'Jim Broadbent', 'Kevin Costner', 'Stephen Root', 'John Turturro',\n",
              "       'Jason Statham', 'John Hurt', 'Danny Glover', 'Terrence Howard',\n",
              "       'Eddie Murphy', 'Donald Sutherland'],\n",
              "      dtype='object', length=148)"
            ]
          },
          "metadata": {
            "tags": []
          },
          "execution_count": 267
        }
      ]
    },
    {
      "cell_type": "code",
      "metadata": {
        "id": "TMKu3cNDUrh4"
      },
      "source": [
        ""
      ],
      "execution_count": null,
      "outputs": []
    }
  ]
}